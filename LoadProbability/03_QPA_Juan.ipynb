{
 "cells": [
  {
   "cell_type": "code",
   "execution_count": 1,
   "metadata": {},
   "outputs": [
    {
     "data": {
      "text/html": [
       "<style>.container { width:100% !important; }</style>"
      ],
      "text/plain": [
       "<IPython.core.display.HTML object>"
      ]
     },
     "metadata": {},
     "output_type": "display_data"
    }
   ],
   "source": [
    "from IPython.core.display import display, HTML\n",
    "display(HTML(\"<style>.container { width:100% !important; }</style>\"))"
   ]
  },
  {
   "cell_type": "code",
   "execution_count": 2,
   "metadata": {},
   "outputs": [],
   "source": [
    "import numpy as np\n",
    "import pandas as pd\n",
    "import matplotlib.pyplot as plt\n",
    "import sys"
   ]
  },
  {
   "cell_type": "code",
   "execution_count": 3,
   "metadata": {},
   "outputs": [],
   "source": [
    "from qat.core.console import display\n",
    "from qat.lang.AQASM import Program, H\n",
    "from qat.lang.AQASM.qftarith import QFT"
   ]
  },
  {
   "cell_type": "code",
   "execution_count": 4,
   "metadata": {},
   "outputs": [],
   "source": [
    "sys.path.append('/home/gferro/ProgramasDefinitivos/')"
   ]
  },
  {
   "cell_type": "code",
   "execution_count": 5,
   "metadata": {},
   "outputs": [],
   "source": [
    "from qat.lang.AQASM import Program, RY, CNOT, AbstractGate, QRoutine, Z, X\n",
    "def load_U0(nqbits):\n",
    "\t\"\"\"\n",
    "\tCreates the gate U0, whose action is to flip the sign of the marked states.\n",
    "\tMarked states are those in which the auxiliary qubit has value 1, so this is achieved with a Z gate\n",
    "\tacting on that qubit. This function is more or less unnecessary.\n",
    "\t\n",
    "\tARGUMENTS:\n",
    "\tnqbits (int) : number of qubits without including the auxiliary one\n",
    "\t\n",
    "\tRETURNS:\n",
    "\tU0_gate (ParamGate)\n",
    "\t\"\"\"\n",
    "\tU0 = AbstractGate(\"U0\", [int])\n",
    "\tdef U0_generator(nqbits):\n",
    "\t\trout = QRoutine()\n",
    "\t\treg = rout.new_wires(nqbits+1)\n",
    "\t\trout.apply(Z, reg[-1])\n",
    "\t\treturn rout\n",
    "\tU0.set_circuit_generator(U0_generator)\n",
    "\tU0_gate = U0(nqbits)\n",
    "\treturn U0_gate\n",
    "\n",
    "def load_U1(nqbits, P_gate, R_gate):\n",
    "\t\"\"\"\n",
    "\tFunction that creates the gate which performs the operation of flipping the sign of the component along psi\n",
    "\t\n",
    "\tARGUMENTS:\n",
    "\tnqbits (int) : number of qubits\n",
    "\tR_gate (ParamGate) : Gate that implements the operator R\n",
    "\tP_gate (ParamGate) : Gate that implements the operator P\n",
    "\t\n",
    "\tRETURNS:\n",
    "\tU1_gate (ParamGate)\n",
    "\t\"\"\"\n",
    "\tU1 = AbstractGate(\"U1\", [int])\n",
    "\tdef U1_generator(nqbits):\n",
    "\t\trout = QRoutine()\n",
    "\t\treg = rout.new_wires(nqbits+1)\n",
    "\t\trout.apply(R_gate.dag(), reg)\n",
    "\t\trout.apply(P_gate.dag(), reg[:-1])\n",
    "\t\tfor wire in reg:\n",
    "\t\t\trout.apply(X, wire)\n",
    "\t\trout.apply(H, reg[-1])\n",
    "\t\ts = 'X' + '.ctrl()'*nqbits\n",
    "\t\trout.apply(eval(s), reg)\n",
    "\t\trout.apply(H, reg[-1])\n",
    "\t\tfor wire in reg:\n",
    "\t\t\trout.apply(X, wire)\n",
    "\t\trout.apply(P_gate, reg[:-1])\n",
    "\t\trout.apply(R_gate, reg)\n",
    "\t\treturn rout\n",
    "\tU1.set_circuit_generator(U1_generator)\n",
    "\tU1_gate = U1(nqbits)\n",
    "\treturn U1_gate\n",
    "\n",
    "def load_Q(nqbits, P_gate, R_gate):\n",
    "\t\"\"\"\n",
    "\tCreates the Grover operator Q except a global phase, so it really creates the gate -Q\n",
    "\t\n",
    "\tARGUMENTS:\n",
    "\tnqbits  (int)       : number of qubits\n",
    "\tU0_gate (ParamGate) : Gate U_psi_0\n",
    "\tU1_gate (ParamGate) : Gate U_psi\n",
    "\t\n",
    "\tRETURNS:\n",
    "\tQ_gate (ParamGate)  : Gate -Q=U1U0\n",
    "\t\"\"\"\n",
    "\tU0_gate = load_U0(nqbits)\n",
    "\tU1_gate = load_U1(nqbits, P_gate, R_gate)\n",
    "\tQ = AbstractGate(\"Q\", [int])\n",
    "\tdef Q_generator(nqbits):\n",
    "\t\trout = QRoutine()\n",
    "\t\treg  = rout.new_wires(nqbits+1)\n",
    "\t\trout.apply(U0_gate, reg)\n",
    "\t\trout.apply(U1_gate, reg)\n",
    "\t\treturn rout\n",
    "\tQ.set_circuit_generator(Q_generator)\n",
    "\tQ_gate = Q(nqbits)\n",
    "\treturn Q_gate, U0_gate, U1_gate\n"
   ]
  },
  {
   "cell_type": "code",
   "execution_count": 6,
   "metadata": {},
   "outputs": [],
   "source": [
    "a = 0.\n",
    "b = 1.\n",
    "nqbits = 4\n",
    "#_aux  = 8"
   ]
  },
  {
   "cell_type": "code",
   "execution_count": 7,
   "metadata": {},
   "outputs": [],
   "source": [
    "def p(x):\n",
    "    return x*x\n",
    "def f(x):\n",
    "    return np.sin(x)"
   ]
  },
  {
   "cell_type": "code",
   "execution_count": 8,
   "metadata": {},
   "outputs": [],
   "source": [
    "from expectation_module import load_probabilities, load_function#, load_Q\n",
    "centers, probs, P_gate = load_probabilities(nqbits, p, a, b)\n",
    "R_gate, y = load_function(centers, f, nqbits)"
   ]
  },
  {
   "cell_type": "code",
   "execution_count": 44,
   "metadata": {},
   "outputs": [],
   "source": [
    "from qat.lang.AQASM import Program, X, H, Z\n",
    "qprog = Program()\n",
    "qbits = qprog.qalloc(nqbits+1)\n",
    "qprog.apply(P_gate, qbits[:-1])\n",
    "qprog.apply(R_gate, qbits)\n",
    "Q_gate, U0_gate, U1_gate  = load_Q(nqbits, P_gate, R_gate)\n",
    "qprog.apply(Q_gate, qbits)\n",
    "#qprog.apply(Z, qbits[-1])"
   ]
  },
  {
   "cell_type": "code",
   "execution_count": 45,
   "metadata": {},
   "outputs": [],
   "source": [
    "circuit = qprog.to_circ()"
   ]
  },
  {
   "cell_type": "code",
   "execution_count": 46,
   "metadata": {},
   "outputs": [
    {
     "data": {
      "image/png": "[encoded data removed]",
      "text/plain": [
       "<IPython.core.display.Image object>"
      ]
     },
     "execution_count": 46,
     "metadata": {},
     "output_type": "execute_result"
    }
   ],
   "source": [
    "%qatdisplay circuit --depth 0"
   ]
  },
  {
   "cell_type": "code",
   "execution_count": 47,
   "metadata": {},
   "outputs": [],
   "source": [
    "from qat.qpus import LinAlg"
   ]
  },
  {
   "cell_type": "code",
   "execution_count": 48,
   "metadata": {},
   "outputs": [
    {
     "data": {
      "text/plain": [
       "5"
      ]
     },
     "execution_count": 48,
     "metadata": {},
     "output_type": "execute_result"
    }
   ],
   "source": [
    "len(qbits)"
   ]
  },
  {
   "cell_type": "code",
   "execution_count": 49,
   "metadata": {},
   "outputs": [],
   "source": [
    "linalgqpu = LinAlg()\n",
    "result = linalgqpu.submit(circuit.to_job(qubits = [len(qbits)-1]))"
   ]
  },
  {
   "cell_type": "code",
   "execution_count": 50,
   "metadata": {
    "scrolled": false
   },
   "outputs": [
    {
     "name": "stdout",
     "output_type": "stream",
     "text": [
      "Aux qbits have value |0> (the probability of getting this result is 0.9302597084015397)\n",
      "Aux qbits have value |1> (the probability of getting this result is 0.06974029159846046)\n"
     ]
    }
   ],
   "source": [
    "States, QP, QA = [], [], []\n",
    "for res in result:\n",
    "    States.append(res.state) # Store the decimal number that represents each state\n",
    "    QP.append(res.probability) # Store its probability\n",
    "    QA.append(res.amplitude)\n",
    "    print(\"Aux qbits have value %s (the probability of getting this result is %s)\"%(res.state, res.probability))\n",
    "QP = pd.Series(QP, name='Probability')  \n",
    "States = pd.Series(States, name='States')  \n",
    "QA = pd.Series(QA, name='Amplitude') \n",
    "pdf = pd.concat([States, QP, QA], axis=1)    "
   ]
  },
  {
   "cell_type": "code",
   "execution_count": 51,
   "metadata": {},
   "outputs": [
    {
     "data": {
      "text/html": [
       "<div>\n",
       "<style scoped>\n",
       "    .dataframe tbody tr th:only-of-type {\n",
       "        vertical-align: middle;\n",
       "    }\n",
       "\n",
       "    .dataframe tbody tr th {\n",
       "        vertical-align: top;\n",
       "    }\n",
       "\n",
       "    .dataframe thead th {\n",
       "        text-align: right;\n",
       "    }\n",
       "</style>\n",
       "<table border=\"1\" class=\"dataframe\">\n",
       "  <thead>\n",
       "    <tr style=\"text-align: right;\">\n",
       "      <th></th>\n",
       "      <th>States</th>\n",
       "      <th>Probability</th>\n",
       "      <th>Amplitude</th>\n",
       "    </tr>\n",
       "  </thead>\n",
       "  <tbody>\n",
       "    <tr>\n",
       "      <th>0</th>\n",
       "      <td>|0&gt;</td>\n",
       "      <td>0.93026</td>\n",
       "      <td>None</td>\n",
       "    </tr>\n",
       "    <tr>\n",
       "      <th>1</th>\n",
       "      <td>|1&gt;</td>\n",
       "      <td>0.06974</td>\n",
       "      <td>None</td>\n",
       "    </tr>\n",
       "  </tbody>\n",
       "</table>\n",
       "</div>"
      ],
      "text/plain": [
       "  States  Probability Amplitude\n",
       "0    |0>      0.93026      None\n",
       "1    |1>      0.06974      None"
      ]
     },
     "execution_count": 51,
     "metadata": {},
     "output_type": "execute_result"
    }
   ],
   "source": [
    "pdf"
   ]
  },
  {
   "cell_type": "code",
   "execution_count": 41,
   "metadata": {},
   "outputs": [
    {
     "data": {
      "text/plain": [
       "0.6693004071633366"
      ]
     },
     "execution_count": 41,
     "metadata": {},
     "output_type": "execute_result"
    }
   ],
   "source": [
    "np.sum(probs*y)"
   ]
  },
  {
   "cell_type": "code",
   "execution_count": 54,
   "metadata": {},
   "outputs": [
    {
     "name": "stdout",
     "output_type": "stream",
     "text": [
      "Theta: 0.26725337863895515\n"
     ]
    }
   ],
   "source": [
    "Prob = 0.06974\n",
    "K=0\n",
    "Theta = np.arcsin(np.sqrt(Prob))/(2*K+1)\n",
    "print('Theta: {}'.format(Theta))"
   ]
  },
  {
   "cell_type": "code",
   "execution_count": 55,
   "metadata": {},
   "outputs": [
    {
     "data": {
      "text/plain": [
       "3.141592653589793"
      ]
     },
     "execution_count": 55,
     "metadata": {},
     "output_type": "execute_result"
    }
   ],
   "source": [
    "np.pi"
   ]
  },
  {
   "cell_type": "code",
   "execution_count": 58,
   "metadata": {},
   "outputs": [
    {
     "data": {
      "text/plain": [
       "0.5163590524547841"
      ]
     },
     "execution_count": 58,
     "metadata": {},
     "output_type": "execute_result"
    }
   ],
   "source": [
    "np.sin(3*Theta)"
   ]
  },
  {
   "cell_type": "code",
   "execution_count": null,
   "metadata": {},
   "outputs": [],
   "source": [
    "Theta: 0.9581124681207465"
   ]
  },
  {
   "cell_type": "code",
   "execution_count": null,
   "metadata": {},
   "outputs": [],
   "source": [
    "len(states)"
   ]
  },
  {
   "cell_type": "code",
   "execution_count": null,
   "metadata": {},
   "outputs": [],
   "source": [
    "[i for i in range(1, 2**(nqbits+1), 2)]"
   ]
  },
  {
   "cell_type": "code",
   "execution_count": null,
   "metadata": {},
   "outputs": [],
   "source": [
    "[amplitudes[i] for i in range(1, len(probabilities), 2)]"
   ]
  },
  {
   "cell_type": "code",
   "execution_count": null,
   "metadata": {},
   "outputs": [],
   "source": [
    "[states[i] for i in range(1, len(probabilities), 2)]"
   ]
  },
  {
   "cell_type": "code",
   "execution_count": null,
   "metadata": {},
   "outputs": [],
   "source": [
    "result = PyLinalg().submit(circuit.to_job(qubits = [i+nqbits+1 for i in range(8)])) #Measure only auxiliary qubits\n"
   ]
  },
  {
   "cell_type": "code",
   "execution_count": null,
   "metadata": {},
   "outputs": [],
   "source": [
    "[i+nqbits+1 for i in range(8)]"
   ]
  },
  {
   "cell_type": "code",
   "execution_count": null,
   "metadata": {},
   "outputs": [],
   "source": []
  },
  {
   "cell_type": "code",
   "execution_count": null,
   "metadata": {},
   "outputs": [],
   "source": []
  },
  {
   "cell_type": "code",
   "execution_count": null,
   "metadata": {},
   "outputs": [],
   "source": [
    "qprog.apply(R_gate.dag(), qbits)\n",
    "qprog.apply(P_gate.dag(), qbits[:-1])\n",
    "for wire in qbits:\n",
    "    qprog.apply(X, wire)\n",
    "qprog.apply(H, qbits[-1])    \n",
    "s = 'X' + '.ctrl()'*(nqbits)\n",
    "qprog.apply(eval(s), qbits)\n",
    "qprog.apply(H, qbits[-1])\n",
    "for wire in qbits:\n",
    "    qprog.apply(X, wire)\n",
    "qprog.apply(P_gate, qbits[:-1])    \n",
    "qprog.apply(R_gate, qbits)"
   ]
  },
  {
   "cell_type": "code",
   "execution_count": null,
   "metadata": {},
   "outputs": [],
   "source": [
    "Q_gate, U0_gate, U1_gate  = load_Q(nqbits, P_gate, R_gate)"
   ]
  },
  {
   "cell_type": "code",
   "execution_count": null,
   "metadata": {},
   "outputs": [],
   "source": [
    "qprog = Program()\n",
    "qbits = qprog.qalloc(nqbits+1)\n",
    "qprog.apply(P_gate, qbits[:-1])\n",
    "qprog.apply(R_gate, qbits)\n",
    "qprog.apply(U0_gate, qbits)\n",
    "qprog.apply(U1_gate, qbits)"
   ]
  },
  {
   "cell_type": "code",
   "execution_count": null,
   "metadata": {},
   "outputs": [],
   "source": []
  },
  {
   "cell_type": "code",
   "execution_count": null,
   "metadata": {},
   "outputs": [],
   "source": []
  },
  {
   "cell_type": "code",
   "execution_count": null,
   "metadata": {},
   "outputs": [],
   "source": []
  },
  {
   "cell_type": "code",
   "execution_count": null,
   "metadata": {},
   "outputs": [],
   "source": []
  },
  {
   "cell_type": "code",
   "execution_count": null,
   "metadata": {},
   "outputs": [],
   "source": [
    "circuit = qprog.to_circ()"
   ]
  },
  {
   "cell_type": "code",
   "execution_count": null,
   "metadata": {},
   "outputs": [],
   "source": [
    "%qatdisplay circuit"
   ]
  },
  {
   "cell_type": "code",
   "execution_count": null,
   "metadata": {},
   "outputs": [],
   "source": [
    "from qat.qpus import get_default_qpu\n",
    "Algebra = get_default_qpu()"
   ]
  },
  {
   "cell_type": "code",
   "execution_count": null,
   "metadata": {},
   "outputs": [],
   "source": [
    "result = Algebra.submit(circuit.to_job())"
   ]
  },
  {
   "cell_type": "code",
   "execution_count": null,
   "metadata": {
    "scrolled": false
   },
   "outputs": [],
   "source": [
    "states, probabilities, amplitudes = [], [], []\n",
    "for res in result:\n",
    "    states.append(res.state) # Store the decimal number that represents each state\n",
    "    probabilities.append(res.probability) # Store its probability\n",
    "    amplitudes.append(res.amplitude)\n",
    "    print(\"Aux qbits have value %s (the probability of getting this result is %s)\"%(\n",
    "        res.state, res.amplitude))"
   ]
  },
  {
   "cell_type": "code",
   "execution_count": null,
   "metadata": {},
   "outputs": [],
   "source": [
    "[amplitudes[i] for i in range(1, len(probabilities), 2)]"
   ]
  },
  {
   "cell_type": "code",
   "execution_count": null,
   "metadata": {},
   "outputs": [],
   "source": [
    "[states[i] for i in range(1, len(probabilities), 2)]"
   ]
  },
  {
   "cell_type": "code",
   "execution_count": null,
   "metadata": {},
   "outputs": [],
   "source": [
    "Aux qbits have value |000> (the probability of getting this result is 0.028383331462190166)\n",
    "Aux qbits have value |001> (the probability of getting this result is 0.00018141230651445058)\n",
    "Aux qbits have value |010> (the probability of getting this result is 0.18494344667884596)\n",
    "Aux qbits have value |011> (the probability of getting this result is 0.004796618228824582)\n",
    "Aux qbits have value |100> (the probability of getting this result is 0.33634130293762543)\n",
    "Aux qbits have value |101> (the probability of getting this result is 0.021284153359982263)\n",
    "Aux qbits have value |110> (the probability of getting this result is 0.36934453263582345)\n",
    "Aux qbits have value |111> (the probability of getting this result is 0.05472520239019354)\n"
   ]
  },
  {
   "cell_type": "code",
   "execution_count": null,
   "metadata": {},
   "outputs": [],
   "source": []
  },
  {
   "cell_type": "markdown",
   "metadata": {},
   "source": [
    "* Aux qbits have value |010> (the probability of getting this result is 0.0678993718836378)\n",
    "* Aux qbits have value |011> (the probability of getting this result is 0.03924348525921941)\n",
    "* Aux qbits have value |100> (the probability of getting this result is 0.12348295448200526)\n",
    "* Aux qbits have value |101> (the probability of getting this result is 0.1741360931370422)\n",
    "* Aux qbits have value |110> (the probability of getting this result is 0.13559962369565087)\n",
    "* Aux qbits have value |111> (the probability of getting this result is 0.44773370963768266)\n"
   ]
  }
 ],
 "metadata": {
  "kernelspec": {
   "display_name": "Python 3",
   "language": "python",
   "name": "python3"
  },
  "language_info": {
   "codemirror_mode": {
    "name": "ipython",
    "version": 3
   },
   "file_extension": ".py",
   "mimetype": "text/x-python",
   "name": "python",
   "nbconvert_exporter": "python",
   "pygments_lexer": "ipython3",
   "version": "3.7.3"
  }
 },
 "nbformat": 4,
 "nbformat_minor": 5
}
