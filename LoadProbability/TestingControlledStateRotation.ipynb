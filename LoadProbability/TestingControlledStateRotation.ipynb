{
 "cells": [
  {
   "cell_type": "code",
   "execution_count": null,
   "id": "33d78b00",
   "metadata": {},
   "outputs": [],
   "source": [
    "from IPython.core.display import display, HTML\n",
    "display(HTML(\"<style>.container { width:100% !important; }</style>\"))"
   ]
  },
  {
   "cell_type": "code",
   "execution_count": null,
   "id": "959d3f7c",
   "metadata": {},
   "outputs": [],
   "source": [
    "import numpy as np\n",
    "import pandas as  pd\n",
    "import matplotlib.pyplot as plt\n",
    "import sys, os"
   ]
  },
  {
   "cell_type": "code",
   "execution_count": null,
   "id": "f5ace083",
   "metadata": {},
   "outputs": [],
   "source": [
    "%load_ext qat.core.magic"
   ]
  },
  {
   "cell_type": "code",
   "execution_count": null,
   "id": "19895512",
   "metadata": {},
   "outputs": [],
   "source": [
    "#QPU connection\n",
    "try:\n",
    "    from qat.qlmaas import QLMaaSConnection\n",
    "    connection = QLMaaSConnection()\n",
    "    LinAlg = connection.get_qpu(\"qat.qpus:LinAlg\")\n",
    "    lineal_qpu = LinAlg()\n",
    "except ImportError:\n",
    "    from qat.qpus import PyLinalg\n",
    "    lineal_qpu = PyLinalg()"
   ]
  },
  {
   "cell_type": "code",
   "execution_count": null,
   "id": "c89d68e5",
   "metadata": {},
   "outputs": [],
   "source": [
    "sys.path.append('/home/cesga/gferro/NEASQC/PhaseAmplification/')"
   ]
  },
  {
   "cell_type": "code",
   "execution_count": null,
   "id": "3f42bf6a",
   "metadata": {},
   "outputs": [],
   "source": [
    "def p(x):\n",
    "    return x*x\n",
    "def f(x):\n",
    "    return np.sin(x)"
   ]
  },
  {
   "cell_type": "code",
   "execution_count": null,
   "id": "5f82bf47",
   "metadata": {},
   "outputs": [],
   "source": [
    "from dataloading_module import LeftConditionalProbability, CRBS_gate\n",
    "from qat.core.console import display\n",
    "from qat.lang.AQASM import Program, RY, AbstractGate, QRoutine, X"
   ]
  },
  {
   "cell_type": "code",
   "execution_count": null,
   "id": "b7a327f8",
   "metadata": {},
   "outputs": [],
   "source": [
    "from AuxiliarFunctions import TestBins, LeftConditionalProbability, get_histogram, PostProcessResults"
   ]
  },
  {
   "cell_type": "code",
   "execution_count": null,
   "id": "5848e44e",
   "metadata": {},
   "outputs": [],
   "source": [
    "#number of Qbits for the circuit\n",
    "n_qbits = 8\n",
    "#The number of bins \n",
    "m_bins = 2**n_qbits\n",
    "LowerLimit = 0.0\n",
    "UpperLimit = 1.0 \n",
    "\n",
    "x_X, p_X = get_histogram(p, LowerLimit, UpperLimit, m_bins)\n",
    "f_X = f(x_X)\n",
    "ProbDict = {'array': p_X}"
   ]
  },
  {
   "cell_type": "markdown",
   "id": "af2b7f95",
   "metadata": {},
   "source": [
    "#  BARRERA"
   ]
  },
  {
   "cell_type": "code",
   "execution_count": null,
   "id": "431df83d",
   "metadata": {},
   "outputs": [],
   "source": [
    "def CRBS_generator(N, ControlState, Theta):\n",
    "    \"\"\"\n",
    "    This functions codify a input ControlState using N qbits and\n",
    "    apply a controlled Rotation of an input angle Theta by the ControlState\n",
    "    on one aditional qbit.\n",
    "    Inputs:\n",
    "    * N: int. Number of qbits needed for codify the ControlState. \n",
    "    * ControlState: int. State for controlling the of the controlled Rotation.\n",
    "    * Theta: float. Rotation angle    \n",
    "    \"\"\"\n",
    "    qrout = QRoutine()\n",
    "    \n",
    "    #Creates de control using first N\n",
    "    qcontrol = qrout.new_wires(N)\n",
    "    #An additional target qbit  \n",
    "    qtarget = qrout.new_wires(1)    \n",
    "    \n",
    "    #Transform staje in binnary string\n",
    "    bNumber = list(format(ControlState, '0{}b'.format(int(N))))\n",
    "    #Binnary string to list of Booleans\n",
    "    bList = [bool(int(i)) for i in bNumber]\n",
    "    \n",
    "    #This block contains the mandatory transformation to use the ControlState \n",
    "    #for performing a controlled Operation on the target qbit\n",
    "    for m, k in enumerate(bList):\n",
    "        if k == False:\n",
    "            qrout.apply(X, qcontrol[m])\n",
    "            \n",
    "    #Apply the controlled rotation on the target qbit\n",
    "    #The rotation is only applyied when qcontrol is in ControlState\n",
    "    c_i_RY = RY(Theta).ctrl(len(qcontrol))\n",
    "    qrout.apply(c_i_RY, qcontrol, qtarget)\n",
    "    #Undo the operations for using the ControlState\n",
    "    #for controlling the rotation\n",
    "    for m, k in enumerate(bList):\n",
    "        if k == False:\n",
    "            qrout.apply(X,qcontrol[m])           \n",
    "    return qrout    \n",
    "\n",
    "#Using generator function an abstract gate is created\n",
    "CRBS_gate = AbstractGate(\"CRBS_Gate\", [int, int, float])   \n",
    "CRBS_gate.set_circuit_generator(CRBS_generator)\n",
    "\n"
   ]
  },
  {
   "cell_type": "code",
   "execution_count": null,
   "id": "1ee0eb05",
   "metadata": {},
   "outputs": [],
   "source": [
    "def P_generator(n_qbits, Dictionary):\n",
    "    \n",
    "    ProbabilityArray = Dictionary['array']\n",
    "    n_qbits = TestBins(ProbabilityArray, 'Probability')\n",
    "    \n",
    "    qrout = QRoutine()\n",
    "    qbits = qrout.new_wires(n_qbits)\n",
    "    nbins = len(ProbabilityArray)\n",
    "    \n",
    "    for i in range(0, n_qbits):\n",
    "        ConditionalProbability = LeftConditionalProbability(i, ProbabilityArray)\n",
    "        Thetas = 2.0*(np.arccos(np.sqrt(ConditionalProbability)))    \n",
    "\n",
    "        if i == 0:\n",
    "            #The first qbit is a typical y Rotation\n",
    "            qrout.apply(RY(Thetas[0]), qbits[0])\n",
    "        else:\n",
    "            #The different rotations should be applied  over the i+1 qbit.\n",
    "            #Each rotation is controlled by all the posible states formed with i qbits\n",
    "            for j, theta in enumerate(Thetas):\n",
    "                #Next lines do the following operation: |j> x Ry(2*\\theta_{j})|0>\n",
    "                gate = CRBS_gate(i, j, theta)\n",
    "                qrout.apply(gate, qbits[:i+1])    \n",
    "    return qrout\n",
    "\n",
    "\n",
    "LoadP_Gate = AbstractGate(\n",
    "    \"P_Gate\", \n",
    "    [int, dict],\n",
    "    circuit_generator = P_generator,\n",
    "    arity = lambda x,y:x\n",
    ")\n",
    "\n",
    "\n"
   ]
  },
  {
   "cell_type": "code",
   "execution_count": null,
   "id": "72b227c7",
   "metadata": {},
   "outputs": [],
   "source": [
    "P_gate = LoadP_Gate(n_qbits, ProbDict)"
   ]
  },
  {
   "cell_type": "code",
   "execution_count": null,
   "id": "e2d333d0",
   "metadata": {},
   "outputs": [],
   "source": [
    "%qatdisplay P_gate --depth 0"
   ]
  },
  {
   "cell_type": "code",
   "execution_count": null,
   "id": "91a8da15",
   "metadata": {},
   "outputs": [],
   "source": [
    "qprog = Program()\n",
    "qbits = qprog.qalloc(P_gate.arity)\n",
    "qprog.apply(P_gate, qbits)"
   ]
  },
  {
   "cell_type": "code",
   "execution_count": null,
   "id": "12ca4705",
   "metadata": {},
   "outputs": [],
   "source": [
    "circuit = qprog.to_circ()#link=[P_generator])"
   ]
  },
  {
   "cell_type": "code",
   "execution_count": null,
   "id": "39f198bc",
   "metadata": {},
   "outputs": [],
   "source": [
    "%qatdisplay circuit --depth 0"
   ]
  },
  {
   "cell_type": "code",
   "execution_count": null,
   "id": "f21f7508",
   "metadata": {},
   "outputs": [],
   "source": [
    "circuit.statistics()"
   ]
  },
  {
   "cell_type": "code",
   "execution_count": null,
   "id": "9f61e5ba",
   "metadata": {},
   "outputs": [],
   "source": [
    "job = circuit.to_job()"
   ]
  },
  {
   "cell_type": "code",
   "execution_count": null,
   "id": "4c893de9",
   "metadata": {
    "scrolled": true
   },
   "outputs": [],
   "source": [
    "job = circuit.to_job()\n",
    "result = lineal_qpu.submit(job)\n",
    "P_results = PostProcessResults(result.join())"
   ]
  },
  {
   "cell_type": "code",
   "execution_count": null,
   "id": "4c839bfc",
   "metadata": {},
   "outputs": [],
   "source": [
    "from qat."
   ]
  },
  {
   "cell_type": "code",
   "execution_count": null,
   "id": "e7d69dbe",
   "metadata": {},
   "outputs": [],
   "source": []
  },
  {
   "cell_type": "code",
   "execution_count": null,
   "id": "f37c9e60",
   "metadata": {},
   "outputs": [],
   "source": []
  },
  {
   "cell_type": "code",
   "execution_count": null,
   "id": "3e42b268",
   "metadata": {},
   "outputs": [],
   "source": [
    "def CreatePG(ProbabilityArray):\n",
    "    \"\"\"\n",
    "    Given a discretized probability array the function creates a AbstracGate that allows the load\n",
    "    of the probability in a Quantum State. The number of qbits of the gate will be log2(len(ProbabilityArray))\n",
    "    Inputs:\n",
    "    * ProbabilityArray: np.array. Discretized arrray with the probability to load\n",
    "    Outuput:\n",
    "    * P_gate: Abstract Gate. Gate for loading Input probability in a quantum state\n",
    "    \"\"\"\n",
    "    \n",
    "    #Number of Input qbits for the QWuantum Gate\n",
    "    #nqbits_ = np.log2(len(ProbabilityArray))\n",
    "    ##Probability array must have a dimension of 2^n.\n",
    "    #Condition = (nqbits_%2 ==0) or (nqbits_%2 ==1)\n",
    "    #if Condition == False:\n",
    "    #    raise ValueError(\n",
    "    #        'Length of the ProbabilityArray must be of dimension 2^n with n a int. In this case is: {}.'.format(\n",
    "    #            nqbits_\n",
    "    #        )\n",
    "    #    )\n",
    "    #nqbits_ = int(nqbits_)\n",
    "    nqbits_ = TestBins(ProbabilityArray, 'Probability')\n",
    "    def LoadProbability_generator(NumbeOfQbits):\n",
    "        \n",
    "        qrout = QRoutine()\n",
    "        qbits = qrout.new_wires(NumbeOfQbits)\n",
    "        nbins = 2**NumbeOfQbits        \n",
    "        \n",
    "        #Iteratively generation of the circuit\n",
    "        for i in range(0, NumbeOfQbits):\n",
    "            #Each step divides the bins in the step before by 2:\n",
    "            #if i=1 -> there are 2 divisions so the step splits each one in 2 so 4 new bins are generated\n",
    "            #if i=2 -> there are 4 divisions so the step split each one in 2 so 8 new bins are generated\n",
    "            \n",
    "            #Calculates Conditional Probability\n",
    "            ConditionalProbability = LeftConditionalProbability(i, ProbabilityArray)\n",
    "            #Rotation angles: length: 2^(i-1)-1 and i the number of qbits of the step\n",
    "            Thetas = 2.0*(np.arccos(np.sqrt(ConditionalProbability)))\n",
    "\n",
    "            if i == 0:\n",
    "                #The first qbit is a typical y Rotation\n",
    "                qrout.apply(RY(Thetas[0]), qbits[0])\n",
    "            else:\n",
    "                #The different rotations should be applied  over the i+1 qbit.\n",
    "                #Each rotation is controlled by all the posible states formed with i qbits\n",
    "                for j, theta in enumerate(Thetas):\n",
    "                    #Next lines do the following operation: |j> x Ry(2*\\theta_{j})|0>\n",
    "                    gate = CRBS_gate(i, j, theta)\n",
    "                    qrout.apply(gate, qbits[:i+1])    \n",
    "        return qrout\n",
    "    \n",
    "    LoadP_Gate = AbstractGate(\"P_Gate\", [int])   \n",
    "    LoadP_Gate.set_circuit_generator(LoadProbability_generator)\n",
    "    #Now We generated the complete Quantum Gate\n",
    "    P_gate = LoadP_Gate(nqbits_)\n",
    "    return P_gate   "
   ]
  },
  {
   "cell_type": "markdown",
   "id": "ca93daf3",
   "metadata": {},
   "source": [
    "p = AbstractGate(\"P_Gate\", [int, dict], arity=lambda x, y: x)"
   ]
  },
  {
   "cell_type": "code",
   "execution_count": null,
   "id": "97ded3f3",
   "metadata": {},
   "outputs": [],
   "source": []
  },
  {
   "cell_type": "code",
   "execution_count": null,
   "id": "02141711",
   "metadata": {},
   "outputs": [],
   "source": [
    "from qat.lang.AQASM.misc import build_gate\n",
    "@build_gate(\"P_Gate\", [int, dict], lambda x,y: x)\n",
    "def P_generator(n_qbits, Dictionary):\n",
    "    \n",
    "    qrout = QRoutine()\n",
    "    qbits = qrout.new_wires(n_qbits)\n",
    "    nbins = 2**n_qbits  \n",
    "    ProbabilityArray = Dictionary['array']    \n",
    "    for i in range(0, n_qbits):\n",
    "        ConditionalProbability = LeftConditionalProbability(i, ProbabilityArray)\n",
    "        Thetas = 2.0*(np.arccos(np.sqrt(ConditionalProbability)))    \n",
    "        if i == 0:\n",
    "            qrout.apply(RY(Thetas[0]), qbits[0])\n",
    "        else:\n",
    "            for j, theta in enumerate(Thetas):\n",
    "                bNumber = list(format(j, '0{}b'.format(i)))\n",
    "                bList = [bool(int(i)) for i in bNumber]\n",
    "                for m, k in enumerate(bList):\n",
    "                    if k == False:\n",
    "                        qrout.apply(X, qbits[m])\n",
    "                c_i_RY = RY(theta).ctrl(i)\n",
    "                qrout.apply(c_i_RY, qbits[:i], qbits[i])\n",
    "                for m, k in enumerate(bList):\n",
    "                    if k == False:\n",
    "                        qrout.apply(X, qbits[m])\n",
    "    return qrout"
   ]
  },
  {
   "cell_type": "code",
   "execution_count": null,
   "id": "0884e5d8",
   "metadata": {},
   "outputs": [],
   "source": [
    "P_Gate = p(n_qbits, ProbDict)"
   ]
  },
  {
   "cell_type": "code",
   "execution_count": null,
   "id": "68462d7a",
   "metadata": {},
   "outputs": [],
   "source": []
  },
  {
   "cell_type": "code",
   "execution_count": null,
   "id": "a4d08c03",
   "metadata": {},
   "outputs": [],
   "source": [
    "P_Gate= P_generator(n_qbits, ProbDict)"
   ]
  },
  {
   "cell_type": "code",
   "execution_count": null,
   "id": "376eb446",
   "metadata": {},
   "outputs": [],
   "source": [
    "qprog = Program()"
   ]
  },
  {
   "cell_type": "code",
   "execution_count": null,
   "id": "15afc97a",
   "metadata": {},
   "outputs": [],
   "source": [
    "qbits = qprog.qalloc(P_Gate.arity)"
   ]
  },
  {
   "cell_type": "code",
   "execution_count": null,
   "id": "1d1d7993",
   "metadata": {},
   "outputs": [],
   "source": [
    "qprog.apply(P_Gate, qbits)"
   ]
  },
  {
   "cell_type": "code",
   "execution_count": null,
   "id": "f0df6992",
   "metadata": {},
   "outputs": [],
   "source": []
  },
  {
   "cell_type": "code",
   "execution_count": null,
   "id": "e0069ce5",
   "metadata": {},
   "outputs": [],
   "source": []
  },
  {
   "cell_type": "code",
   "execution_count": null,
   "id": "9eaa5773",
   "metadata": {},
   "outputs": [],
   "source": [
    "def LoadP(nqbits, p_X):\n",
    "    ProbDict = {'array': p_X}\n",
    "    qrout = QRoutine()\n",
    "    qbits = qrout.new_wires(nqbits)\n",
    "    with qrout.compute():\n",
    "        qrout.apply(p(nqbits, ProbDict), qbits)\n",
    "    return qrout\n",
    "    \n",
    "    \n",
    "    \n",
    "    "
   ]
  },
  {
   "cell_type": "code",
   "execution_count": null,
   "id": "4c051482",
   "metadata": {},
   "outputs": [],
   "source": [
    "circuit = LoadP(n_qbits, p_X)"
   ]
  },
  {
   "cell_type": "code",
   "execution_count": null,
   "id": "405e5f2b",
   "metadata": {},
   "outputs": [],
   "source": []
  },
  {
   "cell_type": "code",
   "execution_count": null,
   "id": "3e89c3de",
   "metadata": {},
   "outputs": [],
   "source": []
  },
  {
   "cell_type": "code",
   "execution_count": null,
   "id": "8f5ef3a0",
   "metadata": {},
   "outputs": [],
   "source": [
    "P_Gate= P_generator(n_qbits, ProbDict)"
   ]
  },
  {
   "cell_type": "code",
   "execution_count": null,
   "id": "7c43893a",
   "metadata": {},
   "outputs": [],
   "source": [
    "%qatdisplay P_Gate --depth 1"
   ]
  },
  {
   "cell_type": "code",
   "execution_count": null,
   "id": "adc01e54",
   "metadata": {},
   "outputs": [],
   "source": [
    "qprog = Program()\n",
    "qbits = qprog.qalloc(n_qbits)\n",
    "qprog.apply(P_Gate, qbits)"
   ]
  },
  {
   "cell_type": "code",
   "execution_count": null,
   "id": "486d5458",
   "metadata": {},
   "outputs": [],
   "source": [
    "circuit = qprog.to_circ()"
   ]
  },
  {
   "cell_type": "code",
   "execution_count": null,
   "id": "1dbb1d2d",
   "metadata": {},
   "outputs": [],
   "source": [
    "%qatdisplay circuit --depth 1"
   ]
  },
  {
   "cell_type": "code",
   "execution_count": null,
   "id": "3329d652",
   "metadata": {},
   "outputs": [],
   "source": [
    "np.isclose(P_results['Probability'], p_X).all()"
   ]
  },
  {
   "cell_type": "code",
   "execution_count": null,
   "id": "6b26c93a",
   "metadata": {},
   "outputs": [],
   "source": []
  },
  {
   "cell_type": "code",
   "execution_count": null,
   "id": "7edb2ae2",
   "metadata": {},
   "outputs": [],
   "source": [
    "from qat.lang.AQASM.misc import build_gate\n",
    "\n",
    "#@build_gate(\"P_Gate\", [int, dict], lambda x,y: x)\n",
    "def LoadProbability_generator(NumbeOfQbits, ProbabilityDict):\n",
    "\n",
    "    qrout = QRoutine()\n",
    "    qbits = qrout.new_wires(NumbeOfQbits)\n",
    "    nbins = 2**NumbeOfQbits  \n",
    "    ProbabilityArray = ProbabilityDict['array']\n",
    "    \n",
    "    for i in range(0, NumbeOfQbits):\n",
    "        ConditionalProbability = LeftConditionalProbability(i, ProbabilityArray)\n",
    "        Thetas = 2.0*(np.arccos(np.sqrt(ConditionalProbability)))\n",
    "        \n",
    "        if i == 0:\n",
    "            qrout.apply(RY(Thetas[0]), qbits[0])\n",
    "        else:\n",
    "            for j, theta in enumerate(Thetas):\n",
    "                bNumber = list(format(j, '0{}b'.format(i)))\n",
    "                bList = [bool(int(i)) for i in bNumber]\n",
    "                for m, k in enumerate(bList):\n",
    "                    if k == False:\n",
    "                        qrout.apply(X, qbits[m])\n",
    "                c_i_RY = RY(theta).ctrl(i)\n",
    "                qrout.apply(c_i_RY, qbits[:i], qbits[i])\n",
    "                for m, k in enumerate(bList):\n",
    "                    if k == False:\n",
    "                        qrout.apply(X, qbits[m])\n",
    "                #gate = CRBS_gate(i, j, theta)\n",
    "                #qrout.apply(gate, qbits[:i+1]) \n",
    "    return qrout\n",
    "\n",
    "LoadP_Gate = AbstractGate(\n",
    "    'P_Gate',\n",
    "    [int, dict],\n",
    "    circuit_generator=LoadProbability_generator\n",
    ")"
   ]
  },
  {
   "cell_type": "code",
   "execution_count": null,
   "id": "99e11603",
   "metadata": {},
   "outputs": [],
   "source": [
    "P_Gate= LoadP_Gate(n_qbits, ProbDict)"
   ]
  },
  {
   "cell_type": "code",
   "execution_count": null,
   "id": "28a984ce",
   "metadata": {},
   "outputs": [],
   "source": [
    "qprog = Program()\n",
    "qbits = qprog.qalloc(n_qbits)\n",
    "qprog.apply(P_Gate, qbits)"
   ]
  },
  {
   "cell_type": "code",
   "execution_count": null,
   "id": "2babb69a",
   "metadata": {},
   "outputs": [],
   "source": [
    "np.isclose(P_results['Probability'], p_X).all()"
   ]
  },
  {
   "cell_type": "code",
   "execution_count": null,
   "id": "1e24d592",
   "metadata": {},
   "outputs": [],
   "source": []
  },
  {
   "cell_type": "code",
   "execution_count": null,
   "id": "e4d25107",
   "metadata": {},
   "outputs": [],
   "source": []
  },
  {
   "cell_type": "code",
   "execution_count": null,
   "id": "b76efecf",
   "metadata": {},
   "outputs": [],
   "source": []
  },
  {
   "cell_type": "code",
   "execution_count": null,
   "id": "d990b2ee",
   "metadata": {},
   "outputs": [],
   "source": []
  },
  {
   "cell_type": "code",
   "execution_count": null,
   "id": "fb764517",
   "metadata": {},
   "outputs": [],
   "source": []
  },
  {
   "cell_type": "code",
   "execution_count": null,
   "id": "0b4749a6",
   "metadata": {},
   "outputs": [],
   "source": []
  }
 ],
 "metadata": {
  "kernelspec": {
   "display_name": "Python 3 (ipykernel)",
   "language": "python",
   "name": "python3"
  },
  "language_info": {
   "codemirror_mode": {
    "name": "ipython",
    "version": 3
   },
   "file_extension": ".py",
   "mimetype": "text/x-python",
   "name": "python",
   "nbconvert_exporter": "python",
   "pygments_lexer": "ipython3",
   "version": "3.9.9"
  }
 },
 "nbformat": 4,
 "nbformat_minor": 5
}
