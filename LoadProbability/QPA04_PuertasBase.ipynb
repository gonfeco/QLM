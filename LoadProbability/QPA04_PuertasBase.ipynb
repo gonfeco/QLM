{
 "cells": [
  {
   "cell_type": "code",
   "execution_count": null,
   "id": "c63dcba2",
   "metadata": {},
   "outputs": [],
   "source": [
    "from IPython.core.display import display, HTML\n",
    "display(HTML(\"<style>.container { width:100% !important; }</style>\"))"
   ]
  },
  {
   "cell_type": "code",
   "execution_count": null,
   "id": "0d919caa",
   "metadata": {},
   "outputs": [],
   "source": [
    "import numpy as np\n",
    "import pandas as pd\n",
    "import matplotlib.pyplot as plt\n",
    "import sys, os"
   ]
  },
  {
   "cell_type": "markdown",
   "id": "a5160405",
   "metadata": {},
   "source": [
    "# Quantum Phase Amplification"
   ]
  },
  {
   "cell_type": "markdown",
   "id": "5067a3a1",
   "metadata": {},
   "source": [
    "## 1. Carga Completa"
   ]
  },
  {
   "cell_type": "markdown",
   "id": "02865158",
   "metadata": {},
   "source": [
    "Hasta este Notebook hemos generado todo lo necesario para cargar la probabilidad y la función a integrar. Necesitamos ahora aplicar el algoritmo de **Quantum Phase Amplification** sobre nuestro sistema. \n",
    "Los pasos son los siguientes:\n",
    "\n",
    "1. Partir de un estado de n+1 qbits:\n",
    "\n",
    "$$|\\Psi_{0}\\rangle_{n+1}=|0\\rangle_{n}\\otimes|0\\rangle_{1}=|0\\rangle_{n+1}$$\n",
    "\n",
    "2. Cargamos la probabilidad discretizada sobre los n primeros q-bits usando la puerta $\\hat{P_{n}}$ que actúa sobre n qbits:\n",
    "\n",
    "$$|\\Psi_{1}\\rangle_{n+1}=\\left(\\hat{P_{n}}\\otimes I\\right)|\\Psi_{0}\\rangle_{n+1}=\\left(\\hat{P_{n}}\\otimes I\\right)|0\\rangle_{n}\\otimes|0\\rangle_{1}=\\hat{P_{n}}|0\\rangle_{n}\\otimes I|0\\rangle_{1}=\\hat{P_{n}}|0\\rangle_{n}\\otimes |0\\rangle_{1}=\\sum_{x=0}^{2^{n}-1}\\sqrt{p(x)}|x\\rangle_{n}\\otimes |0\\rangle_{1}$$\n",
    "\n",
    "3. Cargamos la función que queremos integrar usando la puerta $\\hat{R_{n+1}}$ que actúa sobre los n+1 qbits:\n",
    "\n",
    "$$|\\Psi_{2}\\rangle_{n+1}=\\hat{R_{n+1}}|\\Psi_{1}\\rangle_{n+1}=\\hat{R_{n+1}}\\left(\\hat{P_{n}}\\otimes I\\right)|\\Psi_{0}\\rangle_{n+1}$$\n",
    "\n",
    "$$|\\Psi_{2}\\rangle_{n+1}=\\sum_{x=0}^{2^{n}-1}|x\\rangle_{n}\\otimes\\left(\\sqrt{p(x)f(x)}|1\\rangle+\\sqrt{p(x)(1-f(x))}|0\\rangle\\right)$$\n",
    "\n",
    "4. Reorganizamos los términos del siguiente modo:\n",
    "\n",
    "$$a=\\sum_{x=0}^{2^{n}-1}p(x)f(x)$$\n",
    "\n",
    "$$|\\Psi_{1}\\rangle = \\frac{1}{\\sqrt{a}}\\sum_{x=0}^{2^{n}-1}|x\\rangle_{n}\\otimes\\sqrt{p(x)f(x)}|1\\rangle$$\n",
    "\n",
    "$$|\\Psi_{0}\\rangle = \\frac{1}{\\sqrt{1-a}}\\sum_{x=0}^{2^{n}-1}|x\\rangle_{n}\\otimes\\sqrt{p(x)(1-f(x))}|0\\rangle$$\n",
    "\n",
    "$$|\\Psi_{2}\\rangle_{n+1}=\\sqrt{a}|\\Psi_{1}\\rangle+\\sqrt{1-a}|\\Psi_{0}\\rangle$$\n",
    "\n",
    "Hasta aquí lo que tenemos es la carga de la probabilidad y la función a integrar en el sistema cuántico. En las siguientes celdas se implementa todos estos pasos:\n"
   ]
  },
  {
   "cell_type": "code",
   "execution_count": null,
   "id": "8297f12c",
   "metadata": {},
   "outputs": [],
   "source": [
    "sys.path.append('/home/gferro/PhaseAmplification/')"
   ]
  },
  {
   "cell_type": "code",
   "execution_count": null,
   "id": "7cfa200b",
   "metadata": {},
   "outputs": [],
   "source": [
    "from qat.core.console import display\n",
    "from qat.qpus import LinAlg"
   ]
  },
  {
   "cell_type": "code",
   "execution_count": null,
   "id": "2c6f8d0e",
   "metadata": {},
   "outputs": [],
   "source": [
    "from dataloading_module import  CreateLoadFunctionGate, CreatePG\n",
    "from kk import get_histogram"
   ]
  },
  {
   "cell_type": "code",
   "execution_count": null,
   "id": "e461dffd",
   "metadata": {},
   "outputs": [],
   "source": [
    "#Probability function\n",
    "def p(x):\n",
    "    return x*x\n",
    "\n",
    "def f(x):\n",
    "    return np.sin(x)"
   ]
  },
  {
   "cell_type": "markdown",
   "id": "ba65ee45",
   "metadata": {},
   "source": [
    "### Carga Completa: Circuito"
   ]
  },
  {
   "cell_type": "code",
   "execution_count": null,
   "id": "c83ae99f",
   "metadata": {},
   "outputs": [],
   "source": [
    "from qat.lang.AQASM import Program"
   ]
  },
  {
   "cell_type": "code",
   "execution_count": null,
   "id": "3d48c2cd",
   "metadata": {},
   "outputs": [],
   "source": [
    "nqbits = 4\n",
    "nbins = 2**nqbits\n",
    "a = 0\n",
    "b = 1\n",
    "#Discretization for the function domain\n",
    "centers, probs = get_histogram(p, a, b, nbins)\n",
    "#Discretizated function to load \n",
    "DiscretizedFunction = f(centers)\n",
    "\n",
    "#Quantum Program\n",
    "qprog = Program()\n",
    "qbits = qprog.qalloc(nqbits+1)\n",
    "#Create Probability loading gate\n",
    "P_gate = CreatePG(probs)\n",
    "qprog.apply(P_gate, qbits[:-1])\n",
    "#Create Function loading gate\n",
    "R_gate = CreateLoadFunctionGate(DiscretizedFunction)    \n",
    "qprog.apply(R_gate, qbits)\n",
    "\n"
   ]
  },
  {
   "cell_type": "code",
   "execution_count": null,
   "id": "55b2d65b",
   "metadata": {},
   "outputs": [],
   "source": [
    "#Create the circuit from the program\n",
    "circuit = qprog.to_circ()\n",
    "    \n",
    "#Display the circuit\n",
    "#display(circuit, max_depth = depth)\n",
    "%qatdisplay circuit"
   ]
  },
  {
   "cell_type": "code",
   "execution_count": null,
   "id": "c81359d0",
   "metadata": {
    "scrolled": true
   },
   "outputs": [],
   "source": [
    "\n",
    "#Create a Job from the circuit\n",
    "#The integral is loaded in the amplitud of the last qbit!!\n",
    "job = circuit.to_job(qubits = [nqbits])\n",
    "    \n",
    "#Import and create the linear algebra simulator\n",
    "linalgqpu = LinAlg()\n",
    "    \n",
    "#Submit the job to the simulator LinAlg and get the results\n",
    "result = linalgqpu.submit(job)\n",
    "QP = []\n",
    "States = []\n",
    "#Print the results\n",
    "for sample in result:\n",
    "    print(\"State %s probability %s\" % (sample.state, sample.probability))\n",
    "    QP.append(sample.probability)\n",
    "    States.append(str(sample.state))\n",
    "        \n",
    "print('Quantum Measurement: {}'.format(QP[1]))    \n",
    "print('Integral: {}'.format(sum(DiscretizedFunction*probs)))    \n",
    "print('Todo OK?: {}'.format(np.isclose(QP[1], sum(DiscretizedFunction*probs))))"
   ]
  },
  {
   "cell_type": "markdown",
   "id": "8b27c8ae",
   "metadata": {},
   "source": [
    "## 2. Amplificación de Amplitud"
   ]
  },
  {
   "cell_type": "markdown",
   "id": "6cc75d51",
   "metadata": {},
   "source": [
    "Después de la carga de datos tenemos el sistema en el estado:\n",
    "\n",
    "$$|\\Psi_{2}\\rangle_{n+1}=\\sqrt{a}|\\Psi_{1}\\rangle+\\sqrt{1-a}|\\Psi_{0}\\rangle$$\n",
    "\n",
    "Donde $a=\\sum_{x=0}^{2^{n}-1}p(x)f(x)$\n",
    "\n",
    "\n",
    "Como la integral es la amplitud del estado $|\\Psi_{1}\\rangle$ el paso siguiente es intentar maximizar la probabilidad de que al medir obtengamos dicho estado aplicando el algoritmo de Groover. \n",
    "\n",
    "El algoritmo de Groover adapatado a amplificación de fase consiste en aplicar un número óptimo de veces $k$ el operador $\\hat{Q}$. Este operador se define como:\n",
    "\n",
    "$$\\hat{Q}=\\hat{U}_{|\\Psi_{2}\\rangle} \\hat{U}_{|\\Psi_{0}\\rangle}$$\n",
    "\n",
    "Los operadores $\\hat{U}_{|\\Psi_{2}\\rangle}$ y $\\hat{U}_{|\\Psi_{0}\\rangle}$ se construyen del siguiente modo:\n",
    "\n",
    "$$\\hat{U}_{|\\Psi_{0}\\rangle } = \\hat{I} - 2|\\Psi_{0}\\rangle \\langle \\Psi_{0}|$$\n",
    "$$\\hat{U}_{|\\Psi_{2}\\rangle } = \\hat{I} - 2|\\Psi_{2}\\rangle \\langle \\Psi_{2}|$$\n"
   ]
  },
  {
   "cell_type": "markdown",
   "id": "f12a6ea0",
   "metadata": {},
   "source": [
    "### 2.1 Operador $\\hat{U}_{|\\Psi_{0}\\rangle}$"
   ]
  },
  {
   "cell_type": "markdown",
   "id": "bab58f14",
   "metadata": {},
   "source": [
    "Este operador se construye del siguiente modo. \n",
    "\n",
    "\n",
    "$$\\hat{U}_{|\\Psi_{0}\\rangle } = \\hat{I} - 2|\\Psi_{0}\\rangle \\langle \\Psi_{0}|$$\n",
    "\n",
    "\n",
    "\n",
    "Como \n",
    "$$|\\Psi_{2}\\rangle_{n+1}=\\sqrt{a}|\\Psi_{1}\\rangle+\\sqrt{1-a}|\\Psi_{0}\\rangle$$\n",
    "\n",
    "Si hacemos:\n",
    "\n",
    "$$\\hat{U}_{|\\Psi_{0}\\rangle} |\\Psi_{2}\\rangle_{n+1} = \\sqrt{a}|\\Psi_{1}\\rangle-\\sqrt{1-a}|\\Psi_{0}\\rangle$$\n",
    "\n",
    "Esto es una reflexión en torno al eje definido por el estado $|\\Psi_{1}\\rangle$. El problema es intentar generar un circuito que me permita generar este operador. \n",
    "\n",
    "Una operación equivalente que sí es fácilmente circuitable es: \n",
    "\n",
    "$$(\\hat{I_{n}}\\otimes X)(\\hat{I_{n}}\\otimes Z)(\\hat{I_{n}}\\otimes X)$$\n",
    "\n",
    "Como $|\\Psi_{2}\\rangle_{n+1}$ tambien se puede poner como:\n",
    "\n",
    "$$|\\Psi_{2}\\rangle_{n+1}=\\sum_{x=0}^{2^{n}-1}|x\\rangle_{n}\\otimes\\left(\\sqrt{p(x)f(x)}|1\\rangle+\\sqrt{p(x)(1-f(x))}|0\\rangle\\right)$$\n",
    "\n",
    "Podemos aplicar el operador sobre el estado:\n",
    "\n",
    "$$(\\hat{I_{n}}\\otimes X)(\\hat{I_{n}}\\otimes Z)(\\hat{I_{n}}\\otimes X)|\\Psi_{2}\\rangle_{n+1}$$\n",
    "\n",
    "$$(\\hat{I_{n}}\\otimes X)(\\hat{I_{n}}\\otimes Z)(\\hat{I_{n}}\\otimes X)\\sum_{x=0}^{2^{n}-1}|x\\rangle_{n}\\otimes\\left(\\sqrt{p(x)f(x)}|1\\rangle+\\sqrt{p(x)(1-f(x))}|0\\rangle\\right)$$\n",
    "\n",
    "$$(\\hat{I_{n}}\\otimes X)(\\hat{I_{n}}\\otimes Z)\\sum_{x=0}^{2^{n}-1}\\hat{I_{n}}|x\\rangle_{n}\\otimes\\left(\\sqrt{p(x)f(x)}X|1\\rangle+\\sqrt{p(x)(1-f(x))}X|0\\rangle\\right)$$\n",
    "\n",
    "Como $X|0\\rangle=|1\\rangle$ y $X|1\\rangle=|0\\rangle$\n",
    "\n",
    "$$(\\hat{I_{n}}\\otimes X)(\\hat{I_{n}}\\otimes Z)\\sum_{x=0}^{2^{n}-1}|x\\rangle_{n}\\otimes\\left(\\sqrt{p(x)f(x)}|0\\rangle+\\sqrt{p(x)(1-f(x))}|1\\rangle\\right)$$\n",
    "\n",
    "\n",
    "$$(\\hat{I_{n}}\\otimes X)\\sum_{x=0}^{2^{n}-1}\\hat{I_{n}}|x\\rangle_{n}\\otimes\\left(\\sqrt{p(x)f(x)}Z|0\\rangle+\\sqrt{p(x)(1-f(x))}Z|1\\rangle\\right)$$\n",
    "\n",
    "Como $Z|0\\rangle=|0\\rangle$ y $Z|1\\rangle=-|1\\rangle$\n",
    "\n",
    "$$(\\hat{I_{n}}\\otimes X)\\sum_{x=0}^{2^{n}-1}|x\\rangle_{n}\\otimes\\left(\\sqrt{p(x)f(x)}|0\\rangle-\\sqrt{p(x)(1-f(x))}|1\\rangle\\right)$$\n",
    "\n",
    "$$\\sum_{x=0}^{2^{n}-1}\\hat{I_{n}}|x\\rangle_{n}\\otimes\\left(\\sqrt{p(x)f(x)}X|0\\rangle-\\sqrt{p(x)(1-f(x))}X|1\\rangle\\right)$$\n",
    "\n",
    "Nuevamente $X|0\\rangle=|1\\rangle$ y $X|1\\rangle=|0\\rangle$\n",
    "\n",
    "$$\\sum_{x=0}^{2^{n}-1}|x\\rangle_{n}\\otimes\\left(\\sqrt{p(x)f(x)}|1\\rangle-\\sqrt{p(x)(1-f(x))}|0\\rangle\\right)$$\n",
    "\n",
    "Este estado que acabamos de obtener es exactamente:\n",
    "\n",
    "$$\\hat{U}_{|\\Psi_{0}\\rangle} |\\Psi_{2}\\rangle_{n+1} = \\sqrt{a}|\\Psi_{1}\\rangle-\\sqrt{1-a}|\\Psi_{0}\\rangle$$\n",
    "\n",
    "Por lo que podemos implementar fácilmente la reflexión en torno a $|\\Psi_{0}\\rangle$ como:\n",
    "\n",
    "$$\\hat{U}_{|\\Psi_{0}\\rangle } = \\hat{I} - 2|\\Psi_{0}\\rangle \\langle \\Psi_{0}|=(\\hat{I_{n}}\\otimes X)(\\hat{I_{n}}\\otimes Z)(\\hat{I_{n}}\\otimes X)$$\n",
    "\n",
    "Básicamente aplicamos sobre el qbit n+1 una puerta Z emparedada entre dos puertas X"
   ]
  },
  {
   "cell_type": "markdown",
   "id": "67aa0d14",
   "metadata": {},
   "source": [
    "#### 2.1.1 Implementación Matricial"
   ]
  },
  {
   "cell_type": "markdown",
   "id": "72e00cd7",
   "metadata": {},
   "source": [
    "Al final el algoritmo de amplificación de amplitud (**QAA**) es un caso particular del algoritmo de Groover por lo que todo lo aprendido para este algoritmo es fácilmnente aplicable a la amplificación de amplitud. \n",
    "\n",
    "El operador $\\hat{U}_{|\\Psi_{0}\\rangle}$ juega el mismo papel que el oráculo en el algoritmo de Grover. Cuando estudiamos dicho algoritmo este oráculo lo habíamos implementado a través de una operación matricial de una matriz identidad donde el elemento de la diagonal correspondiente al estado sobre el que se hacía la reflexión se cambiaba de signo. \n",
    "\n",
    "En el caso de la **QAA** nos podemos traer tal cual la puerta **Reflexion_Gate** basada en la función **Reflection** que se implementó durante el estido del Algoritmo de Grover. En este caso el estado sobre el que se hacía la reflexión era uno de los $2^{n}$ posibles estados de la base de medidas. En el caso de la **QAA** el estado sobre el que se hace la reflexión es:\n",
    "\n",
    "$$\\hat{U}_{|\\Psi_{0}\\rangle}= \\frac{1}{\\sqrt{1-a}}\\sum_{x=0}^{2^{n}-1}|x\\rangle_{n}\\otimes\\sqrt{p(x)(1-f(x))}|0\\rangle$$\n",
    "\n",
    "Es decir lo hacemos sobre un estado en el que el último qbit siempre es cero!!!\n",
    "\n",
    "Podemos no obstante aprovechar una puerta **U0** que utilicé en el Notebook: **04_QPA_Zalo** de cuando empecé a estudiar el algoritmo. Esta puerta se genera a partir de una matriz identidad en la que se cambian de 1 a -1 todos aquellos estados en los que el último qbit es cero!!!"
   ]
  },
  {
   "cell_type": "code",
   "execution_count": null,
   "id": "6048ba32",
   "metadata": {},
   "outputs": [],
   "source": [
    "from qat.lang.AQASM import AbstractGate\n",
    "def Uf0(n):\n",
    "    \"\"\"\n",
    "    Implementa una reflexion en torno al estado 0: I-2|w>|0><w|<0|\n",
    "    \"\"\"\n",
    "    #Matriz Identidad\n",
    "    Identity = np.identity(2**n)\n",
    "    #Creo 2|w>|1><w|<1|\n",
    "    #Matriz de ceros\n",
    "    #Zeroes = np.zeros([2**n, 2**n])\n",
    "    #Rellenos solo aquellos del tipo |w>|1>\n",
    "    for i in range(0, 2**n, 2):\n",
    "        Identity[i,i] = -1\n",
    "    return Identity#-Zeroes\n",
    "U0 = AbstractGate(\"U0\", [int], matrix_generator=Uf0, arity = lambda x: x)"
   ]
  },
  {
   "cell_type": "markdown",
   "id": "ee21b881",
   "metadata": {},
   "source": [
    "Para analizar detalladamente su comportamiento vamos a implementar dos versiones del circuito sin la reflexion y con la reflexión para ver lo que sucede"
   ]
  },
  {
   "cell_type": "code",
   "execution_count": null,
   "id": "d1861da9",
   "metadata": {},
   "outputs": [],
   "source": [
    "def DoCircuit(nqbits = 4, Reflexion = True):\n",
    "    from qat.lang.AQASM import Program\n",
    "    nbins = 2**nqbits\n",
    "    a = 0\n",
    "    b = 1\n",
    "    #Discretization for the function domain\n",
    "    centers, probs = get_histogram(p, a, b, nbins)\n",
    "    #Discretizated function to load \n",
    "    DiscretizedFunction = f(centers) \n",
    "\n",
    "    #Quantum Program\n",
    "    qprog = Program()\n",
    "    qbits = qprog.qalloc(nqbits+1)\n",
    "    #Create Probability loading gate\n",
    "    P_gate = CreatePG(probs)\n",
    "    qprog.apply(P_gate, qbits[:-1])\n",
    "    #Create Function loading gate\n",
    "    R_gate = CreateLoadFunctionGate(DiscretizedFunction)    \n",
    "    qprog.apply(R_gate, qbits)\n",
    "    if Reflexion:\n",
    "        qprog.apply(U0(nqbits+1), qbits)\n",
    "        \n",
    "\n",
    "    #Create the circuit from the program\n",
    "    circuit = qprog.to_circ()\n",
    "    job = circuit.to_job()\n",
    "    #Import and create the linear algebra simulator\n",
    "    linalgqpu = LinAlg()\n",
    "    #Submit the job to the simulator LinAlg and get the results\n",
    "    result = linalgqpu.submit(job)\n",
    "    QP = []\n",
    "    States = []\n",
    "    QA = []\n",
    "    #Print the results\n",
    "    for sample in result:\n",
    "        print(\"State %s probability %s amplitude %s\" % (sample.state, sample.probability, sample.amplitude))\n",
    "        QP.append(sample.probability)\n",
    "        States.append(str(sample.state))\n",
    "        QA.append(sample.amplitude)\n",
    "    QP = pd.Series(QP, name='Probability')  \n",
    "    States = pd.Series(States, name='States')  \n",
    "    QA = pd.Series(QA, name='Amplitude') \n",
    "    pdf = pd.concat([States, QP, QA], axis=1)\n",
    "    return pdf, circuit"
   ]
  },
  {
   "cell_type": "markdown",
   "id": "c3f9dbed",
   "metadata": {},
   "source": [
    "#### No implementamos Reflexion"
   ]
  },
  {
   "cell_type": "code",
   "execution_count": null,
   "id": "bee1cd76",
   "metadata": {},
   "outputs": [],
   "source": [
    "pdfNotReflexion, circuitNR = DoCircuit(Reflexion=False)"
   ]
  },
  {
   "cell_type": "code",
   "execution_count": null,
   "id": "1de637d8",
   "metadata": {},
   "outputs": [],
   "source": [
    "%qatdisplay circuitNR"
   ]
  },
  {
   "cell_type": "markdown",
   "id": "e0273d11",
   "metadata": {},
   "source": [
    "#### Implementamos Reflexion"
   ]
  },
  {
   "cell_type": "code",
   "execution_count": null,
   "id": "602da192",
   "metadata": {},
   "outputs": [],
   "source": [
    "pdfReflexion, circuitR = DoCircuit()"
   ]
  },
  {
   "cell_type": "code",
   "execution_count": null,
   "id": "c42020f9",
   "metadata": {
    "scrolled": true
   },
   "outputs": [],
   "source": [
    "%qatdisplay circuitR"
   ]
  },
  {
   "cell_type": "markdown",
   "id": "ecea6c9c",
   "metadata": {},
   "source": [
    "Según el razonamiento téorico si aplicamos la reflexión el circuito resultante debe verificar:\n",
    "\n",
    "1. Los estados con el último qbit igual a 0 ($|x\\rangle\\otimes|0\\rangle$ ) deben tener las amplitudes con el signo cambiado con respecto al circuito **sin la reflexión**\n",
    "2. Los estados con el último qbit igual a 1 ($|x\\rangle\\otimes|1\\rangle$ ) deben tener las amplitudes con el iguales con respecto al circuito **sin la reflexión**"
   ]
  },
  {
   "cell_type": "code",
   "execution_count": null,
   "id": "dbb131a3",
   "metadata": {},
   "outputs": [],
   "source": [
    "#Signo Cambiado\n",
    "States0_NR = pdfNotReflexion[pdfNotReflexion['States'].str.extract(r'(\\d)>')[0] == '0']\n",
    "States0_R = pdfReflexion[pdfReflexion['States'].str.extract(r'(\\d)>')[0] == '0']\n",
    "print(np.isclose(States0_NR['Amplitude'], -States0_R['Amplitude']))\n",
    "print(np.isclose(States0_NR['Amplitude'], -States0_R['Amplitude']).all())"
   ]
  },
  {
   "cell_type": "code",
   "execution_count": null,
   "id": "76fc3701",
   "metadata": {},
   "outputs": [],
   "source": [
    "#Signo Cambiado\n",
    "States1_NR = pdfNotReflexion[pdfNotReflexion['States'].str.extract(r'(\\d)>')[0] == '1']\n",
    "States1_R = pdfReflexion[pdfReflexion['States'].str.extract(r'(\\d)>')[0] == '1']\n",
    "\n",
    "print(np.isclose(States1_NR['Amplitude'], States1_R['Amplitude']))\n",
    "print(np.isclose(States1_NR['Amplitude'], States1_R['Amplitude']).all())"
   ]
  },
  {
   "cell_type": "markdown",
   "id": "e9f56dbf",
   "metadata": {},
   "source": [
    "#### 2.1.2 Implementación Circuital\n",
    "\n",
    "Para realizar la implementación circuital vamos a utilzar la siguiente expresión como base:\n",
    "\n",
    "$$\\hat{U}_{|\\Psi_{0}\\rangle } = \\hat{I} - 2|\\Psi_{0}\\rangle \\langle \\Psi_{0}|=(\\hat{I_{n}}\\otimes X)(\\hat{I_{n}}\\otimes Z)(\\hat{I_{n}}\\otimes X)$$"
   ]
  },
  {
   "cell_type": "code",
   "execution_count": null,
   "id": "8f50880e",
   "metadata": {},
   "outputs": [],
   "source": [
    "from qat.lang.AQASM import AbstractGate, QRoutine, X, Z\n",
    "def Reflexion_generator(N):\n",
    "    \"\"\"\n",
    "    Implementa una reflexion en torno al estado |\\Phi_0>: I-2|\\Phi_0><Phi_0|\n",
    "    \"\"\"\n",
    "    qrout = QRoutine()\n",
    "    qbits = qrout.new_wires(N)\n",
    "    qrout.apply(X, qbits[-1])\n",
    "    qrout.apply(Z, qbits[-1])\n",
    "    qrout.apply(X, qbits[-1])\n",
    "    \n",
    "    return qrout#-Zeroes\n",
    "Phi_0 = AbstractGate(\"Phi_0\", [int])\n",
    "Phi_0.set_circuit_generator(Reflexion_generator)"
   ]
  },
  {
   "cell_type": "code",
   "execution_count": null,
   "id": "1ba2dab6",
   "metadata": {},
   "outputs": [],
   "source": [
    "def DoCircuit(nqbits = 4, Reflexion = True):\n",
    "    from qat.lang.AQASM import Program\n",
    "    nbins = 2**nqbits\n",
    "    a = 0\n",
    "    b = 1\n",
    "    #Discretization for the function domain\n",
    "    centers, probs = get_histogram(p, a, b, nbins)\n",
    "    #Discretizated function to load \n",
    "    DiscretizedFunction = f(centers) \n",
    "\n",
    "    #Quantum Program\n",
    "    qprog = Program()\n",
    "    qbits = qprog.qalloc(nqbits+1)\n",
    "    #Create Probability loading gate\n",
    "    P_gate = CreatePG(probs)\n",
    "    qprog.apply(P_gate, qbits[:-1])\n",
    "    #Create Function loading gate\n",
    "    R_gate = CreateLoadFunctionGate(DiscretizedFunction)    \n",
    "    qprog.apply(R_gate, qbits)\n",
    "    if Reflexion:\n",
    "        qprog.apply(Phi_0(nqbits+1), qbits)\n",
    "        \n",
    "\n",
    "    #Create the circuit from the program\n",
    "    circuit = qprog.to_circ()\n",
    "    job = circuit.to_job()\n",
    "    #Import and create the linear algebra simulator\n",
    "    linalgqpu = LinAlg()\n",
    "    #Submit the job to the simulator LinAlg and get the results\n",
    "    result = linalgqpu.submit(job)\n",
    "    QP = []\n",
    "    States = []\n",
    "    QA = []\n",
    "    #Print the results\n",
    "    for sample in result:\n",
    "        #print(\"State %s probability %s amplitude %s\" % (sample.state, sample.probability, sample.amplitude))\n",
    "        QP.append(sample.probability)\n",
    "        States.append(str(sample.state))\n",
    "        QA.append(sample.amplitude)\n",
    "    QP = pd.Series(QP, name='Probability')  \n",
    "    States = pd.Series(States, name='States')  \n",
    "    QA = pd.Series(QA, name='Amplitude') \n",
    "    pdf = pd.concat([States, QP, QA], axis=1)\n",
    "    return pdf, circuit"
   ]
  },
  {
   "cell_type": "code",
   "execution_count": null,
   "id": "18ab88cb",
   "metadata": {},
   "outputs": [],
   "source": [
    "pdfNotReflexion, circuitNR = DoCircuit(Reflexion=False)\n",
    "pdfReflexion, circuitR = DoCircuit()"
   ]
  },
  {
   "cell_type": "code",
   "execution_count": null,
   "id": "761fc27d",
   "metadata": {},
   "outputs": [],
   "source": [
    "%qatdisplay circuitR"
   ]
  },
  {
   "cell_type": "code",
   "execution_count": null,
   "id": "99bf75f1",
   "metadata": {},
   "outputs": [],
   "source": [
    "%qatdisplay circuitNR"
   ]
  },
  {
   "cell_type": "code",
   "execution_count": null,
   "id": "7077cb3d",
   "metadata": {
    "scrolled": true
   },
   "outputs": [],
   "source": [
    "pdfReflexion"
   ]
  },
  {
   "cell_type": "code",
   "execution_count": null,
   "id": "670ba546",
   "metadata": {},
   "outputs": [],
   "source": [
    "#Signo Cambiado\n",
    "States0_NR = pdfNotReflexion[pdfNotReflexion['States'].str.extract(r'(\\d)>')[0] == '0']\n",
    "States0_R = pdfReflexion[pdfReflexion['States'].str.extract(r'(\\d)>')[0] == '0']\n",
    "print(np.isclose(States0_NR['Amplitude'], -States0_R['Amplitude']))\n",
    "print(np.isclose(States0_NR['Amplitude'], -States0_R['Amplitude']).all())"
   ]
  },
  {
   "cell_type": "code",
   "execution_count": null,
   "id": "55e4f7f1",
   "metadata": {},
   "outputs": [],
   "source": [
    "#Signo Cambiado\n",
    "States1_NR = pdfNotReflexion[pdfNotReflexion['States'].str.extract(r'(\\d)>')[0] == '1']\n",
    "States1_R = pdfReflexion[pdfReflexion['States'].str.extract(r'(\\d)>')[0] == '1']\n",
    "\n",
    "print(np.isclose(States1_NR['Amplitude'], States1_R['Amplitude']))\n",
    "print(np.isclose(States1_NR['Amplitude'], States1_R['Amplitude']).all())"
   ]
  },
  {
   "cell_type": "markdown",
   "id": "1b032f22",
   "metadata": {},
   "source": [
    "### 2.2 Operador $\\hat{U}_{|\\Psi_{2}\\rangle}$"
   ]
  },
  {
   "cell_type": "markdown",
   "id": "f61c8790",
   "metadata": {},
   "source": [
    "El operador $\\hat{U}_{|\\Psi_{2}\\rangle}$ se basa en el operador difusor de Groover.\n",
    "\n",
    "En el **algoritmo de Groover** el estado de partida era una superposición equiprobable de los autoestados:\n",
    "\n",
    "$$\\Psi = H^{\\otimes n} |0\\rangle_{n}$$ y el difusor se definía como:\n",
    "\n",
    "$$\\hat{D} = \\hat{I}-2|\\Psi \\rangle \\langle \\Psi| = H^{\\otimes n}(\\hat{I}-2|0\\rangle\n",
    "\\langle0|)H^{\\otimes n}$$\n",
    "\n",
    "Donde $$\\hat{D}_{0} = \\hat{I}-2|0\\rangle \\langle0|$$\n",
    "\n",
    "Es una reflexión en torno al estado perpendicular al estado $|0\\rangle_{n}$\n",
    "\n",
    "En el caso de la amplificación de amplitud el operador $\\hat{U}_{|\\Psi_{2}\\rangle}$:\n",
    "\n",
    "$$\\hat{U}_{|\\Psi_{2}\\rangle } = \\hat{I} - 2|\\Psi_{2}\\rangle \\langle \\Psi_{2}|$$\n",
    "\n",
    "lo podemos obtener de un modo similar al difusor de Groover si tenemos en cuenta que\n",
    "\n",
    "$$|\\Psi_{2}\\rangle_{n+1}=\\hat{R_{n+1}}\\hat{P_{n}}|0\\rangle_{n+1}$$\n",
    "\n",
    "Y como $\\hat{R_{n+1}}$, $\\hat{P_{n}}$ son dos operadores unitarios:\n",
    "\n",
    "\n",
    "Lo podemos poner como: \n",
    "$$\\hat{U}_{|\\Psi_{2}\\rangle } =\\hat{R_{n+1}}\\hat{P_{n}}\\hat{D}_{0} \\hat{P_{n}}^{\\dagger} \\hat{R_{n+1}}^{\\dagger}$$\n",
    "\n",
    "Necesitamos implementar: \n",
    "\n",
    "$$\\hat{D}_{0} = \\hat{I}-2|0\\rangle \\langle0|$$\n"
   ]
  },
  {
   "cell_type": "markdown",
   "id": "fe3433a3",
   "metadata": {},
   "source": [
    "#### 2.2.1 Implementación Matricial $\\hat{D}_{0}$"
   ]
  },
  {
   "cell_type": "markdown",
   "id": "6e9a11f8",
   "metadata": {},
   "source": [
    "La implementación matricial del Operador $\\hat{D}_{0}$:\n",
    "\n",
    "$$\\hat{D}_{0} = \\hat{I}-2|0\\rangle \\langle0|$$\n",
    "\n",
    "la tenemos de cuando estudiamos el algoritmo de Groover."
   ]
  },
  {
   "cell_type": "code",
   "execution_count": null,
   "id": "6a2fb229",
   "metadata": {},
   "outputs": [],
   "source": [
    "from qat.lang.AQASM import AbstractGate\n",
    "def Reflection(n, state, Positive=True):\n",
    "    \"\"\"\n",
    "    Implementa una matriz de reflexion de dimensión n en torno a un estado dado.\n",
    "    Positive:\n",
    "        * True: I-2|w><w|\n",
    "        * False: 2|w><w|-I\n",
    "    \"\"\"\n",
    "    #Matriz Identidad\n",
    "    Identity = np.identity(2**n)\n",
    "    Identity[state, state] =-1\n",
    "    if Positive:\n",
    "        return Identity\n",
    "    else:\n",
    "        return -Identity\n",
    "#Creo una puerta utilizando el circuito    \n",
    "Reflexion_Gate = AbstractGate(\n",
    "    \"Reflexion\", \n",
    "    [int, int, bool], \n",
    "    matrix_generator=Reflection,\n",
    "    arity = lambda x, y, z: x\n",
    ")"
   ]
  },
  {
   "cell_type": "code",
   "execution_count": null,
   "id": "c88b492a",
   "metadata": {},
   "outputs": [],
   "source": [
    "def DoCircuit(nqbits = 4, Reflexion = True):\n",
    "    from qat.lang.AQASM import Program\n",
    "    nbins = 2**nqbits\n",
    "    a = 0\n",
    "    b = 1\n",
    "    #Discretization for the function domain\n",
    "    centers, probs = get_histogram(p, a, b, nbins)\n",
    "    #Discretizated function to load \n",
    "    DiscretizedFunction = f(centers) \n",
    "\n",
    "    #Quantum Program\n",
    "    qprog = Program()\n",
    "    qbits = qprog.qalloc(nqbits+1)\n",
    "    #Create Probability loading gate\n",
    "    P_gate = CreatePG(probs)\n",
    "    qprog.apply(P_gate, qbits[:-1])\n",
    "    #Create Function loading gate\n",
    "    R_gate = CreateLoadFunctionGate(DiscretizedFunction)    \n",
    "    qprog.apply(R_gate, qbits)\n",
    "    if Reflexion:\n",
    "        qprog.apply(Reflexion_Gate(nqbits+1, 0, True), qbits)\n",
    "        \n",
    "\n",
    "    #Create the circuit from the program\n",
    "    circuit = qprog.to_circ()\n",
    "    job = circuit.to_job()\n",
    "    #Import and create the linear algebra simulator\n",
    "    linalgqpu = LinAlg()\n",
    "    #Submit the job to the simulator LinAlg and get the results\n",
    "    result = linalgqpu.submit(job)\n",
    "    QP = []\n",
    "    States = []\n",
    "    QA = []\n",
    "    #Print the results\n",
    "    for sample in result:\n",
    "        print(\"State %s probability %s amplitude %s\" % (sample.state, sample.probability, sample.amplitude))\n",
    "        QP.append(sample.probability)\n",
    "        States.append(str(sample.state))\n",
    "        QA.append(sample.amplitude)\n",
    "    QP = pd.Series(QP, name='Probability')  \n",
    "    States = pd.Series(States, name='States')  \n",
    "    QA = pd.Series(QA, name='Amplitude') \n",
    "    pdf = pd.concat([States, QP, QA], axis=1)\n",
    "    return pdf, circuit"
   ]
  },
  {
   "cell_type": "code",
   "execution_count": null,
   "id": "946b4bd7",
   "metadata": {},
   "outputs": [],
   "source": [
    "pdfNotReflexion, circuitNR = DoCircuit(Reflexion=False)\n",
    "pdfReflexion, circuitR = DoCircuit()"
   ]
  },
  {
   "cell_type": "code",
   "execution_count": null,
   "id": "057944e9",
   "metadata": {},
   "outputs": [],
   "source": [
    "%qatdisplay circuitR"
   ]
  },
  {
   "cell_type": "code",
   "execution_count": null,
   "id": "2dd34154",
   "metadata": {
    "scrolled": true
   },
   "outputs": [],
   "source": [
    "%qatdisplay circuitNR"
   ]
  },
  {
   "cell_type": "markdown",
   "id": "6a22fb62",
   "metadata": {},
   "source": [
    "En este caso solo hacemos una reflexion en torno al estado $|0\\rangle$ por lo que la diferencia entre ambos estados estará en este autoestado cuya amplitud tiene que se opueesta en el caso del circuito que tiene la reflexión"
   ]
  },
  {
   "cell_type": "code",
   "execution_count": null,
   "id": "d78e6058",
   "metadata": {},
   "outputs": [],
   "source": [
    "print('Las amplitudes del estado |0> son opuestas: {}'.format(\n",
    "    pdfNotReflexion.loc[0]['Amplitude'] == - pdfReflexion.loc[0]['Amplitude']\n",
    "))\n",
    "print('Las amplitudes de los estados distintos de |0> son iguales: {}'.format(\n",
    "    all(pdfNotReflexion[1:]['Amplitude'] == pdfReflexion[1:]['Amplitude'])\n",
    "))"
   ]
  },
  {
   "cell_type": "markdown",
   "id": "aec01575",
   "metadata": {},
   "source": [
    "#### 2.2.2 Implementación Circuital $\\hat{D}_{0}$"
   ]
  },
  {
   "cell_type": "markdown",
   "id": "08f38be8",
   "metadata": {},
   "source": [
    "Se puede demostrar que la implementación Circuital del Operador $\\hat{D}_{0}$ es:\n",
    "\n",
    "$$\\hat{D}_{0} = \\hat{I}-2|0\\rangle \\langle0|= \\hat{X}^{\\otimes n} c^{n-1}Z \\hat{X}^{\\otimes n}$$\n",
    "\n",
    "donde $c^{n-1}Z$ es una puerta Z controlada por los **n-1** qbits sobre el qbit **n-esimo**\n",
    "\n",
    "Vamos a demostrar esto:\n",
    "\n",
    "Partimos de un estado de **n-qbits** genéricos: $|\\Psi_{0}\\rangle = |q_{0}q_{1}...q_{n}\\rangle$ donde \n",
    "$|q_i>=a_i|0\\rangle+b_i|1\\rangle$\n",
    "\n",
    "Si desarrollamos los productos del estado inicial:\n",
    "\n",
    "\n",
    "$$|q_{0}q_{1}...q_{n}\\rangle = a_0a_1...a_{n-1}a_n|0\\rangle_{n} \\;+\\;  a_0a_1...a_{n-1}b_n|0\\rangle_{n-1}|1\\rangle_{1}\\; + \\; ...$$\n",
    "\n",
    "Donde los puntos suspensivos indican todos los desarrollos del producto que no nos interesan\n",
    "\n",
    "\n",
    "Aplicamos $\\hat{X}^{\\otimes n}$:\n",
    "\n",
    "$$\\hat{X}^{\\otimes n}|q_{0}q_{1}...q_{n}\\rangle = \\prod_{i=0}^{n} \\hat{X} |q_i\\rangle = \\prod_{i=0}^{n} \\hat{X}(a_i|0\\rangle+b_i|1\\rangle) =\\prod_{i=0}^{n} (a_i\\hat{X}|0\\rangle+b_i\\hat{X}|1\\rangle)= \\prod_{i=0}^{n} (a_i|1\\rangle+b_i|0\\rangle)$$\n",
    "\n",
    "A continuación aplicamos la puerta Z controlada:\n",
    "$$c^{n-1}Z \\hat{X}^{\\otimes n}|q_{0}q_{1}...q_{n}\\rangle =  c^{n-1}\\hat{Z}\\prod_{i=0}^{n}(a_i|1\\rangle+b_i|0\\rangle)$$\n",
    "\n",
    "La puerta controlada Z está controlada por lo n-1 primeros qbits y solo se aplicará cuando los **n-1** qbits sean $|1\\rangle$. En todos los demás casos **NO** se aplicará: es decir:\n",
    "\n",
    "$$c^{n-1}Z \\hat{X}^{\\otimes n}|q_{0}q_{1}...q_{n}\\rangle = |a_0a_1...a_{n-1}|1\\rangle_{n-1}(a_nZ|1\\rangle+b_nZ|0\\rangle) + \\; ...$$\n",
    "$$=a_0a_1...a_{n-1}|1\\rangle_{n-1}(-a_n|1\\rangle+b_n|0\\rangle) + \\; ...$$\n",
    "$$ = - a_0a_1...a_{n-1}a_n|1\\rangle_{n} \\; + \\; a_0a_1...a_{n-1}b_{n}|1\\rangle_{n-1}|0\\rangle \\; + ... $$\n",
    "\n",
    "Donde los puntos suspensivos representan estados que no se van a ver afectados por la aplicación controlada de la puerta Z. Además hemos usado que: $\\hat{Z}|0\\rangle = |0\\rangle$ y $\\hat{Z}|1\\rangle = -|1\\rangle$\n",
    "\n",
    "\n",
    "Si ahora volvemos a aplicar la puerta $\\hat{X}^{\\otimes n}$:\n",
    "\n",
    "$$\\hat{X}^{\\otimes n}c^{n-1}Z \\hat{X}^{\\otimes n}|q_{0}q_{1}...q_{n}\\rangle = - a_0a_1...a_{n-1}a_n\\hat{X}^{\\otimes n}|1\\rangle_{n} \\; + \\; a_0a_1...a_{n-1}b_{n}\\hat{X}^{\\otimes n-1}|1\\rangle_{n-1}\\hat{X}|0\\rangle \\; + ...$$\n",
    "$$=- a_0a_1...a_{n-1}a_n|0\\rangle_{n} \\; + a_0a_1...a_{n-1}b_{n}|0\\rangle_{n-1}|1\\rangle+\\; ...$$\n",
    "\n",
    "Así pues la única diferencia entre: $|q_{0}q_{1}...q_{n}\\rangle$ y $\\hat{X}^{\\otimes n}c^{n-1}Z \\hat{X}^{\\otimes n}|q_{0}q_{1}...q_{n}\\rangle$ es que la componente $|0\\rangle_{n}$ cambia de signo (todas las demas componentes son exactamente la misma). Es decir una reflexión en torno al estado $|0\\rangle_{n}$"
   ]
  },
  {
   "cell_type": "code",
   "execution_count": null,
   "id": "9d663521",
   "metadata": {},
   "outputs": [],
   "source": [
    "from qat.lang.AQASM import AbstractGate, QRoutine, X, Z\n",
    "def Reflexion_generator0(N):\n",
    "    \"\"\"\n",
    "    Implementa una reflexion en torno al estado 0: I-2|0><0|\n",
    "    \"\"\"\n",
    "    qrout = QRoutine()\n",
    "    qbits = qrout.new_wires(N)\n",
    "    for i in range(N):\n",
    "        qrout.apply(X, qbits[i])\n",
    "    #Controlled Z gate by n-1 first qbits\n",
    "    cZ = 'Z'+ '.ctrl()'*(len(qbits)-1)\n",
    "    qrout.apply(eval(cZ), qbits[:-1], qbits[-1])\n",
    "    for i in range(N):\n",
    "        qrout.apply(X, qbits[i])\n",
    "    \n",
    "    return qrout#-Zeroes\n",
    "D_0 = AbstractGate(\"D_0\", [int])\n",
    "D_0.set_circuit_generator(Reflexion_generator0)"
   ]
  },
  {
   "cell_type": "code",
   "execution_count": null,
   "id": "b995b1c7",
   "metadata": {},
   "outputs": [],
   "source": [
    "def DoCircuit(nqbits = 4, Reflexion = True):\n",
    "    from qat.lang.AQASM import Program\n",
    "    nbins = 2**nqbits\n",
    "    a = 0\n",
    "    b = 1\n",
    "    #Discretization for the function domain\n",
    "    centers, probs = get_histogram(p, a, b, nbins)\n",
    "    #Discretizated function to load \n",
    "    DiscretizedFunction = f(centers) \n",
    "\n",
    "    #Quantum Program\n",
    "    qprog = Program()\n",
    "    qbits = qprog.qalloc(nqbits+1)\n",
    "    #Create Probability loading gate\n",
    "    P_gate = CreatePG(probs)\n",
    "    qprog.apply(P_gate, qbits[:-1])\n",
    "    #Create Function loading gate\n",
    "    R_gate = CreateLoadFunctionGate(DiscretizedFunction)    \n",
    "    qprog.apply(R_gate, qbits)\n",
    "    if Reflexion:\n",
    "        qprog.apply(D_0(nqbits+1), qbits)\n",
    "\n",
    "    #Create the circuit from the program\n",
    "    circuit = qprog.to_circ()\n",
    "    job = circuit.to_job()\n",
    "    #Import and create the linear algebra simulator\n",
    "    linalgqpu = LinAlg()\n",
    "    #Submit the job to the simulator LinAlg and get the results\n",
    "    result = linalgqpu.submit(job)\n",
    "    QP = []\n",
    "    States = []\n",
    "    QA = []\n",
    "    #Print the results\n",
    "    for sample in result:\n",
    "        #print(\"State %s probability %s amplitude %s\" % (sample.state, sample.probability, sample.amplitude))\n",
    "        QP.append(sample.probability)\n",
    "        States.append(str(sample.state))\n",
    "        QA.append(sample.amplitude)\n",
    "    QP = pd.Series(QP, name='Probability')  \n",
    "    States = pd.Series(States, name='States')  \n",
    "    QA = pd.Series(QA, name='Amplitude') \n",
    "    pdf = pd.concat([States, QP, QA], axis=1)\n",
    "    return pdf, circuit"
   ]
  },
  {
   "cell_type": "code",
   "execution_count": null,
   "id": "07e07575",
   "metadata": {},
   "outputs": [],
   "source": [
    "pdfNotReflexion, circuitNR = DoCircuit(Reflexion=False)\n",
    "pdfReflexion, circuitR = DoCircuit()"
   ]
  },
  {
   "cell_type": "code",
   "execution_count": null,
   "id": "a56222d1",
   "metadata": {},
   "outputs": [],
   "source": [
    "%qatdisplay circuitR --depth 0"
   ]
  },
  {
   "cell_type": "code",
   "execution_count": null,
   "id": "ec901321",
   "metadata": {
    "scrolled": true
   },
   "outputs": [],
   "source": [
    "%qatdisplay circuitNR --depth 0"
   ]
  },
  {
   "cell_type": "code",
   "execution_count": null,
   "id": "699b0afd",
   "metadata": {},
   "outputs": [],
   "source": [
    "print('Las amplitudes del estado |0> son opuestas: {}'.format(\n",
    "    pdfNotReflexion.loc[0]['Amplitude'] == - pdfReflexion.loc[0]['Amplitude']\n",
    "))\n",
    "print('Las amplitudes de los estados distintos de |0> son iguales: {}'.format(\n",
    "    all(pdfNotReflexion[1:]['Amplitude'] == pdfReflexion[1:]['Amplitude'])\n",
    "))"
   ]
  },
  {
   "cell_type": "code",
   "execution_count": null,
   "id": "886732b5",
   "metadata": {
    "scrolled": true
   },
   "outputs": [],
   "source": [
    "pdfNotReflexion"
   ]
  },
  {
   "cell_type": "code",
   "execution_count": null,
   "id": "c5b8da5f",
   "metadata": {},
   "outputs": [],
   "source": [
    "pdfReflexion"
   ]
  },
  {
   "cell_type": "markdown",
   "id": "4e19e3ad",
   "metadata": {},
   "source": [
    "El Notebook se me hace muy grande. Continuo en el siguiente"
   ]
  },
  {
   "cell_type": "markdown",
   "id": "284cb693",
   "metadata": {},
   "source": [
    "#### 2.2.3 Implementación Circuital $\\hat{U}_{|\\Psi_2}$"
   ]
  },
  {
   "cell_type": "markdown",
   "id": "0cd66358",
   "metadata": {},
   "source": [
    "Nos queda implementar el Difusor:\n",
    "$$\\hat{U}_{|\\Psi_{2}\\rangle } = \\hat{I} - 2|\\Psi_{2}\\rangle \\langle \\Psi_{2}|$$\n",
    "\n",
    "Como ya tenemos implementado\n",
    "\n",
    "$$\\hat{D}_{0} = \\hat{I}-2|0\\rangle \\langle0|$$\n",
    "\n",
    "y sabemos que:\n",
    "\n",
    "$$|\\Psi_{2}\\rangle_{n+1}=\\hat{R_{n+1}}\\hat{P_{n}}|0\\rangle_{n+1}$$\n",
    "\n",
    "La forma rápida de implementar el operador Difusor: $\\hat{U}_{|\\Psi_{2}\\rangle }$\n",
    "\n",
    "$$\\hat{U}_{|\\Psi_2\\rangle} = \\hat{R_{n+1}}\\hat{P_{n}}\\hat{D}_{0} \\hat{P_{n}}^{\\dagger} \\hat{R_{n+1}}^{\\dagger}$$\n",
    "\n",
    "Este operador se puede interpretar como una reflexión en torno al estado perpendicular a $|\\Psi_{2}\\rangle$\n"
   ]
  },
  {
   "cell_type": "code",
   "execution_count": null,
   "id": "d6012aa4",
   "metadata": {},
   "outputs": [],
   "source": [
    "def LoadDifusorGate(N, ProbabilityArray, FunctionArray):\n",
    "    from dataloading_module import  CreateLoadFunctionGate, CreatePG\n",
    "    P_gate = CreatePG(ProbabilityArray)\n",
    "    R_gate = CreateLoadFunctionGate(FunctionArray)\n",
    "    def Difusor(nqbits):\n",
    "        qrout = QRoutine()\n",
    "        qbits = qrout.new_wires(nqbits)\n",
    "        qrout.apply(R_gate.dag(), qbits)\n",
    "        qrout.apply(P_gate.dag(), qbits[:-1])\n",
    "        qrout.apply(D_0(nqbits), qbits)\n",
    "        qrout.apply(P_gate, qbits[:-1])\n",
    "        qrout.apply(R_gate, qbits)\n",
    "        return qrout\n",
    "    UPhi_2 = AbstractGate(\"UPhi_2\", [int])\n",
    "    UPhi_2.set_circuit_generator(Difusor)\n",
    "    return UPhi_2(N)"
   ]
  },
  {
   "cell_type": "code",
   "execution_count": null,
   "id": "730c1d52",
   "metadata": {},
   "outputs": [],
   "source": [
    "def DoCircuit(nqbits = 4, Reflexion = True):\n",
    "    from qat.lang.AQASM import Program\n",
    "    nbins = 2**nqbits\n",
    "    a = 0\n",
    "    b = 1\n",
    "    #Discretization for the function domain\n",
    "    centers, probs = get_histogram(p, a, b, nbins)\n",
    "    #Create Probability loading gate\n",
    "    P_gate = CreatePG(probs)     \n",
    "    #Discretizated function to load \n",
    "    DiscretizedFunction = f(centers) \n",
    "    #Create Function loading gate\n",
    "    R_gate = CreateLoadFunctionGate(DiscretizedFunction)   \n",
    "    #Difusor\n",
    "    D_gate = LoadDifusorGate(nqbits+1, probs, DiscretizedFunction)\n",
    "\n",
    "    #Quantum Program\n",
    "    qprog = Program()\n",
    "    qbits = qprog.qalloc(nqbits+1)\n",
    "    qprog.apply(P_gate, qbits[:-1])\n",
    "    qprog.apply(R_gate, qbits)\n",
    "    if Reflexion:\n",
    "        qprog.apply(D_gate, qbits)\n",
    "    \n",
    "    #Create the circuit from the program\n",
    "    circuit = qprog.to_circ()\n",
    "    job = circuit.to_job()\n",
    "    #Import and create the linear algebra simulator\n",
    "    linalgqpu = LinAlg()\n",
    "    #Submit the job to the simulator LinAlg and get the results\n",
    "    result = linalgqpu.submit(job)\n",
    "    QP = []\n",
    "    States = []\n",
    "    QA = []\n",
    "    #Print the results\n",
    "    for sample in result:\n",
    "        #print(\"State %s probability %s amplitude %s\" % (sample.state, sample.probability, sample.amplitude))\n",
    "        QP.append(sample.probability)\n",
    "        States.append(str(sample.state))\n",
    "        QA.append(sample.amplitude)\n",
    "    QP = pd.Series(QP, name='Probability')  \n",
    "    States = pd.Series(States, name='States')  \n",
    "    QA = pd.Series(QA, name='Amplitude') \n",
    "    pdf = pd.concat([States, QP, QA], axis=1)\n",
    "    return pdf, circuit"
   ]
  },
  {
   "cell_type": "code",
   "execution_count": null,
   "id": "e97a4f05",
   "metadata": {},
   "outputs": [],
   "source": [
    "pdfNotReflexion, circuitNR = DoCircuit(Reflexion=False)\n",
    "pdfReflexion, circuitR = DoCircuit()"
   ]
  },
  {
   "cell_type": "code",
   "execution_count": null,
   "id": "729b0258",
   "metadata": {
    "scrolled": true
   },
   "outputs": [],
   "source": [
    "%qatdisplay circuitNR --depth 0"
   ]
  },
  {
   "cell_type": "code",
   "execution_count": null,
   "id": "1addaefe",
   "metadata": {
    "scrolled": true
   },
   "outputs": [],
   "source": [
    "pdfReflexion"
   ]
  },
  {
   "cell_type": "code",
   "execution_count": null,
   "id": "cfdeea9f",
   "metadata": {},
   "outputs": [],
   "source": [
    "pdfNotReflexion"
   ]
  },
  {
   "cell_type": "code",
   "execution_count": null,
   "id": "994fea7d",
   "metadata": {
    "scrolled": true
   },
   "outputs": [],
   "source": [
    "%qatdisplay circuitR --depth 0"
   ]
  },
  {
   "cell_type": "markdown",
   "id": "486ad779",
   "metadata": {},
   "source": [
    "Cabe destacar que:\n",
    "$$\\hat{U}_{|\\Psi_{2}\\rangle } |\\Psi_{2}\\rangle = (\\hat{I} - 2|\\Psi_{2}\\rangle \\langle\\Psi_{2}|)|\\Psi_{2}\\rangle=-|\\Psi_{2}\\rangle$$\n",
    "\n",
    "Esto lo podemos utilizar para verificar que hemos implementado bien la puerta"
   ]
  },
  {
   "cell_type": "code",
   "execution_count": null,
   "id": "7f02ca5c",
   "metadata": {},
   "outputs": [],
   "source": [
    "print('Si aplicamos el Difusor sobre \\Psi_2 obtenemos -\\Psi_2: {}'.format(\n",
    "    np.isclose(pdfReflexion['Amplitude'], -pdfNotReflexion['Amplitude']).all()\n",
    "))"
   ]
  },
  {
   "cell_type": "code",
   "execution_count": null,
   "id": "207ca694",
   "metadata": {},
   "outputs": [],
   "source": []
  }
 ],
 "metadata": {
  "kernelspec": {
   "display_name": "Python 3 (ipykernel)",
   "language": "python",
   "name": "python3"
  },
  "language_info": {
   "codemirror_mode": {
    "name": "ipython",
    "version": 3
   },
   "file_extension": ".py",
   "mimetype": "text/x-python",
   "name": "python",
   "nbconvert_exporter": "python",
   "pygments_lexer": "ipython3",
   "version": "3.9.2"
  }
 },
 "nbformat": 4,
 "nbformat_minor": 5
}
