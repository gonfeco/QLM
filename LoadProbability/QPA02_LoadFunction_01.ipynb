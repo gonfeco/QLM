{
 "cells": [
  {
   "cell_type": "code",
   "execution_count": null,
   "id": "dc08ba77",
   "metadata": {},
   "outputs": [],
   "source": [
    "from IPython.core.display import display, HTML\n",
    "display(HTML(\"<style>.container { width:100% !important; }</style>\"))"
   ]
  },
  {
   "cell_type": "code",
   "execution_count": null,
   "id": "1e4e283a",
   "metadata": {},
   "outputs": [],
   "source": [
    "#QPU connection\n",
    "try:\n",
    "    from qat.qlmaas import QLMaaSConnection\n",
    "    connection = QLMaaSConnection()\n",
    "    LinAlg = connection.get_qpu(\"qat.qpus:LinAlg\")\n",
    "    lineal_qpu = LinAlg()\n",
    "except ImportError:\n",
    "    from qat.qpus import PyLinalg\n",
    "    lineal_qpu = PyLinalg()"
   ]
  },
  {
   "cell_type": "code",
   "execution_count": null,
   "id": "7e0b2e8c",
   "metadata": {},
   "outputs": [],
   "source": [
    "    from qat.qpus import PyLinalg\n",
    "    lineal_qpu = PyLinalg()"
   ]
  },
  {
   "cell_type": "markdown",
   "id": "9430e92c",
   "metadata": {},
   "source": [
    "# Carga de Función en un estado cuántico."
   ]
  },
  {
   "cell_type": "markdown",
   "id": "ba255f53",
   "metadata": {},
   "source": [
    "En este caso partiendo de un estado $|x\\rangle_{n}\\otimes|0\\rangle_{1}$  aplicamos la siguiente transformación:\n",
    "\n",
    "$$|x\\rangle_{n}\\hat{R}_{y}(2\\theta_{x})|0\\rangle_{1}$$\n",
    "$$|x\\rangle_{n}\\otimes(\\cos{\\theta_{x}}|0\\rangle_{1} + \\sin{\\theta_{x}}|1\\rangle_{1})$$\n",
    "\n",
    "Donde $$\\theta_{x}=\\arccos{\\sqrt{f(x)}}$$\n",
    "\n",
    "Siendo $f(x)$ la función que queremos cargar en el estado cuántico. Esta función tiene que estar correctamente discretizada.\n",
    "\n",
    "La idea es generar en n qbits una superposición de estados y aplicar las transformación anterior:\n",
    "\n",
    "Es decir partimos de \n",
    "\n",
    "$$|\\Psi\\rangle_{n}\\otimes |0\\rangle_{1} = \\frac{1}{2^{n/2}}\\sum_{x=0}^{2^{n}-1}|x\\rangle \\otimes |0\\rangle_{1}$$\n",
    "\n",
    "y aplicamos la anterior transformación a todos y cada uno de los estados base anterior\n",
    "\n",
    "$$\\frac{1}{2^{n/2}}\\sum_{x=0}^{2^{n}-1}|x\\rangle\\hat{R}_{y}(2\\theta_{x})|0\\rangle_{1}$$\n",
    "\n",
    "Es decir tenemos que sumar todas las posibles rotaciones controladas"
   ]
  },
  {
   "cell_type": "markdown",
   "id": "dac14068",
   "metadata": {},
   "source": [
    "## 1.Implementación"
   ]
  },
  {
   "cell_type": "code",
   "execution_count": null,
   "id": "e0f59815",
   "metadata": {},
   "outputs": [],
   "source": [
    "%load_ext qat.core.magic"
   ]
  },
  {
   "cell_type": "code",
   "execution_count": null,
   "id": "4eba94d1",
   "metadata": {},
   "outputs": [],
   "source": [
    "import numpy as np\n",
    "import matplotlib.pyplot as plt\n",
    "import sys, os"
   ]
  },
  {
   "cell_type": "code",
   "execution_count": null,
   "id": "8dbefd90",
   "metadata": {},
   "outputs": [],
   "source": [
    "Path = '/home/cesga/gferro/NEASQC/PhaseAmplification/'\n",
    "sys.path.append(Path)"
   ]
  },
  {
   "cell_type": "markdown",
   "id": "277e72aa",
   "metadata": {},
   "source": [
    "### 1.1. Inicialización\n",
    "\n",
    "Debemos discretizar el dominio de la función y obtener los valores de la función sobre dicha discretización. Como nos va a interesar que el dominio de la probabilidad y de la función sea el mismo utilizamos la función **get_histogram** para obtener una discretización del dominio que nos valga para la probabilidad y para la función que queremos cargar!!"
   ]
  },
  {
   "cell_type": "code",
   "execution_count": null,
   "id": "a666f61e",
   "metadata": {},
   "outputs": [],
   "source": [
    "#Función de probabilidad de prueba\n",
    "def p(x):\n",
    "    return x*x\n",
    "\n",
    "def f(x):\n",
    "    return np.sin(x)\n",
    "    "
   ]
  },
  {
   "cell_type": "code",
   "execution_count": null,
   "id": "f87749bc",
   "metadata": {},
   "outputs": [],
   "source": [
    "from AuxiliarFunctions import  get_histogram, PostProcessResults, TestBins"
   ]
  },
  {
   "cell_type": "code",
   "execution_count": null,
   "id": "54ff94b9",
   "metadata": {},
   "outputs": [],
   "source": [
    "nqbits = 4\n",
    "nbins = 2**nqbits\n",
    "a = 0\n",
    "b = 1"
   ]
  },
  {
   "cell_type": "code",
   "execution_count": null,
   "id": "0b3f1039",
   "metadata": {},
   "outputs": [],
   "source": [
    "#Creamos la probabilidad discretizada que queremos cargar\n",
    "centers, probs = get_histogram(p, a, b, nbins)\n",
    "#Queremos esto porque lo que me interesa es discretizar la función de forma\n",
    "#acoplada a las probabilidades. Así pues para discretizar la función utilizamos\n",
    "#el mismo dominio que el de la probabilidad.\n",
    "DiscretizedFunction = p(centers)"
   ]
  },
  {
   "cell_type": "code",
   "execution_count": null,
   "id": "2faf05e7",
   "metadata": {},
   "outputs": [],
   "source": [
    "plt.plot(centers, probs, 'o')\n",
    "plt.plot(centers, DiscretizedFunction, 'o')\n",
    "plt.legend(['DiscretizedProbability', 'DiscretizedFunction'])"
   ]
  },
  {
   "cell_type": "markdown",
   "id": "0df9aea4",
   "metadata": {},
   "source": [
    "Se puede aprovechar mucho del trabajo realizado para la carga de la probabilidades. Ahora todo es un poco más sencillo (creo) ya que lo que tenemos que hacer es una suma de rotaciones controladas."
   ]
  },
  {
   "cell_type": "code",
   "execution_count": null,
   "id": "605d3e8a",
   "metadata": {},
   "outputs": [],
   "source": [
    "#calculamos los ángulos que tenemos que rotar\n",
    "Thetas = 2.0*np.arcsin(np.sqrt(DiscretizedFunction))"
   ]
  },
  {
   "cell_type": "code",
   "execution_count": null,
   "id": "1fb84d40",
   "metadata": {},
   "outputs": [],
   "source": [
    "from qat.core.console import display\n",
    "from qat.lang.AQASM import Program, QRoutine, H, AbstractGate\n",
    "from dataloading_module import CRBS_gate"
   ]
  },
  {
   "cell_type": "code",
   "execution_count": null,
   "id": "6d9ff48e",
   "metadata": {},
   "outputs": [],
   "source": [
    "nqbits = 4\n",
    "nbins = 2**nqbits\n",
    "a = 0\n",
    "b = 1\n",
    "\n",
    "#Creamos la probabilidad discretizada que queremos cargar\n",
    "centers, probs = get_histogram(p, a, b, nbins)\n",
    "#Queremos esto porque lo que me interesa es discretizar la función de forma\n",
    "#acoplada a las probabilidades. Así pues para discretizar la función utilizamos\n",
    "#el mismo dominio que el de la probabilidad.\n",
    "DiscretizedFunction = f(centers)\n",
    "\n",
    "#calculamos los ángulos que tenemos que rotar\n",
    "Thetas = 2.0*np.arcsin(np.sqrt(DiscretizedFunction))\n",
    "\n",
    "\n",
    "qprog = Program()\n",
    "qcontrol = qprog.qalloc(nqbits+1)\n",
    "#qtarget = qprog.qalloc(1)\n",
    "#Generamos la superposición de estados para un estado de nqbits\n",
    "for i in range(nqbits):\n",
    "    qprog.apply(H, qcontrol[i])\n",
    "\n",
    "#iteramos sobre todos los posibles estados de nqbits    \n",
    "for i in range(nbins):\n",
    "    #estado |i>\n",
    "    controlledR_gate = CRBS_gate(nqbits, i, Thetas[i])    \n",
    "    qprog.apply(controlledR_gate, qcontrol)"
   ]
  },
  {
   "cell_type": "code",
   "execution_count": null,
   "id": "758042cb",
   "metadata": {},
   "outputs": [],
   "source": [
    "#Create the circuit from the program\n",
    "circuit = qprog.to_circ()\n",
    "\n",
    "#Display the circuit\n",
    "%qatdisplay circuit\n",
    "#%qatdisplay circuit --depth 1"
   ]
  },
  {
   "cell_type": "code",
   "execution_count": null,
   "id": "a3b7b8fe",
   "metadata": {},
   "outputs": [],
   "source": [
    "#Create a Job from the circuit\n",
    "job = circuit.to_job(qubits = [nqbits])\n",
    "#job = circuit.to_job()\n",
    "\n",
    "#Submit the job to the simulator LinAlg and get the results\n",
    "result = lineal_qpu.submit(job)"
   ]
  },
  {
   "cell_type": "code",
   "execution_count": null,
   "id": "73550ee2",
   "metadata": {},
   "outputs": [],
   "source": [
    "PResults = PostProcessResults(result.join())"
   ]
  },
  {
   "cell_type": "code",
   "execution_count": null,
   "id": "bd2a300b",
   "metadata": {
    "scrolled": true
   },
   "outputs": [],
   "source": [
    "PResults"
   ]
  },
  {
   "cell_type": "code",
   "execution_count": null,
   "id": "dd4b7b89",
   "metadata": {},
   "outputs": [],
   "source": [
    "print('Quantum Measurement: {}'.format(PResults['Probability'][1]*2**nqbits))\n",
    "print('Integral: {}'.format(sum(DiscretizedFunction)))\n",
    "np.isclose(PResults['Probability'][1]*2**nqbits, sum(DiscretizedFunction))"
   ]
  },
  {
   "cell_type": "code",
   "execution_count": null,
   "id": "44c1de09",
   "metadata": {},
   "outputs": [],
   "source": [
    "np.isclose(PResults['Probability'][1]*2**nqbits, sum(DiscretizedFunction))"
   ]
  },
  {
   "cell_type": "markdown",
   "id": "e46d60b3",
   "metadata": {},
   "source": [
    "## 2.Creamos Puerta de Carga de la Función"
   ]
  },
  {
   "cell_type": "code",
   "execution_count": null,
   "id": "37054f31",
   "metadata": {},
   "outputs": [],
   "source": [
    "def R_generator(Dictionary):\n",
    "    FunctionArray = Dictionary['array']\n",
    "    nqbits_ = TestBins(FunctionArray, 'Function')\n",
    "    #Calculation of the rotation angles\n",
    "    Thetas = 2.0*np.arcsin(np.sqrt(FunctionArray))    \n",
    "    \n",
    "    qrout = QRoutine()\n",
    "    qbits = qrout.new_wires(nqbits_+1)\n",
    "    NumberOfStates = 2**nqbits_\n",
    "    #Loop over the States\n",
    "    for i in range(NumberOfStates):\n",
    "        #State |i>    \n",
    "        #Generation of a Controlled rotation of theta by state |i>\n",
    "        controlledR_gate = CRBS_gate(nqbits_, i, Thetas[i])    \n",
    "        qrout.apply(controlledR_gate, qbits)\n",
    "    return qrout    \n",
    "\n",
    "LoadR_Gate = AbstractGate(\n",
    "    \"R_Gate\", \n",
    "    [dict],\n",
    "    circuit_generator = R_generator,\n",
    "    arity = lambda x:TestBins(x['array'], 'Function')+1\n",
    ")        "
   ]
  },
  {
   "cell_type": "code",
   "execution_count": null,
   "id": "b5fe1336",
   "metadata": {},
   "outputs": [],
   "source": []
  },
  {
   "cell_type": "code",
   "execution_count": null,
   "id": "e9772716",
   "metadata": {},
   "outputs": [],
   "source": [
    "nqbits = 8\n",
    "nbins = 2**nqbits\n",
    "a = 0\n",
    "b = 1\n",
    "\n",
    "#Creamos la probabilidad discretizada que queremos cargar\n",
    "centers, probs = get_histogram(p, a, b, nbins)\n",
    "#Queremos esto porque lo que me interesa es discretizar la función de forma\n",
    "#acoplada a las probabilidades. Así pues para discretizar la función utilizamos\n",
    "#el mismo dominio que el de la probabilidad.\n",
    "DiscretizedFunction = f(centers)\n",
    "\n",
    "qprog = Program()\n",
    "qcontrol = qprog.qalloc(nqbits+1)\n",
    "#qtarget = qprog.qalloc(1)\n",
    "#Generamos la superposición de estados para un estado de nqbits\n",
    "for i in range(nqbits):\n",
    "    qprog.apply(H, qcontrol[i])\n",
    "\n",
    "R_gate = LoadR_Gate({'array': DiscretizedFunction})\n",
    "qprog.apply(R_gate, qcontrol)"
   ]
  },
  {
   "cell_type": "code",
   "execution_count": null,
   "id": "fea92913",
   "metadata": {},
   "outputs": [],
   "source": [
    "#Create the circuit from the program\n",
    "circuit = qprog.to_circ()\n",
    "\n",
    "#Display the circuit\n",
    "%qatdisplay circuit\n",
    "#%qatdisplay circuit --depth 2"
   ]
  },
  {
   "cell_type": "code",
   "execution_count": null,
   "id": "1481ec70",
   "metadata": {},
   "outputs": [],
   "source": [
    "#Create a Job from the circuit\n",
    "job = circuit.to_job(qubits = [nqbits])\n",
    "result = lineal_qpu.submit(job)"
   ]
  },
  {
   "cell_type": "code",
   "execution_count": null,
   "id": "7e2ed91c",
   "metadata": {},
   "outputs": [],
   "source": [
    "PR2_results = PostProcessResults(result)#.join())\n",
    "print('Quantum Measurement: {}'.format(PR2_results['Probability'][1]*2**nqbits))\n",
    "print('Integral: {}'.format(sum(DiscretizedFunction)))\n",
    "np.isclose(PR2_results['Probability'][1]*2**nqbits, sum(DiscretizedFunction))"
   ]
  },
  {
   "cell_type": "code",
   "execution_count": null,
   "id": "542d0c1b",
   "metadata": {},
   "outputs": [],
   "source": [
    "print('Quantum Measurement: {}'.format(PR2_results['Probability'][1]*2**nqbits))\n",
    "print('Integral: {}'.format(sum(DiscretizedFunction)))\n",
    "np.isclose(PR2_results['Probability'][1]*2**nqbits, sum(DiscretizedFunction))"
   ]
  },
  {
   "cell_type": "markdown",
   "id": "eb9bde3a",
   "metadata": {},
   "source": [
    "## 3.Probamos la función en fichero python\n",
    "\n",
    "La funcion que crea la puerta de carga la incorporo al fichero **dataloading_module.py** con el fin de tener todas las utilidades de carga de datos bien unificadas."
   ]
  },
  {
   "cell_type": "code",
   "execution_count": null,
   "id": "6e197bc8",
   "metadata": {},
   "outputs": [],
   "source": [
    "Path = '/home/cesga/gferro/NEASQC/PhaseAmplification/'\n",
    "sys.path.append(Path)"
   ]
  },
  {
   "cell_type": "code",
   "execution_count": null,
   "id": "85a64265",
   "metadata": {},
   "outputs": [],
   "source": [
    "from AuxiliarFunctions import get_histogram\n",
    "from dataloading_module import LoadR_Gate"
   ]
  },
  {
   "cell_type": "code",
   "execution_count": null,
   "id": "48a4b487",
   "metadata": {},
   "outputs": [],
   "source": [
    "from qat.lang.AQASM import Program, H"
   ]
  },
  {
   "cell_type": "code",
   "execution_count": null,
   "id": "148126aa",
   "metadata": {},
   "outputs": [],
   "source": [
    "nqbits = 4\n",
    "nbins = 2**nqbits\n",
    "a = 0\n",
    "b = 1\n",
    "\n",
    "#Creamos la probabilidad discretizada que queremos cargar\n",
    "centers, probs = get_histogram(p, a, b, nbins)\n",
    "#Queremos esto porque lo que me interesa es discretizar la función de forma\n",
    "#acoplada a las probabilidades. Así pues para discretizar la función utilizamos\n",
    "#el mismo dominio que el de la probabilidad.\n",
    "DiscretizedFunction = f(centers)\n",
    "qprog = Program()\n",
    "qcontrol = qprog.qalloc(nqbits+1)\n",
    "#qtarget = qprog.qalloc(1)\n",
    "#Generamos la superposición de estados para un estado de nqbits\n",
    "for i in range(nqbits):\n",
    "    qprog.apply(H, qcontrol[i])\n",
    "\n",
    "R_gate = LoadR_Gate({'array': DiscretizedFunction})\n",
    "qprog.apply(R_gate, qcontrol)"
   ]
  },
  {
   "cell_type": "code",
   "execution_count": null,
   "id": "b55b33e6",
   "metadata": {},
   "outputs": [],
   "source": [
    "#Create the circuit from the program\n",
    "circuit = qprog.to_circ()\n",
    "\n",
    "#Display the circuit\n",
    "%qatdisplay circuit\n",
    "#%qatdisplay circuit --depth 2"
   ]
  },
  {
   "cell_type": "code",
   "execution_count": null,
   "id": "7f536552",
   "metadata": {},
   "outputs": [],
   "source": [
    "#Create a Job from the circuit\n",
    "job = circuit.to_job(qubits = [nqbits])\n",
    "result = lineal_qpu.submit(job)"
   ]
  },
  {
   "cell_type": "code",
   "execution_count": null,
   "id": "07aef776",
   "metadata": {},
   "outputs": [],
   "source": [
    "PR2_results = PostProcessResults(result.join())\n",
    "print('Quantum Measurement: {}'.format(PR2_results['Probability'][1]*2**nqbits))\n",
    "print('Integral: {}'.format(sum(DiscretizedFunction)))\n",
    "np.isclose(PR2_results['Probability'][1]*2**nqbits, sum(DiscretizedFunction))"
   ]
  },
  {
   "cell_type": "markdown",
   "id": "f951aca8",
   "metadata": {},
   "source": [
    "## 4. Programa Juan"
   ]
  },
  {
   "cell_type": "markdown",
   "id": "74be8d41",
   "metadata": {},
   "source": [
    "Quiero comprobar que mi implementación es consistente con la implementación realizada en el programa de Juan"
   ]
  },
  {
   "cell_type": "code",
   "execution_count": null,
   "id": "ddf0f9e0",
   "metadata": {},
   "outputs": [],
   "source": [
    "sys.path.append('/home/gferro/Code/ProgramasDefinitivos')"
   ]
  },
  {
   "cell_type": "code",
   "execution_count": null,
   "id": "d2fefa93",
   "metadata": {},
   "outputs": [],
   "source": [
    "from expectation_module import load_function"
   ]
  },
  {
   "cell_type": "code",
   "execution_count": null,
   "id": "d1e2480d",
   "metadata": {},
   "outputs": [],
   "source": [
    "nqbits = 6\n",
    "nbins = 2**nqbits\n",
    "a = 0\n",
    "b = 1\n",
    "\n",
    "#Creamos la probabilidad discretizada que queremos cargar\n",
    "centers, probs = get_histogram(p, a, b, nbins)\n",
    "R_gate, y = load_function(centers, p, nqbits)"
   ]
  },
  {
   "cell_type": "code",
   "execution_count": null,
   "id": "bc5cf967",
   "metadata": {},
   "outputs": [],
   "source": [
    "qprog = Program()\n",
    "qbits = qprog.qalloc(nqbits+1)\n",
    "for i in range(nqbits):\n",
    "    qprog.apply(H, qbits[i])\n",
    "qprog.apply(R_gate, qbits)    "
   ]
  },
  {
   "cell_type": "code",
   "execution_count": null,
   "id": "aa807bb8",
   "metadata": {},
   "outputs": [],
   "source": [
    "#Create the circuit from the program\n",
    "circuit = qprog.to_circ()\n",
    "\n",
    "#Display the circuit\n",
    "#%qatdisplay circuit\n",
    "%qatdisplay circuit --depth 0"
   ]
  },
  {
   "cell_type": "code",
   "execution_count": null,
   "id": "6a6d974c",
   "metadata": {},
   "outputs": [],
   "source": [
    "#Create a Job from the circuit\n",
    "job = circuit.to_job(qubits = [nqbits])\n",
    "\n",
    "#Import and create the linear algebra simulator\n",
    "from qat.qpus import LinAlg\n",
    "linalgqpu = LinAlg()\n",
    "\n",
    "#Submit the job to the simulator LinAlg and get the results\n",
    "result = linalgqpu.submit(job)"
   ]
  },
  {
   "cell_type": "code",
   "execution_count": null,
   "id": "4afd60dd",
   "metadata": {},
   "outputs": [],
   "source": [
    "QP = []\n",
    "States = []\n",
    "#Print the results\n",
    "for sample in result:\n",
    "    print(\"State %s probability %s\" % (sample.state, sample.probability))\n",
    "    QP.append(sample.probability)\n",
    "    States.append(str(sample.state))\n",
    "print('Quantum Measurement: {}'.format(QP[1]*2**(nqbits)))    \n",
    "print('Integral: {}'.format(sum(y)))    "
   ]
  },
  {
   "cell_type": "code",
   "execution_count": null,
   "id": "3de06e38",
   "metadata": {},
   "outputs": [],
   "source": [
    "np.isclose(QP[1]*2**(nqbits), sum(DiscretizedFunction))"
   ]
  },
  {
   "cell_type": "code",
   "execution_count": null,
   "id": "a29c5773",
   "metadata": {},
   "outputs": [],
   "source": []
  },
  {
   "cell_type": "code",
   "execution_count": null,
   "id": "60544f35",
   "metadata": {},
   "outputs": [],
   "source": [
    "States = pd.Series(States)\n",
    "QP = pd.Series(QP)"
   ]
  },
  {
   "cell_type": "code",
   "execution_count": null,
   "id": "6d760aa4",
   "metadata": {},
   "outputs": [],
   "source": [
    "np.isclose(sum(QP[States.str.extract(r'(\\d)\\>')[0] == '1'])*(2**(nqbits)),sum(DiscretizedFunction))"
   ]
  },
  {
   "cell_type": "code",
   "execution_count": null,
   "id": "8d41763d",
   "metadata": {},
   "outputs": [],
   "source": [
    "sum(QP[States.str.extract(r'(\\d)\\>')[0] == '0'])*(2**(nqbits))"
   ]
  },
  {
   "cell_type": "code",
   "execution_count": null,
   "id": "79657aa1",
   "metadata": {},
   "outputs": [],
   "source": [
    "sum(DiscretizedFunction)"
   ]
  }
 ],
 "metadata": {
  "kernelspec": {
   "display_name": "Python 3 (ipykernel)",
   "language": "python",
   "name": "python3"
  },
  "language_info": {
   "codemirror_mode": {
    "name": "ipython",
    "version": 3
   },
   "file_extension": ".py",
   "mimetype": "text/x-python",
   "name": "python",
   "nbconvert_exporter": "python",
   "pygments_lexer": "ipython3",
   "version": "3.9.9"
  }
 },
 "nbformat": 4,
 "nbformat_minor": 5
}
