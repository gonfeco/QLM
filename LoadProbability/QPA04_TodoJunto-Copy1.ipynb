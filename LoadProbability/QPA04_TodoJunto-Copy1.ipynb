{
 "cells": [
  {
   "cell_type": "code",
   "execution_count": 1,
   "id": "4211d94e",
   "metadata": {},
   "outputs": [
    {
     "data": {
      "text/html": [
       "<style>.container { width:100% !important; }</style>"
      ],
      "text/plain": [
       "<IPython.core.display.HTML object>"
      ]
     },
     "metadata": {},
     "output_type": "display_data"
    }
   ],
   "source": [
    "from IPython.core.display import display, HTML\n",
    "display(HTML(\"<style>.container { width:100% !important; }</style>\"))"
   ]
  },
  {
   "cell_type": "code",
   "execution_count": 2,
   "id": "1a13410f",
   "metadata": {},
   "outputs": [],
   "source": [
    "import numpy as np\n",
    "import pandas as pd\n",
    "import matplotlib.pyplot as plt\n",
    "import sys, os"
   ]
  },
  {
   "cell_type": "code",
   "execution_count": 3,
   "id": "ba98b0d8",
   "metadata": {},
   "outputs": [],
   "source": [
    "sys.path.append('/home/gferro/PhaseAmplification/')"
   ]
  },
  {
   "cell_type": "code",
   "execution_count": 4,
   "id": "729709c4",
   "metadata": {},
   "outputs": [],
   "source": [
    "from qat.core.console import display\n",
    "from qat.qpus import LinAlg"
   ]
  },
  {
   "cell_type": "code",
   "execution_count": 5,
   "id": "998c15fb",
   "metadata": {},
   "outputs": [],
   "source": [
    "from dataloading_module import  CreateLoadFunctionGate, CreatePG\n",
    "from kk import get_histogram"
   ]
  },
  {
   "cell_type": "code",
   "execution_count": 6,
   "id": "aabebd21",
   "metadata": {},
   "outputs": [],
   "source": [
    "#Probability function\n",
    "def p(x):\n",
    "    return x*x\n",
    "\n",
    "def f(x):\n",
    "    return np.sin(x)"
   ]
  },
  {
   "cell_type": "markdown",
   "id": "c8437d1c",
   "metadata": {},
   "source": [
    "# Algoritmo de Amplificación de Amplitud"
   ]
  },
  {
   "cell_type": "markdown",
   "id": "ad527d0e",
   "metadata": {},
   "source": [
    "Tenemos todos los bloques necesarios para implementar la primera parte del algoritmo de amplificación de amplitud:\n",
    "\n",
    "1. Carga de Proabilidades\n",
    "2. Carga de Función a integrar\n",
    "3. Operador $\\hat{U}_{|\\Psi_0\\rangle}$\n",
    "4. Operador $\\hat{D}_{0}$\n",
    "\n",
    "Nos queda implementar el operador $\\hat{U}_{|\\Psi_2\\rangle} = \\hat{R_{n+1}}\\hat{P_{n}}\\hat{D}_{0} \\hat{P_{n}}^{\\dagger} \\hat{R_{n+1}}^{\\dagger}$"
   ]
  },
  {
   "cell_type": "code",
   "execution_count": 7,
   "id": "7f7732c1",
   "metadata": {},
   "outputs": [],
   "source": [
    "from qat.lang.AQASM import AbstractGate, QRoutine, X, Z\n",
    "def Reflexion_generator(N):\n",
    "    \"\"\"\n",
    "    Implementa una reflexion en torno al estado |\\Phi_0>: I-2|\\Phi_0><Phi_0|\n",
    "    \"\"\"\n",
    "    qrout = QRoutine()\n",
    "    qbits = qrout.new_wires(N)\n",
    "    qrout.apply(X, qbits[-1])\n",
    "    qrout.apply(Z, qbits[-1])\n",
    "    qrout.apply(X, qbits[-1])\n",
    "    \n",
    "    return qrout#-Zeroes\n",
    "UPhi_0 = AbstractGate(\"UPhi_0\", [int])\n",
    "UPhi_0.set_circuit_generator(Reflexion_generator)\n",
    "\n",
    "def Reflexion_generator0(N):\n",
    "    \"\"\"\n",
    "    Implementa una reflexion en torno al estado 0: I-2|0><0|\n",
    "    \"\"\"\n",
    "    qrout = QRoutine()\n",
    "    qbits = qrout.new_wires(N)\n",
    "    for i in range(N):\n",
    "        qrout.apply(X, qbits[i])\n",
    "    #Controlled Z gate by n-1 first qbits\n",
    "    cZ = 'Z'+ '.ctrl()'*(len(qbits)-1)\n",
    "    qrout.apply(eval(cZ), qbits[:-1], qbits[-1])\n",
    "    for i in range(N):\n",
    "        qrout.apply(X, qbits[i])\n",
    "    \n",
    "    return qrout#-Zeroes\n",
    "D_0 = AbstractGate(\"D_0\", [int])\n",
    "D_0.set_circuit_generator(Reflexion_generator0)\n",
    "\n",
    "def LoadDifusorGate(N, ProbabilityArray, FunctionArray):\n",
    "    from dataloading_module import  CreateLoadFunctionGate, CreatePG\n",
    "    P_gate = CreatePG(ProbabilityArray)\n",
    "    R_gate = CreateLoadFunctionGate(FunctionArray)\n",
    "    def Difusor(nqbits):\n",
    "        qrout = QRoutine()\n",
    "        qbits = qrout.new_wires(nqbits)\n",
    "        qrout.apply(P_gate, qbits[:-1])\n",
    "        qrout.apply(R_gate, qbits)\n",
    "        qrout.apply(D_0(nqbits), qbits)\n",
    "        qrout.apply(R_gate.dag(), qbits)\n",
    "        qrout.apply(P_gate.dag(), qbits[:-1])\n",
    "        return qrout\n",
    "    UPhi_2 = AbstractGate(\"UPhi_2\", [int])\n",
    "    UPhi_2.set_circuit_generator(Difusor)\n",
    "    return UPhi_2(N)\n",
    "\n"
   ]
  },
  {
   "cell_type": "code",
   "execution_count": null,
   "id": "de5c8c05",
   "metadata": {},
   "outputs": [],
   "source": [
    "def DoCircuit(nqbits = 4, Reflexion = True):\n",
    "    from qat.lang.AQASM import Program\n",
    "    nbins = 2**nqbits\n",
    "    a = 0\n",
    "    b = 1\n",
    "    #Discretization for the function domain\n",
    "    centers, probs = get_histogram(p, a, b, nbins)\n",
    "    #Discretizated function to load \n",
    "    DiscretizedFunction = f(centers) \n",
    "    #Quantum Program\n",
    "    qprog = Program()\n",
    "    qbits = qprog.qalloc(nqbits+1)\n",
    "    #Create Probability loading gate\n",
    "    P_gate = CreatePG(probs)\n",
    "    qprog.apply(P_gate, qbits[:-1])\n",
    "    #Create Function loading gate\n",
    "    R_gate = CreateLoadFunctionGate(DiscretizedFunction)    \n",
    "    qprog.apply(R_gate, qbits)    \n",
    "    difusor = LoadDifusorGate(nqbits+1, probs, DiscretizedFunction)\n",
    "    if Reflexion:\n",
    "        qprog.apply(difusor, qbits) \n",
    "    #Create the circuit from the program\n",
    "    circuit = qprog.to_circ()\n",
    "    job = circuit.to_job()\n",
    "    #Import and create the linear algebra simulator\n",
    "    linalgqpu = LinAlg()\n",
    "    #Submit the job to the simulator LinAlg and get the results\n",
    "    result = linalgqpu.submit(job)\n",
    "    QP = []\n",
    "    States = []\n",
    "    QA = []\n",
    "    #Print the results\n",
    "    for sample in result:\n",
    "        #print(\"State %s probability %s amplitude %s\" % (sample.state, sample.probability, sample.amplitude))\n",
    "        QP.append(sample.probability)\n",
    "        States.append(str(sample.state))\n",
    "        QA.append(sample.amplitude)\n",
    "    QP = pd.Series(QP, name='Probability')  \n",
    "    States = pd.Series(States, name='States')  \n",
    "    QA = pd.Series(QA, name='Amplitude') \n",
    "    pdf = pd.concat([States, QP, QA], axis=1)\n",
    "    return pdf, circuit"
   ]
  },
  {
   "cell_type": "code",
   "execution_count": null,
   "id": "ee2dbc30",
   "metadata": {},
   "outputs": [],
   "source": [
    "pdfNotReflexion, circuitNR = DoCircuit(Reflexion=False)\n",
    "pdfReflexion, circuitR = DoCircuit()"
   ]
  },
  {
   "cell_type": "code",
   "execution_count": null,
   "id": "ccd153ee",
   "metadata": {},
   "outputs": [],
   "source": [
    "%qatdisplay circuitR --depth 0"
   ]
  },
  {
   "cell_type": "code",
   "execution_count": null,
   "id": "bf8b42ee",
   "metadata": {
    "scrolled": true
   },
   "outputs": [],
   "source": [
    "%qatdisplay circuitNR --depth 0"
   ]
  },
  {
   "cell_type": "code",
   "execution_count": null,
   "id": "f41cf490",
   "metadata": {},
   "outputs": [],
   "source": []
  },
  {
   "cell_type": "markdown",
   "id": "2f9c9cef",
   "metadata": {},
   "source": [
    "## Operador Amplificacion"
   ]
  },
  {
   "cell_type": "code",
   "execution_count": 8,
   "id": "1de4b340",
   "metadata": {},
   "outputs": [],
   "source": [
    "def LoadGroverAmplification(N, ProbabilityArray, FunctionArray):\n",
    "    difusor = LoadDifusorGate(N, ProbabilityArray, FunctionArray)\n",
    "    def Grover(N):\n",
    "        qrout = QRoutine()\n",
    "        qbits = qrout.new_wires(N)   \n",
    "        qrout.apply(UPhi_0(N), qbits)\n",
    "        qrout.apply(difusor, qbits)\n",
    "        return qrout\n",
    "    Q = AbstractGate(\"Q\", [int])\n",
    "    Q.set_circuit_generator(Grover)    \n",
    "    return Q(N)"
   ]
  },
  {
   "cell_type": "code",
   "execution_count": 30,
   "id": "292dbfda",
   "metadata": {},
   "outputs": [],
   "source": [
    "def DoCircuit(nqbits = 4, Reflexion = True):\n",
    "    from qat.lang.AQASM import Program\n",
    "    nbins = 2**nqbits\n",
    "    a = 0\n",
    "    b = 1\n",
    "    \n",
    "    #Discretization for the function domain\n",
    "    centers, probs = get_histogram(p, a, b, nbins)\n",
    "    #Create Probability loading gate\n",
    "    P_gate = CreatePG(probs)    \n",
    "\n",
    "    #Discretizated function to load \n",
    "    DiscretizedFunction = f(centers) \n",
    "    #Create Function loading gate    \n",
    "    R_gate = CreateLoadFunctionGate(DiscretizedFunction)    \n",
    "    \n",
    "    #Load Amplification Gates\n",
    "    Q = LoadGroverAmplification(nqbits+1, probs, DiscretizedFunction)\n",
    "    difusor = LoadDifusorGate(nqbits+1, probs, DiscretizedFunction)\n",
    "    \n",
    "    #Quantum Program\n",
    "    qprog = Program()\n",
    "    qbits = qprog.qalloc(nqbits+1)\n",
    "    qprog.apply(P_gate, qbits[:-1])\n",
    "    qprog.apply(R_gate, qbits)    \n",
    "    #qprog.apply(UPhi_0(nqbits+1), qbits) \n",
    "    if Reflexion:\n",
    "        #pass\n",
    "        for i in range(1):\n",
    "            qprog.apply(Q, qbits)\n",
    "    #Create the circuit from the program\n",
    "    circuit = qprog.to_circ()\n",
    "    linalgqpu = LinAlg()\n",
    "    \"\"\"\n",
    "    job = circuit.to_job()\n",
    "    #Import and create the linear algebra simulator\n",
    "    linalgqpu = LinAlg()\n",
    "    #Submit the job to the simulator LinAlg and get the results\n",
    "    result = linalgqpu.submit(job)    \n",
    "    \"\"\"\n",
    "\n",
    "    \n",
    "    \n",
    "    result = linalgqpu.submit(\n",
    "        circuit.to_job(qubits = [0])\n",
    "    )\n",
    "    \n",
    "    \n",
    "    QP = []\n",
    "    States = []\n",
    "    QA = []\n",
    "    #Print the results\n",
    "    for sample in result:\n",
    "        #print(\"State %s probability %s amplitude %s\" % (sample.state, sample.probability, sample.amplitude))\n",
    "        QP.append(sample.probability)\n",
    "        States.append(str(sample.state))\n",
    "        QA.append(sample.amplitude)\n",
    "    QP = pd.Series(QP, name='Probability')  \n",
    "    States = pd.Series(States, name='States')  \n",
    "    QA = pd.Series(QA, name='Amplitude') \n",
    "    pdf = pd.concat([States, QP, QA], axis=1)\n",
    "    return pdf, circuit"
   ]
  },
  {
   "cell_type": "code",
   "execution_count": 31,
   "id": "6dcb0b5f",
   "metadata": {},
   "outputs": [],
   "source": [
    "pdfReflexion, circuitR = DoCircuit()\n",
    "pdfNotReflexion, circuitNR = DoCircuit(Reflexion=False)"
   ]
  },
  {
   "cell_type": "code",
   "execution_count": 32,
   "id": "486643c0",
   "metadata": {},
   "outputs": [
    {
     "data": {
      "image/png": "[encoded data removed]",
      "text/plain": [
       "<IPython.core.display.Image object>"
      ]
     },
     "execution_count": 32,
     "metadata": {},
     "output_type": "execute_result"
    }
   ],
   "source": [
    "%qatdisplay circuitNR --depth 0"
   ]
  },
  {
   "cell_type": "code",
   "execution_count": 33,
   "id": "09c60bb6",
   "metadata": {},
   "outputs": [
    {
     "data": {
      "image/png": "[encoded data removed]",
      "text/plain": [
       "<IPython.core.display.Image object>"
      ]
     },
     "execution_count": 33,
     "metadata": {},
     "output_type": "execute_result"
    }
   ],
   "source": [
    "%qatdisplay circuitR --depth 0"
   ]
  },
  {
   "cell_type": "code",
   "execution_count": 36,
   "id": "658e490a",
   "metadata": {},
   "outputs": [
    {
     "data": {
      "text/html": [
       "<div>\n",
       "<style scoped>\n",
       "    .dataframe tbody tr th:only-of-type {\n",
       "        vertical-align: middle;\n",
       "    }\n",
       "\n",
       "    .dataframe tbody tr th {\n",
       "        vertical-align: top;\n",
       "    }\n",
       "\n",
       "    .dataframe thead th {\n",
       "        text-align: right;\n",
       "    }\n",
       "</style>\n",
       "<table border=\"1\" class=\"dataframe\">\n",
       "  <thead>\n",
       "    <tr style=\"text-align: right;\">\n",
       "      <th></th>\n",
       "      <th>States</th>\n",
       "      <th>Probability</th>\n",
       "      <th>Amplitude</th>\n",
       "    </tr>\n",
       "  </thead>\n",
       "  <tbody>\n",
       "    <tr>\n",
       "      <th>0</th>\n",
       "      <td>|0&gt;</td>\n",
       "      <td>0.124633</td>\n",
       "      <td>None</td>\n",
       "    </tr>\n",
       "    <tr>\n",
       "      <th>1</th>\n",
       "      <td>|1&gt;</td>\n",
       "      <td>0.875367</td>\n",
       "      <td>None</td>\n",
       "    </tr>\n",
       "  </tbody>\n",
       "</table>\n",
       "</div>"
      ],
      "text/plain": [
       "  States  Probability Amplitude\n",
       "0    |0>     0.124633      None\n",
       "1    |1>     0.875367      None"
      ]
     },
     "execution_count": 36,
     "metadata": {},
     "output_type": "execute_result"
    }
   ],
   "source": [
    "pdfNotReflexion"
   ]
  },
  {
   "cell_type": "code",
   "execution_count": 35,
   "id": "7946c97d",
   "metadata": {},
   "outputs": [
    {
     "data": {
      "text/html": [
       "<div>\n",
       "<style scoped>\n",
       "    .dataframe tbody tr th:only-of-type {\n",
       "        vertical-align: middle;\n",
       "    }\n",
       "\n",
       "    .dataframe tbody tr th {\n",
       "        vertical-align: top;\n",
       "    }\n",
       "\n",
       "    .dataframe thead th {\n",
       "        text-align: right;\n",
       "    }\n",
       "</style>\n",
       "<table border=\"1\" class=\"dataframe\">\n",
       "  <thead>\n",
       "    <tr style=\"text-align: right;\">\n",
       "      <th></th>\n",
       "      <th>States</th>\n",
       "      <th>Probability</th>\n",
       "      <th>Amplitude</th>\n",
       "    </tr>\n",
       "  </thead>\n",
       "  <tbody>\n",
       "    <tr>\n",
       "      <th>0</th>\n",
       "      <td>|0&gt;</td>\n",
       "      <td>0.127453</td>\n",
       "      <td>None</td>\n",
       "    </tr>\n",
       "    <tr>\n",
       "      <th>1</th>\n",
       "      <td>|1&gt;</td>\n",
       "      <td>0.872547</td>\n",
       "      <td>None</td>\n",
       "    </tr>\n",
       "  </tbody>\n",
       "</table>\n",
       "</div>"
      ],
      "text/plain": [
       "  States  Probability Amplitude\n",
       "0    |0>     0.127453      None\n",
       "1    |1>     0.872547      None"
      ]
     },
     "execution_count": 35,
     "metadata": {},
     "output_type": "execute_result"
    }
   ],
   "source": [
    "pdfReflexion"
   ]
  },
  {
   "cell_type": "code",
   "execution_count": null,
   "id": "bb7127b3",
   "metadata": {},
   "outputs": [],
   "source": []
  },
  {
   "cell_type": "code",
   "execution_count": null,
   "id": "8f41bac3",
   "metadata": {},
   "outputs": [],
   "source": [
    "%qatdisplay circuitR --depth 0"
   ]
  },
  {
   "cell_type": "code",
   "execution_count": null,
   "id": "62976be5",
   "metadata": {},
   "outputs": [],
   "source": [
    "pdfReflexion"
   ]
  },
  {
   "cell_type": "code",
   "execution_count": null,
   "id": "b2fc1921",
   "metadata": {},
   "outputs": [],
   "source": [
    "pdfReflexion"
   ]
  },
  {
   "cell_type": "code",
   "execution_count": null,
   "id": "20b0019b",
   "metadata": {},
   "outputs": [],
   "source": [
    "sum(pdfNotReflexion[pdfNotReflexion['States'].str.extract(r'(\\d)>')[0]=='1']['Probability'])"
   ]
  },
  {
   "cell_type": "code",
   "execution_count": null,
   "id": "f361f318",
   "metadata": {
    "scrolled": true
   },
   "outputs": [],
   "source": [
    "sum(pdfReflexion[pdfReflexion['States'].str.extract(r'(\\d)>')[0]=='1']['Probability'])"
   ]
  },
  {
   "cell_type": "code",
   "execution_count": null,
   "id": "e3d91988",
   "metadata": {},
   "outputs": [],
   "source": [
    "pdfReflexion[pdfReflexion['States'].str.extract(r'(\\d)>')[0]=='1']"
   ]
  },
  {
   "cell_type": "code",
   "execution_count": null,
   "id": "b25d4fca",
   "metadata": {},
   "outputs": [],
   "source": [
    "pdfNotReflexion[pdfNotReflexion['States'].str.extract(r'(\\d)>')[0]=='1']"
   ]
  }
 ],
 "metadata": {
  "kernelspec": {
   "display_name": "Python 3 (ipykernel)",
   "language": "python",
   "name": "python3"
  },
  "language_info": {
   "codemirror_mode": {
    "name": "ipython",
    "version": 3
   },
   "file_extension": ".py",
   "mimetype": "text/x-python",
   "name": "python",
   "nbconvert_exporter": "python",
   "pygments_lexer": "ipython3",
   "version": "3.9.2"
  }
 },
 "nbformat": 4,
 "nbformat_minor": 5
}
