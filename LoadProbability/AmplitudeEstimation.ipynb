{
 "cells": [
  {
   "cell_type": "code",
   "execution_count": null,
   "id": "ac54b7f5",
   "metadata": {},
   "outputs": [],
   "source": [
    "from IPython.core.display import display, HTML\n",
    "display(HTML(\"<style>.container { width:100% !important; }</style>\"))"
   ]
  },
  {
   "cell_type": "code",
   "execution_count": null,
   "id": "ea6c911c",
   "metadata": {},
   "outputs": [],
   "source": [
    "import numpy as np"
   ]
  },
  {
   "cell_type": "code",
   "execution_count": null,
   "id": "e212c6bc",
   "metadata": {},
   "outputs": [],
   "source": [
    "import matplotlib.pyplot as plt"
   ]
  },
  {
   "cell_type": "code",
   "execution_count": null,
   "id": "2c1c9cb0",
   "metadata": {},
   "outputs": [],
   "source": [
    "import sys"
   ]
  },
  {
   "cell_type": "code",
   "execution_count": null,
   "id": "5b500316",
   "metadata": {},
   "outputs": [],
   "source": [
    "sys.path.append('/home/gferro/qlm_notebooks/notebooks_1.5.0/Gonzalo/ProgramasDefinitivos/')"
   ]
  },
  {
   "cell_type": "code",
   "execution_count": null,
   "id": "aee73849",
   "metadata": {},
   "outputs": [],
   "source": [
    "from expectation_module import load_probabilities, load_function, load_U0, load_U1, load_Q\n",
    "from qat.lang.AQASM import Program, RY, CNOT, H, AbstractGate, QRoutine, SWAP, PH, I\n",
    "from qat.lang.AQASM.qftarith import QFT"
   ]
  },
  {
   "cell_type": "code",
   "execution_count": null,
   "id": "5e887355",
   "metadata": {},
   "outputs": [],
   "source": [
    "a = 0.\n",
    "b = 1.\n",
    "nqbits = 2\n",
    "n_aux  = 3 \n"
   ]
  },
  {
   "cell_type": "code",
   "execution_count": null,
   "id": "66004abe",
   "metadata": {},
   "outputs": [],
   "source": [
    "def p(x):\n",
    "    return x*x\n",
    "def f(x):\n",
    "    return np.sin(x)"
   ]
  },
  {
   "cell_type": "code",
   "execution_count": null,
   "id": "527476e0",
   "metadata": {},
   "outputs": [],
   "source": [
    "centers, probs, P_gate = load_probabilities(nqbits, p, a, b)"
   ]
  },
  {
   "cell_type": "code",
   "execution_count": null,
   "id": "dbacffab",
   "metadata": {},
   "outputs": [],
   "source": [
    "R_gate, y = load_function(centers, f, nqbits)"
   ]
  },
  {
   "cell_type": "code",
   "execution_count": null,
   "id": "6ec79c22",
   "metadata": {},
   "outputs": [],
   "source": [
    "plt.plot(centers, probs)\n",
    "plt.plot(centers, y)"
   ]
  },
  {
   "cell_type": "code",
   "execution_count": null,
   "id": "bed7582a",
   "metadata": {},
   "outputs": [],
   "source": [
    "qprog = Program()\n",
    "qbits = qprog.qalloc(nqbits+1)\n",
    "qprog.apply(P_gate, qbits[:-1])\n",
    "qprog.apply(R_gate, qbits)"
   ]
  },
  {
   "cell_type": "code",
   "execution_count": null,
   "id": "07563f75",
   "metadata": {},
   "outputs": [],
   "source": [
    "Q_gate, U0_gate, U1_gate  = load_Q(nqbits, P_gate, R_gate)"
   ]
  },
  {
   "cell_type": "code",
   "execution_count": null,
   "id": "81e67819",
   "metadata": {},
   "outputs": [],
   "source": [
    "q_aux = qprog.qalloc(n_aux)"
   ]
  },
  {
   "cell_type": "code",
   "execution_count": null,
   "id": "83804ad4",
   "metadata": {},
   "outputs": [],
   "source": [
    "for i, aux in enumerate(q_aux):\n",
    "    qprog.apply(H, aux)\n",
    "    # Apply Q**(2**i) controlled by the auxiliary register\n",
    "    for _ in range(2**(i)):\n",
    "        qprog.apply(Q_gate.ctrl(), aux, qbits)\n"
   ]
  },
  {
   "cell_type": "code",
   "execution_count": null,
   "id": "6a36efba",
   "metadata": {},
   "outputs": [],
   "source": [
    "qprog.apply(QFT(n_aux).dag(), q_aux)"
   ]
  },
  {
   "cell_type": "code",
   "execution_count": null,
   "id": "1b355e27",
   "metadata": {},
   "outputs": [],
   "source": [
    "circuit = qprog.to_circ()"
   ]
  },
  {
   "cell_type": "code",
   "execution_count": null,
   "id": "b8d6c228",
   "metadata": {},
   "outputs": [],
   "source": [
    "from qat.qpus import LinAlg"
   ]
  },
  {
   "cell_type": "code",
   "execution_count": null,
   "id": "48ef7638",
   "metadata": {},
   "outputs": [],
   "source": [
    "from qat.qpus import PyLinalg\n",
    "result = PyLinalg().submit(circuit.to_job(qubits = [i+nqbits+1 for i in range(n_aux)])) "
   ]
  },
  {
   "cell_type": "code",
   "execution_count": null,
   "id": "2a87de12",
   "metadata": {},
   "outputs": [],
   "source": [
    "from qat.qpus import get_default_qpu"
   ]
  },
  {
   "cell_type": "code",
   "execution_count": null,
   "id": "b2964c68",
   "metadata": {},
   "outputs": [],
   "source": [
    "Def=get_default_qpu()"
   ]
  },
  {
   "cell_type": "code",
   "execution_count": null,
   "id": "ed4b8519",
   "metadata": {},
   "outputs": [],
   "source": [
    "result = Def.submit(circuit.to_job(qubits = [i+nqbits+1 for i in range(n_aux)])) "
   ]
  },
  {
   "cell_type": "code",
   "execution_count": null,
   "id": "499c7076",
   "metadata": {},
   "outputs": [],
   "source": [
    "states, probabilities = [], []\n",
    "for res in result:\n",
    "    states.append(res.state.int) # Store the decimal number that represents each state\n",
    "    probabilities.append(res.probability) # Store its probability\n",
    "    print(\"Aux qbits have value %s (the probability of getting this result is %s)\"%(res.state, res.probabil  ity))\n"
   ]
  }
 ],
 "metadata": {
  "kernelspec": {
   "display_name": "Python 3 (ipykernel)",
   "language": "python",
   "name": "python3"
  },
  "language_info": {
   "codemirror_mode": {
    "name": "ipython",
    "version": 3
   },
   "file_extension": ".py",
   "mimetype": "text/x-python",
   "name": "python",
   "nbconvert_exporter": "python",
   "pygments_lexer": "ipython3",
   "version": "3.9.2"
  }
 },
 "nbformat": 4,
 "nbformat_minor": 5
}
