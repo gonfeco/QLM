{
 "cells": [
  {
   "cell_type": "code",
   "execution_count": 1,
   "id": "47f52d4c",
   "metadata": {},
   "outputs": [
    {
     "data": {
      "text/html": [
       "<style>.container { width:100% !important; }</style>"
      ],
      "text/plain": [
       "<IPython.core.display.HTML object>"
      ]
     },
     "metadata": {},
     "output_type": "display_data"
    }
   ],
   "source": [
    "from IPython.core.display import display, HTML\n",
    "display(HTML(\"<style>.container { width:100% !important; }</style>\"))"
   ]
  },
  {
   "cell_type": "code",
   "execution_count": 2,
   "id": "92ca75dd",
   "metadata": {},
   "outputs": [],
   "source": [
    "import numpy as np\n",
    "import matplotlib.pyplot as plt\n",
    "import sys"
   ]
  },
  {
   "cell_type": "code",
   "execution_count": 3,
   "id": "64d9d5c2",
   "metadata": {},
   "outputs": [],
   "source": [
    "from qat.core.console import display\n",
    "from qat.lang.AQASM import Program, H\n",
    "from qat.lang.AQASM.qftarith import QFT"
   ]
  },
  {
   "cell_type": "code",
   "execution_count": 4,
   "id": "1262e509",
   "metadata": {},
   "outputs": [],
   "source": [
    "sys.path.append('/home/gferro/qlm_notebooks/notebooks_1.5.0/Gonzalo/ProgramasDefinitivos/')"
   ]
  },
  {
   "cell_type": "code",
   "execution_count": 5,
   "id": "0beb7894",
   "metadata": {},
   "outputs": [],
   "source": [
    "a = 0.\n",
    "b = 1.\n",
    "nqbits = 2\n",
    "#_aux  = 8"
   ]
  },
  {
   "cell_type": "code",
   "execution_count": 6,
   "id": "f1a3d7a1",
   "metadata": {},
   "outputs": [],
   "source": [
    "def p(x):\n",
    "    return x*x\n",
    "def f(x):\n",
    "    return np.sin(x)"
   ]
  },
  {
   "cell_type": "code",
   "execution_count": 7,
   "id": "3a693025",
   "metadata": {},
   "outputs": [],
   "source": [
    "from expectation_module import load_probabilities, load_function\n",
    "centers, probs, P_gate = load_probabilities(nqbits, p, a, b)\n",
    "R_gate, y = load_function(centers, f, nqbits)"
   ]
  },
  {
   "cell_type": "code",
   "execution_count": 32,
   "id": "ca0299bd",
   "metadata": {},
   "outputs": [],
   "source": [
    "from qat.lang.AQASM import AbstractGate\n",
    "def Uf0(n):\n",
    "    \"\"\"\n",
    "    Implementa una reflexion en torno al estado 0: I-2|w>|0><w|<0|\n",
    "    \"\"\"\n",
    "    #Matriz Identidad\n",
    "    Identity = np.identity(2**n)\n",
    "    #Creo 2|w>|1><w|<1|\n",
    "    #Matriz de ceros\n",
    "    #Zeroes = np.zeros([2**n, 2**n])\n",
    "    #Rellenos solo aquellos del tipo |w>|1>\n",
    "    for i in range(0, 2**n, 2):\n",
    "        Identity[i,i] = -1\n",
    "    return Identity#-Zeroes\n",
    "U0 = AbstractGate(\"U0\", [int], matrix_generator=Uf0, arity = lambda x: x)"
   ]
  },
  {
   "cell_type": "code",
   "execution_count": 16,
   "id": "dcf05478",
   "metadata": {},
   "outputs": [
    {
     "data": {
      "text/plain": [
       "array([[ 1.,  0.,  0.,  0.,  0.,  0.,  0.,  0.],\n",
       "       [ 0., -1.,  0.,  0.,  0.,  0.,  0.,  0.],\n",
       "       [ 0.,  0.,  1.,  0.,  0.,  0.,  0.,  0.],\n",
       "       [ 0.,  0.,  0., -1.,  0.,  0.,  0.,  0.],\n",
       "       [ 0.,  0.,  0.,  0.,  1.,  0.,  0.,  0.],\n",
       "       [ 0.,  0.,  0.,  0.,  0., -1.,  0.,  0.],\n",
       "       [ 0.,  0.,  0.,  0.,  0.,  0.,  1.,  0.],\n",
       "       [ 0.,  0.,  0.,  0.,  0.,  0.,  0., -1.]])"
      ]
     },
     "execution_count": 16,
     "metadata": {},
     "output_type": "execute_result"
    }
   ],
   "source": [
    "Uf0(nqbits+1)"
   ]
  },
  {
   "cell_type": "code",
   "execution_count": 33,
   "id": "48be8929",
   "metadata": {},
   "outputs": [],
   "source": [
    "def Opa(n):\n",
    "    \"\"\"\n",
    "    Implementa una reflexion en torno al estado 0: I-2|0><0|\n",
    "    \"\"\"\n",
    "    #Matriz Identidad\n",
    "    Identity = np.identity(2**n)\n",
    "    Identity[0,0] = -1\n",
    "    return Identity\n",
    "U_0 = AbstractGate(\"U_0\", [int], matrix_generator=Opa, arity = lambda x: x)"
   ]
  },
  {
   "cell_type": "code",
   "execution_count": 34,
   "id": "e12ef7eb",
   "metadata": {
    "scrolled": true
   },
   "outputs": [],
   "source": [
    "from qat.lang.AQASM import Program\n",
    "qprog = Program()\n",
    "qbits = qprog.qalloc(nqbits+1)\n",
    "#Cargo Probabilidad\n",
    "qprog.apply(P_gate, qbits[:-1])\n",
    "#Cargo funcion a integrar\n",
    "qprog.apply(R_gate, qbits)\n",
    "\n",
    "#Reflexion \n",
    "qprog.apply(U0(nqbits+1), qbits)\n",
    "\n",
    "#Reflexion en torno a |Phi>\n",
    "qprog.apply(R_gate.dag(),qbits)\n",
    "qprog.apply(P_gate.dag(),qbits[:-1])\n",
    "\n",
    "qprog.apply(U_0(nqbits+1), qbits)\n",
    "\n",
    "qprog.apply(P_gate,qbits[:-1])\n",
    "qprog.apply(R_gate,qbits)\n"
   ]
  },
  {
   "cell_type": "code",
   "execution_count": 19,
   "id": "b6290fe5",
   "metadata": {},
   "outputs": [],
   "source": [
    "#Reflexion en torno a |Phi>\n",
    "qprog.apply(R_gate.dag(),qbits)\n",
    "qprog.apply(P_gate.dag(),qbits[:-1])\n",
    "\n",
    "qprog.apply(U_0(nqbits+1), qbits)\n",
    "\n",
    "qprog.apply(P_gate,qbits[:-1])\n",
    "qprog.apply(R_gate,qbits)"
   ]
  },
  {
   "cell_type": "code",
   "execution_count": 35,
   "id": "9e805129",
   "metadata": {},
   "outputs": [],
   "source": [
    "circuit = qprog.to_circ()"
   ]
  },
  {
   "cell_type": "code",
   "execution_count": 36,
   "id": "7b6abd6b",
   "metadata": {},
   "outputs": [
    {
     "data": {
      "image/png": "[encoded data removed]",
      "text/plain": [
       "<IPython.core.display.Image object>"
      ]
     },
     "execution_count": 36,
     "metadata": {},
     "output_type": "execute_result"
    }
   ],
   "source": [
    "%qatdisplay circuit"
   ]
  },
  {
   "cell_type": "code",
   "execution_count": 37,
   "id": "8bba5c60",
   "metadata": {},
   "outputs": [],
   "source": [
    "from qat.qpus import get_default_qpu\n",
    "Algebra = get_default_qpu()"
   ]
  },
  {
   "cell_type": "code",
   "execution_count": 39,
   "id": "7487f2ed",
   "metadata": {},
   "outputs": [],
   "source": [
    "result = Algebra.submit(circuit.to_job())"
   ]
  },
  {
   "cell_type": "code",
   "execution_count": 40,
   "id": "742598fc",
   "metadata": {
    "scrolled": true
   },
   "outputs": [
    {
     "name": "stdout",
     "output_type": "stream",
     "text": [
      "Aux qbits have value |000> (the probability of getting this result is (-0.16847353341753765+0j))\n",
      "Aux qbits have value |001> (the probability of getting this result is (0.013468938581582851+0j))\n",
      "Aux qbits have value |010> (the probability of getting this result is (-0.4300505164266705+0j))\n",
      "Aux qbits have value |011> (the probability of getting this result is (0.06925762217131468+0j))\n",
      "Aux qbits have value |100> (the probability of getting this result is (-0.5799493968766805+0j))\n",
      "Aux qbits have value |101> (the probability of getting this result is (0.14589089539783578+0j))\n",
      "Aux qbits have value |110> (the probability of getting this result is (-0.6077372233423123+0j))\n",
      "Aux qbits have value |111> (the probability of getting this result is (0.23393418388553983+0j))\n"
     ]
    }
   ],
   "source": [
    "states, probabilities, amplitudes = [], [], []\n",
    "for res in result:\n",
    "    states.append(res.state) # Store the decimal number that represents each state\n",
    "    probabilities.append(res.probability) # Store its probability\n",
    "    amplitudes.append(res.amplitude)\n",
    "    print(\"Aux qbits have value %s (the probability of getting this result is %s)\"%(\n",
    "        res.state, res.amplitude))"
   ]
  },
  {
   "cell_type": "code",
   "execution_count": null,
   "id": "d75b09af",
   "metadata": {},
   "outputs": [],
   "source": [
    "[amplitudes[i] for i in range(1, len(probabilities), 2)]"
   ]
  },
  {
   "cell_type": "code",
   "execution_count": null,
   "id": "9e582fa2",
   "metadata": {},
   "outputs": [],
   "source": [
    "[states[i] for i in range(1, len(probabilities), 2)]"
   ]
  },
  {
   "cell_type": "code",
   "execution_count": null,
   "id": "b58f30a2",
   "metadata": {},
   "outputs": [],
   "source": []
  },
  {
   "cell_type": "code",
   "execution_count": null,
   "id": "cfcfef58",
   "metadata": {},
   "outputs": [],
   "source": []
  },
  {
   "cell_type": "code",
   "execution_count": null,
   "id": "f5a5de66",
   "metadata": {},
   "outputs": [],
   "source": []
  },
  {
   "cell_type": "code",
   "execution_count": null,
   "id": "ecdf4c5a",
   "metadata": {},
   "outputs": [],
   "source": [
    "Zeroes"
   ]
  },
  {
   "cell_type": "code",
   "execution_count": null,
   "id": "6f2c64d3",
   "metadata": {},
   "outputs": [],
   "source": [
    "Zeroes[[[i,i] for i in range(0, 2**n, 2)], ] = -2"
   ]
  },
  {
   "cell_type": "code",
   "execution_count": null,
   "id": "15620dd0",
   "metadata": {},
   "outputs": [],
   "source": [
    "a= [[i,i] for i in range(0, 2**n, 2)]"
   ]
  },
  {
   "cell_type": "code",
   "execution_count": null,
   "id": "33d87eb2",
   "metadata": {},
   "outputs": [],
   "source": [
    "a"
   ]
  },
  {
   "cell_type": "code",
   "execution_count": null,
   "id": "165426e5",
   "metadata": {},
   "outputs": [],
   "source": [
    "Zeroes[a] = -1"
   ]
  },
  {
   "cell_type": "code",
   "execution_count": null,
   "id": "e39669f3",
   "metadata": {},
   "outputs": [],
   "source": [
    "    [for i in ]\n",
    "    Identity[state, state] =-1\n",
    "    if Positive:\n",
    "        return Identity\n",
    "    else:\n",
    "        return -Identity\n",
    "#Creo una puerta utilizando el circuito    \n",
    "Reflexion_Gate = AbstractGate(\n",
    "    \"Reflexion\", \n",
    "    [int, int, bool], \n",
    "    matrix_generator=Reflection,\n",
    "    arity = lambda x, y, z: x\n",
    ")"
   ]
  },
  {
   "cell_type": "code",
   "execution_count": null,
   "id": "ee2d4a4c",
   "metadata": {},
   "outputs": [],
   "source": []
  },
  {
   "cell_type": "code",
   "execution_count": null,
   "id": "f81f0c1b",
   "metadata": {},
   "outputs": [],
   "source": [
    "from qat.lang.AQASM import Program, RY, CNOT, AbstractGate, QRoutine, Z, X\n",
    "def load_U0(nqbits):\n",
    "\t\"\"\"\n",
    "\tCreates the gate U0, whose action is to flip the sign of the marked states.\n",
    "\tMarked states are those in which the auxiliary qubit has value 1, so this is achieved with a Z gate\n",
    "\tacting on that qubit. This function is more or less unnecessary.\n",
    "\t\n",
    "\tARGUMENTS:\n",
    "\tnqbits (int) : number of qubits without including the auxiliary one\n",
    "\t\n",
    "\tRETURNS:\n",
    "\tU0_gate (ParamGate)\n",
    "\t\"\"\"\n",
    "\tU0 = AbstractGate(\"U0\", [int])\n",
    "\tdef U0_generator(nqbits):\n",
    "\t\trout = QRoutine()\n",
    "\t\treg = rout.new_wires(nqbits+1)\n",
    "\t\trout.apply(Z, reg[-1])\n",
    "\t\treturn rout\n",
    "\tU0.set_circuit_generator(U0_generator)\n",
    "\tU0_gate = U0(nqbits)\n",
    "\treturn U0_gate\n",
    "\n",
    "def load_U1(nqbits, P_gate, R_gate):\n",
    "\t\"\"\"\n",
    "\tFunction that creates the gate which performs the operation of flipping the sign of the component along psi\n",
    "\t\n",
    "\tARGUMENTS:\n",
    "\tnqbits (int) : number of qubits\n",
    "\tR_gate (ParamGate) : Gate that implements the operator R\n",
    "\tP_gate (ParamGate) : Gate that implements the operator P\n",
    "\t\n",
    "\tRETURNS:\n",
    "\tU1_gate (ParamGate)\n",
    "\t\"\"\"\n",
    "\tU1 = AbstractGate(\"U1\", [int])\n",
    "\tdef U1_generator(nqbits):\n",
    "\t\trout = QRoutine()\n",
    "\t\treg = rout.new_wires(nqbits+1)\n",
    "\t\trout.apply(R_gate.dag(), reg)\n",
    "\t\trout.apply(P_gate.dag(), reg[:-1])\n",
    "\t\tfor wire in reg:\n",
    "\t\t\trout.apply(X, wire)\n",
    "\t\trout.apply(H, reg[-1])\n",
    "\t\ts = 'X' + '.ctrl()'*nqbits\n",
    "\t\trout.apply(eval(s), reg)\n",
    "\t\trout.apply(H, reg[-1])\n",
    "\t\tfor wire in reg:\n",
    "\t\t\trout.apply(X, wire)\n",
    "\t\trout.apply(P_gate, reg[:-1])\n",
    "\t\trout.apply(R_gate, reg)\n",
    "\t\treturn rout\n",
    "\tU1.set_circuit_generator(U1_generator)\n",
    "\tU1_gate = U1(nqbits)\n",
    "\treturn U1_gate\n",
    "\n",
    "def load_Q(nqbits, P_gate, R_gate):\n",
    "\t\"\"\"\n",
    "\tCreates the Grover operator Q except a global phase, so it really creates the gate -Q\n",
    "\t\n",
    "\tARGUMENTS:\n",
    "\tnqbits  (int)       : number of qubits\n",
    "\tU0_gate (ParamGate) : Gate U_psi_0\n",
    "\tU1_gate (ParamGate) : Gate U_psi\n",
    "\t\n",
    "\tRETURNS:\n",
    "\tQ_gate (ParamGate)  : Gate -Q=U1U0\n",
    "\t\"\"\"\n",
    "\tU0_gate = load_U0(nqbits)\n",
    "\tU1_gate = load_U1(nqbits, P_gate, R_gate)\n",
    "\tQ = AbstractGate(\"Q\", [int])\n",
    "\tdef Q_generator(nqbits):\n",
    "\t\trout = QRoutine()\n",
    "\t\treg  = rout.new_wires(nqbits+1)\n",
    "\t\trout.apply(U0_gate, reg)\n",
    "\t\trout.apply(U1_gate, reg)\n",
    "\t\treturn rout\n",
    "\tQ.set_circuit_generator(Q_generator)\n",
    "\tQ_gate = Q(nqbits)\n",
    "\treturn Q_gate, U0_gate, U1_gate\n"
   ]
  },
  {
   "cell_type": "code",
   "execution_count": null,
   "id": "7da9dbe5",
   "metadata": {},
   "outputs": [],
   "source": [
    "from qat.lang.AQASM import Program, RY, CNOT, AbstractGate, QRoutine, Z, X"
   ]
  },
  {
   "cell_type": "code",
   "execution_count": null,
   "id": "9846a71d",
   "metadata": {},
   "outputs": [],
   "source": [
    "Q_gate, U0_gate, U1_gate  = load_Q(nqbits, P_gate, R_gate)"
   ]
  },
  {
   "cell_type": "code",
   "execution_count": null,
   "id": "a8da095a",
   "metadata": {
    "scrolled": true
   },
   "outputs": [],
   "source": [
    "qprog = Program()\n",
    "qbits = qprog.qalloc(nqbits+1)\n",
    "qprog.apply(P_gate, qbits[:-1])\n",
    "qprog.apply(R_gate, qbits)\n",
    "q_aux = qprog.qalloc(n_aux)\n",
    "for i, aux in enumerate(q_aux):\n",
    "    qprog.apply(H, aux)\n",
    "    # Apply Q**(2**i) controlled by the auxiliary register\n",
    "    for _ in range(2**(i)):\n",
    "        qprog.apply(Q_gate.ctrl(), aux, qbits)\n",
    "qprog.apply(QFT(n_aux).dag(), q_aux)        "
   ]
  },
  {
   "cell_type": "code",
   "execution_count": null,
   "id": "273a2b95",
   "metadata": {},
   "outputs": [],
   "source": [
    "circuit = qprog.to_circ()"
   ]
  },
  {
   "cell_type": "code",
   "execution_count": null,
   "id": "ea10c5ef",
   "metadata": {},
   "outputs": [],
   "source": [
    "%qatdisplay circuit"
   ]
  },
  {
   "cell_type": "code",
   "execution_count": null,
   "id": "2721c07a",
   "metadata": {},
   "outputs": [],
   "source": [
    "from qat.qpus import get_default_qpu"
   ]
  },
  {
   "cell_type": "code",
   "execution_count": null,
   "id": "42201e51",
   "metadata": {},
   "outputs": [],
   "source": [
    "Algebra = get_default_qpu()"
   ]
  },
  {
   "cell_type": "code",
   "execution_count": null,
   "id": "9362eadb",
   "metadata": {},
   "outputs": [],
   "source": [
    "result = Algebra.submit(circuit.to_job())"
   ]
  },
  {
   "cell_type": "code",
   "execution_count": null,
   "id": "be5e8a8f",
   "metadata": {},
   "outputs": [],
   "source": [
    "result = Algebra.submit(circuit.to_job(qubits = [i+nqbits+1 for i in range(n_aux)])) "
   ]
  },
  {
   "cell_type": "code",
   "execution_count": null,
   "id": "f44ed1de",
   "metadata": {},
   "outputs": [],
   "source": [
    "states, probabilities = [], []\n",
    "for res in result:\n",
    "    states.append(res.state.int) # Store the decimal number that represents each state\n",
    "    probabilities.append(res.probability) # Store its probability\n",
    "    print(\"Aux qbits have value %s (the probability of getting this result is %s)\"%(res.state, res.probability))"
   ]
  },
  {
   "cell_type": "code",
   "execution_count": null,
   "id": "3541802d",
   "metadata": {},
   "outputs": [],
   "source": [
    "# Histogram those values\n",
    "plt.figure(figsize=(12, 6))\n",
    "plt.bar(states, probabilities)\n",
    "plt.xlabel('Measured value')\n",
    "plt.ylabel('Probability')\n",
    "plt.tight_layout()\n",
    "plt.savefig('ProbDistribution.png')\n"
   ]
  },
  {
   "cell_type": "code",
   "execution_count": null,
   "id": "c923ea7a",
   "metadata": {},
   "outputs": [],
   "source": [
    "# Take the maximum probability\n",
    "i_max = np.argsort(probabilities)[-1]"
   ]
  },
  {
   "cell_type": "code",
   "execution_count": null,
   "id": "97e95481",
   "metadata": {},
   "outputs": [],
   "source": [
    "from scipy.integrate import quad"
   ]
  },
  {
   "cell_type": "code",
   "execution_count": null,
   "id": "853dd7f0",
   "metadata": {},
   "outputs": [],
   "source": [
    "# Compute phi for the measured value with its upper and lower limits\n",
    "phis = (np.pi/(2.**n_aux))*np.array([states[i_max], states[i_max]+0.5, states[i_max]-0.5]) #+0.5 and -0.5 are the most extreme values that we could have for M if it was not an int\n",
    "\n",
    "I = np.cos(phis)**2. #Remember that the integral is codified in the amplitudes of \\ket{\\psi_1}\n",
    "\n",
    "print(u'Obtained value of the integral %f' % (I[0]))\n",
    "print(u'Upper and lower bonds', I[1], I[2])\n",
    "\n",
    "\n",
    "Integral = np.sum(probs*y)\n",
    "print(u'Discretized value of the integral:', Integral)\n",
    "\n",
    "def g(x):\n",
    "\treturn f(x)*p(x)/(quad(p, a, b)[0])\n",
    "print(u'Exact value of the integral:', quad(g, a, b))\n"
   ]
  },
  {
   "cell_type": "code",
   "execution_count": null,
   "id": "6749d77b",
   "metadata": {},
   "outputs": [],
   "source": [
    "def U1_generator(nqbits):\n",
    "\t\trout = QRoutine()\n",
    "\t\treg = rout.new_wires(nqbits+1)\n",
    "\t\trout.apply(R_gate.dag(), reg)\n",
    "\t\trout.apply(P_gate.dag(), reg[:-1])\n",
    "\t\tfor wire in reg:\n",
    "\t\t\trout.apply(X, wire)\n",
    "\t\trout.apply(H, reg[-1])\n",
    "\t\ts = 'X' + '.ctrl()'*nqbits\n",
    "\t\trout.apply(eval(s), reg)\n",
    "\t\trout.apply(H, reg[-1])\n",
    "\t\tfor wire in reg:\n",
    "\t\t\trout.apply(X, wire)\n",
    "\t\trout.apply(P_gate, reg[:-1])\n",
    "\t\trout.apply(R_gate, reg)\n",
    "\t\treturn rout"
   ]
  }
 ],
 "metadata": {
  "kernelspec": {
   "display_name": "Python 3 (ipykernel)",
   "language": "python",
   "name": "python3"
  },
  "language_info": {
   "codemirror_mode": {
    "name": "ipython",
    "version": 3
   },
   "file_extension": ".py",
   "mimetype": "text/x-python",
   "name": "python",
   "nbconvert_exporter": "python",
   "pygments_lexer": "ipython3",
   "version": "3.9.2"
  }
 },
 "nbformat": 4,
 "nbformat_minor": 5
}
