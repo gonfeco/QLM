{
 "cells": [
  {
   "cell_type": "code",
   "execution_count": null,
   "id": "afd368fe",
   "metadata": {},
   "outputs": [],
   "source": [
    "from IPython.core.display import display, HTML\n",
    "display(HTML(\"<style>.container { width:100% !important; }</style>\"))"
   ]
  },
  {
   "cell_type": "code",
   "execution_count": null,
   "id": "86b00f2f",
   "metadata": {},
   "outputs": [],
   "source": [
    "import numpy as np\n",
    "import matplotlib.pyplot as plt\n",
    "import sys"
   ]
  },
  {
   "cell_type": "code",
   "execution_count": null,
   "id": "11ab095d",
   "metadata": {},
   "outputs": [],
   "source": [
    "from qat.core.console import display\n",
    "from qat.lang.AQASM import Program"
   ]
  },
  {
   "cell_type": "markdown",
   "id": "daab7417",
   "metadata": {},
   "source": [
    "## 1. Cargamos un qbit"
   ]
  },
  {
   "cell_type": "markdown",
   "id": "c11eb04a",
   "metadata": {},
   "source": [
    "Siguiendo el algoritmo de carga empezamos con un estado $|0\\rangle$ sobre el que queremos carga la función de probabilidad $p(x)$. \n",
    "\n",
    "Para ello en el primer qbit lo que hacemos es:\n",
    "\n",
    "$$|\\Psi_1\\rangle = \\sqrt{p_{0}^{1}} |0\\rangle + \\sqrt{p_{1}^{1}} |1\\rangle$$\n",
    "\n",
    "Como solo tenemos un q-bit dividimos todo el dominio x en 2 trozos ($2^{m}, m=1$):\n",
    "\n",
    "$$Dom(x) = I_0 \\cup I_1$$\n",
    "\n",
    "y por definición:\n",
    "\n",
    "$$p_{0}^{1} = \\int_{I_0}{p(x)dx}$$\n",
    "$$p_{1}^{1} = \\int_{I_1}{p(x)dx}$$\n",
    "\n",
    "Esto se puede conseguir mediante una rotación alrededor del eje y de:\n",
    "\n",
    "$$\\theta_{0} = \\arccos{\\sqrt{p_{0}^{1}}}$$\n",
    "\n",
    "$$|\\Psi_1\\rangle = \\cos{\\theta_{0}} |0\\rangle + \\sin{\\theta_{0}} |1\\rangle$$\n",
    "\n",
    "Esto se puede conseguir particularizando a i=0 la siguiente función general:\n",
    "\n",
    "$$f(i) = \\frac{\\int_{x_{L}^{i}}^{\\frac{x_{R}^{i}-x_{L}^{i}}{2}}{p(x)dx}}{\\int_{x_{L}^{i}}^{x_{R}^{i}}{p(x)dx}}$$\n",
    "\n",
    "$$\\theta_{i} = \\arccos{\\sqrt{f(i)}}$$\n",
    "\n",
    "En el caso de un solo qbit:\n",
    "\n",
    "$$f(0) = \\frac{\\int_{x_{L}^{0}}^{\\frac{x_{R}^{0}-x_{L}^{0}}{2}}{p(x)dx}}{\\int_{x_{L}^{0}}^{x_{R}^{0}}{p(x)dx}}=\\frac{\\int_{I_0}{p(x)dx}}{\\int_{I_0 \\cup I_1}{p(x)dx}} = \\int_{I_0}{p(x)dx} = p_{0}^{1}$$\n",
    "\n",
    "Donde hemos utilizado el hecho de que:\n",
    "\n",
    "$$\\int_{I_0 \\cup I_1}{p(x)dx}=\\int_{I_0}{p(x)dx}+\\int_{I_1}{p(x)dx} = 1$$\n",
    "\n",
    "La última igualdad solo es cierta si $I_0 \\cup I_1$ es igual a todo el dominio de X\n",
    "\n",
    "$$\\theta_{0} = \\arccos{\\sqrt{f(0)}}$$\n",
    "$$|\\Psi_1\\rangle = \\cos{\\theta_{0}} |0\\rangle + \\sin{\\theta_{0}} |1\\rangle$$"
   ]
  },
  {
   "cell_type": "code",
   "execution_count": null,
   "id": "d1fba4b0",
   "metadata": {},
   "outputs": [],
   "source": [
    "def get_histogram(p, a, b, nbin):\n",
    "\t\"\"\"\n",
    "\tGiven a function p, convert it into a histogram. The function must be positive, the normalization is automatic.\n",
    "\tNote that instead of having an analytical expression, p could just create an arbitrary vector of the right dimensions and positive amplitudes\n",
    "\tso that this procedure could be used to initialize any quantum state with real amplitudes\n",
    "\t\n",
    "\ta    (float)    = lower limit of the interval\n",
    "\tb    (float)    = upper limit of the interval\n",
    "\tp    (function) = function that we want to convert to a probability mass function. It does not have to be normalized but must be positive in the interval\n",
    "\tnbin (int)      = number of bins in the interval\n",
    "\t\"\"\"\n",
    "\tstep = (b-a)/nbin\n",
    "\tcenters = np.array([a+step*(i+1/2) for i in range(nbin)]) #Calcula directamente los centros de los bines\n",
    "\n",
    "\tprob_n = p(centers)\n",
    "\tassert np.all(prob_n>=0.), 'Probabilities must be positive, so p must be a positive function'\n",
    "\tprobs = prob_n/np.sum(prob_n)\n",
    "\tassert np.isclose(np.sum(probs), 1.), 'Probability is not getting normalized properly'\n",
    "\treturn centers, probs\n"
   ]
  },
  {
   "cell_type": "code",
   "execution_count": null,
   "id": "60fb95cb",
   "metadata": {},
   "outputs": [],
   "source": [
    "def p(x):\n",
    "    return x*x"
   ]
  },
  {
   "cell_type": "code",
   "execution_count": null,
   "id": "31e80dc8",
   "metadata": {},
   "outputs": [],
   "source": [
    "nqbits = 1\n",
    "centers, probs = get_histogram(p, 0, 1, 2**nqbits)"
   ]
  },
  {
   "cell_type": "code",
   "execution_count": null,
   "id": "0ed8c075",
   "metadata": {},
   "outputs": [],
   "source": [
    "centers"
   ]
  },
  {
   "cell_type": "code",
   "execution_count": null,
   "id": "5ec260fe",
   "metadata": {},
   "outputs": [],
   "source": [
    "probs"
   ]
  },
  {
   "cell_type": "code",
   "execution_count": null,
   "id": "92ad27d5",
   "metadata": {},
   "outputs": [],
   "source": [
    "plt.plot(np.linspace(0,1), p(np.linspace(0,1)), 'o')\n",
    "plt.plot(centers, probs, 'o')"
   ]
  },
  {
   "cell_type": "code",
   "execution_count": null,
   "id": "2417f24b",
   "metadata": {},
   "outputs": [],
   "source": [
    "qprog = Program()\n",
    "qbits = qprog.qalloc(1)\n",
    "f_0 = probs[0]/sum(probs)\n",
    "print('f_0: {}'.format(f_0))\n",
    "theta_0 = np.arccos(np.sqrt(f_0))\n",
    "print('theta_0: {}'.format(theta_0))\n",
    "from qat.lang.AQASM import RY\n",
    "qprog.apply(RY(2*theta_0),qbits)\n"
   ]
  },
  {
   "cell_type": "code",
   "execution_count": null,
   "id": "00086b14",
   "metadata": {},
   "outputs": [],
   "source": [
    "#Create the circuit from the program\n",
    "circuit = qprog.to_circ()\n",
    "\n",
    "#Display the circuit\n",
    "%qatdisplay circuit"
   ]
  },
  {
   "cell_type": "code",
   "execution_count": null,
   "id": "124cf552",
   "metadata": {},
   "outputs": [],
   "source": [
    "#Create a Job from the circuit\n",
    "job = circuit.to_job()\n",
    "\n",
    "#Import and create the linear algebra simulator\n",
    "from qat.qpus import LinAlg\n",
    "linalgqpu = LinAlg()\n",
    "\n",
    "#Submit the job to the simulator LinAlg and get the results\n",
    "result = linalgqpu.submit(job)\n",
    "\n",
    "#Print the results\n",
    "for sample in result:\n",
    "    print(\"State %s probability %s\" % (sample.state, sample.probability))"
   ]
  },
  {
   "cell_type": "markdown",
   "id": "f3952361",
   "metadata": {},
   "source": [
    "Ahora añadimos un qbit sobre el que realizaremos una operación contralada en función de si en el  qbit 0 tenemos un estado $|0\\rangle$ ó un estado $|1\\rangle$\n",
    "\n",
    "$$U_f |\\Psi_1\\rangle \\otimes  |0\\rangle= \\cos{\\theta_{0}} |0\\rangle U_{f(0)}|0\\rangle + \\sin{\\theta_{0}} |1\\rangle U_{f(1)}|0\\rangle $$\n",
    "\n"
   ]
  },
  {
   "cell_type": "code",
   "execution_count": null,
   "id": "6fbb20b3",
   "metadata": {},
   "outputs": [],
   "source": [
    "centers, probs = get_histogram(p, 0, 1, 2**2)"
   ]
  },
  {
   "cell_type": "code",
   "execution_count": null,
   "id": "cfea7a58",
   "metadata": {},
   "outputs": [],
   "source": [
    "centers"
   ]
  },
  {
   "cell_type": "code",
   "execution_count": null,
   "id": "5500a2a8",
   "metadata": {},
   "outputs": [],
   "source": [
    "probs"
   ]
  },
  {
   "cell_type": "code",
   "execution_count": null,
   "id": "12d1e855",
   "metadata": {
    "scrolled": true
   },
   "outputs": [],
   "source": [
    "plt.plot(np.linspace(0,1), p(np.linspace(0,1)), 'o')\n",
    "plt.plot(centers, probs, 'o')"
   ]
  },
  {
   "cell_type": "code",
   "execution_count": null,
   "id": "74809563",
   "metadata": {
    "scrolled": true
   },
   "outputs": [],
   "source": [
    "qprog = Program()\n",
    "qbits = qprog.qalloc(2)\n",
    "#centers, probs = get_histogram(p, 0, 1, 2**1)\n",
    "#f_0 = probs[0]/sum(probs)\n",
    "f_0 = sum(probs[:2])\n",
    "\n",
    "print('f_0: {}'.format(f_0))\n",
    "theta_0 = np.arccos(np.sqrt(f_0))\n",
    "print('theta_0: {}'.format(theta_0))\n",
    "from qat.lang.AQASM import RY\n",
    "qprog.apply(RY(2*theta_0),qbits[0])\n",
    "\n",
    "#centers, probs = get_histogram(p, 0, 1, 2**2)\n",
    "f_0 = probs[0]/sum(probs[0:2])\n",
    "f_1 = probs[2]/sum(probs[2:])\n",
    "print('f_0: {}'.format(f_0))\n",
    "print('f_1: {}'.format(f_1))\n",
    "theta_0 = np.arccos(np.sqrt(f_0))\n",
    "theta_1 = np.arccos(np.sqrt(f_1))\n",
    "from qat.lang.AQASM import X\n",
    "\n",
    "qprog.apply(X,qbits[0])\n",
    "qprog.apply(RY(2*theta_0).ctrl(),qbits[0], qbits[1])\n",
    "qprog.apply(X,qbits[0])\n",
    "qprog.apply(RY(2*theta_1).ctrl(),qbits[0], qbits[1])"
   ]
  },
  {
   "cell_type": "code",
   "execution_count": null,
   "id": "25cb572d",
   "metadata": {},
   "outputs": [],
   "source": [
    "nqbits = 3\n",
    "nbins = 2**nqbits\n",
    "centers, probs = get_histogram(p, 0, 1, nbins)\n",
    "qprog = Program()\n",
    "qbits = qprog.qalloc(nqbits)\n",
    "f_0 = sum(probs[:nbins//2])\n",
    "print('f_0: {}'.format(f_0))\n",
    "theta_0 = np.arccos(np.sqrt(f_0))\n",
    "print('theta_0: {}'.format(theta_0))\n",
    "from qat.lang.AQASM import RY\n",
    "qprog.apply(RY(2*theta_0),qbits[0])\n",
    "\n",
    "#iteramos sobre los demás q-bits\n"
   ]
  },
  {
   "cell_type": "code",
   "execution_count": null,
   "id": "70f8becb",
   "metadata": {},
   "outputs": [],
   "source": [
    "nqbits = 5\n",
    "nbins = 2**nqbits\n",
    "centers, probs = get_histogram(p, 0, 1, nbins)\n",
    "print('len(probs): {}'.format(len(probs)))"
   ]
  },
  {
   "cell_type": "code",
   "execution_count": null,
   "id": "9fbda029",
   "metadata": {},
   "outputs": [],
   "source": [
    "for i in range(1, nqbits):\n",
    "    #Division of the Domain for the i-th bin\n",
    "    BinDivision = 2**(i+1)\n",
    "    print('BinDivision: {}'.format(BinDivision))\n",
    "\n",
    "    "
   ]
  },
  {
   "cell_type": "code",
   "execution_count": null,
   "id": "dae14adc",
   "metadata": {},
   "outputs": [],
   "source": [
    "    step = nbins//(2**i)\n",
    "    print(i,step)\n",
    "    TotalBinProbability = [sum(probs[j:j+step]) for j in range(0, nbins, step)]\n",
    "    LeftBinProbability = [sum(probs[j:j+2**i]) for j in range(0, nbins, step)]\n",
    "    print(TotalBinProbability)\n",
    "    print(LeftBinProbability)\n",
    "\n",
    "\n",
    "TotalBinProbability"
   ]
  },
  {
   "cell_type": "code",
   "execution_count": null,
   "id": "67446b78",
   "metadata": {},
   "outputs": [],
   "source": [
    "LeftBinProbability"
   ]
  },
  {
   "cell_type": "code",
   "execution_count": null,
   "id": "4fd557ad",
   "metadata": {},
   "outputs": [],
   "source": [
    "probs"
   ]
  },
  {
   "cell_type": "code",
   "execution_count": null,
   "id": "85d0b436",
   "metadata": {},
   "outputs": [],
   "source": [
    "#centers, probs = get_histogram(p, 0, 1, 2**1)\n",
    "#f_0 = probs[0]/sum(probs)\n",
    "f_0 = sum(probs[:2])\n",
    "\n",
    "print('f_0: {}'.format(f_0))\n",
    "theta_0 = np.arccos(np.sqrt(f_0))\n",
    "print('theta_0: {}'.format(theta_0))\n",
    "from qat.lang.AQASM import RY\n",
    "qprog.apply(RY(2*theta_0),qbits[0])"
   ]
  },
  {
   "cell_type": "code",
   "execution_count": null,
   "id": "c4547197",
   "metadata": {},
   "outputs": [],
   "source": []
  },
  {
   "cell_type": "code",
   "execution_count": null,
   "id": "b8d6b8e1",
   "metadata": {},
   "outputs": [],
   "source": [
    "centers, probs = get_histogram(p, 0, 1, 2**1)"
   ]
  },
  {
   "cell_type": "code",
   "execution_count": null,
   "id": "58760878",
   "metadata": {},
   "outputs": [],
   "source": [
    "centers"
   ]
  },
  {
   "cell_type": "code",
   "execution_count": null,
   "id": "373c70c7",
   "metadata": {},
   "outputs": [],
   "source": [
    "probs"
   ]
  },
  {
   "cell_type": "code",
   "execution_count": null,
   "id": "4ed7d627",
   "metadata": {},
   "outputs": [],
   "source": [
    "centers, probs = get_histogram(p, 0, 1, 2**2)"
   ]
  },
  {
   "cell_type": "code",
   "execution_count": null,
   "id": "9d68d550",
   "metadata": {},
   "outputs": [],
   "source": [
    "centers"
   ]
  },
  {
   "cell_type": "code",
   "execution_count": null,
   "id": "738e5942",
   "metadata": {},
   "outputs": [],
   "source": [
    "probs"
   ]
  },
  {
   "cell_type": "code",
   "execution_count": null,
   "id": "72631c4f",
   "metadata": {},
   "outputs": [],
   "source": [
    "probs[0]/sum(probs[2:])"
   ]
  },
  {
   "cell_type": "code",
   "execution_count": null,
   "id": "4da97a12",
   "metadata": {},
   "outputs": [],
   "source": [
    "sum(probs[2:])"
   ]
  },
  {
   "cell_type": "code",
   "execution_count": null,
   "id": "b2c369b7",
   "metadata": {},
   "outputs": [],
   "source": [
    "#Create the circuit from the program\n",
    "circuit = qprog.to_circ()\n",
    "\n",
    "#Display the circuit\n",
    "%qatdisplay circuit"
   ]
  },
  {
   "cell_type": "code",
   "execution_count": null,
   "id": "223520ef",
   "metadata": {},
   "outputs": [],
   "source": [
    "#Create a Job from the circuit\n",
    "job = circuit.to_job()\n",
    "\n",
    "#Import and create the linear algebra simulator\n",
    "from qat.qpus import LinAlg\n",
    "linalgqpu = LinAlg()\n",
    "\n",
    "#Submit the job to the simulator LinAlg and get the results\n",
    "result = linalgqpu.submit(job)\n",
    "\n",
    "#Print the results\n",
    "for sample in result:\n",
    "    print(\"State %s probability %s\" % (sample.state, sample.probability))"
   ]
  },
  {
   "cell_type": "code",
   "execution_count": null,
   "id": "f1f20ca0",
   "metadata": {},
   "outputs": [],
   "source": [
    "probs"
   ]
  },
  {
   "cell_type": "code",
   "execution_count": null,
   "id": "67a4c65a",
   "metadata": {},
   "outputs": [],
   "source": [
    "0.01+0.09"
   ]
  },
  {
   "cell_type": "code",
   "execution_count": null,
   "id": "5a504d6e",
   "metadata": {},
   "outputs": [],
   "source": [
    "probs[1]/sum(probs[:2])"
   ]
  },
  {
   "cell_type": "code",
   "execution_count": null,
   "id": "301937ab",
   "metadata": {},
   "outputs": [],
   "source": [
    "sum(probs[:2])*probs[0]"
   ]
  },
  {
   "cell_type": "code",
   "execution_count": null,
   "id": "9ce5b56e",
   "metadata": {},
   "outputs": [],
   "source": [
    "sum(probs[2:])*probs[2]"
   ]
  },
  {
   "cell_type": "code",
   "execution_count": null,
   "id": "f5bbd153",
   "metadata": {},
   "outputs": [],
   "source": [
    "sum(probs[2:])*probs[3]"
   ]
  },
  {
   "cell_type": "code",
   "execution_count": null,
   "id": "ae720f60",
   "metadata": {},
   "outputs": [],
   "source": [
    "probs[3]/sum(probs[2:])"
   ]
  },
  {
   "cell_type": "code",
   "execution_count": null,
   "id": "9ec59ca8",
   "metadata": {},
   "outputs": [],
   "source": [
    "probs"
   ]
  },
  {
   "cell_type": "markdown",
   "id": "3bb0941a",
   "metadata": {},
   "source": [
    " ## Juan"
   ]
  },
  {
   "cell_type": "code",
   "execution_count": null,
   "id": "13ce5e4e",
   "metadata": {},
   "outputs": [],
   "source": [
    "nqbits = 2\n",
    "nbins = 2**nqbits\n",
    "a = 0\n",
    "b = 1"
   ]
  },
  {
   "cell_type": "code",
   "execution_count": null,
   "id": "35a1f434",
   "metadata": {},
   "outputs": [],
   "source": [
    "centers, probs = get_histogram(p, a, b, nbins)"
   ]
  },
  {
   "cell_type": "code",
   "execution_count": null,
   "id": "bac4d78f",
   "metadata": {},
   "outputs": [],
   "source": [
    "centers"
   ]
  },
  {
   "cell_type": "code",
   "execution_count": null,
   "id": "b3e8c00a",
   "metadata": {},
   "outputs": [],
   "source": [
    "probs"
   ]
  },
  {
   "cell_type": "code",
   "execution_count": null,
   "id": "24f54ecd",
   "metadata": {},
   "outputs": [],
   "source": [
    "centers, probs = get_histogram(p, a, b, nbins)\n",
    "\n",
    "for m in range(nqbits):\n",
    "    n_parts = 2**(m+1) #Compute the number of subzones which the current state is codifying\n",
    "    edges = np.array([a+(b-a)*(i)/n_parts for i in range(n_parts+1)]) #Compute the edges of that subzones\n",
    "    print(edges)\n",
    "    p_zones = np.array([np.sum(probs[np.logical_and(centers>edges[i],centers<edges[i+1])]) for i in range(n_parts)])\n",
    "    print(p_zones)\n",
    "    p_left = p_zones[[2*j for j in range(n_parts//2)]]\n",
    "    print(p_left)\n",
    "    p_tot = p_left + p_zones[[2*j+1 for j in range(n_parts//2)]]\n",
    "    print(p_tot)\n",
    "    print('** : {}'.format(p_left/p_tot))"
   ]
  },
  {
   "cell_type": "code",
   "execution_count": null,
   "id": "587c3944",
   "metadata": {},
   "outputs": [],
   "source": [
    "probs[0]/sum(probs)"
   ]
  },
  {
   "cell_type": "code",
   "execution_count": null,
   "id": "2f542853",
   "metadata": {},
   "outputs": [],
   "source": []
  },
  {
   "cell_type": "code",
   "execution_count": null,
   "id": "cbd853d5",
   "metadata": {},
   "outputs": [],
   "source": [
    "\t\t\t# Compute the probabilities of each subzone by suming the probabilities of the original histogram.\n",
    "\t\t\t# There is no need to compute integrals since the limiting accuracy is given by the original discretization.\n",
    "\t\t\t# Moreover, this approach allows to handle non analytical probability distributions, measured directly from experiments\n",
    "\t\t\tp_zones = np.array([np.sum(probs[np.logical_and(centers>edges[i],centers<edges[i+1])]) for i in range(n_parts)])\n",
    "\t\t\t# Compute the probability of standing on the left part of each zone \n",
    "\t\t\tp_left = p_zones[[2*j for j in range(n_parts//2)]]\n",
    "\t\t\t# Compute the probability of standing on each zone (left zone + right zone)\n",
    "\t\t\tp_tot = p_left + p_zones[[2*j+1 for j in range(n_parts//2)]]\n",
    "\t\t\t\n",
    "\t\t\t# Compute the rotation angles\n",
    "\t\t\tthetas = np.arccos(np.sqrt(p_left/p_tot))\n"
   ]
  },
  {
   "cell_type": "code",
   "execution_count": null,
   "id": "57dd5de9",
   "metadata": {},
   "outputs": [],
   "source": []
  },
  {
   "cell_type": "code",
   "execution_count": null,
   "id": "82379ba2",
   "metadata": {},
   "outputs": [],
   "source": [
    "qprog = Program()\n",
    "qbits = qprog.qalloc(5)"
   ]
  },
  {
   "cell_type": "code",
   "execution_count": null,
   "id": "1b387349",
   "metadata": {},
   "outputs": [],
   "source": [
    "qprog = Program()\n",
    "qbits = qprog.qalloc(1)"
   ]
  },
  {
   "cell_type": "code",
   "execution_count": null,
   "id": "f88ddfee",
   "metadata": {},
   "outputs": [],
   "source": [
    "qprog = Program()\n",
    "qbits = qprog.qalloc(2)\n",
    "i=1\n",
    "centers, probs = get_histogram(p, 0, 1, 2**i)\n",
    "f_0 = probs[0]/sum(probs)\n",
    "theta_0 = np.arccos(np.sqrt(f_0))\n",
    "from qat.lang.AQASM import RY\n",
    "qprog.apply(RY(2*theta_0),qbits[0])\n",
    "\n",
    "i=2\n",
    "\n",
    "centers, probs = get_histogram(p, 0, 1, 2**i)\n",
    "#Calcula todos los theta\n",
    "fs = []\n",
    "thetas = []\n",
    "for j in range(0,2**i, 2):\n",
    "    #print(probs[j])\n",
    "    #print(probs[j:j+2])\n",
    "    f = probs[j]/sum(probs[j:j+2])\n",
    "    theta = np.arccos(np.sqrt(f))\n",
    "    fs.append(f)\n",
    "    thetas.append(theta)\n",
    "\n",
    "\n",
    "qaux = qprog.qalloc(1)\n",
    "qprog.apply(X,qaux[0])\n",
    "qprog.apply(RY(2*thetas[0]).ctrl(),qaux[0], qbits[1])\n",
    "qprog.apply(X,qaux[0])\n",
    "qprog.apply(RY(2*thetas[1]).ctrl(),qaux[0], qbits[1])\n",
    "\n"
   ]
  },
  {
   "cell_type": "code",
   "execution_count": null,
   "id": "5316e4ab",
   "metadata": {},
   "outputs": [],
   "source": []
  },
  {
   "cell_type": "code",
   "execution_count": null,
   "id": "cd2e46f5",
   "metadata": {},
   "outputs": [],
   "source": [
    "from qat.lang.AQASM import QRoutine, X, RY, H"
   ]
  },
  {
   "cell_type": "code",
   "execution_count": null,
   "id": "d900e14b",
   "metadata": {},
   "outputs": [],
   "source": [
    "i=2\n",
    "routine = QRoutine()\n",
    "input_wires = routine.new_wires(1) # These are our 2 input qubits\n",
    "temp_wire = routine.new_wires(1) # This is our temporary qubit\n",
    "routine.set_ancillae(temp_wire)\n",
    "centers, probs = get_histogram(p, 0, 1, 2**i)\n",
    "print(probs)\n",
    "#Calcula todos los theta\n",
    "fs = []\n",
    "thetas = []\n",
    "for j in range(0,2**i, 2):\n",
    "    #print(probs[j])\n",
    "    #print(probs[j:j+2])\n",
    "    f = probs[j]/sum(probs[j:j+2])\n",
    "    theta = np.arccos(np.sqrt(f))\n",
    "    fs.append(f)\n",
    "    thetas.append(theta)\n",
    "\n",
    "routine.apply(X, temp_wire[0])\n",
    "#routine.apply(H, temp_wire[1])\n",
    "routine.apply(RY(2*thetas[0]).ctrl(), temp_wire, input_wires[0])\n",
    "routine.apply(X, temp_wire[0])\n",
    "routine.apply(RY(2*thetas[1]).ctrl(), temp_wire, input_wires[0])"
   ]
  },
  {
   "cell_type": "code",
   "execution_count": null,
   "id": "2ca21688",
   "metadata": {},
   "outputs": [],
   "source": [
    "qprog = Program()\n",
    "qbits = qprog.qalloc(2)\n",
    "i=1\n",
    "centers, probs = get_histogram(p, 0, 1, 2**i)\n",
    "f_0 = probs[0]/sum(probs)\n",
    "theta_0 = np.arccos(np.sqrt(f_0))\n",
    "from qat.lang.AQASM import RY\n",
    "qprog.apply(RY(2*theta_0),qbits[0])\n",
    "qprog.apply(routine, qbits[1])\n"
   ]
  },
  {
   "cell_type": "code",
   "execution_count": null,
   "id": "4e46d49e",
   "metadata": {},
   "outputs": [],
   "source": []
  },
  {
   "cell_type": "code",
   "execution_count": null,
   "id": "941551b7",
   "metadata": {},
   "outputs": [],
   "source": [
    "#Create the circuit from the program\n",
    "circuit = qprog.to_circ()\n",
    "\n",
    "#Display the circuit\n",
    "%qatdisplay circuit"
   ]
  },
  {
   "cell_type": "code",
   "execution_count": null,
   "id": "53ab3ef4",
   "metadata": {},
   "outputs": [],
   "source": [
    "#Create a Job from the circuitç\n",
    "job = circuit.to_job()\n",
    "\n",
    "#Import and create the linear algebra simulator\n",
    "from qat.qpus import LinAlg\n",
    "linalgqpu = LinAlg()\n",
    "\n",
    "#Submit the job to the simulator LinAlg and get the results\n",
    "result = linalgqpu.submit(job)\n",
    "\n",
    "#Print the results\n",
    "for sample in result:\n",
    "    print(\"State %s probability %s\" % (sample.state, sample.probability))"
   ]
  },
  {
   "cell_type": "code",
   "execution_count": null,
   "id": "84084e2a",
   "metadata": {},
   "outputs": [],
   "source": [
    "probs"
   ]
  },
  {
   "cell_type": "code",
   "execution_count": null,
   "id": "3c4c7b30",
   "metadata": {},
   "outputs": [],
   "source": []
  },
  {
   "cell_type": "code",
   "execution_count": null,
   "id": "9015115d",
   "metadata": {},
   "outputs": [],
   "source": []
  },
  {
   "cell_type": "code",
   "execution_count": null,
   "id": "456ce11f",
   "metadata": {},
   "outputs": [],
   "source": []
  }
 ],
 "metadata": {
  "kernelspec": {
   "display_name": "Python 3 (ipykernel)",
   "language": "python",
   "name": "python3"
  },
  "language_info": {
   "codemirror_mode": {
    "name": "ipython",
    "version": 3
   },
   "file_extension": ".py",
   "mimetype": "text/x-python",
   "name": "python",
   "nbconvert_exporter": "python",
   "pygments_lexer": "ipython3",
   "version": "3.9.2"
  }
 },
 "nbformat": 4,
 "nbformat_minor": 5
}
