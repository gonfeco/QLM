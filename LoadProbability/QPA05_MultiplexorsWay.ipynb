{
 "cells": [
  {
   "cell_type": "code",
   "execution_count": 1,
   "id": "7cda857e",
   "metadata": {},
   "outputs": [
    {
     "data": {
      "text/html": [
       "<style>.container { width:100% !important; }</style>"
      ],
      "text/plain": [
       "<IPython.core.display.HTML object>"
      ]
     },
     "metadata": {},
     "output_type": "display_data"
    }
   ],
   "source": [
    "from IPython.core.display import display, HTML\n",
    "display(HTML(\"<style>.container { width:100% !important; }</style>\"))"
   ]
  },
  {
   "cell_type": "code",
   "execution_count": 2,
   "id": "5d3fa943",
   "metadata": {},
   "outputs": [],
   "source": [
    "import numpy as np\n",
    "import pandas as pd\n",
    "import matplotlib.pyplot as plt\n",
    "import sys, os\n",
    "from qat.core.console import display"
   ]
  },
  {
   "cell_type": "code",
   "execution_count": 3,
   "id": "cbd72313",
   "metadata": {},
   "outputs": [],
   "source": [
    "%load_ext qat.core.magic"
   ]
  },
  {
   "cell_type": "code",
   "execution_count": 4,
   "id": "c9ef78f4",
   "metadata": {},
   "outputs": [
    {
     "name": "stdout",
     "output_type": "stream",
     "text": [
      "Username: gferro\n",
      "········\n"
     ]
    }
   ],
   "source": [
    "#QPU connection\n",
    "try:\n",
    "    from qat.qlmaas import QLMaaSConnection\n",
    "    connection = QLMaaSConnection()\n",
    "    LinAlg = connection.get_qpu(\"qat.qpus:LinAlg\")\n",
    "    lineal_qpu = LinAlg()\n",
    "except ImportError:\n",
    "    from qat.qpus import PyLinalg\n",
    "    lineal_qpu = PyLinalg()"
   ]
  },
  {
   "cell_type": "code",
   "execution_count": 5,
   "id": "5ac42cc2",
   "metadata": {},
   "outputs": [],
   "source": [
    "sys.path.append('/home/gferro/Documentos/NEASQC/PhaseAmplification/')\n",
    "sys.path.append('/home/gferro/Documentos/NEASQC/ProgramasDefinitivos/')"
   ]
  },
  {
   "cell_type": "markdown",
   "id": "7fade5e2",
   "metadata": {},
   "source": [
    "# Quantum Phase Amplification"
   ]
  },
  {
   "cell_type": "markdown",
   "id": "052ee295",
   "metadata": {},
   "source": [
    "Voy a comparar los operadores que monta Juan para la *Phase Amplification* con respecto a los que implementé yo.\n",
    "\n",
    "El notebook *QPA04_PuertasBase.ipynb* tiene toda la teoría y la implementación de las diferentes puertas por lo que aquí voy a aligerar todo lo que pueda para hacer testeos rápidos."
   ]
  },
  {
   "cell_type": "markdown",
   "id": "ef4e02d0",
   "metadata": {},
   "source": [
    "## 1. Carga Completa"
   ]
  },
  {
   "cell_type": "markdown",
   "id": "e63296e1",
   "metadata": {},
   "source": [
    "Lo primero que necesitamos es realizar una carga completa de los datos sobre el sitema cuántico. Esta operación se puede resumir del siguiente modo:\n",
    "\n",
    "$$|\\Psi\\rangle_{n+1}=\\hat{R_{n+1}}\\left(\\hat{P_{n}}\\otimes I\\right)|0\\rangle_{n}\\otimes|0\\rangle_{1}$$\n"
   ]
  },
  {
   "cell_type": "markdown",
   "id": "5c9f4e92",
   "metadata": {},
   "source": [
    "### 1.1 Preparo Datos"
   ]
  },
  {
   "cell_type": "code",
   "execution_count": null,
   "id": "9077c64c",
   "metadata": {},
   "outputs": [],
   "source": [
    "from AuxiliarFunctions import  get_histogram, PostProcessResults, TestBins\n",
    "def p(x):\n",
    "    return x*x\n",
    "def f(x):\n",
    "    return np.sin(x)"
   ]
  },
  {
   "cell_type": "code",
   "execution_count": null,
   "id": "868a0ea7",
   "metadata": {},
   "outputs": [],
   "source": [
    "#number of Qbits for the circuit\n",
    "n_qbits = 4\n",
    "#The number of bins \n",
    "m_bins = 2**n_qbits\n",
    "LowerLimit = 0.0\n",
    "UpperLimit = 1.0 \n",
    "\n",
    "X, p_X = get_histogram(p, LowerLimit, UpperLimit, m_bins)\n",
    "f_X = f(X)"
   ]
  },
  {
   "cell_type": "markdown",
   "id": "c2987b96",
   "metadata": {},
   "source": [
    "### 1.2 Circuto de Carga de datos"
   ]
  },
  {
   "cell_type": "code",
   "execution_count": null,
   "id": "b46cefe8",
   "metadata": {},
   "outputs": [],
   "source": [
    "from QuantumMultiplexors_Module_examples import LoadingData"
   ]
  },
  {
   "cell_type": "code",
   "execution_count": null,
   "id": "26671e7a",
   "metadata": {},
   "outputs": [],
   "source": [
    "qprog = LoadingData(p_X, f_X)"
   ]
  },
  {
   "cell_type": "code",
   "execution_count": null,
   "id": "ec942fe6",
   "metadata": {},
   "outputs": [],
   "source": [
    "circuit = qprog.to_circ()\n",
    "%qatdisplay circuit "
   ]
  },
  {
   "cell_type": "code",
   "execution_count": null,
   "id": "6cc0a3d0",
   "metadata": {},
   "outputs": [],
   "source": [
    "job = circuit.to_job()\n",
    "result = lineal_qpu.submit(job)\n",
    "InitialState = PostProcessResults(result.join())"
   ]
  },
  {
   "cell_type": "code",
   "execution_count": null,
   "id": "1099ec43",
   "metadata": {
    "scrolled": true
   },
   "outputs": [],
   "source": [
    "InitialState"
   ]
  },
  {
   "cell_type": "markdown",
   "id": "10c2ea43",
   "metadata": {},
   "source": [
    "## 2. Amplificación de Amplitud"
   ]
  },
  {
   "cell_type": "markdown",
   "id": "d96a915e",
   "metadata": {},
   "source": [
    "Después de la carga de datos tenemos el sistema en el estado $|\\Psi\\rangle_{n+1}$ que se puede descomponer en dos estados ortogonales $|\\Psi_{1}\\rangle$ y $|\\Psi_{0}\\rangle$ del siguiente modo\n",
    "\n",
    "$$|\\Psi\\rangle_{n+1}=\\sqrt{a}|\\Psi_{1}\\rangle+\\sqrt{1-a}|\\Psi_{0}\\rangle$$\n",
    "\n",
    "Donde \n",
    "\n",
    "$$|\\Psi_{1}\\rangle = \\sum_{x=0}^{2^{n}-1}|x\\rangle_{n}\\otimes\\frac{1}{\\sqrt{a}}\\sqrt{p(x)f(x)}|1\\rangle$$\n",
    "$$|\\Psi_{0}\\rangle = \\sum_{x=0}^{2^{n}-1}|x\\rangle_{n}\\otimes\\frac{1}{\\sqrt{1-a}}\\sqrt{p(x)(1-f(x))}|0\\rangle$$\n",
    "\n",
    "\n",
    "\n",
    "Donde $a=\\sum_{x=0}^{2^{n}-1}p(x)f(x)$\n",
    "\n",
    "Es decir los $n$ primeros qbits están en una superposición de estados y lo único que los diferencia es el estado el último qbit!!\n",
    "\n",
    "Como la integral es la amplitud del estado $|\\Psi_{1}\\rangle$ el paso siguiente es intentar maximizar la probabilidad de que al medir obtengamos dicho estado aplicando el algoritmo de Groover. \n",
    "\n",
    "El algoritmo de Groover adapatado a amplificación de fase consiste en aplicar un número óptimo de veces $k$ el operador $\\hat{Q}$. Este operador se define como:\n",
    "\n",
    "$$\\hat{Q}=\\hat{U}_{|\\Psi\\rangle} \\hat{U}_{|\\Psi_{0}\\rangle}$$\n",
    "\n",
    "Los operadores $\\hat{U}_{|\\Psi_{2}\\rangle}$ y $\\hat{U}_{|\\Psi_{0}\\rangle}$ se construyen del siguiente modo:\n",
    "\n",
    "$$\\hat{U}_{|\\Psi_{0}\\rangle } = \\hat{I} - 2|\\Psi_{0}\\rangle \\langle \\Psi_{0}|$$\n",
    "$$\\hat{U}_{|\\Psi\\rangle } = \\hat{I} - 2|\\Psi\\rangle \\langle \\Psi|$$\n"
   ]
  },
  {
   "cell_type": "markdown",
   "id": "ab516ba3",
   "metadata": {},
   "source": [
    "### 2.1 Operador $\\hat{U}_{|\\Psi_{0}\\rangle}$"
   ]
  },
  {
   "cell_type": "markdown",
   "id": "7ae30fdc",
   "metadata": {},
   "source": [
    "Este operador se construye del siguiente modo:\n",
    "$$\\hat{U}_{|\\Psi_{0}\\rangle } = \\hat{I} - 2|\\Psi_{0}\\rangle \\langle \\Psi_{0}|$$\n",
    "\n",
    "Una operación que sería circuitbale del siguiente modo:\n",
    "\n",
    "$$\\hat{U}_{|\\Psi_{0}\\rangle }=(\\hat{I_{n}}\\otimes X)(\\hat{I_{n}}\\otimes Z)(\\hat{I_{n}}\\otimes X)$$\n",
    "\n",
    "La aplicación de este operador sobre $|\\Psi\\rangle_{n+1}$ es:\n",
    "\n",
    "$$\\hat{U}_{|\\Psi_{0}\\rangle} |\\Psi\\rangle_{n+1} = \\sqrt{a}|\\Psi_{1}\\rangle-\\sqrt{1-a}|\\Psi_{0}\\rangle$$\n",
    "\n",
    "Es decir el operador $\\hat{U}_{|\\Psi_{0}\\rangle }$ realizaría una reflexión en torno el eje definido por el estado $|\\Psi_{1}\\rangle$\n"
   ]
  },
  {
   "cell_type": "code",
   "execution_count": null,
   "id": "6705f635",
   "metadata": {},
   "outputs": [],
   "source": [
    "from PhaseAmplification_Module import U_Phi0 \n",
    "from expectation_module import load_U0"
   ]
  },
  {
   "cell_type": "code",
   "execution_count": null,
   "id": "44557cbe",
   "metadata": {},
   "outputs": [],
   "source": [
    "qZalo = LoadingData(p_X, f_X)\n",
    "qZalo.apply(U_Phi0(n_qbits+1), qZalo.registers)"
   ]
  },
  {
   "cell_type": "code",
   "execution_count": null,
   "id": "9b4c72e9",
   "metadata": {},
   "outputs": [],
   "source": [
    "circuitZ = qZalo.to_circ()\n",
    "%qatdisplay circuitZ "
   ]
  },
  {
   "cell_type": "code",
   "execution_count": null,
   "id": "311a23c9",
   "metadata": {},
   "outputs": [],
   "source": [
    "job = circuitZ.to_job()\n",
    "result = lineal_qpu.submit(job)\n",
    "ZaloState = PostProcessResults(result.join())"
   ]
  },
  {
   "cell_type": "code",
   "execution_count": null,
   "id": "59c19006",
   "metadata": {},
   "outputs": [],
   "source": [
    "qJuan = LoadingData(p_X, f_X)\n",
    "U0_gate = load_U0(n_qbits)\n",
    "qJuan.apply(U0_gate, qJuan.registers)"
   ]
  },
  {
   "cell_type": "code",
   "execution_count": null,
   "id": "8de2e55d",
   "metadata": {},
   "outputs": [],
   "source": [
    "circuitJ = qJuan.to_circ()\n",
    "%qatdisplay circuitJ "
   ]
  },
  {
   "cell_type": "code",
   "execution_count": null,
   "id": "51480855",
   "metadata": {},
   "outputs": [],
   "source": [
    "job = circuitJ.to_job()\n",
    "result = lineal_qpu.submit(job)\n",
    "JuanState = PostProcessResults(result.join())"
   ]
  },
  {
   "cell_type": "markdown",
   "id": "3968ece4",
   "metadata": {},
   "source": [
    "### Comparaciones "
   ]
  },
  {
   "cell_type": "code",
   "execution_count": null,
   "id": "f87d7b3c",
   "metadata": {},
   "outputs": [],
   "source": [
    "InitialState.head()"
   ]
  },
  {
   "cell_type": "code",
   "execution_count": null,
   "id": "a920077b",
   "metadata": {},
   "outputs": [],
   "source": [
    "ZaloState.head()"
   ]
  },
  {
   "cell_type": "code",
   "execution_count": null,
   "id": "9d72300a",
   "metadata": {},
   "outputs": [],
   "source": [
    "JuanState.head()"
   ]
  },
  {
   "cell_type": "markdown",
   "id": "07940b35",
   "metadata": {},
   "source": [
    "Basicamente el operador de Juan implementa la operación inversa al mío (Zalo). Mientras en el caso de zalo se implementa una reflexión en torno al estado $|\\Psi_{1}\\rangle$ en el caso de Juan la reflexión es en torno al estado $|\\Psi_{0}\\rangle$.\n",
    "Zalo cambia de signos todos los estados con qbit final $|0\\rangle$ mientras Juan cambia de signo los estados con qbit final $|1\\rangle$"
   ]
  },
  {
   "cell_type": "markdown",
   "id": "667d00ca",
   "metadata": {},
   "source": [
    "### 2.2 Operador $\\hat{U}_{|\\Psi\\rangle}$"
   ]
  },
  {
   "cell_type": "markdown",
   "id": "b6602519",
   "metadata": {},
   "source": [
    "El operador $\\hat{U}_{|\\Psi\\rangle}$ se basa en el operador difusor de Groover. Y su forma es la siguiente:\n",
    "\n",
    "$$\\hat{U}_{|\\Psi\\rangle } = \\hat{I} - 2|\\Psi\\rangle \\langle \\Psi|$$\n",
    "\n",
    "Como\n",
    "\n",
    "$$|\\Psi\\rangle_{n+1}=\\hat{R_{n+1}}\\left(\\hat{P_{n}}\\otimes I\\right)|0\\rangle_{n}\\otimes|0\\rangle_{1}$$\n",
    "\n",
    "Entonces podremos componer el operador del siguiente modo:\n",
    "\n",
    "$$\\hat{U}_{|\\Psi\\rangle } =\\hat{R_{n+1}}\\left(\\hat{P_{n}}\\otimes I\\right)\\hat{D}_{0} \\left(\\hat{P_{n}}\\otimes I\\right)^{\\dagger} \\hat{R_{n+1}}^{\\dagger}$$\n",
    "\n",
    "Donde $\\hat{D}_{0}$ es una reflexion entorno al estador **perpendicular** al estado $|0\\rangle_{n}$\n",
    "\n",
    "$$\\hat{D}_{0} = \\hat{I}-2|0\\rangle \\langle0|$$"
   ]
  },
  {
   "cell_type": "markdown",
   "id": "ae3742a8",
   "metadata": {},
   "source": [
    "#### 2.2.1 Implementación  $\\hat{D}_{0}$"
   ]
  },
  {
   "cell_type": "markdown",
   "id": "0658caae",
   "metadata": {},
   "source": [
    "Se puede demostrar que la implementación Circuital del Operador $\\hat{D}_{0}$ es:\n",
    "\n",
    "$$\\hat{D}_{0} = \\hat{I}-2|0\\rangle \\langle0|= \\hat{X}^{\\otimes n} c^{n-1}Z \\hat{X}^{\\otimes n}$$"
   ]
  },
  {
   "cell_type": "code",
   "execution_count": null,
   "id": "c0c46cbd",
   "metadata": {},
   "outputs": [],
   "source": [
    "from PhaseAmplification_Module import D_0"
   ]
  },
  {
   "cell_type": "code",
   "execution_count": null,
   "id": "c6b9a67b",
   "metadata": {},
   "outputs": [],
   "source": [
    "qD0 = LoadingData(p_X, f_X)\n",
    "qD0.apply(D_0(n_qbits+1), qD0.registers)"
   ]
  },
  {
   "cell_type": "code",
   "execution_count": null,
   "id": "74916394",
   "metadata": {},
   "outputs": [],
   "source": [
    "circuitD0 = qD0.to_circ()\n",
    "%qatdisplay circuitD0 "
   ]
  },
  {
   "cell_type": "code",
   "execution_count": null,
   "id": "d6edcab7",
   "metadata": {},
   "outputs": [],
   "source": [
    "job = circuitD0.to_job()\n",
    "result = lineal_qpu.submit(job)\n",
    "D0State = PostProcessResults(result.join())"
   ]
  },
  {
   "cell_type": "code",
   "execution_count": null,
   "id": "d4f55bd7",
   "metadata": {},
   "outputs": [],
   "source": [
    "D0State.head()"
   ]
  },
  {
   "cell_type": "code",
   "execution_count": null,
   "id": "a7aa1521",
   "metadata": {},
   "outputs": [],
   "source": [
    "InitialState.head()"
   ]
  },
  {
   "cell_type": "markdown",
   "id": "cc8962f4",
   "metadata": {},
   "source": [
    "Como comprobamos la puerta $D_0$ cumple su cometido!"
   ]
  },
  {
   "cell_type": "markdown",
   "id": "4dfc5cbc",
   "metadata": {},
   "source": [
    "#### 2.2.2 Implementación Circuital $\\hat{U}_{|\\Psi}\\rangle$"
   ]
  },
  {
   "cell_type": "markdown",
   "id": "fad635e3",
   "metadata": {},
   "source": [
    "Nos queda implementar el Difusor:\n",
    "$$\\hat{U}_{|\\Psi\\rangle } = \\hat{I} - 2|\\Psi\\rangle \\langle \\Psi|$$\n",
    "\n",
    "Como ya tenemos implementado\n",
    "\n",
    "$$\\hat{D}_{0} = \\hat{I}-2|0\\rangle \\langle0|$$\n",
    "\n",
    "y sabemos que:\n",
    "\n",
    "$$|\\Psi\\rangle_{n+1}=\\hat{R_{n+1}}\\hat{P_{n}}|0\\rangle_{n+1}$$\n",
    "\n",
    "La forma rápida de implementar el operador Difusor: $\\hat{U}_{|\\Psi\\rangle }$\n",
    "\n",
    "$$\\hat{U}_{|\\Psi\\rangle} = \\hat{R_{n+1}}\\hat{P_{n}}\\hat{D}_{0} \\hat{P_{n}}^{\\dagger} \\hat{R_{n+1}}^{\\dagger}$$\n",
    "\n",
    "Este operador se puede interpretar como una reflexión en torno al estado perpendicular a $|\\Psi\\rangle$\n"
   ]
  },
  {
   "cell_type": "code",
   "execution_count": null,
   "id": "29bbfe9e",
   "metadata": {},
   "outputs": [],
   "source": [
    "from qat.lang.AQASM import AbstractGate, QRoutine\n",
    "def LoadDifusorGate(nqbits, P_gate, R_gate):\n",
    "\n",
    "    def U_Phi_generator(nqbits):\n",
    "        qrout = QRoutine()\n",
    "        qbits = qrout.new_wires(nqbits)\n",
    "        qrout.apply(R_gate.dag(), qbits)\n",
    "        qrout.apply(P_gate.dag(), qbits[:-1])\n",
    "        qrout.apply(D_0(nqbits), qbits)\n",
    "        qrout.apply(P_gate, qbits[:-1])\n",
    "        qrout.apply(R_gate, qbits)\n",
    "        return qrout\n",
    "    U_Phi = AbstractGate(\"UPhi\", [int])\n",
    "    U_Phi.set_circuit_generator(U_Phi_generator)\n",
    "    return U_Phi(nqbits)"
   ]
  },
  {
   "cell_type": "code",
   "execution_count": null,
   "id": "9b7470f1",
   "metadata": {},
   "outputs": [],
   "source": [
    "from QuantumMultiplexors_Module import LoadProbability_Gate, LoadIntegralFunction_Gate"
   ]
  },
  {
   "cell_type": "code",
   "execution_count": null,
   "id": "9c94d17e",
   "metadata": {},
   "outputs": [],
   "source": [
    "P_gate = LoadProbability_Gate(p_X)\n",
    "R_gate = LoadIntegralFunction_Gate(f_X)"
   ]
  },
  {
   "cell_type": "code",
   "execution_count": null,
   "id": "c5665984",
   "metadata": {},
   "outputs": [],
   "source": [
    "U_gate = LoadDifusorGate(n_qbits+1, P_gate, R_gate)"
   ]
  },
  {
   "cell_type": "code",
   "execution_count": null,
   "id": "a495842f",
   "metadata": {},
   "outputs": [],
   "source": [
    "qU = LoadingData(p_X, f_X)\n",
    "qU.apply(U_gate, qU.registers)"
   ]
  },
  {
   "cell_type": "code",
   "execution_count": null,
   "id": "e8723bc3",
   "metadata": {},
   "outputs": [],
   "source": [
    "circuitqU = qU.to_circ()\n",
    "%qatdisplay circuitqU "
   ]
  },
  {
   "cell_type": "code",
   "execution_count": null,
   "id": "bd091072",
   "metadata": {
    "scrolled": true
   },
   "outputs": [],
   "source": [
    "job = circuitqU.to_job()\n",
    "result = lineal_qpu.submit(job)\n",
    "qUState = PostProcessResults(result.join())"
   ]
  },
  {
   "cell_type": "markdown",
   "id": "777ce020",
   "metadata": {},
   "source": [
    "Cabe destacar que:\n",
    "$$\\hat{U}_{|\\Psi\\rangle } |\\Psi\\rangle = (\\hat{I} - 2|\\Psi\\rangle \\langle\\Psi|)|\\Psi\\rangle=-|\\Psi\\rangle$$\n",
    "\n",
    "Esto lo podemos utilizar para verificar que hemos implementado bien la puerta"
   ]
  },
  {
   "cell_type": "code",
   "execution_count": null,
   "id": "89888251",
   "metadata": {},
   "outputs": [],
   "source": [
    "qUState"
   ]
  },
  {
   "cell_type": "code",
   "execution_count": null,
   "id": "c42f62b0",
   "metadata": {},
   "outputs": [],
   "source": [
    "InitialState"
   ]
  },
  {
   "cell_type": "code",
   "execution_count": null,
   "id": "19f5ad71",
   "metadata": {},
   "outputs": [],
   "source": [
    "#number of Qbits for the circuit\n",
    "n_qbits = 4\n",
    "#The number of bins \n",
    "m_bins = 2**n_qbits\n",
    "LowerLimit = 0.0\n",
    "UpperLimit = 1.0 "
   ]
  },
  {
   "cell_type": "code",
   "execution_count": null,
   "id": "9e1e0272",
   "metadata": {},
   "outputs": [],
   "source": [
    "from expectation_module import load_U1"
   ]
  },
  {
   "cell_type": "code",
   "execution_count": null,
   "id": "680f85da",
   "metadata": {},
   "outputs": [],
   "source": [
    "qU_J = LoadingData(p_X, f_X)\n",
    "U1_J_gate = load_U1(n_qbits, P_gate, R_gate)\n",
    "qU_J.apply(U1_J_gate, qU_J.registers)"
   ]
  },
  {
   "cell_type": "code",
   "execution_count": null,
   "id": "304fe851",
   "metadata": {},
   "outputs": [],
   "source": [
    "circuitqU_J = qU_J.to_circ()\n",
    "%qatdisplay circuitqU_J "
   ]
  },
  {
   "cell_type": "code",
   "execution_count": null,
   "id": "cf0e6b4c",
   "metadata": {},
   "outputs": [],
   "source": [
    "job = circuitqU_J.to_job()\n",
    "result = lineal_qpu.submit(job)\n",
    "qU_J_State = PostProcessResults(result.join())"
   ]
  },
  {
   "cell_type": "code",
   "execution_count": null,
   "id": "e070423d",
   "metadata": {},
   "outputs": [],
   "source": [
    "qU_J_State.head()"
   ]
  },
  {
   "cell_type": "code",
   "execution_count": null,
   "id": "ff5de985",
   "metadata": {},
   "outputs": [],
   "source": [
    "InitialState.head()"
   ]
  },
  {
   "cell_type": "markdown",
   "id": "04d19c83",
   "metadata": {},
   "source": [
    "#### Testeo Implementación Juan"
   ]
  },
  {
   "cell_type": "code",
   "execution_count": null,
   "id": "51f1c9ed",
   "metadata": {},
   "outputs": [],
   "source": [
    "from qat.lang.AQASM import Program\n",
    "from expectation_module import load_probabilities, load_function, load_U0, load_U1, load_Q\n",
    "\n",
    "centers, probs, P_gate = load_probabilities(n_qbits, p, LowerLimit, UpperLimit)\n",
    "R_gate, y = load_function(centers, f, n_qbits)\n",
    "Q_gate, U0_gate, U1_gate  = load_Q(n_qbits, P_gate, R_gate)\n",
    "\n",
    "qU_J = Program()\n",
    "qbits = qU_J.qalloc(n_qbits+1)\n",
    "qU_J.apply(P_gate, qbits[:-1])\n",
    "qU_J.apply(R_gate, qbits)\n",
    "qU_J.apply(U1_gate, qbits)"
   ]
  },
  {
   "cell_type": "code",
   "execution_count": null,
   "id": "40b94bb6",
   "metadata": {},
   "outputs": [],
   "source": [
    "circuitqU_J = qU_J.to_circ()\n",
    "%qatdisplay circuitqU_J "
   ]
  },
  {
   "cell_type": "code",
   "execution_count": null,
   "id": "1be046d8",
   "metadata": {},
   "outputs": [],
   "source": [
    "job = circuitqU_J.to_job()\n",
    "result = lineal_qpu.submit(job)\n",
    "qU_J_State = PostProcessResults(result.join())"
   ]
  },
  {
   "cell_type": "code",
   "execution_count": null,
   "id": "1784adb0",
   "metadata": {
    "scrolled": true
   },
   "outputs": [],
   "source": [
    "qU_J_State"
   ]
  }
 ],
 "metadata": {
  "kernelspec": {
   "display_name": "Python 3 (ipykernel)",
   "language": "python",
   "name": "python3"
  },
  "language_info": {
   "codemirror_mode": {
    "name": "ipython",
    "version": 3
   },
   "file_extension": ".py",
   "mimetype": "text/x-python",
   "name": "python",
   "nbconvert_exporter": "python",
   "pygments_lexer": "ipython3",
   "version": "3.9.9"
  }
 },
 "nbformat": 4,
 "nbformat_minor": 5
}
