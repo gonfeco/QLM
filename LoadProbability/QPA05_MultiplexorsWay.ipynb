{
 "cells": [
  {
   "cell_type": "code",
   "execution_count": null,
   "id": "7cda857e",
   "metadata": {},
   "outputs": [],
   "source": [
    "from IPython.core.display import display, HTML\n",
    "display(HTML(\"<style>.container { width:100% !important; }</style>\"))"
   ]
  },
  {
   "cell_type": "code",
   "execution_count": null,
   "id": "5d3fa943",
   "metadata": {},
   "outputs": [],
   "source": [
    "import numpy as np\n",
    "import pandas as pd\n",
    "import matplotlib.pyplot as plt\n",
    "import sys, os\n",
    "#from qat.core.console import display"
   ]
  },
  {
   "cell_type": "code",
   "execution_count": null,
   "id": "cbd72313",
   "metadata": {},
   "outputs": [],
   "source": [
    "%load_ext qat.core.magic"
   ]
  },
  {
   "cell_type": "markdown",
   "id": "c42aabc8",
   "metadata": {},
   "source": [
    "#QPU connection\n",
    "try:\n",
    "    from qat.qlmaas import QLMaaSConnection\n",
    "    connection = QLMaaSConnection()\n",
    "    LinAlg = connection.get_qpu(\"qat.qpus:LinAlg\")\n",
    "    lineal_qpu = LinAlg()\n",
    "except ImportError:\n",
    "    from qat.qpus import PyLinalg\n",
    "    lineal_qpu = PyLinalg()"
   ]
  },
  {
   "cell_type": "code",
   "execution_count": null,
   "id": "14eb6210",
   "metadata": {},
   "outputs": [],
   "source": [
    "#QPU connection\n",
    "QLMASS = True\n",
    "if QLMASS:\n",
    "    try:\n",
    "        from qat.qlmaas import QLMaaSConnection\n",
    "        connection = QLMaaSConnection()\n",
    "        LinAlg = connection.get_qpu(\"qat.qpus:LinAlg\")\n",
    "        lineal_qpu = LinAlg()\n",
    "    except (ImportError, OSError) as e:\n",
    "        print('Problem: usin PyLinalg')\n",
    "        from qat.qpus import PyLinalg\n",
    "        lineal_qpu = PyLinalg()\n",
    "else:\n",
    "    print('User Forces: PyLinalg')\n",
    "    from qat.qpus import PyLinalg\n",
    "    lineal_qpu = PyLinalg()  "
   ]
  },
  {
   "cell_type": "code",
   "execution_count": null,
   "id": "5ac42cc2",
   "metadata": {},
   "outputs": [],
   "source": [
    "#Libreria Zalo\n",
    "sys.path.append('/home/cesga/gferro/NEASQC/PhaseAmplification/')\n",
    "#Libreria Juan\n",
    "sys.path.append('/home/cesga/gferro/NEASQC/ProgramasDefinitivos/')"
   ]
  },
  {
   "cell_type": "markdown",
   "id": "7fade5e2",
   "metadata": {},
   "source": [
    "# Quantum Phase Amplification"
   ]
  },
  {
   "cell_type": "markdown",
   "id": "052ee295",
   "metadata": {},
   "source": [
    "Voy a comparar los operadores que monta Juan para la *Phase Amplification* con respecto a los que implementé yo.\n",
    "\n",
    "El notebook *QPA04_PuertasBase.ipynb* tiene toda la teoría y la implementación de las diferentes puertas por lo que aquí voy a aligerar todo lo que pueda para hacer testeos rápidos."
   ]
  },
  {
   "cell_type": "markdown",
   "id": "ef4e02d0",
   "metadata": {},
   "source": [
    "## 1. Carga Completa"
   ]
  },
  {
   "cell_type": "markdown",
   "id": "e63296e1",
   "metadata": {},
   "source": [
    "Lo primero que necesitamos es realizar una carga completa de los datos sobre el sitema cuántico. Esta operación se puede resumir del siguiente modo:\n",
    "\n",
    "$$|\\Psi\\rangle_{n+1}=\\hat{R_{n+1}}\\left(\\hat{P_{n}}\\otimes I\\right)|0\\rangle_{n}\\otimes|0\\rangle_{1}$$\n"
   ]
  },
  {
   "cell_type": "markdown",
   "id": "5c9f4e92",
   "metadata": {},
   "source": [
    "### 1.1 Preparo Datos"
   ]
  },
  {
   "cell_type": "code",
   "execution_count": null,
   "id": "9077c64c",
   "metadata": {},
   "outputs": [],
   "source": [
    "from AuxiliarFunctions import  get_histogram, PostProcessResults, TestBins, RunJob\n",
    "def p(x):\n",
    "    return x*x\n",
    "def f(x):\n",
    "    return np.sin(x)"
   ]
  },
  {
   "cell_type": "code",
   "execution_count": null,
   "id": "868a0ea7",
   "metadata": {},
   "outputs": [],
   "source": [
    "#number of Qbits for the circuit\n",
    "n_qbits = 4\n",
    "#The number of bins \n",
    "m_bins = 2**n_qbits\n",
    "LowerLimit = 0.0\n",
    "UpperLimit = 1.0 \n",
    "\n",
    "X, p_X = get_histogram(p, LowerLimit, UpperLimit, m_bins)\n",
    "f_X = f(X)"
   ]
  },
  {
   "cell_type": "markdown",
   "id": "c2987b96",
   "metadata": {},
   "source": [
    "### 1.2 Circuto de Carga de datos"
   ]
  },
  {
   "cell_type": "code",
   "execution_count": null,
   "id": "b46cefe8",
   "metadata": {},
   "outputs": [],
   "source": [
    "from QuantumMultiplexors_Module_examples import LoadingData"
   ]
  },
  {
   "cell_type": "code",
   "execution_count": null,
   "id": "26671e7a",
   "metadata": {},
   "outputs": [],
   "source": [
    "qprog = LoadingData(p_X, f_X)\n",
    "circuit = qprog.to_circ()\n",
    "%qatdisplay circuit \n",
    "job = circuit.to_job()\n",
    "InitialState = PostProcessResults(RunJob(lineal_qpu.submit(job)))"
   ]
  },
  {
   "cell_type": "code",
   "execution_count": null,
   "id": "1099ec43",
   "metadata": {
    "scrolled": true
   },
   "outputs": [],
   "source": [
    "InitialState.head()"
   ]
  },
  {
   "cell_type": "markdown",
   "id": "10c2ea43",
   "metadata": {},
   "source": [
    "## 2. Amplificación de Amplitud"
   ]
  },
  {
   "cell_type": "markdown",
   "id": "d96a915e",
   "metadata": {},
   "source": [
    "Después de la carga de datos tenemos el sistema en el estado $|\\Psi\\rangle_{n+1}$ que se puede descomponer en dos estados ortogonales $|\\Psi_{1}\\rangle$ y $|\\Psi_{0}\\rangle$ del siguiente modo\n",
    "\n",
    "$$|\\Psi\\rangle_{n+1}=\\sqrt{a}|\\Psi_{1}\\rangle+\\sqrt{1-a}|\\Psi_{0}\\rangle$$\n",
    "\n",
    "Donde \n",
    "\n",
    "$$|\\Psi_{1}\\rangle = \\sum_{x=0}^{2^{n}-1}|x\\rangle_{n}\\otimes\\frac{1}{\\sqrt{a}}\\sqrt{p(x)f(x)}|1\\rangle$$\n",
    "$$|\\Psi_{0}\\rangle = \\sum_{x=0}^{2^{n}-1}|x\\rangle_{n}\\otimes\\frac{1}{\\sqrt{1-a}}\\sqrt{p(x)(1-f(x))}|0\\rangle$$\n",
    "\n",
    "\n",
    "\n",
    "Donde $a=\\sum_{x=0}^{2^{n}-1}p(x)f(x)$\n",
    "\n",
    "Es decir los $n$ primeros qbits están en una superposición de estados y lo único que los diferencia es el estado el último qbit!!\n",
    "\n",
    "Como la integral es la amplitud del estado $|\\Psi_{1}\\rangle$ el paso siguiente es intentar maximizar la probabilidad de que al medir obtengamos dicho estado aplicando el algoritmo de Groover. \n",
    "\n",
    "El algoritmo de Groover adapatado a amplificación de fase consiste en aplicar un número óptimo de veces $k$ el operador $\\hat{Q}$. Este operador se define como:\n",
    "\n",
    "$$\\hat{Q}=\\hat{U}_{|\\Psi\\rangle} \\hat{U}_{|\\Psi_{0}\\rangle}$$\n",
    "\n",
    "Los operadores $\\hat{U}_{|\\Psi_{2}\\rangle}$ y $\\hat{U}_{|\\Psi_{0}\\rangle}$ se construyen del siguiente modo:\n",
    "\n",
    "$$\\hat{U}_{|\\Psi_{0}\\rangle } = \\hat{I} - 2|\\Psi_{0}\\rangle \\langle \\Psi_{0}|$$\n",
    "$$\\hat{U}_{|\\Psi\\rangle } = \\hat{I} - 2|\\Psi\\rangle \\langle \\Psi|$$\n"
   ]
  },
  {
   "cell_type": "markdown",
   "id": "ab516ba3",
   "metadata": {},
   "source": [
    "### 2.1 Operador $\\hat{U}_{|\\Psi_{0}\\rangle}$"
   ]
  },
  {
   "cell_type": "markdown",
   "id": "7ae30fdc",
   "metadata": {},
   "source": [
    "Este operador se construye del siguiente modo:\n",
    "$$\\hat{U}_{|\\Psi_{0}\\rangle } = \\hat{I} - 2|\\Psi_{0}\\rangle \\langle \\Psi_{0}|$$\n",
    "\n",
    "Una operación que sería circuitable del siguiente modo:\n",
    "\n",
    "$$\\hat{U}_{|\\Psi_{0}\\rangle }=(\\hat{I_{n}}\\otimes X)(\\hat{I_{n}}\\otimes Z)(\\hat{I_{n}}\\otimes X)$$\n",
    "\n",
    "La aplicación de este operador sobre $|\\Psi\\rangle_{n+1}$ es:\n",
    "\n",
    "$$\\hat{U}_{|\\Psi_{0}\\rangle} |\\Psi\\rangle_{n+1} = \\sqrt{a}|\\Psi_{1}\\rangle-\\sqrt{1-a}|\\Psi_{0}\\rangle$$\n",
    "\n",
    "Es decir el operador $\\hat{U}_{|\\Psi_{0}\\rangle }$ realizaría una reflexión en torno el eje definido por el estado $|\\Psi_{1}\\rangle$\n"
   ]
  },
  {
   "cell_type": "code",
   "execution_count": null,
   "id": "6705f635",
   "metadata": {},
   "outputs": [],
   "source": [
    "from PhaseAmplification_Module import U_Phi_0 \n",
    "from expectation_module import load_U0"
   ]
  },
  {
   "cell_type": "code",
   "execution_count": null,
   "id": "44557cbe",
   "metadata": {},
   "outputs": [],
   "source": [
    "qZalo = LoadingData(p_X, f_X)\n",
    "qZalo.apply(U_Phi_0(n_qbits+1), qZalo.registers)\n",
    "circuitZ = qZalo.to_circ()\n",
    "%qatdisplay circuitZ \n",
    "job = circuitZ.to_job()\n",
    "ZaloState = PostProcessResults(RunJob(lineal_qpu.submit(job)))"
   ]
  },
  {
   "cell_type": "code",
   "execution_count": null,
   "id": "59c19006",
   "metadata": {},
   "outputs": [],
   "source": [
    "qJuan = LoadingData(p_X, f_X)\n",
    "U0_gate = load_U0(n_qbits)\n",
    "qJuan.apply(U0_gate, qJuan.registers)\n",
    "circuitJ = qJuan.to_circ()\n",
    "%qatdisplay circuitJ \n",
    "job = circuitJ.to_job()\n",
    "JuanState = PostProcessResults(RunJob(lineal_qpu.submit(job)))"
   ]
  },
  {
   "cell_type": "markdown",
   "id": "3968ece4",
   "metadata": {},
   "source": [
    "### Comparaciones "
   ]
  },
  {
   "cell_type": "code",
   "execution_count": null,
   "id": "f87d7b3c",
   "metadata": {},
   "outputs": [],
   "source": [
    "InitialState.head()"
   ]
  },
  {
   "cell_type": "code",
   "execution_count": null,
   "id": "a920077b",
   "metadata": {},
   "outputs": [],
   "source": [
    "ZaloState.head()"
   ]
  },
  {
   "cell_type": "code",
   "execution_count": null,
   "id": "9d72300a",
   "metadata": {},
   "outputs": [],
   "source": [
    "JuanState.head()"
   ]
  },
  {
   "cell_type": "markdown",
   "id": "07940b35",
   "metadata": {},
   "source": [
    "Basicamente el operador de Juan implementa la operación inversa al mío (Zalo). Mientras en el caso de zalo se implementa una reflexión en torno al estado $|\\Psi_{1}\\rangle$ en el caso de Juan la reflexión es en torno al estado $|\\Psi_{0}\\rangle$.\n",
    "Zalo cambia de signos todos los estados con qbit final $|0\\rangle$ mientras Juan cambia de signo los estados con qbit final $|1\\rangle$"
   ]
  },
  {
   "cell_type": "markdown",
   "id": "667d00ca",
   "metadata": {},
   "source": [
    "### 2.2 Operador $\\hat{U}_{|\\Psi\\rangle}$"
   ]
  },
  {
   "cell_type": "markdown",
   "id": "b6602519",
   "metadata": {},
   "source": [
    "El operador $\\hat{U}_{|\\Psi\\rangle}$ se basa en el operador difusor de Groover. Y su forma es la siguiente:\n",
    "\n",
    "$$\\hat{U}_{|\\Psi\\rangle } = \\hat{I} - 2|\\Psi\\rangle \\langle \\Psi|$$\n",
    "\n",
    "Como\n",
    "\n",
    "$$|\\Psi\\rangle_{n+1}=\\hat{R_{n+1}}\\left(\\hat{P_{n}}\\otimes I\\right)|0\\rangle_{n}\\otimes|0\\rangle_{1}$$\n",
    "\n",
    "Entonces podremos componer el operador del siguiente modo:\n",
    "\n",
    "$$\\hat{U}_{|\\Psi\\rangle } =\\hat{R_{n+1}}\\left(\\hat{P_{n}}\\otimes I\\right)\\hat{D}_{0} \\left(\\hat{P_{n}}\\otimes I\\right)^{\\dagger} \\hat{R_{n+1}}^{\\dagger}$$\n",
    "\n",
    "Donde $\\hat{D}_{0}$ es una reflexion entorno al estador **perpendicular** al estado $|0\\rangle_{n}$\n",
    "\n",
    "$$\\hat{D}_{0} = \\hat{I}-2|0\\rangle \\langle0|$$"
   ]
  },
  {
   "cell_type": "markdown",
   "id": "ae3742a8",
   "metadata": {},
   "source": [
    "#### 2.2.1 Implementación  $\\hat{D}_{0}$"
   ]
  },
  {
   "cell_type": "markdown",
   "id": "0658caae",
   "metadata": {},
   "source": [
    "Se puede demostrar que la implementación Circuital del Operador $\\hat{D}_{0}$ es:\n",
    "\n",
    "$$\\hat{D}_{0} = \\hat{I}-2|0\\rangle \\langle0|= \\hat{X}^{\\otimes n} c^{n-1}Z \\hat{X}^{\\otimes n}$$"
   ]
  },
  {
   "cell_type": "code",
   "execution_count": null,
   "id": "c0c46cbd",
   "metadata": {},
   "outputs": [],
   "source": [
    "from PhaseAmplification_Module import LoadD0_Gate"
   ]
  },
  {
   "cell_type": "code",
   "execution_count": null,
   "id": "c5c5ca3e",
   "metadata": {},
   "outputs": [],
   "source": [
    "D0 = LoadD0_Gate(n_qbits)"
   ]
  },
  {
   "cell_type": "code",
   "execution_count": null,
   "id": "35549c17",
   "metadata": {},
   "outputs": [],
   "source": [
    "%qatdisplay D0 --depth 1"
   ]
  },
  {
   "cell_type": "code",
   "execution_count": null,
   "id": "c6b9a67b",
   "metadata": {},
   "outputs": [],
   "source": [
    "qD0 = LoadingData(p_X, f_X)\n",
    "qD0.apply(LoadD0_Gate(n_qbits+1), qD0.registers)"
   ]
  },
  {
   "cell_type": "code",
   "execution_count": null,
   "id": "74916394",
   "metadata": {},
   "outputs": [],
   "source": [
    "circuitD0 = qD0.to_circ()\n",
    "%qatdisplay circuitD0 "
   ]
  },
  {
   "cell_type": "code",
   "execution_count": null,
   "id": "d6edcab7",
   "metadata": {},
   "outputs": [],
   "source": [
    "job = circuitD0.to_job()\n",
    "D0State =PostProcessResults(RunJob(lineal_qpu.submit(job)))"
   ]
  },
  {
   "cell_type": "code",
   "execution_count": null,
   "id": "d4f55bd7",
   "metadata": {},
   "outputs": [],
   "source": [
    "D0State.head()"
   ]
  },
  {
   "cell_type": "code",
   "execution_count": null,
   "id": "a7aa1521",
   "metadata": {},
   "outputs": [],
   "source": [
    "InitialState.head()"
   ]
  },
  {
   "cell_type": "code",
   "execution_count": null,
   "id": "f7c2cacc",
   "metadata": {},
   "outputs": [],
   "source": [
    "(D0State['Amplitude'].loc[1:] == InitialState['Amplitude'].loc[1:]).all()"
   ]
  },
  {
   "cell_type": "code",
   "execution_count": null,
   "id": "5fbe6842",
   "metadata": {},
   "outputs": [],
   "source": [
    "(D0State['Amplitude'].loc[0] == -InitialState['Amplitude'].loc[0])"
   ]
  },
  {
   "cell_type": "markdown",
   "id": "cc8962f4",
   "metadata": {},
   "source": [
    "Como comprobamos la puerta $D_0$ cumple su cometido!"
   ]
  },
  {
   "cell_type": "markdown",
   "id": "4dfc5cbc",
   "metadata": {},
   "source": [
    "#### 2.2.2 Implementación Circuital $\\hat{U}_{|\\Psi}\\rangle$"
   ]
  },
  {
   "cell_type": "markdown",
   "id": "fad635e3",
   "metadata": {},
   "source": [
    "Nos queda implementar el Difusor:\n",
    "$$\\hat{U}_{|\\Psi\\rangle } = \\hat{I} - 2|\\Psi\\rangle \\langle \\Psi|$$\n",
    "\n",
    "Como ya tenemos implementado\n",
    "\n",
    "$$\\hat{D}_{0} = \\hat{I}-2|0\\rangle \\langle0|$$\n",
    "\n",
    "y sabemos que:\n",
    "\n",
    "$$|\\Psi\\rangle_{n+1}=\\hat{R_{n+1}}\\hat{P_{n}}|0\\rangle_{n+1}$$\n",
    "\n",
    "La forma rápida de implementar el operador Difusor: $\\hat{U}_{|\\Psi\\rangle }$\n",
    "\n",
    "$$\\hat{U}_{|\\Psi\\rangle} = \\hat{R_{n+1}}\\hat{P_{n}}\\hat{D}_{0} \\hat{P_{n}}^{\\dagger} \\hat{R_{n+1}}^{\\dagger}$$\n",
    "\n",
    "Este operador se puede interpretar como una reflexión en torno al estado perpendicular a $|\\Psi\\rangle$\n"
   ]
  },
  {
   "cell_type": "code",
   "execution_count": null,
   "id": "08df9e0d",
   "metadata": {},
   "outputs": [],
   "source": [
    "from QuantumMultiplexors_Module import LoadP_Gate, LoadR_Gate\n",
    "\n",
    "P_gate = LoadP_Gate(p_X)\n",
    "R_gate = LoadR_Gate(f_X)"
   ]
  },
  {
   "cell_type": "code",
   "execution_count": null,
   "id": "79aa7a24",
   "metadata": {},
   "outputs": [],
   "source": [
    "from PhaseAmplification_Module import LoadD0_Gate\n",
    "def U_Phi_Gate(P_gate, R_gate):\n",
    "    \"\"\"\n",
    "    Create gate U_Phi mandatory for Phase Amplification Algorithm.\n",
    "    The operator to implement is: I-2|Phi_{n-1}><Phi_{n-1}|. \n",
    "    Where the state |Phi_{n-1}> is: |Phi_{n-1}>=R*P*|0_{n+1}>. \n",
    "    Where R and P are the gates to load the integral of a function f(x) and \n",
    "    the load of a distribution probabilitiy p(x) respectively.\n",
    "    Inputs:\n",
    "        * nqbits: int. Number of Qbits of the Gate\n",
    "        * P_gate: quantum gate for loading probability distribution.\n",
    "        * R_gate: quantum gate for loading integral of a function f(x)\n",
    "    Outputs:\n",
    "        * U_Phi: guantum gate that implements U_Phi gate\n",
    "    \"\"\"\n",
    "    \n",
    "    \n",
    "    from qat.lang.AQASM import AbstractGate, QRoutine\n",
    "    nqbits = R_gate.arity\n",
    "    def U_Phi_generator():\n",
    "        \"\"\"\n",
    "        Circuit generator for the U_Phi_Gate.\n",
    "        Operation to be implemented: R*P*D_0*P^{+}R^{+}\n",
    "        Inputs:\n",
    "            * nqbits: int. Number of Qbits for the circuit\n",
    "        Outputs:\n",
    "            * qrout: quantum routine with the circuit implementation\n",
    "        \"\"\"\n",
    "        \n",
    "        qrout = QRoutine()\n",
    "        qbits = qrout.new_wires(nqbits)\n",
    "        qrout.apply(R_gate.dag(), qbits)\n",
    "        qrout.apply(P_gate.dag(), qbits[:-1])\n",
    "        D_0 = LoadD0_Gate(nqbits)\n",
    "        qrout.apply(D_0, qbits)\n",
    "        qrout.apply(P_gate, qbits[:-1])\n",
    "        qrout.apply(R_gate, qbits)\n",
    "        return qrout\n",
    "    U_Phi = AbstractGate(\n",
    "        \"UPhi\", \n",
    "        [],\n",
    "        circuit_generator = U_Phi_generator,\n",
    "        arity = nqbits\n",
    "    )\n",
    "    return U_Phi()\n"
   ]
  },
  {
   "cell_type": "code",
   "execution_count": null,
   "id": "730cbb50",
   "metadata": {},
   "outputs": [],
   "source": [
    "qPhi = LoadingData(p_X, f_X)\n",
    "UPhi_Gate = U_Phi_Gate(P_gate, R_gate)\n",
    "qPhi.apply(UPhi_Gate, qPhi.registers)\n",
    "circuitPhi = qPhi.to_circ()\n",
    "%qatdisplay circuitPhi --depth 0\n",
    "job = circuitPhi.to_job()\n",
    "PhiState =PostProcessResults(RunJob(lineal_qpu.submit(job)))"
   ]
  },
  {
   "cell_type": "markdown",
   "id": "9e9cbced",
   "metadata": {},
   "source": [
    "Cabe destacar que:\n",
    "$$\\hat{U}_{|\\Psi\\rangle } |\\Psi\\rangle = (\\hat{I} - 2|\\Psi\\rangle \\langle\\Psi|)|\\Psi\\rangle=-|\\Psi\\rangle$$\n",
    "\n",
    "Esto lo podemos utilizar para verificar que hemos implementado bien la puerta"
   ]
  },
  {
   "cell_type": "code",
   "execution_count": null,
   "id": "be103855",
   "metadata": {},
   "outputs": [],
   "source": [
    "np.isclose(PhiState['Amplitude'],-InitialState['Amplitude']).all()"
   ]
  },
  {
   "cell_type": "code",
   "execution_count": null,
   "id": "a9b0edec",
   "metadata": {},
   "outputs": [],
   "source": []
  },
  {
   "cell_type": "markdown",
   "id": "04d19c83",
   "metadata": {},
   "source": [
    "#### Testeo Implementación Juan"
   ]
  },
  {
   "cell_type": "code",
   "execution_count": null,
   "id": "51f1c9ed",
   "metadata": {},
   "outputs": [],
   "source": [
    "from qat.lang.AQASM import Program\n",
    "from expectation_module import load_probabilities, load_function, load_U0, load_U1, load_Q\n",
    "\n",
    "centers, probs, P_gate = load_probabilities(n_qbits, p, LowerLimit, UpperLimit)\n",
    "R_gate, y = load_function(centers, f, n_qbits)\n",
    "Q_gate, U0_gate, U1_gate  = load_Q(n_qbits, P_gate, R_gate)\n",
    "\n",
    "qU_J = Program()\n",
    "qbits = qU_J.qalloc(n_qbits+1)\n",
    "qU_J.apply(P_gate, qbits[:-1])\n",
    "qU_J.apply(R_gate, qbits)\n",
    "qU_J.apply(U1_gate, qbits)"
   ]
  },
  {
   "cell_type": "code",
   "execution_count": null,
   "id": "40b94bb6",
   "metadata": {},
   "outputs": [],
   "source": [
    "circuitqU_J = qU_J.to_circ()\n",
    "%qatdisplay circuitqU_J "
   ]
  },
  {
   "cell_type": "code",
   "execution_count": null,
   "id": "1be046d8",
   "metadata": {},
   "outputs": [],
   "source": [
    "job = circuitqU_J.to_job()\n",
    "result = lineal_qpu.submit(job)\n",
    "qU_J_State = PostProcessResults(result.join())"
   ]
  },
  {
   "cell_type": "code",
   "execution_count": null,
   "id": "17da66ae",
   "metadata": {},
   "outputs": [],
   "source": [
    "np.isclose(qU_J_State['Amplitude'],-InitialState['Amplitude']).all()"
   ]
  },
  {
   "cell_type": "code",
   "execution_count": null,
   "id": "cb839b23",
   "metadata": {},
   "outputs": [],
   "source": []
  }
 ],
 "metadata": {
  "kernelspec": {
   "display_name": "Python 3 (ipykernel)",
   "language": "python",
   "name": "python3"
  },
  "language_info": {
   "codemirror_mode": {
    "name": "ipython",
    "version": 3
   },
   "file_extension": ".py",
   "mimetype": "text/x-python",
   "name": "python",
   "nbconvert_exporter": "python",
   "pygments_lexer": "ipython3",
   "version": "3.9.9"
  }
 },
 "nbformat": 4,
 "nbformat_minor": 5
}
