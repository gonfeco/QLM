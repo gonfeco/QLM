{
 "cells": [
  {
   "cell_type": "code",
   "execution_count": null,
   "id": "7cda857e",
   "metadata": {},
   "outputs": [],
   "source": [
    "from IPython.core.display import display, HTML\n",
    "display(HTML(\"<style>.container { width:100% !important; }</style>\"))"
   ]
  },
  {
   "cell_type": "code",
   "execution_count": null,
   "id": "5d3fa943",
   "metadata": {},
   "outputs": [],
   "source": [
    "import numpy as np\n",
    "import pandas as pd\n",
    "import matplotlib.pyplot as plt\n",
    "import sys, os\n",
    "#from qat.core.console import display"
   ]
  },
  {
   "cell_type": "code",
   "execution_count": null,
   "id": "cbd72313",
   "metadata": {},
   "outputs": [],
   "source": [
    "%load_ext qat.core.magic"
   ]
  },
  {
   "cell_type": "markdown",
   "id": "c42aabc8",
   "metadata": {},
   "source": [
    "#QPU connection\n",
    "try:\n",
    "    from qat.qlmaas import QLMaaSConnection\n",
    "    connection = QLMaaSConnection()\n",
    "    LinAlg = connection.get_qpu(\"qat.qpus:LinAlg\")\n",
    "    lineal_qpu = LinAlg()\n",
    "except ImportError:\n",
    "    from qat.qpus import PyLinalg\n",
    "    lineal_qpu = PyLinalg()"
   ]
  },
  {
   "cell_type": "code",
   "execution_count": null,
   "id": "14eb6210",
   "metadata": {},
   "outputs": [],
   "source": [
    "from qat.qpus import PyLinalg\n",
    "lineal_qpu = PyLinalg()"
   ]
  },
  {
   "cell_type": "code",
   "execution_count": null,
   "id": "5ac42cc2",
   "metadata": {},
   "outputs": [],
   "source": [
    "#Libreria Zalo\n",
    "sys.path.append('/home/cesga/gferro/NEASQC/PhaseAmplification/')\n",
    "#Libreria Juan\n",
    "sys.path.append('/home/cesga/gferro/NEASQC/ProgramasDefinitivos/')"
   ]
  },
  {
   "cell_type": "code",
   "execution_count": null,
   "id": "43253cd4",
   "metadata": {},
   "outputs": [],
   "source": [
    "def RunJob(job):\n",
    "    result = lineal_qpu.submit(job)\n",
    "    try:\n",
    "        State = PostProcessResults(result.join())\n",
    "    except AttributeError:\n",
    "        State = PostProcessResults(result)\n",
    "    return State"
   ]
  },
  {
   "cell_type": "markdown",
   "id": "7fade5e2",
   "metadata": {},
   "source": [
    "# Quantum Phase Amplification"
   ]
  },
  {
   "cell_type": "markdown",
   "id": "052ee295",
   "metadata": {},
   "source": [
    "Voy a comparar los operadores que monta Juan para la *Phase Amplification* con respecto a los que implementé yo.\n",
    "\n",
    "El notebook *QPA04_PuertasBase.ipynb* tiene toda la teoría y la implementación de las diferentes puertas por lo que aquí voy a aligerar todo lo que pueda para hacer testeos rápidos."
   ]
  },
  {
   "cell_type": "markdown",
   "id": "ef4e02d0",
   "metadata": {},
   "source": [
    "## 1. Carga Completa"
   ]
  },
  {
   "cell_type": "markdown",
   "id": "e63296e1",
   "metadata": {},
   "source": [
    "Lo primero que necesitamos es realizar una carga completa de los datos sobre el sitema cuántico. Esta operación se puede resumir del siguiente modo:\n",
    "\n",
    "$$|\\Psi\\rangle_{n+1}=\\hat{R_{n+1}}\\left(\\hat{P_{n}}\\otimes I\\right)|0\\rangle_{n}\\otimes|0\\rangle_{1}$$\n"
   ]
  },
  {
   "cell_type": "markdown",
   "id": "5c9f4e92",
   "metadata": {},
   "source": [
    "### 1.1 Preparo Datos"
   ]
  },
  {
   "cell_type": "code",
   "execution_count": null,
   "id": "9077c64c",
   "metadata": {},
   "outputs": [],
   "source": [
    "from AuxiliarFunctions import  get_histogram, PostProcessResults, TestBins\n",
    "def p(x):\n",
    "    return x*x\n",
    "def f(x):\n",
    "    return np.sin(x)"
   ]
  },
  {
   "cell_type": "code",
   "execution_count": null,
   "id": "868a0ea7",
   "metadata": {},
   "outputs": [],
   "source": [
    "#number of Qbits for the circuit\n",
    "n_qbits = 4\n",
    "#The number of bins \n",
    "m_bins = 2**n_qbits\n",
    "LowerLimit = 0.0\n",
    "UpperLimit = 1.0 \n",
    "\n",
    "X, p_X = get_histogram(p, LowerLimit, UpperLimit, m_bins)\n",
    "f_X = f(X)"
   ]
  },
  {
   "cell_type": "markdown",
   "id": "c2987b96",
   "metadata": {},
   "source": [
    "### 1.2 Circuto de Carga de datos"
   ]
  },
  {
   "cell_type": "code",
   "execution_count": null,
   "id": "b46cefe8",
   "metadata": {},
   "outputs": [],
   "source": [
    "from QuantumMultiplexors_Module_examples import LoadingData"
   ]
  },
  {
   "cell_type": "code",
   "execution_count": null,
   "id": "26671e7a",
   "metadata": {},
   "outputs": [],
   "source": [
    "qprog = LoadingData(p_X, f_X)\n",
    "circuit = qprog.to_circ()\n",
    "%qatdisplay circuit \n",
    "job = circuit.to_job()\n",
    "InitialState = RunJob(job)"
   ]
  },
  {
   "cell_type": "code",
   "execution_count": null,
   "id": "1099ec43",
   "metadata": {
    "scrolled": true
   },
   "outputs": [],
   "source": [
    "InitialState.head()"
   ]
  },
  {
   "cell_type": "markdown",
   "id": "10c2ea43",
   "metadata": {},
   "source": [
    "## 2. Amplificación de Amplitud"
   ]
  },
  {
   "cell_type": "markdown",
   "id": "d96a915e",
   "metadata": {},
   "source": [
    "Después de la carga de datos tenemos el sistema en el estado $|\\Psi\\rangle_{n+1}$ que se puede descomponer en dos estados ortogonales $|\\Psi_{1}\\rangle$ y $|\\Psi_{0}\\rangle$ del siguiente modo\n",
    "\n",
    "$$|\\Psi\\rangle_{n+1}=\\sqrt{a}|\\Psi_{1}\\rangle+\\sqrt{1-a}|\\Psi_{0}\\rangle$$\n",
    "\n",
    "Donde \n",
    "\n",
    "$$|\\Psi_{1}\\rangle = \\sum_{x=0}^{2^{n}-1}|x\\rangle_{n}\\otimes\\frac{1}{\\sqrt{a}}\\sqrt{p(x)f(x)}|1\\rangle$$\n",
    "$$|\\Psi_{0}\\rangle = \\sum_{x=0}^{2^{n}-1}|x\\rangle_{n}\\otimes\\frac{1}{\\sqrt{1-a}}\\sqrt{p(x)(1-f(x))}|0\\rangle$$\n",
    "\n",
    "\n",
    "\n",
    "Donde $a=\\sum_{x=0}^{2^{n}-1}p(x)f(x)$\n",
    "\n",
    "Es decir los $n$ primeros qbits están en una superposición de estados y lo único que los diferencia es el estado el último qbit!!\n",
    "\n",
    "Como la integral es la amplitud del estado $|\\Psi_{1}\\rangle$ el paso siguiente es intentar maximizar la probabilidad de que al medir obtengamos dicho estado aplicando el algoritmo de Groover. \n",
    "\n",
    "El algoritmo de Groover adapatado a amplificación de fase consiste en aplicar un número óptimo de veces $k$ el operador $\\hat{Q}$. Este operador se define como:\n",
    "\n",
    "$$\\hat{Q}=\\hat{U}_{|\\Psi\\rangle} \\hat{U}_{|\\Psi_{0}\\rangle}$$\n",
    "\n",
    "Los operadores $\\hat{U}_{|\\Psi_{2}\\rangle}$ y $\\hat{U}_{|\\Psi_{0}\\rangle}$ se construyen del siguiente modo:\n",
    "\n",
    "$$\\hat{U}_{|\\Psi_{0}\\rangle } = \\hat{I} - 2|\\Psi_{0}\\rangle \\langle \\Psi_{0}|$$\n",
    "$$\\hat{U}_{|\\Psi\\rangle } = \\hat{I} - 2|\\Psi\\rangle \\langle \\Psi|$$\n"
   ]
  },
  {
   "cell_type": "markdown",
   "id": "ab516ba3",
   "metadata": {},
   "source": [
    "### 2.1 Operador $\\hat{U}_{|\\Psi_{0}\\rangle}$"
   ]
  },
  {
   "cell_type": "markdown",
   "id": "7ae30fdc",
   "metadata": {},
   "source": [
    "Este operador se construye del siguiente modo:\n",
    "$$\\hat{U}_{|\\Psi_{0}\\rangle } = \\hat{I} - 2|\\Psi_{0}\\rangle \\langle \\Psi_{0}|$$\n",
    "\n",
    "Una operación que sería circuitable del siguiente modo:\n",
    "\n",
    "$$\\hat{U}_{|\\Psi_{0}\\rangle }=(\\hat{I_{n}}\\otimes X)(\\hat{I_{n}}\\otimes Z)(\\hat{I_{n}}\\otimes X)$$\n",
    "\n",
    "La aplicación de este operador sobre $|\\Psi\\rangle_{n+1}$ es:\n",
    "\n",
    "$$\\hat{U}_{|\\Psi_{0}\\rangle} |\\Psi\\rangle_{n+1} = \\sqrt{a}|\\Psi_{1}\\rangle-\\sqrt{1-a}|\\Psi_{0}\\rangle$$\n",
    "\n",
    "Es decir el operador $\\hat{U}_{|\\Psi_{0}\\rangle }$ realizaría una reflexión en torno el eje definido por el estado $|\\Psi_{1}\\rangle$\n"
   ]
  },
  {
   "cell_type": "code",
   "execution_count": null,
   "id": "6705f635",
   "metadata": {},
   "outputs": [],
   "source": [
    "from PhaseAmplification_Module import U_Phi_0 \n",
    "from expectation_module import load_U0"
   ]
  },
  {
   "cell_type": "code",
   "execution_count": null,
   "id": "44557cbe",
   "metadata": {},
   "outputs": [],
   "source": [
    "qZalo = LoadingData(p_X, f_X)\n",
    "qZalo.apply(U_Phi_0(n_qbits+1), qZalo.registers)\n",
    "circuitZ = qZalo.to_circ()\n",
    "%qatdisplay circuitZ \n",
    "job = circuitZ.to_job()\n",
    "ZaloState = RunJob(job)"
   ]
  },
  {
   "cell_type": "code",
   "execution_count": null,
   "id": "59c19006",
   "metadata": {},
   "outputs": [],
   "source": [
    "qJuan = LoadingData(p_X, f_X)\n",
    "U0_gate = load_U0(n_qbits)\n",
    "qJuan.apply(U0_gate, qJuan.registers)\n",
    "circuitJ = qJuan.to_circ()\n",
    "%qatdisplay circuitJ \n",
    "job = circuitJ.to_job()\n",
    "JuanState = RunJob(job)"
   ]
  },
  {
   "cell_type": "markdown",
   "id": "3968ece4",
   "metadata": {},
   "source": [
    "### Comparaciones "
   ]
  },
  {
   "cell_type": "code",
   "execution_count": null,
   "id": "f87d7b3c",
   "metadata": {},
   "outputs": [],
   "source": [
    "InitialState.head()"
   ]
  },
  {
   "cell_type": "code",
   "execution_count": null,
   "id": "a920077b",
   "metadata": {},
   "outputs": [],
   "source": [
    "ZaloState.head()"
   ]
  },
  {
   "cell_type": "code",
   "execution_count": null,
   "id": "9d72300a",
   "metadata": {},
   "outputs": [],
   "source": [
    "JuanState.head()"
   ]
  },
  {
   "cell_type": "markdown",
   "id": "07940b35",
   "metadata": {},
   "source": [
    "Basicamente el operador de Juan implementa la operación inversa al mío (Zalo). Mientras en el caso de zalo se implementa una reflexión en torno al estado $|\\Psi_{1}\\rangle$ en el caso de Juan la reflexión es en torno al estado $|\\Psi_{0}\\rangle$.\n",
    "Zalo cambia de signos todos los estados con qbit final $|0\\rangle$ mientras Juan cambia de signo los estados con qbit final $|1\\rangle$"
   ]
  },
  {
   "cell_type": "markdown",
   "id": "667d00ca",
   "metadata": {},
   "source": [
    "### 2.2 Operador $\\hat{U}_{|\\Psi\\rangle}$"
   ]
  },
  {
   "cell_type": "markdown",
   "id": "b6602519",
   "metadata": {},
   "source": [
    "El operador $\\hat{U}_{|\\Psi\\rangle}$ se basa en el operador difusor de Groover. Y su forma es la siguiente:\n",
    "\n",
    "$$\\hat{U}_{|\\Psi\\rangle } = \\hat{I} - 2|\\Psi\\rangle \\langle \\Psi|$$\n",
    "\n",
    "Como\n",
    "\n",
    "$$|\\Psi\\rangle_{n+1}=\\hat{R_{n+1}}\\left(\\hat{P_{n}}\\otimes I\\right)|0\\rangle_{n}\\otimes|0\\rangle_{1}$$\n",
    "\n",
    "Entonces podremos componer el operador del siguiente modo:\n",
    "\n",
    "$$\\hat{U}_{|\\Psi\\rangle } =\\hat{R_{n+1}}\\left(\\hat{P_{n}}\\otimes I\\right)\\hat{D}_{0} \\left(\\hat{P_{n}}\\otimes I\\right)^{\\dagger} \\hat{R_{n+1}}^{\\dagger}$$\n",
    "\n",
    "Donde $\\hat{D}_{0}$ es una reflexion entorno al estador **perpendicular** al estado $|0\\rangle_{n}$\n",
    "\n",
    "$$\\hat{D}_{0} = \\hat{I}-2|0\\rangle \\langle0|$$"
   ]
  },
  {
   "cell_type": "markdown",
   "id": "ae3742a8",
   "metadata": {},
   "source": [
    "#### 2.2.1 Implementación  $\\hat{D}_{0}$"
   ]
  },
  {
   "cell_type": "markdown",
   "id": "0658caae",
   "metadata": {},
   "source": [
    "Se puede demostrar que la implementación Circuital del Operador $\\hat{D}_{0}$ es:\n",
    "\n",
    "$$\\hat{D}_{0} = \\hat{I}-2|0\\rangle \\langle0|= \\hat{X}^{\\otimes n} c^{n-1}Z \\hat{X}^{\\otimes n}$$"
   ]
  },
  {
   "cell_type": "code",
   "execution_count": null,
   "id": "c0c46cbd",
   "metadata": {},
   "outputs": [],
   "source": [
    "from PhaseAmplification_Module import LoadD0_Gate"
   ]
  },
  {
   "cell_type": "code",
   "execution_count": null,
   "id": "c5c5ca3e",
   "metadata": {},
   "outputs": [],
   "source": [
    "D0 = LoadD0_Gate(n_qbits)"
   ]
  },
  {
   "cell_type": "code",
   "execution_count": null,
   "id": "35549c17",
   "metadata": {},
   "outputs": [],
   "source": [
    "%qatdisplay D0 --depth 1"
   ]
  },
  {
   "cell_type": "code",
   "execution_count": null,
   "id": "c6b9a67b",
   "metadata": {},
   "outputs": [],
   "source": [
    "qD0 = LoadingData(p_X, f_X)\n",
    "qD0.apply(LoadD0_Gate(n_qbits+1), qD0.registers)"
   ]
  },
  {
   "cell_type": "code",
   "execution_count": null,
   "id": "74916394",
   "metadata": {},
   "outputs": [],
   "source": [
    "circuitD0 = qD0.to_circ()\n",
    "%qatdisplay circuitD0 "
   ]
  },
  {
   "cell_type": "code",
   "execution_count": null,
   "id": "d6edcab7",
   "metadata": {},
   "outputs": [],
   "source": [
    "job = circuitD0.to_job()\n",
    "D0State = RunJob(job)"
   ]
  },
  {
   "cell_type": "code",
   "execution_count": null,
   "id": "d4f55bd7",
   "metadata": {},
   "outputs": [],
   "source": [
    "D0State.head()"
   ]
  },
  {
   "cell_type": "code",
   "execution_count": null,
   "id": "a7aa1521",
   "metadata": {},
   "outputs": [],
   "source": [
    "InitialState.head()"
   ]
  },
  {
   "cell_type": "code",
   "execution_count": null,
   "id": "f7c2cacc",
   "metadata": {},
   "outputs": [],
   "source": [
    "(D0State['Amplitude'].loc[1:] == InitialState['Amplitude'].loc[1:]).all()"
   ]
  },
  {
   "cell_type": "code",
   "execution_count": null,
   "id": "5fbe6842",
   "metadata": {},
   "outputs": [],
   "source": [
    "(D0State['Amplitude'].loc[0] == -InitialState['Amplitude'].loc[0])"
   ]
  },
  {
   "cell_type": "markdown",
   "id": "cc8962f4",
   "metadata": {},
   "source": [
    "Como comprobamos la puerta $D_0$ cumple su cometido!"
   ]
  },
  {
   "cell_type": "markdown",
   "id": "4dfc5cbc",
   "metadata": {},
   "source": [
    "#### 2.2.2 Implementación Circuital $\\hat{U}_{|\\Psi}\\rangle$"
   ]
  },
  {
   "cell_type": "markdown",
   "id": "fad635e3",
   "metadata": {},
   "source": [
    "Nos queda implementar el Difusor:\n",
    "$$\\hat{U}_{|\\Psi\\rangle } = \\hat{I} - 2|\\Psi\\rangle \\langle \\Psi|$$\n",
    "\n",
    "Como ya tenemos implementado\n",
    "\n",
    "$$\\hat{D}_{0} = \\hat{I}-2|0\\rangle \\langle0|$$\n",
    "\n",
    "y sabemos que:\n",
    "\n",
    "$$|\\Psi\\rangle_{n+1}=\\hat{R_{n+1}}\\hat{P_{n}}|0\\rangle_{n+1}$$\n",
    "\n",
    "La forma rápida de implementar el operador Difusor: $\\hat{U}_{|\\Psi\\rangle }$\n",
    "\n",
    "$$\\hat{U}_{|\\Psi\\rangle} = \\hat{R_{n+1}}\\hat{P_{n}}\\hat{D}_{0} \\hat{P_{n}}^{\\dagger} \\hat{R_{n+1}}^{\\dagger}$$\n",
    "\n",
    "Este operador se puede interpretar como una reflexión en torno al estado perpendicular a $|\\Psi\\rangle$\n"
   ]
  },
  {
   "cell_type": "code",
   "execution_count": null,
   "id": "b47c6bfa",
   "metadata": {},
   "outputs": [],
   "source": []
  },
  {
   "cell_type": "code",
   "execution_count": null,
   "id": "d7598462",
   "metadata": {},
   "outputs": [],
   "source": [
    "from QuantumMultiplexors_Module import LoadP_Gate"
   ]
  },
  {
   "cell_type": "code",
   "execution_count": null,
   "id": "7821d611",
   "metadata": {},
   "outputs": [],
   "source": [
    "P_gate = LoadP_Gate(p_X)"
   ]
  },
  {
   "cell_type": "code",
   "execution_count": null,
   "id": "961731fc",
   "metadata": {},
   "outputs": [],
   "source": [
    "%qatdisplay P_gate"
   ]
  },
  {
   "cell_type": "code",
   "execution_count": null,
   "id": "f4b08a93",
   "metadata": {},
   "outputs": [],
   "source": [
    "from qat.lang.AQASM import Program\n",
    "qprog = Program()\n",
    "qbits = qprog.qalloc(n_qbits)\n",
    "qprog.apply(P_gate, qbits)\n",
    "qprog.apply(P_gate.dag(), qbits)"
   ]
  },
  {
   "cell_type": "code",
   "execution_count": null,
   "id": "94a939ca",
   "metadata": {},
   "outputs": [],
   "source": [
    "circuit = qprog.to_circ()\n",
    "%qatdisplay circuit --depth 0"
   ]
  },
  {
   "cell_type": "code",
   "execution_count": null,
   "id": "c2d75fa4",
   "metadata": {},
   "outputs": [],
   "source": [
    "from qat.lang.AQASM import QRoutine, AbstractGate, RY\n",
    "from AuxiliarFunctions import TestBins, LeftConditionalProbability\n",
    "from QuantumMultiplexors_Module import  multiplexor_RY_m\n",
    "def LoadProbability_Gate(ProbabilityArray):\n",
    "    \"\"\"\n",
    "    Given a discretized probability array the function creates a AbstracGate that allows the load\n",
    "    of the probability in a Quantum State. The number of qbits of the gate will be log2(len(ProbabilityArray))\n",
    "    Inputs:\n",
    "        * ProbabilityArray: np.array. Discretized arrray with the probability to load\n",
    "    Outuput:\n",
    "        * P_gate: Abstract Gate. Gate for loading Input probability in a quantum state\n",
    "    \"\"\"\n",
    "    \n",
    "    #Number of Input qbits for the QWuantum Gate\n",
    "    #nqbits_ = np.log2(len(ProbabilityArray))\n",
    "    ##Probability array must have a dimension of 2^n.\n",
    "    #Condition = (nqbits_%2 ==0) or (nqbits_%2 ==1)\n",
    "    #assert Condition, 'Length of the ProbabilityArray must be of dimension 2^n with n a int. In this case is: {}.'.format(nqbits_)\n",
    "    #\n",
    "    #nqbits = int(nqbits_)\n",
    "    #nbins = len(ProbabilityArray)\n",
    "    nqbits = TestBins(ProbabilityArray, text='Function')\n",
    "\n",
    "    \n",
    "    P = AbstractGate(\"P\", [int])\n",
    "    def P_generator(nqbits):\n",
    "        rout = QRoutine()\n",
    "        reg = rout.new_wires(nqbits)\n",
    "        # Now go iteratively trough each qubit computing the probabilities and adding the corresponding multiplexor\n",
    "        for m in range(nqbits):\n",
    "\n",
    "\n",
    "            #Calculates Conditional Probability\n",
    "            ConditionalProbability = LeftConditionalProbability(m, ProbabilityArray)\n",
    "\n",
    "            \n",
    "            #Rotation angles: length: 2^(i-1)-1 and i the number of qbits of the step\n",
    "            thetas = 2.0*(np.arccos(np.sqrt(ConditionalProbability)))\n",
    "            \"\"\"\n",
    "            n_parts = 2**(m+1) #Compute the number of subzones which the current state is codifying\n",
    "            edges = np.array([a+(b-a)*(i)/n_parts for i in range(n_parts+1)]) #Compute the edges of that subzones\n",
    "        \n",
    "            # Compute the probabilities of each subzone by suming the probabilities of the original histogram.\n",
    "            # There is no need to compute integrals since the limiting accuracy is given by the original discretization.\n",
    "            # Moreover, this approach allows to handle non analytical probability distributions, measured directly from experiments\n",
    "            p_zones = np.array([np.sum(ProbabilityArray[np.logical_and(CentersArray>edges[i],CentersArray<edges[i+1])]) for i in range(n_parts)])\n",
    "            # Compute the probability of standing on the left part of each zone \n",
    "            p_left = p_zones[[2*j for j in range(n_parts//2)]]\n",
    "            # Compute the probability of standing on each zone (left zone + right zone)\n",
    "            p_tot = p_left + p_zones[[2*j+1 for j in range(n_parts//2)]]\n",
    "            \n",
    "            # Compute the rotation angles\n",
    "            thetas = 2.0*np.arccos(np.sqrt(p_left/p_tot))\n",
    "            \"\"\"\n",
    "\n",
    "            if m == 0:\n",
    "                # In the first iteration it is only needed a RY gate\n",
    "                rout.apply(RY(thetas[0]), reg[0])\n",
    "            else:\n",
    "                # In the following iterations we have to apply multiplexors controlled by m qubits\n",
    "                # We call a function to construct the multiplexor, whose action is a block diagonal matrix of Ry gates with angles theta\n",
    "                multiplexor_RY_m(rout, reg, thetas, m, m)\n",
    "        return rout\n",
    "    P.set_circuit_generator(P_generator)\n",
    "    P_gate = P(nqbits)\n",
    "    return P_gate\n",
    "\n",
    "def LoadIntegralFunction_Gate(FunctionArray):\n",
    "    \"\"\"\n",
    "    Load the values of the function f on the states in which the value of the auxiliary qubit is 1 once the probabilities are already loaded.\n",
    "    The number of the qbits of the gate will be log2(len(FunctionArray)) + 1. This is mandatory. The integral will be loaded in last qbit\n",
    "    \n",
    "    Inputs:\n",
    "        * FunctionArray: np.array. Discretized arrray with the function for integral loading\n",
    "    Outputs:\n",
    "        * R_gate (ParamGate) : gate that loads the function into the amplitudes\n",
    "    \"\"\"\n",
    "    assert np.all(FunctionArray<=1.), 'The image of the function must be less than 1. Rescaling is required'\n",
    "    assert np.all(FunctionArray>=0.), 'The image of the function must be greater than 0. Rescaling is required'\n",
    "    assert isinstance(FunctionArray, np.ndarray), 'the output of the function p must be a numpy array'\n",
    "\n",
    "    nqbits = TestBins(FunctionArray, text='Function')\n",
    "    thetas = 2.0*np.arcsin(np.sqrt(FunctionArray))\n",
    "\n",
    "    R = AbstractGate(\"R\", [int])# + [float for theta in thetas])\n",
    "    def R_generator(nqbits):#, *thetas):\n",
    "        rout = QRoutine()\n",
    "        reg = rout.new_wires(nqbits+1)\n",
    "        multiplexor_RY_m(rout, reg, thetas, nqbits, nqbits)\n",
    "        return rout\n",
    "    R.set_circuit_generator(R_generator)\n",
    "    R_gate = R(nqbits)\n",
    "    return R_gate\n"
   ]
  },
  {
   "cell_type": "code",
   "execution_count": null,
   "id": "82daf11f",
   "metadata": {},
   "outputs": [],
   "source": [
    "P_g = LoadProbability_Gate(p_X)"
   ]
  },
  {
   "cell_type": "code",
   "execution_count": null,
   "id": "d2b6150e",
   "metadata": {},
   "outputs": [],
   "source": [
    "from qat.lang.AQASM import Program\n",
    "qprog = Program()\n",
    "qbits = qprog.qalloc(n_qbits)\n",
    "qprog.apply(P_g, qbits)\n",
    "qprog.apply(P_g.dag(), qbits)"
   ]
  },
  {
   "cell_type": "code",
   "execution_count": null,
   "id": "9be8dafe",
   "metadata": {},
   "outputs": [],
   "source": [
    "circuit = qprog.to_circ()\n",
    "%qatdisplay circuit --depth 0\n"
   ]
  },
  {
   "cell_type": "code",
   "execution_count": null,
   "id": "fdb5530b",
   "metadata": {},
   "outputs": [],
   "source": [
    "def LoadProbability_Gate(ProbabilityArray):\n",
    "    \"\"\"\n",
    "    Given a discretized probability array the function creates a AbstracGate that allows the load\n",
    "    of the probability in a Quantum State. The number of qbits of the gate will be log2(len(ProbabilityArray))\n",
    "    Inputs:\n",
    "        * ProbabilityArray: np.array. Discretized arrray with the probability to load\n",
    "    Outuput:\n",
    "        * P_gate: Abstract Gate. Gate for loading Input probability in a quantum state\n",
    "    \"\"\"\n",
    "    \n",
    "    #Number of Input qbits for the QWuantum Gate\n",
    "    #nqbits_ = np.log2(len(ProbabilityArray))\n",
    "    ##Probability array must have a dimension of 2^n.\n",
    "    #Condition = (nqbits_%2 ==0) or (nqbits_%2 ==1)\n",
    "    #assert Condition, 'Length of the ProbabilityArray must be of dimension 2^n with n a int. In this case is: {}.'.format(nqbits_)\n",
    "    #\n",
    "    #nqbits = int(nqbits_)\n",
    "    #nbins = len(ProbabilityArray)\n",
    "    nqbits = TestBins(ProbabilityArray, text='Function')\n",
    "\n",
    "    \n",
    "    P = AbstractGate(\"P\", [int])\n",
    "    def P_generator(nqbits):\n",
    "        rout = QRoutine()\n",
    "        reg = rout.new_wires(nqbits)\n",
    "        # Now go iteratively trough each qubit computing the probabilities and adding the corresponding multiplexor\n",
    "        for m in range(nqbits):\n",
    "\n",
    "\n",
    "            #Calculates Conditional Probability\n",
    "            ConditionalProbability = LeftConditionalProbability(m, ProbabilityArray)\n",
    "\n",
    "            \n",
    "            #Rotation angles: length: 2^(i-1)-1 and i the number of qbits of the step\n",
    "            thetas = 2.0*(np.arccos(np.sqrt(ConditionalProbability)))\n",
    "            \"\"\"\n",
    "            n_parts = 2**(m+1) #Compute the number of subzones which the current state is codifying\n",
    "            edges = np.array([a+(b-a)*(i)/n_parts for i in range(n_parts+1)]) #Compute the edges of that subzones\n",
    "        \n",
    "            # Compute the probabilities of each subzone by suming the probabilities of the original histogram.\n",
    "            # There is no need to compute integrals since the limiting accuracy is given by the original discretization.\n",
    "            # Moreover, this approach allows to handle non analytical probability distributions, measured directly from experiments\n",
    "            p_zones = np.array([np.sum(ProbabilityArray[np.logical_and(CentersArray>edges[i],CentersArray<edges[i+1])]) for i in range(n_parts)])\n",
    "            # Compute the probability of standing on the left part of each zone \n",
    "            p_left = p_zones[[2*j for j in range(n_parts//2)]]\n",
    "            # Compute the probability of standing on each zone (left zone + right zone)\n",
    "            p_tot = p_left + p_zones[[2*j+1 for j in range(n_parts//2)]]\n",
    "            \n",
    "            # Compute the rotation angles\n",
    "            thetas = 2.0*np.arccos(np.sqrt(p_left/p_tot))\n",
    "            \"\"\"\n",
    "\n",
    "            if m == 0:\n",
    "                # In the first iteration it is only needed a RY gate\n",
    "                rout.apply(RY(thetas[0]), reg[0])\n",
    "            else:\n",
    "                # In the following iterations we have to apply multiplexors controlled by m qubits\n",
    "                # We call a function to construct the multiplexor, whose action is a block diagonal matrix of Ry gates with angles theta\n",
    "                multiplexor_RY_m(rout, reg, thetas, m, m)\n",
    "        return rout\n",
    "    P.set_circuit_generator(P_generator)\n",
    "    P_gate = P(nqbits)\n",
    "    return P_gate"
   ]
  },
  {
   "cell_type": "code",
   "execution_count": null,
   "id": "868f24ad",
   "metadata": {},
   "outputs": [],
   "source": [
    "P_gate = LoadP_Gate({'array':p_X})"
   ]
  },
  {
   "cell_type": "code",
   "execution_count": null,
   "id": "cfd9820c",
   "metadata": {},
   "outputs": [],
   "source": [
    "from qat.lang.AQASM import Program\n",
    "qprog = Program()\n",
    "qbits = qprog.qalloc(n_qbits)\n",
    "qprog.apply(P_gate, qbits)\n",
    "qprog.apply(P_gate.dag(), qbits)"
   ]
  },
  {
   "cell_type": "code",
   "execution_count": null,
   "id": "7f7c2eb7",
   "metadata": {},
   "outputs": [],
   "source": [
    "circuit = qprog.to_circ()\n",
    "%qatdisplay circuit --depth 0"
   ]
  },
  {
   "cell_type": "code",
   "execution_count": null,
   "id": "ad50a96e",
   "metadata": {},
   "outputs": [],
   "source": [
    "LoadP_Gate = AbstractGate(\"P\", [dict])\n",
    "LoadP_Gate.set_circuit_generator(P_generatorQM)"
   ]
  },
  {
   "cell_type": "code",
   "execution_count": null,
   "id": "21243164",
   "metadata": {},
   "outputs": [],
   "source": [
    "from qat.lang.AQASM import QRoutine, AbstractGate, RY\n",
    "from AuxiliarFunctions import TestBins, LeftConditionalProbability\n",
    "from QuantumMultiplexors_Module import  multiplexor_RY_m\n",
    "def P_generatorQM(*ProbabilityArray):\n",
    "    \"\"\"\n",
    "    Function generator for the AbstractGate that allows the loading of a discretized Probability\n",
    "    in a Quantum State using Quantum Multiplexors\n",
    "    Inputs:\n",
    "        * ProbabilityArray: dict. Python dictionary whit a key named \"array\" whose corresponding item is a numpy array with the discretized\n",
    "    probability to load. If ProbabilityArray = Dictionary['array']. The number of qbits will be log2(len(ProbabilityArray)). \n",
    "    Outuput:\n",
    "        * qrout: Quantum routine. Routine for loading the discrete probability with Quantum Multiplexors.\n",
    "    \"\"\"\n",
    "    \n",
    "    \n",
    "    #ProbabilityArray = Dictionary['array']\n",
    "    nqbits = TestBins(ProbabilityArray, text='Function')\n",
    "    \n",
    "    qrout = QRoutine()\n",
    "    reg = qrout.new_wires(nqbits)\n",
    "    # Now go iteratively trough each qubit computing the probabilities and adding the corresponding multiplexor\n",
    "    for m in range(nqbits):\n",
    "        #Calculates Conditional Probability\n",
    "        ConditionalProbability = LeftConditionalProbability(m, ProbabilityArray)        \n",
    "        #Rotation angles: length: 2^(i-1)-1 and i the number of qbits of the step\n",
    "        thetas = 2.0*(np.arccos(np.sqrt(ConditionalProbability)))   \n",
    "        \n",
    "        if m == 0:\n",
    "            # In the first iteration it is only needed a RY gate\n",
    "            qrout.apply(RY(thetas[0]), reg[0])\n",
    "        else:\n",
    "            # In the following iterations we have to apply multiplexors controlled by m qubits\n",
    "            # We call a function to construct the multiplexor, whose action is a block diagonal matrix of Ry gates with angles theta\n",
    "            multiplexor_RY_m(qrout, reg, thetas, m, m)        \n",
    "    return qrout  \n",
    "\n",
    "\n",
    "\n"
   ]
  },
  {
   "cell_type": "code",
   "execution_count": null,
   "id": "59bc9a11",
   "metadata": {},
   "outputs": [],
   "source": [
    "LoadP_Gate = AbstractGate(\"P\", [float for i in p_X], circuit_generator=P_generatorQM, arity = int(np.log2(len(p_X))))"
   ]
  },
  {
   "cell_type": "code",
   "execution_count": null,
   "id": "4a923972",
   "metadata": {},
   "outputs": [],
   "source": [
    "P_gate = LoadP_Gate(*p_X)"
   ]
  },
  {
   "cell_type": "code",
   "execution_count": null,
   "id": "fe45fd94",
   "metadata": {},
   "outputs": [],
   "source": [
    "%qatdisplay P_gate"
   ]
  },
  {
   "cell_type": "code",
   "execution_count": null,
   "id": "dec48327",
   "metadata": {},
   "outputs": [],
   "source": [
    "from QuantumMultiplexors_Module import LoadP_Gate, LoadR_Gate\n",
    "P_gateD = LoadP_Gate({'array':p_X})\n",
    "R_gateD = LoadR_Gate({'array':f_X})"
   ]
  },
  {
   "cell_type": "code",
   "execution_count": null,
   "id": "04e3029f",
   "metadata": {},
   "outputs": [],
   "source": [
    "%qatdisplay P_gateD"
   ]
  },
  {
   "cell_type": "code",
   "execution_count": null,
   "id": "a4db4400",
   "metadata": {},
   "outputs": [],
   "source": [
    "from qat.lang.AQASM import Program\n",
    "qprog = Program()\n",
    "qbits = qprog.qalloc(n_qbits)\n",
    "qprog.apply(P_gate, qbits)\n",
    "qprog.apply(P_gate, qbits)"
   ]
  },
  {
   "cell_type": "code",
   "execution_count": null,
   "id": "eef15336",
   "metadata": {},
   "outputs": [],
   "source": [
    "circuit = qprog.to_circ()\n",
    "%qatdisplay circuit --depth 0"
   ]
  },
  {
   "cell_type": "code",
   "execution_count": null,
   "id": "8cfb9c57",
   "metadata": {},
   "outputs": [],
   "source": [
    "P_gateD.conj()"
   ]
  },
  {
   "cell_type": "code",
   "execution_count": null,
   "id": "cb51598e",
   "metadata": {},
   "outputs": [],
   "source": [
    "\"\"\"\n",
    "\n",
    "LoadP_Gate = AbstractGate(\n",
    "    \"P_Gate\",\n",
    "    [dict],\n",
    "    circuit_generator = P_generatorQM,\n",
    ")    \n",
    "\n",
    "from qat.lang.AQASM import QRoutine, AbstractGate, RY\n",
    "from QuantumMultiplexors_Module import  multiplexor_RY_m\n",
    "def R_generatorQM(Dictionary):\n",
    "    \"\"\"\n",
    "    Function generator for creating an AbstractGate that allows the loading of the integral of a given\n",
    "    discretized function array into a Quantum State using Quantum Multiplexors\n",
    "    Inputs:\n",
    "        * Dictionary: dict. Python dictionary with a key named \"array\" whose corresponding item is a numpy array with the discrietized function. If the discretized function is FunctionArray = Dictionary['array'] the number of qbits will be log2(len(FunctionArray)) + 1 qbits.\n",
    "    Outuput:\n",
    "        * qrout: quantum routine. Routine for loading the input function as a integral on the last qbit using Quantum Multiplexors\n",
    "    \"\"\"\n",
    "\n",
    "    FunctionArray = Dictionary['array']\n",
    "\n",
    "    assert np.all(FunctionArray<=1.), 'The image of the function must be less than 1. Rescaling is required'\n",
    "    assert np.all(FunctionArray>=0.), 'The image of the function must be greater than 0. Rescaling is required'\n",
    "    assert isinstance(FunctionArray, np.ndarray), 'the output of the function p must be a numpy array'\n",
    "\n",
    "    nqbits = TestBins(FunctionArray, text='Function')\n",
    "    #Calculation of the rotation angles\n",
    "    thetas = 2.0*np.arcsin(np.sqrt(FunctionArray))\n",
    "\n",
    "\n",
    "    qrout = QRoutine()\n",
    "    reg = qrout.new_wires(nqbits+1)\n",
    "    multiplexor_RY_m(qrout, reg, thetas, nqbits, nqbits)\n",
    "    return qrout\n",
    "\n",
    "LoadR_Gate = AbstractGate(\n",
    "    \"R_Gate\",\n",
    "    [dict],\n",
    "    circuit_generator = R_generatorQM,\n",
    "    #arity = lambda x:TestBins(x['array'], 'Function')+1\n",
    ")\n",
    "\"\"\"\n",
    "\n"
   ]
  },
  {
   "cell_type": "code",
   "execution_count": null,
   "id": "5bff6e82",
   "metadata": {},
   "outputs": [],
   "source": [
    "P_gate = LoadP_Gate({'array':p_X})"
   ]
  },
  {
   "cell_type": "code",
   "execution_count": null,
   "id": "b57f357f",
   "metadata": {},
   "outputs": [],
   "source": [
    "from qat.lang.AQASM import Program\n",
    "qprog = Program()\n",
    "qbits = qprog.qalloc(n_qbits)\n",
    "qprog.apply(P_gate, qbits)\n",
    "#qprog.apply(R_gate.dag(), qbits)\n",
    "#qprog.apply(R_gate.dag(), qbits)\n",
    "qprog.apply(P_gate, qbits)"
   ]
  },
  {
   "cell_type": "code",
   "execution_count": null,
   "id": "111d4591",
   "metadata": {},
   "outputs": [],
   "source": [
    "circuit = qprog.to_circ()\n",
    "%qatdisplay circuit --depth 0x\n"
   ]
  },
  {
   "cell_type": "code",
   "execution_count": null,
   "id": "a479e28a",
   "metadata": {},
   "outputs": [],
   "source": []
  },
  {
   "cell_type": "code",
   "execution_count": null,
   "id": "24da2f39",
   "metadata": {},
   "outputs": [],
   "source": []
  },
  {
   "cell_type": "code",
   "execution_count": null,
   "id": "615dfae3",
   "metadata": {},
   "outputs": [],
   "source": []
  },
  {
   "cell_type": "code",
   "execution_count": null,
   "id": "af7898d6",
   "metadata": {},
   "outputs": [],
   "source": []
  },
  {
   "cell_type": "code",
   "execution_count": null,
   "id": "74679184",
   "metadata": {},
   "outputs": [],
   "source": []
  },
  {
   "cell_type": "code",
   "execution_count": null,
   "id": "81691ce7",
   "metadata": {},
   "outputs": [],
   "source": [
    "from qat.lang.AQASM import QRoutine, AbstractGate\n",
    "def U_Phi_generator(nqbits, GateDictionary):\n",
    "    \"\"\"\n",
    "    Circuit generator for the U_Phi_Gate.\n",
    "    Operation to be implemented: R*P*D_0*P^{+}R^{+}\n",
    "    Inputs:\n",
    "        * nqbits: int. Number of Qbits for the circuit\n",
    "    Outputs:\n",
    "        * qrout: quantum routine with the circuit implementation\n",
    "    \"\"\"\n",
    "    \n",
    "    R_gate = GateDictionary['R_gate']\n",
    "    P_gate = GateDictionary['P_gate']\n",
    "    \n",
    "    qrout = QRoutine()\n",
    "    qbits = qrout.new_wires(nqbits)\n",
    "    qrout.apply(R_gate.dag(), qbits)\n",
    "    #qrout.apply(P_gate.dag(), qbits[:-1])\n",
    "    #D_0 = LoadD0_Gate(len(qbits))\n",
    "    #qrout.apply(D_0, qbits)\n",
    "    #qrout.apply(P_gate, qbits[:-1])\n",
    "    qrout.apply(R_gate, qbits)\n",
    "    return qrout\n",
    "\n",
    "LoadUPhi_Gate = AbstractGate(\n",
    "    \"U_Phi\", \n",
    "    [int, dict],\n",
    "    circuit_generator = U_Phi_generator,\n",
    "    arity = lambda x, y: x\n",
    ")"
   ]
  },
  {
   "cell_type": "code",
   "execution_count": null,
   "id": "9ca354d6",
   "metadata": {},
   "outputs": [],
   "source": []
  },
  {
   "cell_type": "code",
   "execution_count": null,
   "id": "29ce3904",
   "metadata": {},
   "outputs": [],
   "source": []
  },
  {
   "cell_type": "code",
   "execution_count": null,
   "id": "3212bce6",
   "metadata": {},
   "outputs": [],
   "source": []
  },
  {
   "cell_type": "code",
   "execution_count": null,
   "id": "dfd68949",
   "metadata": {},
   "outputs": [],
   "source": []
  },
  {
   "cell_type": "code",
   "execution_count": null,
   "id": "91005e81",
   "metadata": {},
   "outputs": [],
   "source": []
  },
  {
   "cell_type": "code",
   "execution_count": null,
   "id": "90a0e0a1",
   "metadata": {},
   "outputs": [],
   "source": [
    "qU = LoadingData(p_X, f_X)\n",
    "P_gate = LoadP_Gate({'array':p_X})\n",
    "R_gate = LoadR_Gate({'array':f_X})\n",
    "a = dict({'P_gate': P_gate, 'R_gate': R_gate})\n"
   ]
  },
  {
   "cell_type": "code",
   "execution_count": null,
   "id": "b3ff1d3b",
   "metadata": {},
   "outputs": [],
   "source": [
    "Op = LoadUPhi_Gate(n_qbits+1, a)"
   ]
  },
  {
   "cell_type": "code",
   "execution_count": null,
   "id": "7f10c4f0",
   "metadata": {},
   "outputs": [],
   "source": [
    "from expectation_module import load_probabilities, load_function, load_U0, load_U1, load_Q"
   ]
  },
  {
   "cell_type": "code",
   "execution_count": null,
   "id": "23470fb0",
   "metadata": {},
   "outputs": [],
   "source": [
    "nqbits=4\n",
    "centers, probs, P_gate = load_probabilities(nqbits, p, 0, 1)\n",
    "R_gate, y = load_function(centers, f, nqbits)"
   ]
  },
  {
   "cell_type": "code",
   "execution_count": null,
   "id": "506f0f56",
   "metadata": {},
   "outputs": [],
   "source": [
    "from qat.lang.AQASM import Program, RY, CNOT, H, AbstractGate, QRoutine, SWAP, PH, I"
   ]
  },
  {
   "cell_type": "code",
   "execution_count": null,
   "id": "e3d1cc15",
   "metadata": {},
   "outputs": [],
   "source": []
  },
  {
   "cell_type": "code",
   "execution_count": null,
   "id": "282d0be0",
   "metadata": {},
   "outputs": [],
   "source": [
    "qU = LoadingData(p_X, f_X)\n",
    "P_gate = LoadP_Gate({'array':p_X})\n",
    "R_gate = LoadR_Gate({'array':f_X})\n",
    "a = dict({'P_gate': P_gate, 'R_gate': R_gate})"
   ]
  },
  {
   "cell_type": "code",
   "execution_count": null,
   "id": "bf6a9786",
   "metadata": {},
   "outputs": [],
   "source": [
    "Phi = LoadUPhi_Gate(a)"
   ]
  },
  {
   "cell_type": "code",
   "execution_count": null,
   "id": "75d60bdb",
   "metadata": {},
   "outputs": [],
   "source": [
    "%qatdisplay P_gate"
   ]
  },
  {
   "cell_type": "code",
   "execution_count": null,
   "id": "f0f760c1",
   "metadata": {},
   "outputs": [],
   "source": [
    "P_gate.arity"
   ]
  },
  {
   "cell_type": "code",
   "execution_count": null,
   "id": "9d75a103",
   "metadata": {},
   "outputs": [],
   "source": [
    "qU = LoadingData(p_X, f_X)\n",
    "P_gate = LoadP_Gate({'array':p_X})\n",
    "R_gate = LoadR_Gate({'array':f_X})\n",
    "a = dict({'P_gate': P_gate, 'R_gate': R_gate})"
   ]
  },
  {
   "cell_type": "code",
   "execution_count": null,
   "id": "8f61e9b7",
   "metadata": {},
   "outputs": [],
   "source": [
    "from PhaseAmplification_Module import D_0\n",
    "from qat.lang.AQASM import QRoutine, AbstractGate\n",
    "def U_Phi_Gate(nqbits, P_gate, R_gate):\n",
    "    \"\"\"\n",
    "    Create gate U_Phi mandatory for Phase Amplification Algorithm.\n",
    "    The operator to implement is: I-2|Phi_{n-1}><Phi_{n-1}|. \n",
    "    Where the state |Phi_{n-1}> is: |Phi_{n-1}>=R*P*|0_{n+1}>. \n",
    "    Where R and P are the gates to load the integral of a function f(x) and \n",
    "    the load of a distribution probabilitiy p(x) respectively.\n",
    "    Inputs:\n",
    "        * nqbits: int. Number of Qbits of the Gate\n",
    "        * P_gate: quantum gate for loading probability distribution.\n",
    "        * R_gate: quantum gate for loading integral of a function f(x)\n",
    "    Outputs:\n",
    "        * U_Phi: guantum gate that implements U_Phi gate\n",
    "    \"\"\"\n",
    "    \n",
    "\n",
    "    def U_Phi_generator(nqbits):\n",
    "        \"\"\"\n",
    "        Circuit generator for the U_Phi_Gate.\n",
    "        Operation to be implemented: R*P*D_0*P^{+}R^{+}\n",
    "        Inputs:\n",
    "            * nqbits: int. Number of Qbits for the circuit\n",
    "        Outputs:\n",
    "            * qrout: quantum routine with the circuit implementation\n",
    "        \"\"\"\n",
    "        qrout = QRoutine()\n",
    "        qbits = qrout.new_wires(nqbits)\n",
    "        qrout.apply(R_gate.dag(), qbits)\n",
    "        #qrout.apply(P_gate.dag(), qbits[:-1])\n",
    "        #qrout.apply(D_0(nqbits), qbits)\n",
    "        #qrout.apply(P_gate, qbits[:-1])\n",
    "        #qrout.apply(R_gate, qbits)\n",
    "        return qrout\n",
    "    U_Phi = AbstractGate(\"UPhi\", [int])\n",
    "    U_Phi.set_circuit_generator(U_Phi_generator)\n",
    "    return U_Phi(nqbits)\n"
   ]
  },
  {
   "cell_type": "code",
   "execution_count": null,
   "id": "6e05ec9e",
   "metadata": {},
   "outputs": [],
   "source": [
    "from QuantumMultiplexors_Module import LoadP_Gate, LoadR_Gate"
   ]
  },
  {
   "cell_type": "code",
   "execution_count": null,
   "id": "eb3a3920",
   "metadata": {},
   "outputs": [],
   "source": [
    "P_gate = LoadP_Gate({'array':p_X})\n",
    "R_gate = LoadR_Gate({'array':f_X})"
   ]
  },
  {
   "cell_type": "code",
   "execution_count": null,
   "id": "2c85495b",
   "metadata": {},
   "outputs": [],
   "source": [
    "n_qbits"
   ]
  },
  {
   "cell_type": "code",
   "execution_count": null,
   "id": "d97ee926",
   "metadata": {},
   "outputs": [],
   "source": [
    "from qat.lang.AQASM import Program\n",
    "qprog = Program()\n",
    "qbits = qprog.qalloc(n_qbits+1)\n",
    "#qprog.apply(P_gate, qbits[:-1])\n",
    "#qprog.apply(R_gate, qbits)\n",
    "qprog.apply(R_gate.dag(), qbits)\n",
    "qprog.apply(P_gate.dag(), qbits[:-1])\n",
    "qprog.apply(D_0(n_qbits+1), qbits)\n",
    "qprog.apply(P_gate, qbits[:-1])"
   ]
  },
  {
   "cell_type": "code",
   "execution_count": null,
   "id": "dc0bae23",
   "metadata": {},
   "outputs": [],
   "source": [
    "circuit = qprog.to_circ()"
   ]
  },
  {
   "cell_type": "code",
   "execution_count": null,
   "id": "d65c269e",
   "metadata": {},
   "outputs": [],
   "source": [
    "%qatdisplay circuit"
   ]
  },
  {
   "cell_type": "code",
   "execution_count": null,
   "id": "af75bc99",
   "metadata": {},
   "outputs": [],
   "source": [
    "qU = LoadingData(p_X, f_X)"
   ]
  },
  {
   "cell_type": "code",
   "execution_count": null,
   "id": "0b4b75a6",
   "metadata": {},
   "outputs": [],
   "source": [
    "qU.qbit_count"
   ]
  },
  {
   "cell_type": "code",
   "execution_count": null,
   "id": "624b3226",
   "metadata": {},
   "outputs": [],
   "source": [
    "uphi = U_Phi_Gate(qU.qbit_count, P_gate, R_gate)"
   ]
  },
  {
   "cell_type": "code",
   "execution_count": null,
   "id": "492f9340",
   "metadata": {},
   "outputs": [],
   "source": [
    "qU.apply(uphi, qU.registers)"
   ]
  },
  {
   "cell_type": "code",
   "execution_count": null,
   "id": "04e0729d",
   "metadata": {
    "scrolled": true
   },
   "outputs": [],
   "source": [
    "circuitqU = qU.to_circ()"
   ]
  },
  {
   "cell_type": "code",
   "execution_count": null,
   "id": "47cc008c",
   "metadata": {},
   "outputs": [],
   "source": [
    "P_gate"
   ]
  },
  {
   "cell_type": "code",
   "execution_count": null,
   "id": "ad0630bd",
   "metadata": {},
   "outputs": [],
   "source": [
    "R_gate"
   ]
  },
  {
   "cell_type": "code",
   "execution_count": null,
   "id": "7885970e",
   "metadata": {},
   "outputs": [],
   "source": [
    "uphi"
   ]
  },
  {
   "cell_type": "code",
   "execution_count": null,
   "id": "d3c87737",
   "metadata": {},
   "outputs": [],
   "source": [
    "uphi"
   ]
  },
  {
   "cell_type": "code",
   "execution_count": null,
   "id": "eb8dfb6b",
   "metadata": {},
   "outputs": [],
   "source": [
    "%qatdisplay uphi"
   ]
  },
  {
   "cell_type": "code",
   "execution_count": null,
   "id": "1a6e0093",
   "metadata": {},
   "outputs": [],
   "source": []
  },
  {
   "cell_type": "code",
   "execution_count": null,
   "id": "fecf7eb1",
   "metadata": {},
   "outputs": [],
   "source": []
  },
  {
   "cell_type": "code",
   "execution_count": null,
   "id": "2b9914ed",
   "metadata": {},
   "outputs": [],
   "source": [
    "U_Phi_Gate(nqbits, P_gate, R_gate)"
   ]
  },
  {
   "cell_type": "code",
   "execution_count": null,
   "id": "3b4aa4cd",
   "metadata": {},
   "outputs": [],
   "source": [
    "from QuantumMultiplexors_Module import LoadP_Gate, LoadR_Gate"
   ]
  },
  {
   "cell_type": "code",
   "execution_count": null,
   "id": "998ca007",
   "metadata": {},
   "outputs": [],
   "source": [
    "U_Phi_gate = LoadUPhi_Gate(a)"
   ]
  },
  {
   "cell_type": "code",
   "execution_count": null,
   "id": "60525f54",
   "metadata": {},
   "outputs": [],
   "source": [
    "%qatdisplay  U_Phi_gate --depth 1"
   ]
  },
  {
   "cell_type": "code",
   "execution_count": null,
   "id": "86b268d0",
   "metadata": {},
   "outputs": [],
   "source": [
    "a['P_gate'].arity"
   ]
  },
  {
   "cell_type": "code",
   "execution_count": null,
   "id": "45e7006e",
   "metadata": {},
   "outputs": [],
   "source": [
    "circuitqU = qU.to_circ()"
   ]
  },
  {
   "cell_type": "code",
   "execution_count": null,
   "id": "bdd807be",
   "metadata": {},
   "outputs": [],
   "source": [
    "U_Phi_gate = LoadUPhi_Gate({'P_gate': P_gate, 'R_gate': R_gate})\n",
    "qU.apply(U_Phi_gate, qU.registers)\n",
    "circuitqU = qU.to_circ()"
   ]
  },
  {
   "cell_type": "code",
   "execution_count": null,
   "id": "b83c6434",
   "metadata": {},
   "outputs": [],
   "source": [
    "%qatdisplay circuitqU"
   ]
  },
  {
   "cell_type": "code",
   "execution_count": null,
   "id": "57b10469",
   "metadata": {},
   "outputs": [],
   "source": [
    "\n"
   ]
  },
  {
   "cell_type": "code",
   "execution_count": null,
   "id": "29bbfe9e",
   "metadata": {},
   "outputs": [],
   "source": [
    "from qat.lang.AQASM import AbstractGate, QRoutine\n",
    "def LoadDifusorGate(nqbits, P_gate, R_gate):\n",
    "\n",
    "    def U_Phi_generator(nqbits):\n",
    "        qrout = QRoutine()\n",
    "        qbits = qrout.new_wires(nqbits)\n",
    "        qrout.apply(R_gate.dag(), qbits)\n",
    "        qrout.apply(P_gate.dag(), qbits[:-1])\n",
    "        qrout.apply(D_0(nqbits), qbits)\n",
    "        qrout.apply(P_gate, qbits[:-1])\n",
    "        qrout.apply(R_gate, qbits)\n",
    "        return qrout\n",
    "    U_Phi = AbstractGate(\"UPhi\", [int])\n",
    "    U_Phi.set_circuit_generator(U_Phi_generator)\n",
    "    return U_Phi(nqbits)"
   ]
  },
  {
   "cell_type": "code",
   "execution_count": null,
   "id": "9b7470f1",
   "metadata": {},
   "outputs": [],
   "source": [
    "from QuantumMultiplexors_Module import LoadProbability_Gate, LoadIntegralFunction_Gate"
   ]
  },
  {
   "cell_type": "code",
   "execution_count": null,
   "id": "9c94d17e",
   "metadata": {},
   "outputs": [],
   "source": [
    "P_gate = LoadProbability_Gate(p_X)\n",
    "R_gate = LoadIntegralFunction_Gate(f_X)"
   ]
  },
  {
   "cell_type": "code",
   "execution_count": null,
   "id": "c5665984",
   "metadata": {},
   "outputs": [],
   "source": [
    "U_gate = LoadDifusorGate(n_qbits+1, P_gate, R_gate)"
   ]
  },
  {
   "cell_type": "code",
   "execution_count": null,
   "id": "a495842f",
   "metadata": {},
   "outputs": [],
   "source": [
    "qU = LoadingData(p_X, f_X)\n",
    "qU.apply(U_gate, qU.registers)"
   ]
  },
  {
   "cell_type": "code",
   "execution_count": null,
   "id": "e8723bc3",
   "metadata": {},
   "outputs": [],
   "source": [
    "circuitqU = qU.to_circ()\n",
    "%qatdisplay circuitqU "
   ]
  },
  {
   "cell_type": "code",
   "execution_count": null,
   "id": "bd091072",
   "metadata": {
    "scrolled": true
   },
   "outputs": [],
   "source": [
    "job = circuitqU.to_job()\n",
    "result = lineal_qpu.submit(job)\n",
    "qUState = PostProcessResults(result.join())"
   ]
  },
  {
   "cell_type": "markdown",
   "id": "777ce020",
   "metadata": {},
   "source": [
    "Cabe destacar que:\n",
    "$$\\hat{U}_{|\\Psi\\rangle } |\\Psi\\rangle = (\\hat{I} - 2|\\Psi\\rangle \\langle\\Psi|)|\\Psi\\rangle=-|\\Psi\\rangle$$\n",
    "\n",
    "Esto lo podemos utilizar para verificar que hemos implementado bien la puerta"
   ]
  },
  {
   "cell_type": "code",
   "execution_count": null,
   "id": "89888251",
   "metadata": {},
   "outputs": [],
   "source": [
    "qUState"
   ]
  },
  {
   "cell_type": "code",
   "execution_count": null,
   "id": "c42f62b0",
   "metadata": {},
   "outputs": [],
   "source": [
    "InitialState"
   ]
  },
  {
   "cell_type": "code",
   "execution_count": null,
   "id": "19f5ad71",
   "metadata": {},
   "outputs": [],
   "source": [
    "#number of Qbits for the circuit\n",
    "n_qbits = 4\n",
    "#The number of bins \n",
    "m_bins = 2**n_qbits\n",
    "LowerLimit = 0.0\n",
    "UpperLimit = 1.0 "
   ]
  },
  {
   "cell_type": "code",
   "execution_count": null,
   "id": "9e1e0272",
   "metadata": {},
   "outputs": [],
   "source": [
    "from expectation_module import load_U1"
   ]
  },
  {
   "cell_type": "code",
   "execution_count": null,
   "id": "680f85da",
   "metadata": {},
   "outputs": [],
   "source": [
    "qU_J = LoadingData(p_X, f_X)\n",
    "U1_J_gate = load_U1(n_qbits, P_gate, R_gate)\n",
    "qU_J.apply(U1_J_gate, qU_J.registers)"
   ]
  },
  {
   "cell_type": "code",
   "execution_count": null,
   "id": "304fe851",
   "metadata": {},
   "outputs": [],
   "source": [
    "circuitqU_J = qU_J.to_circ()\n",
    "%qatdisplay circuitqU_J "
   ]
  },
  {
   "cell_type": "code",
   "execution_count": null,
   "id": "cf0e6b4c",
   "metadata": {},
   "outputs": [],
   "source": [
    "job = circuitqU_J.to_job()\n",
    "result = lineal_qpu.submit(job)\n",
    "qU_J_State = PostProcessResults(result.join())"
   ]
  },
  {
   "cell_type": "code",
   "execution_count": null,
   "id": "e070423d",
   "metadata": {},
   "outputs": [],
   "source": [
    "qU_J_State.head()"
   ]
  },
  {
   "cell_type": "code",
   "execution_count": null,
   "id": "ff5de985",
   "metadata": {},
   "outputs": [],
   "source": [
    "InitialState.head()"
   ]
  },
  {
   "cell_type": "markdown",
   "id": "04d19c83",
   "metadata": {},
   "source": [
    "#### Testeo Implementación Juan"
   ]
  },
  {
   "cell_type": "code",
   "execution_count": null,
   "id": "51f1c9ed",
   "metadata": {},
   "outputs": [],
   "source": [
    "from qat.lang.AQASM import Program\n",
    "from expectation_module import load_probabilities, load_function, load_U0, load_U1, load_Q\n",
    "\n",
    "centers, probs, P_gate = load_probabilities(n_qbits, p, LowerLimit, UpperLimit)\n",
    "R_gate, y = load_function(centers, f, n_qbits)\n",
    "Q_gate, U0_gate, U1_gate  = load_Q(n_qbits, P_gate, R_gate)\n",
    "\n",
    "qU_J = Program()\n",
    "qbits = qU_J.qalloc(n_qbits+1)\n",
    "qU_J.apply(P_gate, qbits[:-1])\n",
    "qU_J.apply(R_gate, qbits)\n",
    "qU_J.apply(U1_gate, qbits)"
   ]
  },
  {
   "cell_type": "code",
   "execution_count": null,
   "id": "40b94bb6",
   "metadata": {},
   "outputs": [],
   "source": [
    "circuitqU_J = qU_J.to_circ()\n",
    "%qatdisplay circuitqU_J "
   ]
  },
  {
   "cell_type": "code",
   "execution_count": null,
   "id": "1be046d8",
   "metadata": {},
   "outputs": [],
   "source": [
    "job = circuitqU_J.to_job()\n",
    "result = lineal_qpu.submit(job)\n",
    "qU_J_State = PostProcessResults(result.join())"
   ]
  },
  {
   "cell_type": "code",
   "execution_count": null,
   "id": "1784adb0",
   "metadata": {
    "scrolled": true
   },
   "outputs": [],
   "source": [
    "qU_J_State"
   ]
  }
 ],
 "metadata": {
  "kernelspec": {
   "display_name": "Python 3 (ipykernel)",
   "language": "python",
   "name": "python3"
  },
  "language_info": {
   "codemirror_mode": {
    "name": "ipython",
    "version": 3
   },
   "file_extension": ".py",
   "mimetype": "text/x-python",
   "name": "python",
   "nbconvert_exporter": "python",
   "pygments_lexer": "ipython3",
   "version": "3.9.9"
  }
 },
 "nbformat": 4,
 "nbformat_minor": 5
}
