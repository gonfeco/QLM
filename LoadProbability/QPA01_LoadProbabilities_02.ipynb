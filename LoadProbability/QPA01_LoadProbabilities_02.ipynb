{
 "cells": [
  {
   "cell_type": "code",
   "execution_count": 1,
   "id": "b330ce53",
   "metadata": {},
   "outputs": [
    {
     "data": {
      "text/html": [
       "<style>.container { width:100% !important; }</style>"
      ],
      "text/plain": [
       "<IPython.core.display.HTML object>"
      ]
     },
     "metadata": {},
     "output_type": "display_data"
    }
   ],
   "source": [
    "from IPython.core.display import display, HTML\n",
    "display(HTML(\"<style>.container { width:100% !important; }</style>\"))"
   ]
  },
  {
   "cell_type": "markdown",
   "id": "a48a7273",
   "metadata": {},
   "source": [
    "# ALGORITMO DE CARGA DE PROBABILIDAD"
   ]
  },
  {
   "cell_type": "markdown",
   "id": "de8b9bbe",
   "metadata": {},
   "source": [
    "## Probabilidad en 1 qbit.\n",
    "\n",
    "Siguiendo el algoritmo de carga empezamos con un estado $|0\\rangle$ sobre el que queremos carga la función de probabilidad $p(x)$. \n",
    "\n",
    "Para ello en el primer qbit lo que hacemos es:\n",
    "\n",
    "$$|\\Psi_1\\rangle = \\sqrt{p_{0}^{1}} |0\\rangle + \\sqrt{p_{1}^{1}} |1\\rangle$$\n",
    "\n",
    "\n",
    "Como solo tenemos un q-bit dividimos todo el dominio x en 2 trozos ($2^{m}, m=1$ m: número de qbits):\n",
    "\n",
    "$$Dom(x) = I_0 \\cup I_1$$\n",
    "\n",
    "Podemos generar las siguientes definiciones:\n",
    "\n",
    "\n",
    "* Habiendo dividido el dominio en $2^{m}, m=1$ probabilidad de que la variable x esté en el trozo que etiquetamos como **0** (a la izquierda de la división)\n",
    "$$p_{0}^{1} = \\int_{I_0}{p(x)dx}$$\n",
    "* Habiendo dividido el dominio en $2^{m}, m=1$ probabilidad de que la variable x esté en el trozo que etiquetamos como **1** (a la derecha de la división):\n",
    "$$p_{1}^{1} = \\int_{I_1}{p(x)dx}$$\n",
    "\n",
    "Definiendo la función f(0) como:\n",
    "\n",
    "$$f(0) = \\frac{\\int_{x_{L}^{0}}^{\\frac{x_{R}^{0}-x_{L}^{0}}{2}}{p(x)dx}}{\\int_{x_{L}^{0}}^{x_{R}^{0}}{p(x)dx}}=\\frac{\\int_{I_0}{p(x)dx}}{\\int_{I_0 \\cup I_1}{p(x)dx}} = \\int_{I_0}{p(x)dx} = p_{0}^{1}$$\n",
    "\n",
    "Donde hemos utilizado el hecho de que:\n",
    "\n",
    "$$\\int_{I_0 \\cup I_1}{p(x)dx}=\\int_{I_0}{p(x)dx}+\\int_{I_1}{p(x)dx} = 1$$\n",
    "\n",
    "La última igualdad solo es cierta si $I_0 \\cup I_1$ es igual a todo el dominio de X\n",
    "\n",
    "En base a esta función f(0) podemos definir el siguiente ángulo:\n",
    "\n",
    "$$\\theta_{0} = \\arccos{\\sqrt{f(0)}}$$\n",
    "\n",
    "Es fácil demostrar que se verifica que: \n",
    "\n",
    "$$|\\Psi_1\\rangle = \\sqrt{p_{0}^{1}} |0\\rangle + \\sqrt{p_{1}^{1}} |1\\rangle = \\cos{\\theta_{0}} |0\\rangle + \\sin{\\theta_{0}} |1\\rangle$$\n",
    "\n",
    "Esto es equivalente a aplicar una Rotación de $2\\theta_{0}$ en torno al eje Y sobre el estado $|0\\rangle$, es decir:\n",
    "\n",
    "$$|\\Psi_1\\rangle = \\sqrt{p_{0}^{1}} |0\\rangle + \\sqrt{p_{1}^{1}} |1\\rangle = \\cos{\\theta_{0}} |0\\rangle + \\sin{\\theta_{0}} |1\\rangle = \\hat{R}_{y}(2\\theta_{0})|0\\rangle $$\n",
    "\n",
    "\n",
    "Así pues discretizando el dominio de probabilidad en 2 trozos (utilizando 1 qbit) hemos sido capaces de cargar la probabilidad de que x caiga en cada uno de los dos trozos en la amplitud de los estados $|0\\rangle$ y $|1\\rangle$ de un estado cuántico $|\\Psi_1\\rangle$.\n",
    "\n"
   ]
  },
  {
   "cell_type": "markdown",
   "id": "41e8d54c",
   "metadata": {},
   "source": [
    "## 2 qbits\n",
    "\n",
    "Si ahora cogemos los dos dominios que tenemos con un qbit y los dividimos otra vez tendríamos 4 dominios que podríamos cargar utilizando un qbit adicional. La forma sería :\n",
    "\n",
    "1. Dividir el domino $I_{0}$ en dos partes: \n",
    "    1. Calcular la probabilidad de que la variable x caiga a la izquierda de dicha división habiendo caido en el dominio $I_{0}$: esto me daría la probabilidad $p_{00}$\n",
    "    2. Calcular la probabilidad de que la variable x caiga a la dereca de dicha división habiendo caido en el dominio $I_{0}$: esto me daría la probabilidad $p_{01}$     \n",
    "2. Dividir el domino $I_{1}$ en dos partes: \n",
    "    1. Calcular la probabilidad de que la variable x caiga a la izquierda de dicha división habiendo caido en el dominio $I_{1}$: esto me daría la probabilidad $p_{10}$\n",
    "    2. Calcular la probabilidad de que la variable x caiga a la dereca de dicha división habiendo caido en el dominio $I_{1}$: esto me daría la probabilidad $p_{11}$  \n",
    "    \n",
    "Es decir tenemos que generar un operador $\\hat{U}_{f}$ que se aplique sobre un estado $|\\Psi_1\\rangle \\otimes  |0\\rangle$ dando lugar a una resultado como el siguiente:\n",
    "\n",
    "\n",
    "$$\\hat{U}_f |\\Psi_1\\rangle \\otimes  |0\\rangle = \\sqrt{p_{00}} |00\\rangle + \\sqrt{p_{01}} |01\\rangle + \\sqrt{p_{10}} |10\\rangle + \\sqrt{p_{11}} |11\\rangle $$    \n",
    "\n",
    "Donde los $p_{ij}$ son las probabilidades de que x caiga en cada uno de los 4 intervalos en los que se ha dividido el dominio"
   ]
  },
  {
   "cell_type": "markdown",
   "id": "181cfcfc",
   "metadata": {},
   "source": [
    "## m qbits\n",
    "\n",
    "Vamos a dar la prescripción para un caso genérico y la aplicaremos al caso 2 qbits:\n",
    "\n",
    "Supongamos que que queremos cargar la probabilidad en $m$ intervalos. Suponemos que ya tenemos cargada la probabilidad de $m-1$ intervalos sobre $m-1$ qbits del siguiente modo:\n",
    "\n",
    "$$|\\Psi\\rangle_{m-1} = \\sum_{i=0}^{2^{m-1}-1} \\sqrt{p_{i}}|i\\rangle$$\n",
    "\n",
    "Con el siguiente procedimiento podemos cargar $m$ intervalos sobre $m$ qbits\n",
    "\n",
    "1. Calcular las siguientes $2^{m-1}-1$ funciones:\n",
    "\n",
    "$$f^{m}(i) = \\frac{\\int_{x_{L}^{i}}^{\\frac{x_{R}^{i}-x_{L}^{i}}{2}}{p(x)dx}}{\\int_{x_{L}^{i}}^{x_{R}^{i}}{p(x)dx}} \\, donde \\,i=0,1,...2^{m-1}-1$$ \n",
    "\n",
    "2. Calcular los siguientes $2^{m-1}-1$ ángulos:\n",
    "\n",
    "$$\\theta^{m}_{i} = \\arccos{\\sqrt{f^{m}(i)}} \\,\\, donde \\,i=0,1,...2^{m-1}-1$$\n",
    "\n",
    "3. Partiendo del siguiente estado:\n",
    "\n",
    "$$|\\Psi\\rangle_{m-1} \\otimes |0\\rangle$$\n",
    "\n",
    "4. Aplicar la siguiente transformación:\n",
    "\n",
    "$$\\hat{U}_{f}|\\Psi\\rangle_{m-1} \\otimes |0\\rangle = \\sum_{i=0}^{2^{m-1}-1} \\sqrt{p_{i}}|i\\rangle (\\cos{\\theta^{m}_{i}}|0\\rangle + \\sin{\\theta^{m}_{i}}|1\\rangle) = \\sum_{i=0}^{2^{m-1}-1} \\sqrt{p_{i}}|i\\rangle \\hat{R}_{y}(2\\theta^{m}_{i})$$\n",
    "\n",
    "Es decir vamos a generar $2^{m-1}-1$ ángulos de rotación y sobre el qbit estas rotaciones se aplicarán en función del estado de los $m-1$ qbits anteriores!! Es decir tenemos que hacer rotaciones de $\\theta^{m}_{i}$ sobre el qbit adicional controlada por el estado $i$"
   ]
  },
  {
   "cell_type": "markdown",
   "id": "b7c30470",
   "metadata": {},
   "source": [
    "## 2 qbits revisitados.\n",
    "\n",
    "Vamos a ver como generaríamos, con el algoritmo general, el caso de  m=2:\n",
    "\n",
    "Necesitamos el caso $m-1$:\n",
    "\n",
    "$$|\\Psi\\rangle_{m-1} = \\sum_{i=0}^{2^{m-1}-1} \\sqrt{p_{i}}|i\\rangle$$\n",
    "\n",
    "En nuestro caso sería el caso m-1=1 que ya lo tenemos:\n",
    "\n",
    "$$|\\Psi_1\\rangle = \\sqrt{p_{0}^{1}} |0\\rangle + \\sqrt{p_{1}^{1}} |1\\rangle = \\cos{\\theta_{0}} |0\\rangle + \\sin{\\theta_{0}} |1\\rangle = \\hat{R}_{y}(2\\theta_{0})|0\\rangle $$\n",
    "\n",
    "Con m=2 tenemos que generar $2^{m-1}=2$ funciones $f^{m=2}_{i} \\,\\, con \\, i=0,1, 2^{m-1}-1 \\,es \\, decir \\, i=0,1$ \n",
    "\n",
    "$$f^{m=2}(0) = \\frac{\\int_{x_{L}^{0}}^{\\frac{x_{R}^{0}-x_{L}^{0}}{2}}{p(x)dx}}{\\int_{x_{L}^{0}}^{x_{R}^{0}}{p(x)dx}}$$ \n",
    "\n",
    "$$f^{m=2}(1) = \\frac{\\int_{x_{L}^{1}}^{\\frac{x_{R}^{1}-x_{L}^{1}}{2}}{p(x)dx}}{\\int_{x_{L}^{1}}^{x_{R}^{1}}{p(x)dx}}$$ \n",
    "\n",
    "y sus correspondientes ángulos:\n",
    "\n",
    "$$\\theta^{m=2}_{0} = \\arccos{\\sqrt{f^{m=2}(0)}}$$\n",
    "$$\\theta^{m=2}_{1} = \\arccos{\\sqrt{f^{m=2}(1)}}$$\n",
    "\n",
    "Finalmente: pasamos de nuestro estado:\n",
    "$$|\\Psi_1\\rangle \\otimes |0\\rangle = \\cos{\\theta_{0}} |0\\rangle + \\sin{\\theta_{0}} |1\\rangle \\otimes |0\\rangle$$\n",
    "\n",
    "a través de un operador unitario de tal modo que:\n",
    "\n",
    "$$\\hat{U}_{f}|\\Psi_1\\rangle = \n",
    "\\cos{\\theta_{0}} |0\\rangle \\otimes \\hat{R}_{y}(2\\theta^{m=2}_{0})|0\\rangle +\n",
    "\\sin{\\theta_{0}} |1\\rangle \\otimes \\hat{R}_{y}(2\\theta^{m=2}_{1})|0\\rangle$$\n",
    "\n",
    "Si hacemos explícitas las rotaciones:\n",
    "\n",
    "$$\\hat{U}_{f}|\\Psi_1\\rangle = \n",
    "\\cos{\\theta_{0}}\\cos{\\theta^{m=2}_{0}} |00\\rangle +\n",
    "\\cos{\\theta_{0}}\\sin{\\theta^{m=2}_{0}} |01\\rangle + \n",
    "\\sin{\\theta_{0}}\\cos{\\theta^{m=2}_{1}} |10\\rangle +\n",
    "\\sin{\\theta_{0}}\\sin{\\theta^{m=2}_{1}} |11\\rangle $$\n",
    "\n",
    "Si recordamos que $\\cos{\\theta_{0}}$ y $\\sin{\\theta_{0}}$ son las probabilidades de que x caiga a la izquierda o a la derecha cuando dividimos el dominio en dos intervalos respectivamente.\n",
    "\n",
    "Y que $\\cos{\\theta^{m=2}_{0}}$ y $\\sin{\\theta^{m=2}_{0}}$ las probabilidades de que x caiga a la izquierda y a la derecha cuando dividimos el intervalo 0 en dos trozos teniendo en cuenta que x ha caido en el intervalo 0.\n",
    "\n",
    "Y que $\\cos{\\theta^{m=2}_{1}}$ y $\\sin{\\theta^{m=2}_{1}}$ las probabilidades de que x caiga a la izquierda y a la derecha cuando dividimos el intervalo 1 en dos trozos teniendo en cuenta que x ha caido en el intervalo 1.\n",
    "\n",
    "Los productos me dan la probabilidad de que x caiga en cada uno de los 4 intervalos en los que hemos dividido el dominio al utilizar 2 qbits. \n",
    "\n",
    "**Así pues hemos conseguido cargar las 4 probabilidades discretizadas en dos qbits**\n",
    "Este proceso se puede ir realizando iterativamente de tal modo que para cargar $2^{m}$ intervalos de probabilidad necesitamos $m$ qbits. "
   ]
  },
  {
   "cell_type": "markdown",
   "id": "60409254",
   "metadata": {},
   "source": [
    "# Testeo de Implementación"
   ]
  },
  {
   "cell_type": "markdown",
   "id": "e63e4ae7",
   "metadata": {},
   "source": [
    "He generado un script de python con lo necesario para crear las puertas de Rotación Controlada por Estado y la Puerta de carga de probabilidad: **dataloading_module**. En este Notebook comprobamos que todo funciona bien."
   ]
  },
  {
   "cell_type": "code",
   "execution_count": 2,
   "id": "802543fc",
   "metadata": {},
   "outputs": [],
   "source": [
    "import numpy as np\n",
    "import pandas as  pd\n",
    "import matplotlib.pyplot as plt\n",
    "import sys, os"
   ]
  },
  {
   "cell_type": "code",
   "execution_count": 3,
   "id": "dfc81345",
   "metadata": {},
   "outputs": [],
   "source": [
    "%load_ext qat.core.magic"
   ]
  },
  {
   "cell_type": "code",
   "execution_count": 4,
   "id": "a96afeb5",
   "metadata": {},
   "outputs": [
    {
     "name": "stdout",
     "output_type": "stream",
     "text": [
      "Username: gferro\n",
      "········\n"
     ]
    }
   ],
   "source": [
    "#QPU connection\n",
    "try:\n",
    "    from qat.qlmaas import QLMaaSConnection\n",
    "    connection = QLMaaSConnection()\n",
    "    LinAlg = connection.get_qpu(\"qat.qpus:LinAlg\")\n",
    "    lineal_qpu = LinAlg()\n",
    "except ImportError:\n",
    "    from qat.qpus import PyLinalg\n",
    "    lineal_qpu = PyLinalg()"
   ]
  },
  {
   "cell_type": "code",
   "execution_count": 5,
   "id": "e34565b2",
   "metadata": {},
   "outputs": [],
   "source": [
    "sys.path.append('/home/gferro/Documentos/NEASQC/PhaseAmplification/')"
   ]
  },
  {
   "cell_type": "code",
   "execution_count": 6,
   "id": "49e0aaaf",
   "metadata": {},
   "outputs": [],
   "source": [
    "def p(x):\n",
    "    return x*x\n",
    "def f(x):\n",
    "    return np.sin(x)"
   ]
  },
  {
   "cell_type": "markdown",
   "id": "d012bc26",
   "metadata": {},
   "source": [
    "## 1.Testeo Puerta Rotacion Controlada"
   ]
  },
  {
   "cell_type": "code",
   "execution_count": 7,
   "id": "c3fc4cbd",
   "metadata": {},
   "outputs": [],
   "source": [
    "from dataloading_module import LeftConditionalProbability, CRBS_gate\n",
    "from qat.core.console import display\n",
    "from qat.lang.AQASM import Program, RY, AbstractGate, QRoutine"
   ]
  },
  {
   "cell_type": "code",
   "execution_count": 8,
   "id": "60de9121",
   "metadata": {},
   "outputs": [],
   "source": [
    "from AuxiliarFunctions import  get_histogram"
   ]
  },
  {
   "cell_type": "code",
   "execution_count": 9,
   "id": "10988354",
   "metadata": {},
   "outputs": [],
   "source": [
    "#Configuración del algoritmo\n",
    "nqbits = 10\n",
    "nbins = 2**nqbits\n",
    "a = 0\n",
    "b = 1\n",
    "#Creamos la probabilidad discretizada que queremos cargar\n",
    "centers, probs = get_histogram(p, a, b, nbins)\n",
    "qprog = Program()\n",
    "qbits = qprog.qalloc(nqbits)\n",
    "\n",
    "for i in range(0, nqbits):\n",
    "    ConditionalProbability = LeftConditionalProbability(i, probs)\n",
    "    Thetas = 2.0*np.arccos(np.sqrt(ConditionalProbability))\n",
    "    #print(Thetas)\n",
    "    if i == 0:\n",
    "        qprog.apply(RY(Thetas[0]), qbits[0])\n",
    "    else:\n",
    "        numberOfBits = int(np.log2(len(Thetas)))\n",
    "        #print('numberOfBits: {}'.format(numberOfBits))\n",
    "        for j, theta in enumerate(Thetas):\n",
    "            controlledR_gate = CRBS_gate(i, j, theta)\n",
    "            qprog.apply(controlledR_gate, qbits[:i+1])"
   ]
  },
  {
   "cell_type": "code",
   "execution_count": null,
   "id": "e6514ce8",
   "metadata": {},
   "outputs": [],
   "source": [
    "#Create the circuit from the program\n",
    "circuit = qprog.to_circ()\n",
    "\n",
    "#Display the circuit\n",
    "#%qatdisplay circuit\n",
    "%qatdisplay circuit --depth 0"
   ]
  },
  {
   "cell_type": "code",
   "execution_count": null,
   "id": "9a78cbf9",
   "metadata": {},
   "outputs": [],
   "source": [
    "#Create a Job from the circuit\n",
    "job = circuit.to_job()\n",
    "\n",
    "#Submit the job to the simulator LinAlg and get the results\n",
    "result = lineal_qpu.submit(job)\n",
    "\n",
    "QP = []\n",
    "#Print the results\n",
    "for sample in result.join():\n",
    "    #print(\"State %s probability %s\" % (sample.state, sample.probability))\n",
    "    QP.append(sample.probability)\n",
    "QP =np.array(QP)            \n",
    "print(np.isclose(QP, probs))\n",
    "print('Todo OK?: {}'.format(np.isclose(QP, probs).all()))"
   ]
  },
  {
   "cell_type": "markdown",
   "id": "1f1475d8",
   "metadata": {},
   "source": [
    "## 2.Testeo Puerta de Carga de Probabilidad"
   ]
  },
  {
   "cell_type": "code",
   "execution_count": null,
   "id": "59004c2c",
   "metadata": {},
   "outputs": [],
   "source": [
    "def GetResults(circuit):\n",
    "    #Create a Job from the circuit\n",
    "    job = circuit.to_job()\n",
    "    #Import and create the linear algebra simulator\n",
    "    try:\n",
    "        from qat.qpus import LinAlg\n",
    "        linalgqpu = LinAlg()\n",
    "    except ImportError:\n",
    "        from qat.qpus import PyLinalg\n",
    "        linalgqpu = PyLinalg()\n",
    "    \n",
    "\n",
    "    #Submit the job to the simulator LinAlg and get the results\n",
    "    result = linalgqpu.submit(job)\n",
    "    QP = []\n",
    "    States = []\n",
    "    QA = []\n",
    "    #Print the results\n",
    "    for sample in result:\n",
    "        #print(\"State %s probability %s amplitude %s\" % (sample.state, sample.probability, sample.amplitude))\n",
    "        QP.append(sample.probability)\n",
    "        States.append(str(sample.state))\n",
    "        QA.append(sample.amplitude)\n",
    "    QP = pd.Series(QP, name='Probability')  \n",
    "    States = pd.Series(States, name='States')  \n",
    "    QA = pd.Series(QA, name='Amplitude') \n",
    "    pdf = pd.concat([States, QP, QA], axis=1)\n",
    "    return pdf, circuit    \n",
    "    "
   ]
  },
  {
   "cell_type": "code",
   "execution_count": null,
   "id": "b4be6dd7",
   "metadata": {},
   "outputs": [],
   "source": [
    "from dataloading_module import CreatePG\n",
    "from qat.core.console import display\n",
    "from qat.lang.AQASM import Program"
   ]
  },
  {
   "cell_type": "code",
   "execution_count": null,
   "id": "976bdcb0",
   "metadata": {},
   "outputs": [],
   "source": [
    "#Configuración del algoritmo\n",
    "nqbits = 3\n",
    "nbins = 2**nqbits\n",
    "a = 0\n",
    "b = 1\n",
    "#Creamos la probabilidad discretizada que queremos cargar\n",
    "centers, probs = get_histogram(p, a, b, nbins)\n",
    "qprog = Program()\n",
    "qbits = qprog.qalloc(nqbits)\n",
    "p_gate = CreatePG(probs)\n",
    "qprog.apply(p_gate, qbits)"
   ]
  },
  {
   "cell_type": "code",
   "execution_count": null,
   "id": "1356d95d",
   "metadata": {},
   "outputs": [],
   "source": [
    "#Create the circuit from the program\n",
    "circuit = qprog.to_circ()\n",
    "\n",
    "#Display the circuit\n",
    "#%qatdisplay circuit\n",
    "%qatdisplay circuit --depth 0"
   ]
  },
  {
   "cell_type": "code",
   "execution_count": null,
   "id": "6f66c2ee",
   "metadata": {},
   "outputs": [],
   "source": [
    "Zalo,_ = GetResults(circuit)"
   ]
  },
  {
   "cell_type": "code",
   "execution_count": null,
   "id": "83dcf81d",
   "metadata": {},
   "outputs": [],
   "source": [
    "np.isclose(Zalo['Probability'], probs).all()"
   ]
  },
  {
   "cell_type": "code",
   "execution_count": null,
   "id": "0eb7504a",
   "metadata": {},
   "outputs": [],
   "source": [
    "Zalo"
   ]
  },
  {
   "cell_type": "markdown",
   "id": "e3c9a50f",
   "metadata": {},
   "source": [
    "## 3. "
   ]
  },
  {
   "cell_type": "code",
   "execution_count": null,
   "id": "8690083b",
   "metadata": {},
   "outputs": [],
   "source": [
    "from expectation_module import load_probabilities, load_function\n",
    "centers, probs, P_gate = load_probabilities(nqbits, p, a, b)\n",
    "#R_gate, y = load_function(centers, f, nqbits)"
   ]
  },
  {
   "cell_type": "code",
   "execution_count": null,
   "id": "efeb996c",
   "metadata": {},
   "outputs": [],
   "source": [
    "qprog = Program()\n",
    "qbits = qprog.qalloc(nqbits+1)\n",
    "qprog.apply(P_gate, qbits[:-1])\n"
   ]
  },
  {
   "cell_type": "code",
   "execution_count": null,
   "id": "ae39e174",
   "metadata": {},
   "outputs": [],
   "source": [
    "#Create the circuit from the program\n",
    "circuit = qprog.to_circ()\n",
    "\n",
    "#Display the circuit\n",
    "#%qatdisplay circuit\n",
    "%qatdisplay circuit --depth 2"
   ]
  },
  {
   "cell_type": "code",
   "execution_count": null,
   "id": "f0faea29",
   "metadata": {},
   "outputs": [],
   "source": [
    "Juan,_ = GetResults(circuit)"
   ]
  },
  {
   "cell_type": "code",
   "execution_count": null,
   "id": "62c89d60",
   "metadata": {},
   "outputs": [],
   "source": [
    "Juan"
   ]
  },
  {
   "cell_type": "code",
   "execution_count": null,
   "id": "814fddda",
   "metadata": {},
   "outputs": [],
   "source": [
    "np.isclose(Juan['Probability'], probs).all()"
   ]
  },
  {
   "cell_type": "code",
   "execution_count": null,
   "id": "67225797",
   "metadata": {},
   "outputs": [],
   "source": [
    "np.isclose(Juan['Probability'], Zalo['Probability']).all()"
   ]
  },
  {
   "cell_type": "code",
   "execution_count": null,
   "id": "5c04e0a8",
   "metadata": {},
   "outputs": [],
   "source": []
  }
 ],
 "metadata": {
  "kernelspec": {
   "display_name": "Python 3 (ipykernel)",
   "language": "python",
   "name": "python3"
  },
  "language_info": {
   "codemirror_mode": {
    "name": "ipython",
    "version": 3
   },
   "file_extension": ".py",
   "mimetype": "text/x-python",
   "name": "python",
   "nbconvert_exporter": "python",
   "pygments_lexer": "ipython3",
   "version": "3.9.9"
  }
 },
 "nbformat": 4,
 "nbformat_minor": 5
}
