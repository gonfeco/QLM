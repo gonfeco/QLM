{
 "cells": [
  {
   "cell_type": "code",
   "execution_count": null,
   "id": "a099126b",
   "metadata": {},
   "outputs": [],
   "source": [
    "from IPython.core.display import display, HTML\n",
    "display(HTML(\"<style>.container { width:100% !important; }</style>\"))"
   ]
  },
  {
   "cell_type": "markdown",
   "id": "592aef0b",
   "metadata": {},
   "source": [
    "# Multiplexores Cúanticos."
   ]
  },
  {
   "cell_type": "code",
   "execution_count": null,
   "id": "e33c89f8",
   "metadata": {},
   "outputs": [],
   "source": [
    "import numpy as np\n",
    "import pandas as pd\n",
    "import matplotlib.pyplot as plt\n",
    "import sys"
   ]
  },
  {
   "cell_type": "code",
   "execution_count": null,
   "id": "e7d9c53b",
   "metadata": {},
   "outputs": [],
   "source": [
    "from qat.core.console import display\n",
    "from qat.lang.AQASM import Program, H"
   ]
  },
  {
   "cell_type": "code",
   "execution_count": null,
   "id": "ee132b6a",
   "metadata": {},
   "outputs": [],
   "source": [
    "def GetResults(circuit):\n",
    "    #Create a Job from the circuit\n",
    "    job = circuit.to_job()\n",
    "    #Import and create the linear algebra simulator\n",
    "    from qat.qpus import LinAlg\n",
    "    linalgqpu = LinAlg()\n",
    "    #Submit the job to the simulator LinAlg and get the results\n",
    "    result = linalgqpu.submit(job)\n",
    "    QP = []\n",
    "    States = []\n",
    "    QA = []\n",
    "    #Print the results\n",
    "    for sample in result:\n",
    "        #print(\"State %s probability %s amplitude %s\" % (sample.state, sample.probability, sample.amplitude))\n",
    "        QP.append(sample.probability)\n",
    "        States.append(str(sample.state))\n",
    "        QA.append(sample.amplitude)\n",
    "    QP = pd.Series(QP, name='Probability')  \n",
    "    States = pd.Series(States, name='States')  \n",
    "    QA = pd.Series(QA, name='Amplitude') \n",
    "    pdf = pd.concat([States, QP, QA], axis=1)\n",
    "    return pdf, circuit    \n",
    "    "
   ]
  },
  {
   "cell_type": "markdown",
   "id": "3bf090b5",
   "metadata": {},
   "source": [
    "## 1. Rotaciones Controladas"
   ]
  },
  {
   "cell_type": "markdown",
   "id": "da7c1f26",
   "metadata": {},
   "source": [
    "Para realizar la carga de una función de probabilidad en un sistema cuántico la operación base es la rotación controlada por un estado previo. \n",
    "\n",
    "Vamos a hacer una prueba rápida "
   ]
  },
  {
   "cell_type": "code",
   "execution_count": null,
   "id": "6bff437e",
   "metadata": {},
   "outputs": [],
   "source": [
    "%load_ext qat.core.magic"
   ]
  },
  {
   "cell_type": "code",
   "execution_count": null,
   "id": "c12e9e9c",
   "metadata": {},
   "outputs": [],
   "source": [
    "#Cargo mi paquete\n",
    "sys.path.append('/home/gferro/PhaseAmplification/')\n",
    "sys.path.append('/home/cesga/gferro/QLM_Backup/Code/PhaseAmplification')"
   ]
  },
  {
   "cell_type": "code",
   "execution_count": null,
   "id": "67d60078",
   "metadata": {},
   "outputs": [],
   "source": [
    "sys.path.append('/home/gferro/ProgramasDefinitivos/')\n",
    "sys.path.append('/home/cesga/gferro/QLM_Backup/Code/ProgramasDefinitivos')\n",
    "from expectation_module import get_histogram"
   ]
  },
  {
   "cell_type": "code",
   "execution_count": null,
   "id": "5ba7289e",
   "metadata": {},
   "outputs": [],
   "source": [
    "#Funcion de probabilidad que quiero cargar\n",
    "def p(x):\n",
    "    return x*x"
   ]
  },
  {
   "cell_type": "code",
   "execution_count": null,
   "id": "131d5c3f",
   "metadata": {},
   "outputs": [],
   "source": [
    "#Rotacion controlada de varios thetas \n",
    "def ScRs(Thetas):\n",
    "    from qat.lang.AQASM import QRoutine\n",
    "    qrout = QRoutine()\n",
    "    #Numero de qbits para controlar las Thetas\n",
    "    NumberOfQbits = int(np.log2(len(Thetas)))\n",
    "    #Controlling qbits\n",
    "    qcontrol = qrout.new_wires(NumberOfQbits)\n",
    "    #Additional qbit where Rotation should be applied\n",
    "    qtarget = qrout.new_wires(1)\n",
    "    \n",
    "    for j, theta in enumerate(Thetas):\n",
    "        qprog.apply(CRBS_gate(NumberOfQbits, j, theta), qcontrol+qtarget)\n",
    "    return qrout"
   ]
  },
  {
   "cell_type": "markdown",
   "id": "9ab2996b",
   "metadata": {},
   "source": [
    "Lo primero que voy a hacer es generar un circuito cuántico de dos qbits. El primer qbit controlará la rotación controlada a aplicar sobre el segundo qbit. Como la rotación controlada sobre el segundo qbit dependerá del estado en el que esté el primero lo que haré será poner el primer qbit en una superposición equiprobable de los estados $|0\\rangle$ y $|1\\rangle$ usando una puerta Haddamard"
   ]
  },
  {
   "cell_type": "code",
   "execution_count": null,
   "id": "cfb577c8",
   "metadata": {},
   "outputs": [],
   "source": [
    "nqbits = 2"
   ]
  },
  {
   "cell_type": "code",
   "execution_count": null,
   "id": "4e426bd2",
   "metadata": {},
   "outputs": [],
   "source": [
    "qprog = Program()\n",
    "qbits = qprog.qalloc(nqbits)\n",
    "for i in range(nqbits-1):\n",
    "    qprog.apply(H, qbits[i])\n"
   ]
  },
  {
   "cell_type": "code",
   "execution_count": null,
   "id": "326c7ead",
   "metadata": {},
   "outputs": [],
   "source": [
    "circuit = qprog.to_circ()\n",
    "%qatdisplay circuit --depth 2"
   ]
  },
  {
   "cell_type": "markdown",
   "id": "46ebbdc1",
   "metadata": {},
   "source": [
    "Lo que quiero es aplicar una operación:\n",
    "\n",
    "$$\\hat{U}|q_0q_1\\rangle= \\{ \\begin{array}{ll}\n",
    "      \\hat{R}_y(\\theta_0)|q_1\\rangle  & if \\;|q_0\\rangle = |0\\rangle \\\\\n",
    "      \\hat{R}_y(\\theta_1)|q_1\\rangle  & if \\;|q_0\\rangle = |1\\rangle \\\\\n",
    "\\end{array}$$\n",
    "\n",
    "Es decir aplicar una rotacion controlada sobre $|q_1\\rangle$ controlada por el **estado** $|q_0\\rangle$.\n",
    "\n",
    "Los angulos $\\theta_i$ los calculoen la siguiente celda. Están sacados de la carga de probabilidades pero podrían ser dos ángulos aleatorios.\n"
   ]
  },
  {
   "cell_type": "code",
   "execution_count": null,
   "id": "95ef0b18",
   "metadata": {},
   "outputs": [],
   "source": [
    "a = 0.\n",
    "b = 1.\n",
    "nbins = 2**nqbits\n",
    "centers, probs = get_histogram(p, a, b, nbins)\n",
    "\n",
    "#Ahora calculo los dos ángulos\n",
    "m=1\n",
    "n_parts = 2**(m+1)\n",
    "edges = np.array([a+(b-a)*(i)/n_parts for i in range(n_parts+1)])\n",
    "p_zones = np.array([np.sum(probs[np.logical_and(centers>edges[i],centers<edges[i+1])]) for i in range(n_parts)])\n",
    "p_left = p_zones[[2*j for j in range(n_parts//2)]]\n",
    "p_tot = p_left + p_zones[[2*j+1 for j in range(n_parts//2)]]\n",
    "thetas = np.arccos(np.sqrt(p_left/p_tot))"
   ]
  },
  {
   "cell_type": "code",
   "execution_count": null,
   "id": "e25019d7",
   "metadata": {},
   "outputs": [],
   "source": [
    "print('Thetas: {}'.format(thetas))"
   ]
  },
  {
   "cell_type": "code",
   "execution_count": null,
   "id": "8148c486",
   "metadata": {},
   "outputs": [],
   "source": [
    "from dataloading_module import CRBS_gate"
   ]
  },
  {
   "cell_type": "code",
   "execution_count": null,
   "id": "c7d44273",
   "metadata": {},
   "outputs": [],
   "source": [
    "qprog = Program()\n",
    "qbits = qprog.qalloc(nqbits)\n",
    "for i in range(nqbits-1):\n",
    "    qprog.apply(H, qbits[i])\n",
    "qprog.apply(ScRs(2.0*thetas), qbits)"
   ]
  },
  {
   "cell_type": "code",
   "execution_count": null,
   "id": "5c3cc729",
   "metadata": {},
   "outputs": [],
   "source": [
    "circuitRC = qprog.to_circ()\n",
    "%qatdisplay circuitRC --depth 2"
   ]
  },
  {
   "cell_type": "code",
   "execution_count": null,
   "id": "436b8666",
   "metadata": {},
   "outputs": [],
   "source": []
  },
  {
   "cell_type": "code",
   "execution_count": null,
   "id": "f113f4aa",
   "metadata": {},
   "outputs": [],
   "source": [
    "pdfRC, _ = GetResults(circuitRC)"
   ]
  },
  {
   "cell_type": "code",
   "execution_count": null,
   "id": "c7d655b6",
   "metadata": {},
   "outputs": [],
   "source": [
    "pdfRC"
   ]
  },
  {
   "cell_type": "markdown",
   "id": "8fb0d7e0",
   "metadata": {},
   "source": [
    "El problema fundamental de esta aproximación es el uso de Rotaciones Controladas que en general suelen ser operaciones difíciles de ejecutar en un ordenador cuántico ...\n",
    "\n",
    "Además como para cada rotación preparo el estado que le corresponde meto muchas puertas X que posiblemente sean innecesarias ..."
   ]
  },
  {
   "cell_type": "markdown",
   "id": "022e4881",
   "metadata": {},
   "source": [
    "## 2.Quantum Multiplexors"
   ]
  },
  {
   "cell_type": "markdown",
   "id": "c2841eb4",
   "metadata": {},
   "source": [
    "Una forma de implementar rotaciones controladas por estados de forma mucho más eficiente es usando multiplexores cuanticos. En este caso se aplican rotaciones completas de ángulos sobre un qbit y se intercalan con operaciones **c-Not**. Esto genera circuitos menos aparatosos donde la complejidad la dan directamente las puertas **c-Not**. El problema base de los multiplexores es que las rotaciones no son directas hay que aplicar combinaciones inteligentes de los ángulos que se quieran rotar. \n",
    "\n",
    "Vamos a intentar usar el código de Juan para aplicar estas rotaciones"
   ]
  },
  {
   "cell_type": "code",
   "execution_count": null,
   "id": "b3d6b3e3",
   "metadata": {},
   "outputs": [],
   "source": [
    "#Nos traemos el multiplexor\n",
    "from expectation_module import multiplexor_RY_m"
   ]
  },
  {
   "cell_type": "code",
   "execution_count": null,
   "id": "99275428",
   "metadata": {},
   "outputs": [],
   "source": [
    "qprog = Program()\n",
    "qbits = qprog.qalloc(nqbits)\n",
    "for i in range(nqbits-1):\n",
    "    qprog.apply(H, qbits[i])\n",
    "multiplexor_RY_m(qprog, qbits, thetas, m, m)"
   ]
  },
  {
   "cell_type": "code",
   "execution_count": null,
   "id": "4fe5e423",
   "metadata": {},
   "outputs": [],
   "source": [
    "thetas"
   ]
  },
  {
   "cell_type": "code",
   "execution_count": null,
   "id": "3c28c81b",
   "metadata": {},
   "outputs": [],
   "source": [
    "thetas"
   ]
  },
  {
   "cell_type": "code",
   "execution_count": null,
   "id": "a7d0b52c",
   "metadata": {},
   "outputs": [],
   "source": [
    "[thetas[i] for i in range(0, len(thetas),2)]"
   ]
  },
  {
   "cell_type": "code",
   "execution_count": null,
   "id": "00c3be9e",
   "metadata": {},
   "outputs": [],
   "source": [
    "[thetas[i] for i in range(1, len(thetas),2)]"
   ]
  },
  {
   "cell_type": "code",
   "execution_count": null,
   "id": "6c3f3ac4",
   "metadata": {
    "scrolled": false
   },
   "outputs": [],
   "source": [
    "circuitQM = qprog.to_circ()\n",
    "%qatdisplay circuitQM --depth 1"
   ]
  },
  {
   "cell_type": "code",
   "execution_count": null,
   "id": "a2dd35e9",
   "metadata": {},
   "outputs": [],
   "source": [
    "pdfQM,_ = GetResults(circuitQM)"
   ]
  },
  {
   "cell_type": "code",
   "execution_count": null,
   "id": "7e539a36",
   "metadata": {},
   "outputs": [],
   "source": [
    "pdfQM"
   ]
  },
  {
   "cell_type": "code",
   "execution_count": null,
   "id": "928c4c30",
   "metadata": {},
   "outputs": [],
   "source": [
    "def Multiplexor(theta, controlbits):\n",
    "    #El multiplexor base siempre son 2 qbits\n",
    "    from qat.lang.AQASM import QRoutine, CNOT, RY\n",
    "    qrout = QRoutine()\n",
    "    #Cuantos bits los controlan:\n",
    "    \n",
    "    if m>1:\n",
    "        qbits = qrout.new_wires(controlbits+1)\n",
    "        thetas4Left = for i in range()\n",
    "        thetas4Right = \n",
    "        pass\n",
    "    else:\n",
    "        #Un qbit de control\n",
    "        qbits = qrout.new_wires(2)\n",
    "        #Rotaciones. Solo hay dos\n",
    "        thetaLeft = (theta[0]+theta[1])/2.0\n",
    "        tethaRight = (theta[0]-theta[1])/2.0\n",
    "        #Rotacion Izquierda\n",
    "        qrout.apply(RY(thetaLeft), qbits[1])\n",
    "        #Puerta c-NOT\n",
    "        qrout.apply(CNOT, qbits[0], qbits[1])\n",
    "        #Rotación Derecha\n",
    "        qrout.apply(RY(tethaRight), qbits[1])\n",
    "        #rout.apply(CNOT, qbits[0], qbits[1])\n",
    "    return qrout"
   ]
  },
  {
   "cell_type": "code",
   "execution_count": null,
   "id": "089d5d6f",
   "metadata": {},
   "outputs": [],
   "source": [
    "qprog = Program()\n",
    "qbits = qprog.qalloc(2)\n",
    "for i in range(2-1):\n",
    "    qprog.apply(H, qbits[i])\n",
    "qprog.apply(Multiplexor(2.0*thetas, 1), qbits)"
   ]
  },
  {
   "cell_type": "code",
   "execution_count": null,
   "id": "bbf52bd7",
   "metadata": {},
   "outputs": [],
   "source": [
    "circuitQMZ = qprog.to_circ()\n",
    "%qatdisplay circuitQMZ --depth 1"
   ]
  },
  {
   "cell_type": "code",
   "execution_count": null,
   "id": "09eef371",
   "metadata": {},
   "outputs": [],
   "source": [
    "pdfQMZ,_ = GetResults(circuitQMZ)"
   ]
  },
  {
   "cell_type": "code",
   "execution_count": null,
   "id": "9ad60c53",
   "metadata": {},
   "outputs": [],
   "source": [
    "pdfQMZ"
   ]
  },
  {
   "cell_type": "code",
   "execution_count": null,
   "id": "c6641e63",
   "metadata": {},
   "outputs": [],
   "source": [
    "    #Numero de qbits para controlar las Thetas\n",
    "    NumberOfQbits = int(np.log2(len(Thetas)))\n",
    "    #Controlling qbits\n",
    "    qcontrol = qrout.new_wires(NumberOfQbits)\n",
    "    #Additional qbit where Rotation should be applied\n",
    "    qtarget = qrout.new_wires(1)\n",
    "    \n",
    "    for j, theta in enumerate(Thetas):\n",
    "        qprog.apply(CRBS_gate(NumberOfQbits, j, theta), qcontrol+qtarget)\n",
    "    return qrout"
   ]
  },
  {
   "cell_type": "code",
   "execution_count": null,
   "id": "0f26d6e3",
   "metadata": {},
   "outputs": [],
   "source": [
    "sum(thetas)"
   ]
  },
  {
   "cell_type": "code",
   "execution_count": null,
   "id": "5d5aeb44",
   "metadata": {},
   "outputs": [],
   "source": [
    "pdfQM,_ = GetResults(circuitQM)"
   ]
  },
  {
   "cell_type": "code",
   "execution_count": null,
   "id": "4aa96212",
   "metadata": {},
   "outputs": [],
   "source": [
    "pdfQM"
   ]
  },
  {
   "cell_type": "code",
   "execution_count": null,
   "id": "2d1bf4f6",
   "metadata": {},
   "outputs": [],
   "source": []
  },
  {
   "cell_type": "code",
   "execution_count": null,
   "id": "5b6db946",
   "metadata": {},
   "outputs": [],
   "source": []
  },
  {
   "cell_type": "code",
   "execution_count": null,
   "id": "87217f4b",
   "metadata": {},
   "outputs": [],
   "source": []
  },
  {
   "cell_type": "code",
   "execution_count": null,
   "id": "aa4d9364",
   "metadata": {},
   "outputs": [],
   "source": []
  },
  {
   "cell_type": "code",
   "execution_count": null,
   "id": "462135b3",
   "metadata": {},
   "outputs": [],
   "source": []
  },
  {
   "cell_type": "code",
   "execution_count": null,
   "id": "8ef47c17",
   "metadata": {},
   "outputs": [],
   "source": []
  },
  {
   "cell_type": "code",
   "execution_count": null,
   "id": "8e02ea34",
   "metadata": {},
   "outputs": [],
   "source": []
  },
  {
   "cell_type": "code",
   "execution_count": null,
   "id": "66c913b1",
   "metadata": {},
   "outputs": [],
   "source": []
  },
  {
   "cell_type": "code",
   "execution_count": null,
   "id": "f0a65874",
   "metadata": {},
   "outputs": [],
   "source": []
  }
 ],
 "metadata": {
  "kernelspec": {
   "display_name": "Python 3 (ipykernel)",
   "language": "python",
   "name": "python3"
  },
  "language_info": {
   "codemirror_mode": {
    "name": "ipython",
    "version": 3
   },
   "file_extension": ".py",
   "mimetype": "text/x-python",
   "name": "python",
   "nbconvert_exporter": "python",
   "pygments_lexer": "ipython3",
   "version": "3.9.9"
  }
 },
 "nbformat": 4,
 "nbformat_minor": 5
}
