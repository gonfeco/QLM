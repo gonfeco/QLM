{
 "cells": [
  {
   "cell_type": "code",
   "execution_count": 1,
   "id": "c63dcba2",
   "metadata": {},
   "outputs": [
    {
     "data": {
      "text/html": [
       "<style>.container { width:100% !important; }</style>"
      ],
      "text/plain": [
       "<IPython.core.display.HTML object>"
      ]
     },
     "metadata": {},
     "output_type": "display_data"
    }
   ],
   "source": [
    "from IPython.core.display import display, HTML\n",
    "display(HTML(\"<style>.container { width:100% !important; }</style>\"))"
   ]
  },
  {
   "cell_type": "markdown",
   "id": "4344876c",
   "metadata": {},
   "source": [
    "# 1. Carga Completa"
   ]
  },
  {
   "cell_type": "markdown",
   "id": "d439519c",
   "metadata": {},
   "source": [
    "La carga completa implicaría cargar la probabilidad (Puerta P) y la función de la que se desea la integral (Puerta R) sobre el estado cuántico."
   ]
  },
  {
   "cell_type": "markdown",
   "id": "0bb54cb8",
   "metadata": {},
   "source": [
    "# 2. Programa Juan"
   ]
  },
  {
   "cell_type": "markdown",
   "id": "c99a3226",
   "metadata": {},
   "source": [
    "Utilizamos todas las funciones de Juan para implementar una carga completa de sobre el estado cuántico."
   ]
  },
  {
   "cell_type": "code",
   "execution_count": 2,
   "id": "a9f012e6",
   "metadata": {},
   "outputs": [],
   "source": [
    "import numpy as np\n",
    "import matplotlib.pyplot as plt\n",
    "import sys, os"
   ]
  },
  {
   "cell_type": "code",
   "execution_count": 3,
   "id": "75ca2d45",
   "metadata": {},
   "outputs": [],
   "source": [
    "sys.path.append('/home/gferro/Code/ProgramasDefinitivos')"
   ]
  },
  {
   "cell_type": "code",
   "execution_count": 4,
   "id": "2ed71b38",
   "metadata": {},
   "outputs": [],
   "source": [
    "from qat.core.console import display\n",
    "from qat.qpus import LinAlg\n",
    "from qat.lang.AQASM import Program\n",
    "from expectation_module import load_probabilities, load_function, load_U0, load_U1, load_Q"
   ]
  },
  {
   "cell_type": "code",
   "execution_count": 5,
   "id": "6ce83337",
   "metadata": {},
   "outputs": [],
   "source": [
    "a = 0.\n",
    "b = 1.\n",
    "nqbits = 6\n",
    "n_aux  = 8\n",
    "\n",
    "def p(x):\n",
    "\treturn x*x\n",
    "\t\n",
    "def f(x):\n",
    "\treturn np.sin(x)\n",
    "\t\n",
    "centers, probs, P_gate = load_probabilities(nqbits, p, a, b)\n",
    "R_gate, y = load_function(centers, f, nqbits)\n",
    "\n",
    "qprog = Program()\n",
    "qbits = qprog.qalloc(nqbits+1)\n",
    "qprog.apply(P_gate, qbits[:-1])\n",
    "qprog.apply(R_gate, qbits)"
   ]
  },
  {
   "cell_type": "code",
   "execution_count": null,
   "id": "8ea5b255",
   "metadata": {},
   "outputs": [],
   "source": [
    "#Create the circuit from the program\n",
    "circuit = qprog.to_circ()\n",
    "\n",
    "#Display the circuit\n",
    "%qatdisplay circuit\n",
    "#%qatdisplay circuit --depth 1"
   ]
  },
  {
   "cell_type": "code",
   "execution_count": null,
   "id": "3d929ed4",
   "metadata": {},
   "outputs": [],
   "source": [
    "#Create a Job from the circuit\n",
    "job = circuit.to_job(qubits = [nqbits])\n",
    "\n",
    "#Import and create the linear algebra simulator\n",
    "from qat.qpus import LinAlg\n",
    "linalgqpu = LinAlg()\n",
    "\n",
    "#Submit the job to the simulator LinAlg and get the results\n",
    "result = linalgqpu.submit(job)"
   ]
  },
  {
   "cell_type": "code",
   "execution_count": null,
   "id": "a72a1a0c",
   "metadata": {},
   "outputs": [],
   "source": [
    "QP = []\n",
    "States = []\n",
    "#Print the results\n",
    "for sample in result:\n",
    "    print(\"State %s probability %s\" % (sample.state, sample.probability))\n",
    "    QP.append(sample.probability)\n",
    "    States.append(str(sample.state))\n",
    "print('Quantum Measurement: {}'.format(QP[1]))    \n",
    "print('Integral: {}'.format(sum(probs*y)))    "
   ]
  },
  {
   "cell_type": "markdown",
   "id": "977745b1",
   "metadata": {},
   "source": [
    "# 3. Rutinas Gonzalo"
   ]
  },
  {
   "cell_type": "markdown",
   "id": "5c5e43b6",
   "metadata": {},
   "source": [
    "Utilizo mis rutinas para generar la carga completa"
   ]
  },
  {
   "cell_type": "code",
   "execution_count": 6,
   "id": "8297f12c",
   "metadata": {},
   "outputs": [],
   "source": [
    "sys.path.append('/home/gferro/Code/PhaseAmplification/')"
   ]
  },
  {
   "cell_type": "code",
   "execution_count": 7,
   "id": "7cfa200b",
   "metadata": {},
   "outputs": [],
   "source": [
    "#from qat.core.console import display\n",
    "from qat.qpus import LinAlg\n",
    "from qat.lang.AQASM import Program"
   ]
  },
  {
   "cell_type": "code",
   "execution_count": 8,
   "id": "2c6f8d0e",
   "metadata": {},
   "outputs": [],
   "source": [
    "from dataloading_module import  CreateLoadFunctionGate, CreatePG\n",
    "from kk import get_histogram"
   ]
  },
  {
   "cell_type": "code",
   "execution_count": 9,
   "id": "e461dffd",
   "metadata": {},
   "outputs": [],
   "source": [
    "#Probability function\n",
    "def p(x):\n",
    "    return x*x\n",
    "\n",
    "def f(x):\n",
    "    return np.sin(x)"
   ]
  },
  {
   "cell_type": "code",
   "execution_count": 10,
   "id": "3d48c2cd",
   "metadata": {},
   "outputs": [
    {
     "data": {
      "image/png": "[encoded data removed]",
      "text/plain": [
       "<IPython.core.display.Image object>"
      ]
     },
     "execution_count": 10,
     "metadata": {},
     "output_type": "execute_result"
    },
    {
     "name": "stdout",
     "output_type": "stream",
     "text": [
      "State |0> probability 0.7807295056164688\n",
      "State |1> probability 0.21927049438353136\n",
      "Quantum Measurement: 0.21927049438353136\n",
      "Integral: 0.6697058522082925\n",
      "Todo OK?: False\n"
     ]
    }
   ],
   "source": [
    "nqbits = 6\n",
    "nbins = 2**nqbits\n",
    "a = 0\n",
    "b = 1\n",
    "#Discretization for the function domain\n",
    "centers, probs = get_histogram(p, a, b, nbins)\n",
    "#Discretizated function to load \n",
    "DiscretizedFunction = f(centers)\n",
    "\n",
    "#Quantum Program\n",
    "qprog = Program()\n",
    "qbits = qprog.qalloc(nqbits+1)\n",
    "#Create Probability loading gate\n",
    "P_gate = CreatePG(probs)\n",
    "qprog.apply(P_gate, qbits[:-1])\n",
    "#Create Function loading gate\n",
    "R_gate = CreateLoadFunctionGate(DiscretizedFunction)    \n",
    "qprog.apply(R_gate, qbits)\n",
    "\n",
    "#Create the circuit from the program\n",
    "circuit = qprog.to_circ()\n",
    "    \n",
    "#Display the circuit\n",
    "#display(circuit, max_depth = depth)\n",
    "%qatdisplay circuit\n",
    "    \n",
    "\n",
    "#Create a Job from the circuit\n",
    "#The integral is loaded in the amplitud of the last qbit!!\n",
    "job = circuit.to_job(qubits = [nqbits])\n",
    "    \n",
    "#Import and create the linear algebra simulator\n",
    "linalgqpu = LinAlg()\n",
    "    \n",
    "#Submit the job to the simulator LinAlg and get the results\n",
    "result = linalgqpu.submit(job)\n",
    "QP = []\n",
    "States = []\n",
    "#Print the results\n",
    "for sample in result:\n",
    "    print(\"State %s probability %s\" % (sample.state, sample.probability))\n",
    "    QP.append(sample.probability)\n",
    "    States.append(str(sample.state))\n",
    "        \n",
    "print('Quantum Measurement: {}'.format(QP[1]))    \n",
    "print('Integral: {}'.format(sum(DiscretizedFunction*probs)))    \n",
    "print('Todo OK?: {}'.format(np.isclose(QP[1], sum(DiscretizedFunction*probs))))"
   ]
  },
  {
   "cell_type": "code",
   "execution_count": null,
   "id": "55b2d65b",
   "metadata": {},
   "outputs": [],
   "source": []
  },
  {
   "cell_type": "code",
   "execution_count": null,
   "id": "c81359d0",
   "metadata": {},
   "outputs": [],
   "source": []
  }
 ],
 "metadata": {
  "kernelspec": {
   "display_name": "Python 3 (ipykernel)",
   "language": "python",
   "name": "python3"
  },
  "language_info": {
   "codemirror_mode": {
    "name": "ipython",
    "version": 3
   },
   "file_extension": ".py",
   "mimetype": "text/x-python",
   "name": "python",
   "nbconvert_exporter": "python",
   "pygments_lexer": "ipython3",
   "version": "3.9.2"
  }
 },
 "nbformat": 4,
 "nbformat_minor": 5
}
