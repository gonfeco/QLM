{
 "cells": [
  {
   "cell_type": "code",
   "execution_count": null,
   "id": "12c8740d",
   "metadata": {},
   "outputs": [],
   "source": [
    "from IPython.core.display import display, HTML\n",
    "display(HTML(\"<style>.container { width:100% !important; }</style>\"))"
   ]
  },
  {
   "cell_type": "code",
   "execution_count": null,
   "id": "2321437e",
   "metadata": {},
   "outputs": [],
   "source": [
    "import numpy as np\n",
    "import pandas as pd\n",
    "import matplotlib.pyplot as plt\n",
    "import sys"
   ]
  },
  {
   "cell_type": "code",
   "execution_count": null,
   "id": "2e46825c",
   "metadata": {},
   "outputs": [],
   "source": [
    "#QPU connection\n",
    "try:\n",
    "    from qat.qlmaas import QLMaaSConnection\n",
    "    connection = QLMaaSConnection('qlm')\n",
    "    LinAlg = connection.get_qpu(\"qat.qpus:LinAlg\")\n",
    "    lineal_qpu = LinAlg()\n",
    "except (ImportError, OSError) as e:\n",
    "    print('Problem: usin PyLinalg')\n",
    "    from qat.qpus import PyLinalg\n",
    "    lineal_qpu = PyLinalg()"
   ]
  },
  {
   "cell_type": "code",
   "execution_count": null,
   "id": "18c3964f",
   "metadata": {},
   "outputs": [],
   "source": [
    "%load_ext qat.core.magic"
   ]
  },
  {
   "cell_type": "markdown",
   "id": "9e337a94",
   "metadata": {},
   "source": [
    "## 1. Quantum Multiplexors"
   ]
  },
  {
   "cell_type": "markdown",
   "id": "b862e66e",
   "metadata": {},
   "source": [
    "Implementation of loading data routines using the *Lov Grover and Terry Rudolph* routines directly, using controlled rotations by state, is highly inneficient. In general the use of controlled rotations generate highly deep quantum circuits prone to errors. \n",
    "A more efficient approach is the use of Quantum Multiplexors where the only controlled gates are c-Not ones. \n",
    "\n",
    "The operation we want to implement is a controlled rotation on an angle $\\theta_i$ controlled by a state $|i\\rangle$. \n",
    "\n",
    "For a 2 qbits state the operator should be:\n",
    "\n",
    "$$\n",
    "\\hat{U}|q_0q_1\\rangle= \\{ \\begin{array}{ll}\n",
    "      |0\\rangle\\hat{R}_y(\\theta_0)|q_1\\rangle  & if \\;|q_0\\rangle = |0\\rangle \\\\\n",
    "      |1\\rangle\\hat{R}_y(\\theta_1)|q_1\\rangle  & if \\;|q_0\\rangle = |1\\rangle \\\\\n",
    "\\end{array}\n",
    "$$\n",
    "\n",
    "With a quantum multiplexor this operation can be implemented as:\n",
    "\n",
    "$$\\hat{U}(\\theta_0, \\theta_1)|q_0q_1\\rangle= \\left( \\mathbf{I} \\otimes \\hat{R}_{y} (\\frac{\\theta_0+\\theta_1}{2}) \\right) \\hat{C}_{NOT} \\left(\\mathbf{I} \\otimes \\hat{R}_{y} (\\frac{\\theta_0-\\theta_1}{2}) \\right) \\hat{C}_{NOT}|q_0q_1\\rangle$$\n",
    "\n",
    "The circuit representation for this operator is:\n",
    "\n",
    "![alt text](./QM_01.png)\n",
    "\n",
    "As can be seen the quantum multiplexor needs only $C_{NOT}$ gates that are implemented in easier way than controlled rotations\n"
   ]
  },
  {
   "cell_type": "markdown",
   "id": "5ae8c7a9",
   "metadata": {},
   "source": [
    "For controlled state rotations of more angles quantum multiplexors can be implemented in a recursively way. For example if we want apply a controlled 4 angle rotation $[\\theta_0, \\theta_1, \\theta_2, \\theta_3]$ we can use following circuit:\n",
    "\n",
    "![alt text](./QM_02.png)\n"
   ]
  },
  {
   "cell_type": "markdown",
   "id": "18e2496e",
   "metadata": {},
   "source": [
    "In general a quantum multiplexor with $m$ control qubits can be decomposed as 2 multiplexors with $m − 1$ control qubits and 2 $\\hat{C}_{NOT}$ gates:\n",
    "![alt text](./QM_03.png)"
   ]
  },
  {
   "cell_type": "markdown",
   "id": "20013504",
   "metadata": {},
   "source": [
    "In the **QuantumMultiplexors_Module** there are an implementation for a quantum multiplexor controlled by $m$ qbits and the functions neede to use them in order to load probability and a Integral function"
   ]
  },
  {
   "cell_type": "markdown",
   "id": "321fdf1f",
   "metadata": {},
   "source": [
    "## 2. Loading Data Gates: $\\mathcal{P}$ and $\\mathcal{R}$"
   ]
  },
  {
   "cell_type": "markdown",
   "id": "eac27931",
   "metadata": {},
   "source": [
    "First thing we need are the $\\mathcal{P}$ and $\\mathcal{R}$ for loading probability distribution and integral function respectively into a Quantum State."
   ]
  },
  {
   "cell_type": "code",
   "execution_count": null,
   "id": "3e0c1f85",
   "metadata": {},
   "outputs": [],
   "source": [
    "sys.path.append('/home/cesga/gferro/NEASQC/PhaseAmplification/')"
   ]
  },
  {
   "cell_type": "code",
   "execution_count": null,
   "id": "5f1e0ad3",
   "metadata": {},
   "outputs": [],
   "source": [
    "from AuxiliarFunctions import PostProcessResults, RunJob, get_histogram, TestBins, LeftConditionalProbability"
   ]
  },
  {
   "cell_type": "code",
   "execution_count": null,
   "id": "c5d5112b",
   "metadata": {},
   "outputs": [],
   "source": [
    "def p(x):\n",
    "    return x*x\n",
    "def f(x):\n",
    "    return np.sin(x)"
   ]
  },
  {
   "cell_type": "code",
   "execution_count": null,
   "id": "388455a5",
   "metadata": {},
   "outputs": [],
   "source": [
    "#number of Qbits for the circuit\n",
    "n_qbits = 8\n",
    "#The number of bins \n",
    "m_bins = 2**n_qbits\n",
    "LowerLimit = 0.0\n",
    "UpperLimit = 1.0 \n",
    "\n",
    "X, p_X = get_histogram(p, LowerLimit, UpperLimit, m_bins)\n",
    "f_X = f(X)"
   ]
  },
  {
   "cell_type": "markdown",
   "id": "cc32a4e2",
   "metadata": {},
   "source": [
    "### 2.1 Loading Probability gate: $\\mathcal{P}$"
   ]
  },
  {
   "cell_type": "markdown",
   "id": "8ca4a398",
   "metadata": {},
   "source": [
    "Following cell creates the AbstractGate and the function generator for the Loading Probability gate: $\\mathcal{P}$. The **multiplexor_RY_m**  recursive function is needed in order to implement controlled rotations by state with quantum multiplexors."
   ]
  },
  {
   "cell_type": "code",
   "execution_count": null,
   "id": "741e5a99",
   "metadata": {},
   "outputs": [],
   "source": [
    "from qat.lang.AQASM import QRoutine, AbstractGate, RY\n",
    "from QuantumMultiplexors_Module import  multiplexor_RY_m\n",
    "def P_generatorQM(Dictionary):\n",
    "    \"\"\"\n",
    "    Function generator for the AbstractGate that allows the loading of a discretized Probability\n",
    "    in a Quantum State using Quantum Multiplexors\n",
    "    Inputs:\n",
    "        * ProbabilityArray: dict. Python dictionary whit a key named \"array\" whose corresponding item is a numpy array with the discretized\n",
    "    probability to load. If ProbabilityArray = Dictionary['array']. The number of qbits will be log2(len(ProbabilityArray)). \n",
    "    Outuput:\n",
    "        * qrout: Quantum routine. Routine for loading the discrete probability with Quantum Multiplexors.\n",
    "    \"\"\"\n",
    "    \n",
    "    \n",
    "    ProbabilityArray = Dictionary['array']\n",
    "    nqbits = TestBins(ProbabilityArray, text='Function')\n",
    "    \n",
    "    qrout = QRoutine()\n",
    "    reg = qrout.new_wires(nqbits)\n",
    "    # Now go iteratively trough each qubit computing the probabilities and adding the corresponding multiplexor\n",
    "    for m in range(nqbits):\n",
    "        #Calculates Conditional Probability\n",
    "        ConditionalProbability = LeftConditionalProbability(m, ProbabilityArray)        \n",
    "        #Rotation angles: length: 2^(i-1)-1 and i the number of qbits of the step\n",
    "        thetas = 2.0*(np.arccos(np.sqrt(ConditionalProbability)))   \n",
    "        \n",
    "        if m == 0:\n",
    "            # In the first iteration it is only needed a RY gate\n",
    "            qrout.apply(RY(thetas[0]), reg[0])\n",
    "        else:\n",
    "            # In the following iterations we have to apply multiplexors controlled by m qubits\n",
    "            # We call a function to construct the multiplexor, whose action is a block diagonal matrix of Ry gates with angles theta\n",
    "            multiplexor_RY_m(qrout, reg, thetas, m, m)        \n",
    "    return qrout  \n",
    "\n",
    "LoadP_Gate = AbstractGate(\n",
    "    \"P_Gate\",\n",
    "    [dict],\n",
    "    circuit_generator = P_generatorQM,\n",
    "    arity = lambda x:TestBins(x['array'], 'Function')\n",
    ")\n"
   ]
  },
  {
   "cell_type": "code",
   "execution_count": null,
   "id": "6b2aa495",
   "metadata": {},
   "outputs": [],
   "source": [
    "from qat.lang.AQASM import Program\n",
    "qprog = Program()\n",
    "qbits = qprog.qalloc(n_qbits)\n",
    "P_gate = LoadP_Gate({'array':p_X})\n",
    "qprog.apply(P_gate, qbits)\n",
    "circuit = qprog.to_circ()"
   ]
  },
  {
   "cell_type": "code",
   "execution_count": null,
   "id": "6712251a",
   "metadata": {},
   "outputs": [],
   "source": [
    "%qatdisplay circuit --depth 0"
   ]
  },
  {
   "cell_type": "code",
   "execution_count": null,
   "id": "3202031f",
   "metadata": {},
   "outputs": [],
   "source": [
    "job = circuit.to_job()\n",
    "result = lineal_qpu.submit(job)\n",
    "P_results = PostProcessResults(RunJob(result))"
   ]
  },
  {
   "cell_type": "code",
   "execution_count": null,
   "id": "9d84c164",
   "metadata": {},
   "outputs": [],
   "source": [
    "np.isclose(P_results['Probability'], p_X).all()"
   ]
  },
  {
   "cell_type": "markdown",
   "id": "c8f13706",
   "metadata": {},
   "source": [
    "### 2.2 Loading Integral Function gate: $\\mathcal{R}$"
   ]
  },
  {
   "cell_type": "markdown",
   "id": "3010b0e0",
   "metadata": {},
   "source": [
    "Following cell creates the AbstractGate and the function generator for the Loading Integral Function gate: $\\mathcal{P}$. The **multiplexor_RY_m**  recursive function is needed in order to implement controlled rotations by state with quantum multiplexors."
   ]
  },
  {
   "cell_type": "code",
   "execution_count": null,
   "id": "b3e523ed",
   "metadata": {},
   "outputs": [],
   "source": [
    "from qat.lang.AQASM import QRoutine, AbstractGate, RY\n",
    "from QuantumMultiplexors_Module import  multiplexor_RY_m\n",
    "def R_generatorQM(Dictionary):\n",
    "    \"\"\"\n",
    "    Function generator for creating an AbstractGate that allows the loading of the integral of a given\n",
    "    discretized function array into a Quantum State using Quantum Multiplexors\n",
    "    Inputs:\n",
    "        * Dictionary: dict. Python dictionary with a key named \"array\" whose corresponding item is a numpy array with the discrietized function. If the discretized function is FunctionArray = Dictionary['array'] the number of qbits will be log2(len(FunctionArray)) + 1 qbits.\n",
    "    Outuput:\n",
    "        * qrout: quantum routine. Routine for loading the input function as a integral on the last qbit using Quantum Multiplexors\n",
    "    \"\"\"\n",
    "    \n",
    "    FunctionArray = Dictionary['array']\n",
    "    \n",
    "    assert np.all(FunctionArray<=1.), 'The image of the function must be less than 1. Rescaling is required'\n",
    "    assert np.all(FunctionArray>=0.), 'The image of the function must be greater than 0. Rescaling is required'\n",
    "    assert isinstance(FunctionArray, np.ndarray), 'the output of the function p must be a numpy array'    \n",
    "    \n",
    "    nqbits = TestBins(FunctionArray, text='Function')\n",
    "    #Calculation of the rotation angles\n",
    "    thetas = 2.0*np.arcsin(np.sqrt(FunctionArray))\n",
    "    \n",
    "\n",
    "    qrout = QRoutine()\n",
    "    reg = qrout.new_wires(nqbits+1)\n",
    "    multiplexor_RY_m(qrout, reg, thetas, nqbits, nqbits)\n",
    "    return qrout    \n",
    "\n",
    "LoadR_Gate = AbstractGate(\n",
    "    \"R_Gate\",\n",
    "    [dict],\n",
    "    circuit_generator = R_generatorQM,\n",
    "    arity = lambda x:TestBins(x['array'], 'Function')+1\n",
    ")\n"
   ]
  },
  {
   "cell_type": "code",
   "execution_count": null,
   "id": "c84d84ee",
   "metadata": {},
   "outputs": [],
   "source": [
    "from qat.lang.AQASM import Program, H\n",
    "qprog = Program()\n",
    "qbits = qprog.qalloc(n_qbits+1)\n",
    "for i in range(n_qbits):\n",
    "    qprog.apply(H, qbits[i])\n",
    "R_gate = LoadR_Gate({'array':f_X})\n",
    "qprog.apply(R_gate, qbits)\n",
    "circuit = qprog.to_circ()"
   ]
  },
  {
   "cell_type": "code",
   "execution_count": null,
   "id": "9ad45895",
   "metadata": {},
   "outputs": [],
   "source": [
    "%qatdisplay circuit --depth 0"
   ]
  },
  {
   "cell_type": "code",
   "execution_count": null,
   "id": "ba1062d9",
   "metadata": {},
   "outputs": [],
   "source": [
    "job = circuit.to_job(qubits = [n_qbits])\n",
    "result = lineal_qpu.submit(job)\n",
    "R_results = PostProcessResults(RunJob(result))"
   ]
  },
  {
   "cell_type": "code",
   "execution_count": null,
   "id": "2b66e12d",
   "metadata": {},
   "outputs": [],
   "source": [
    "#Integral of f(x)\n",
    "MeasurementIntegral = R_results['Probability'][1]*2**(n_qbits)\n",
    "np.isclose(MeasurementIntegral, sum(f_X))"
   ]
  }
 ],
 "metadata": {
  "kernelspec": {
   "display_name": "Python 3 (ipykernel)",
   "language": "python",
   "name": "python3"
  },
  "language_info": {
   "codemirror_mode": {
    "name": "ipython",
    "version": 3
   },
   "file_extension": ".py",
   "mimetype": "text/x-python",
   "name": "python",
   "nbconvert_exporter": "python",
   "pygments_lexer": "ipython3",
   "version": "3.9.9"
  }
 },
 "nbformat": 4,
 "nbformat_minor": 5
}
