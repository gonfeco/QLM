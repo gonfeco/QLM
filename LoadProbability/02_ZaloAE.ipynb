{
 "cells": [
  {
   "cell_type": "code",
   "execution_count": null,
   "metadata": {},
   "outputs": [],
   "source": [
    "from IPython.core.display import display, HTML\n",
    "display(HTML(\"<style>.container { width:100% !important; }</style>\"))"
   ]
  },
  {
   "cell_type": "code",
   "execution_count": null,
   "metadata": {},
   "outputs": [],
   "source": [
    "import numpy as np\n",
    "import matplotlib.pyplot as plt\n",
    "import sys"
   ]
  },
  {
   "cell_type": "code",
   "execution_count": null,
   "metadata": {},
   "outputs": [],
   "source": [
    "from qat.core.console import display\n",
    "from qat.lang.AQASM import Program, H\n",
    "from qat.lang.AQASM.qftarith import QFT"
   ]
  },
  {
   "cell_type": "code",
   "execution_count": null,
   "metadata": {},
   "outputs": [],
   "source": [
    "sys.path.append('/home/gferro/qlm_notebooks/notebooks_1.5.0/Gonzalo/ProgramasDefinitivos/')"
   ]
  },
  {
   "cell_type": "code",
   "execution_count": null,
   "metadata": {},
   "outputs": [],
   "source": [
    "a = 0.\n",
    "b = 1.\n",
    "nqbits = 10\n",
    "n_aux  = 20"
   ]
  },
  {
   "cell_type": "code",
   "execution_count": null,
   "metadata": {},
   "outputs": [],
   "source": [
    "def p(x):\n",
    "    return x*x\n",
    "def f(x):\n",
    "    return np.sin(x)"
   ]
  },
  {
   "cell_type": "code",
   "execution_count": null,
   "metadata": {},
   "outputs": [],
   "source": [
    "from qat.lang.AQASM import Program, RY, CNOT, Abstra ctGate, QRoutine, Z, X\n",
    "def load_U0(nqbits):\n",
    "\t\"\"\"\n",
    "\tCreates the gate U0, whose action is to flip the sign of the marked states.\n",
    "\tMarked states are those in which the auxiliary qubit has value 1, so this is achieved with a Z gate\n",
    "\tacting on that qubit. This function is more or less unnecessary.\n",
    "\t\n",
    "\tARGUMENTS:\n",
    "\tnqbits (int) : number of qubits without including the auxiliary one\n",
    "\t\n",
    "\tRETURNS:\n",
    "\tU0_gate (ParamGate)\n",
    "\t\"\"\"\n",
    "\tU0 = AbstractGate(\"U0\", [int])\n",
    "\tdef U0_generator(nqbits):\n",
    "\t\trout = QRoutine()\n",
    "\t\treg = rout.new_wires(nqbits+1)\n",
    "\t\trout.apply(Z, reg[-1])\n",
    "\t\treturn rout\n",
    "\tU0.set_circuit_generator(U0_generator)\n",
    "\tU0_gate = U0(nqbits)\n",
    "\treturn U0_gate\n",
    "\n",
    "def load_U1(nqbits, P_gate, R_gate):\n",
    "\t\"\"\"\n",
    "\tFunction that creates the gate which performs the operation of flipping the sign of the component along psi\n",
    "\t\n",
    "\tARGUMENTS:\n",
    "\tnqbits (int) : number of qubits\n",
    "\tR_gate (ParamGate) : Gate that implements the operator R\n",
    "\tP_gate (ParamGate) : Gate that implements the operator P\n",
    "\t\n",
    "\tRETURNS:\n",
    "\tU1_gate (ParamGate)\n",
    "\t\"\"\"\n",
    "\tU1 = AbstractGate(\"U1\", [int])\n",
    "\tdef U1_generator(nqbits):\n",
    "\t\trout = QRoutine()\n",
    "\t\treg = rout.new_wires(nqbits+1)\n",
    "\t\trout.apply(R_gate.dag(), reg)\n",
    "\t\trout.apply(P_gate.dag(), reg[:-1])\n",
    "\t\tfor wire in reg:\n",
    "\t\t\trout.apply(X, wire)\n",
    "\t\trout.apply(H, reg[-1])\n",
    "\t\ts = 'X' + '.ctrl()'*nqbits\n",
    "\t\trout.apply(eval(s), reg)\n",
    "\t\trout.apply(H, reg[-1])\n",
    "\t\tfor wire in reg:\n",
    "\t\t\trout.apply(X, wire)\n",
    "\t\trout.apply(P_gate, reg[:-1])\n",
    "\t\trout.apply(R_gate, reg)\n",
    "\t\treturn rout\n",
    "\tU1.set_circuit_generator(U1_generator)\n",
    "\tU1_gate = U1(nqbits)\n",
    "\treturn U1_gate\n",
    "\n",
    "def load_Q(nqbits, P_gate, R_gate):\n",
    "\t\"\"\"\n",
    "\tCreates the Grover operator Q except a global phase, so it really creates the gate -Q\n",
    "\t\n",
    "\tARGUMENTS:\n",
    "\tnqbits  (int)       : number of qubits\n",
    "\tU0_gate (ParamGate) : Gate U_psi_0\n",
    "\tU1_gate (ParamGate) : Gate U_psi\n",
    "\t\n",
    "\tRETURNS:\n",
    "\tQ_gate (ParamGate)  : Gate -Q=U1U0\n",
    "\t\"\"\"\n",
    "\tU0_gate = load_U0(nqbits)\n",
    "\tU1_gate = load_U1(nqbits, P_gate, R_gate)\n",
    "\tQ = AbstractGate(\"Q\", [int])\n",
    "\tdef Q_generator(nqbits):\n",
    "\t\trout = QRoutine()\n",
    "\t\treg  = rout.new_wires(nqbits+1)\n",
    "\t\trout.apply(U0_gate, reg)\n",
    "\t\trout.apply(U1_gate, reg)\n",
    "\t\treturn rout\n",
    "\tQ.set_circuit_generator(Q_generator)\n",
    "\tQ_gate = Q(nqbits)\n",
    "\treturn Q_gate, U0_gate, U1_gate\n"
   ]
  },
  {
   "cell_type": "code",
   "execution_count": null,
   "metadata": {},
   "outputs": [],
   "source": [
    "from qat.lang.AQASM import Program, RY, CNOT, AbstractGate, QRoutine, Z, X"
   ]
  },
  {
   "cell_type": "code",
   "execution_count": null,
   "metadata": {},
   "outputs": [],
   "source": [
    "from expectation_module import load_probabilities, load_function\n",
    "centers, probs, P_gate = load_probabilities(nqbits, p, a, b)\n",
    "R_gate, y = load_function(centers, f, nqbits)"
   ]
  },
  {
   "cell_type": "code",
   "execution_count": null,
   "metadata": {},
   "outputs": [],
   "source": [
    "Q_gate, U0_gate, U1_gate  = load_Q(nqbits, P_gate, R_gate)"
   ]
  },
  {
   "cell_type": "code",
   "execution_count": null,
   "metadata": {
    "scrolled": true
   },
   "outputs": [],
   "source": [
    "qprog = Program()\n",
    "qbits = qprog.qalloc(nqbits+1)\n",
    "qprog.apply(P_gate, qbits[:-1])\n",
    "qprog.apply(R_gate, qbits)\n",
    "q_aux = qprog.qalloc(n_aux)\n",
    "for i, aux in enumerate(q_aux):\n",
    "    qprog.apply(H, aux)\n",
    "    # Apply Q**(2**i) controlled by the auxiliary register\n",
    "    for _ in range(2**(i)):\n",
    "        qprog.apply(Q_gate.ctrl(), aux, qbits)\n",
    "qprog.apply(QFT(n_aux).dag(), q_aux)        "
   ]
  },
  {
   "cell_type": "code",
   "execution_count": null,
   "metadata": {},
   "outputs": [],
   "source": [
    "circuit = qprog.to_circ()"
   ]
  },
  {
   "cell_type": "code",
   "execution_count": null,
   "metadata": {},
   "outputs": [],
   "source": [
    "%qatdisplay circuit"
   ]
  },
  {
   "cell_type": "code",
   "execution_count": null,
   "metadata": {},
   "outputs": [],
   "source": [
    "from qat.qpus import get_default_qpu"
   ]
  },
  {
   "cell_type": "code",
   "execution_count": null,
   "metadata": {},
   "outputs": [],
   "source": [
    "Algebra = get_default_qpu()"
   ]
  },
  {
   "cell_type": "code",
   "execution_count": null,
   "metadata": {},
   "outputs": [],
   "source": [
    "result = Algebra.submit(circuit.to_job())"
   ]
  },
  {
   "cell_type": "code",
   "execution_count": null,
   "metadata": {},
   "outputs": [],
   "source": [
    "result = Algebra.submit(circuit.to_job(qubits = [i+nqbits+1 for i in range(n_aux)])) "
   ]
  },
  {
   "cell_type": "code",
   "execution_count": null,
   "metadata": {},
   "outputs": [],
   "source": [
    "states, probabilities = [], []\n",
    "for res in result:\n",
    "    states.append(res.state.int) # Store the decimal number that represents each state\n",
    "    probabilities.append(res.probability) # Store its probability\n",
    "    print(\"Aux qbits have value %s (the probability of getting this result is %s)\"%(res.state, res.probability))"
   ]
  },
  {
   "cell_type": "code",
   "execution_count": null,
   "metadata": {},
   "outputs": [],
   "source": [
    "# Histogram those values\n",
    "plt.figure(figsize=(12, 6))\n",
    "plt.bar(states, probabilities)\n",
    "plt.xlabel('Measured value')\n",
    "plt.ylabel('Probability')\n",
    "plt.tight_layout()\n",
    "plt.savefig('ProbDistribution.png')\n"
   ]
  },
  {
   "cell_type": "code",
   "execution_count": null,
   "metadata": {},
   "outputs": [],
   "source": [
    "# Take the maximum probability\n",
    "i_max = np.argsort(probabilities)[-1]"
   ]
  },
  {
   "cell_type": "code",
   "execution_count": null,
   "metadata": {},
   "outputs": [],
   "source": [
    "from scipy.integrate import quad"
   ]
  },
  {
   "cell_type": "code",
   "execution_count": null,
   "metadata": {},
   "outputs": [],
   "source": [
    "# Compute phi for the measured value with its upper and lower limits\n",
    "phis = (np.pi/(2.**n_aux))*np.array([states[i_max], states[i_max]+0.5, states[i_max]-0.5]) #+0.5 and -0.5 are the most extreme values that we could have for M if it was not an int\n",
    "\n",
    "I = np.cos(phis)**2. #Remember that the integral is codified in the amplitudes of \\ket{\\psi_1}\n",
    "\n",
    "print(u'Obtained value of the integral %f' % (I[0]))\n",
    "print(u'Upper and lower bonds', I[1], I[2])\n",
    "\n",
    "\n",
    "Integral = np.sum(probs*y)\n",
    "print(u'Discretized value of the integral:', Integral)\n",
    "\n",
    "def g(x):\n",
    "\treturn f(x)*p(x)/(quad(p, a, b)[0])\n",
    "print(u'Exact value of the integral:', quad(g, a, b))\n"
   ]
  },
  {
   "cell_type": "code",
   "execution_count": null,
   "metadata": {},
   "outputs": [],
   "source": [
    "def U1_generator(nqbits):\n",
    "\t\trout = QRoutine()\n",
    "\t\treg = rout.new_wires(nqbits+1)\n",
    "\t\trout.apply(R_gate.dag(), reg)\n",
    "\t\trout.apply(P_gate.dag(), reg[:-1])\n",
    "\t\tfor wire in reg:\n",
    "\t\t\trout.apply(X, wire)\n",
    "\t\trout.apply(H, reg[-1])\n",
    "\t\ts = 'X' + '.ctrl()'*nqbits\n",
    "\t\trout.apply(eval(s), reg)\n",
    "\t\trout.apply(H, reg[-1])\n",
    "\t\tfor wire in reg:\n",
    "\t\t\trout.apply(X, wire)\n",
    "\t\trout.apply(P_gate, reg[:-1])\n",
    "\t\trout.apply(R_gate, reg)\n",
    "\t\treturn rout"
   ]
  }
 ],
 "metadata": {
  "kernelspec": {
   "display_name": "Python 3",
   "language": "python",
   "name": "python3"
  },
  "language_info": {
   "codemirror_mode": {
    "name": "ipython",
    "version": 3
   },
   "file_extension": ".py",
   "mimetype": "text/x-python",
   "name": "python",
   "nbconvert_exporter": "python",
   "pygments_lexer": "ipython3",
   "version": "3.6.12"
  }
 },
 "nbformat": 4,
 "nbformat_minor": 5
}
