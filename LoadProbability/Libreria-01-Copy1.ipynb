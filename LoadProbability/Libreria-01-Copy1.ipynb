{
 "cells": [
  {
   "cell_type": "code",
   "execution_count": 1,
   "id": "63c7de0f",
   "metadata": {},
   "outputs": [
    {
     "data": {
      "text/html": [
       "<style>.container { width:100% !important; }</style>"
      ],
      "text/plain": [
       "<IPython.core.display.HTML object>"
      ]
     },
     "metadata": {},
     "output_type": "display_data"
    }
   ],
   "source": [
    "from IPython.core.display import display, HTML\n",
    "display(HTML(\"<style>.container { width:100% !important; }</style>\"))"
   ]
  },
  {
   "cell_type": "code",
   "execution_count": 2,
   "id": "b49b232d",
   "metadata": {},
   "outputs": [],
   "source": [
    "import numpy as np\n",
    "import pandas as pd\n",
    "import matplotlib.pyplot as plt\n",
    "import sys, os"
   ]
  },
  {
   "cell_type": "code",
   "execution_count": 3,
   "id": "7575e8a5",
   "metadata": {},
   "outputs": [
    {
     "name": "stdout",
     "output_type": "stream",
     "text": [
      "The qat.core.magic extension is already loaded. To reload it, use:\n",
      "  %reload_ext qat.core.magic\n"
     ]
    }
   ],
   "source": [
    "%load_ext qat.core.magic"
   ]
  },
  {
   "cell_type": "code",
   "execution_count": 5,
   "id": "0d1c5886",
   "metadata": {},
   "outputs": [
    {
     "name": "stdout",
     "output_type": "stream",
     "text": [
      "Username: gferro\n",
      "········\n"
     ]
    }
   ],
   "source": [
    "#Conexion a la QPU\n",
    "from qat.qlmaas import QLMaaSConnection\n",
    "connection = QLMaaSConnection(hostname=\"qlm\")#, port=...)\n",
    "LinAlg = connection.get_qpu(\"qat.qpus:LinAlg\")\n",
    "lineal_qpu = LinAlg()"
   ]
  },
  {
   "cell_type": "code",
   "execution_count": null,
   "id": "c7cc42ed",
   "metadata": {},
   "outputs": [],
   "source": [
    "from qat.qpus import PyLinalg\n",
    "lineal_qpu = PyLinalg()"
   ]
  },
  {
   "cell_type": "markdown",
   "id": "73816a49",
   "metadata": {},
   "source": [
    "# Librería Integral MonteCarlo Cuántica"
   ]
  },
  {
   "cell_type": "code",
   "execution_count": 6,
   "id": "724c3780",
   "metadata": {},
   "outputs": [],
   "source": [
    "def GetResults(circuit, linalgqpu, Qass=True):\n",
    "    #Create a Job from the circuit\n",
    "    job = circuit.to_job()\n",
    "    #Import and create the linear algebra simulator\n",
    "    \"\"\"\n",
    "    try:\n",
    "        from qat.qpus import LinAlg\n",
    "        linalgqpu = LinAlg()\n",
    "    except ImportError:\n",
    "        from qat.qpus import PyLinalg\n",
    "        linalgqpu = PyLinalg()\n",
    "    \"\"\"\n",
    "\n",
    "    #Submit the job to the simulator LinAlg and get the results\n",
    "    result = linalgqpu.submit(job)\n",
    "    QP = []\n",
    "    States = []\n",
    "    QA = []\n",
    "    #Print the results\n",
    "    if Qass:\n",
    "        result = result.join()\n",
    "        \n",
    "    for sample in result:\n",
    "        #print(\"State %s probability %s amplitude %s\" % (sample.state, sample.probability, sample.amplitude))\n",
    "        QP.append(sample.probability)\n",
    "        States.append(str(sample.state))\n",
    "        QA.append(sample.amplitude)\n",
    "    QP = pd.Series(QP, name='Probability')\n",
    "    States = pd.Series(States, name='States')  \n",
    "    QA = pd.Series(QA, name='Amplitude') \n",
    "    pdf = pd.concat([States, QP, QA], axis=1)\n",
    "    return pdf, circuit    \n"
   ]
  },
  {
   "cell_type": "markdown",
   "id": "00f289ef",
   "metadata": {},
   "source": [
    "## 1. Genera Arrays de Probabilidad"
   ]
  },
  {
   "cell_type": "markdown",
   "id": "5fd5188f",
   "metadata": {},
   "source": [
    "Dada una densidad de probabilidad $p(x)$ sobre un interval $[a,b]$ quiero poder discretizarla en $2^{n}$ bins con $n$ el número de qbits sobre los que quiero cargar la probabilidad. La idea es que tanto la función como la probabilidad se den en un array numpy. \n",
    "\n",
    "La función *get_histogram* nos permitiría generar el array numpy de una distribución de probabilidad que se le pase en forma de función python. Generaría los centros de los bins y las probabilidades de los centros."
   ]
  },
  {
   "cell_type": "code",
   "execution_count": 7,
   "id": "9cd3c7cf",
   "metadata": {},
   "outputs": [],
   "source": [
    "from qat.lang.AQASM import QRoutine, AbstractGate, X, RY, CNOT, Program, H"
   ]
  },
  {
   "cell_type": "code",
   "execution_count": 8,
   "id": "fdf0d4ca",
   "metadata": {},
   "outputs": [],
   "source": [
    "def get_histogram(p, a, b, nbin):\n",
    "    \"\"\"\n",
    "    Given a function p, convert it into a histogram. The function must be positive, the normalization is automatic.\n",
    "    Note that instead of having an analytical expression, p could just create an arbitrary vector of the right dimensions and positive amplitudes\n",
    "    so that this procedure could be used to initialize any quantum state with real amplitudes\n",
    "    \n",
    "    a    (float)    = lower limit of the interval\n",
    "    b    (float)    = upper limit of the interval\n",
    "    p    (function) = function that we want to convert to a probability mass function. It does not have to be normalized but must be positive in the interval\n",
    "    nbin (int)      = number of bins in the interval\n",
    "    \"\"\"\n",
    "    #Should be a function\n",
    "    assert callable(p)\n",
    "    \n",
    "    nqbits_ = np.log2(nbin)\n",
    "    \n",
    "    assert (nqbits_%2 ==0) or (nqbits_%2 ==1),  'nbin must be 2^n with n a int. In this case is: {}.'.format(nqbits_)\n",
    "    \n",
    "    step = (b-a)/nbin\n",
    "    #center calculation\n",
    "    centers = np.array([a+step*(i+1/2) for i in range(nbin)])\n",
    "    \n",
    "    prob_n = p(centers)\n",
    "    assert np.all(prob_n>=0.), 'Probabilities must be positive, so p must be a positive function'\n",
    "    probs = prob_n/np.sum(prob_n)\n",
    "    assert np.isclose(np.sum(probs), 1.), 'Probability is not getting normalized properly'\n",
    "    return centers, probs"
   ]
  },
  {
   "cell_type": "code",
   "execution_count": 9,
   "id": "e9e10f24",
   "metadata": {},
   "outputs": [],
   "source": [
    "#Función de probabilidad de prueba\n",
    "def p(x):\n",
    "    return x*x\n",
    "def f(x):\n",
    "    return np.sin(x)"
   ]
  },
  {
   "cell_type": "code",
   "execution_count": 10,
   "id": "c02ebf2d",
   "metadata": {},
   "outputs": [],
   "source": [
    "a=0.0\n",
    "b=1.0\n",
    "nqbits = 8\n",
    "nbins = 2**nqbits\n",
    "\n",
    "X, p_X = get_histogram(p, a, b, nbins)\n",
    "f_X = f(X)"
   ]
  },
  {
   "cell_type": "code",
   "execution_count": 11,
   "id": "d0e6eac9",
   "metadata": {},
   "outputs": [
    {
     "data": {
      "image/png": "[encoded data removed]",
      "text/plain": [
       "<Figure size 432x288 with 1 Axes>"
      ]
     },
     "metadata": {
      "needs_background": "light"
     },
     "output_type": "display_data"
    }
   ],
   "source": [
    "%matplotlib inline\n",
    "plt.plot(X, p_X, 'o')\n",
    "plt.plot(X, f_X, 'o')\n",
    "plt.legend(['Probability', 'Function'])\n",
    "plt.show()"
   ]
  },
  {
   "cell_type": "markdown",
   "id": "973f1d7e",
   "metadata": {},
   "source": [
    "## 2. Carga Probabilidad"
   ]
  },
  {
   "cell_type": "markdown",
   "id": "8e6117cc",
   "metadata": {},
   "source": [
    "Con la distribuición de probabilidad carga en forma de dos arrays (uno el de centros y otro el de las probabilidades de los centros) voy a intentar generar una función que carge dichas probabilidades en un estado cuántico. Para ello genero la función **LoadProbability_Gate** que lo que hace será descargar el proceso de carga en una puerta cuántica. \n",
    "\n",
    "Para poder generar dicha puerta necesito generar rotaciones sobre un qbit controladas por $m$ qbits. Para ello utilizo multiplexores cuánticos. La implementación que tengo de dichos multiplexores es una suerte de función recursiva pero me gustaría generar una puerta que pueda utilizar para generar dichas rotaciones controladas...\n"
   ]
  },
  {
   "cell_type": "code",
   "execution_count": 12,
   "id": "e38e58db",
   "metadata": {},
   "outputs": [],
   "source": [
    "def multiplexor_RY_m_recurs(qprog, qbits, thetas, m, j, sig = 1.):\n",
    "    \"\"\" \n",
    "    Auxiliary function to create the recursive part of a multiplexor that applies an RY gate\n",
    "    \n",
    "    qprog = Quantum Program in which we want to apply the gates\n",
    "    qbits = Nmber of qubits of the quantum program\n",
    "    thetas (np.ndarray) = numpy array containing the set of angles that we want to apply\n",
    "    m   (int) = number of remaining controls\n",
    "    j   (int) = index of the target qubits\n",
    "    sig (float) = accounts for wether our multiplexor is being decomposed with its lateral CNOT at the right or at the left, even if that CNOT is not present because it cancelled out (its values can only be +1. and -1.)\n",
    "    \"\"\"\n",
    "    assert isinstance(m, int), 'm must be an integer'\n",
    "    assert isinstance(j, int), 'j must be an integer'\n",
    "    assert sig == 1. or sig == -1., 'sig can only be -1. or 1.'\n",
    "    if m > 1:\n",
    "        # If there is more that one control, the multiplexor shall be decomposed.\n",
    "        # It can be checked that the right way to decompose it taking into account the simplifications is as\n",
    "        x_l = 0.5*np.array([thetas[i]+sig*thetas[i+len(thetas)//2] for i in range (len(thetas)//2)]) #left angles\n",
    "        x_r = 0.5*np.array([thetas[i]-sig*thetas[i+len(thetas)//2] for i in range (len(thetas)//2)]) #right angles\n",
    "        \n",
    "        multiplexor_RY_m_recurs(qprog, qbits, x_l, m-1, j, 1.)\n",
    "        qprog.apply(CNOT, qbits[j-m], qbits[j])\n",
    "        multiplexor_RY_m_recurs(qprog, qbits, x_r, m-1, j, -1.)\n",
    "        \n",
    "        # Just for clarification, if we hadn't already simplify the CNOTs, the code should have been\n",
    "        # if sign == -1.:\n",
    "        #   multiplexor_RY_m_recurs(qprog, qbits, x_l, m-1, j, -1.)\n",
    "        # qprog.apply(CNOT, qbits[j-m], qbits[j])\n",
    "        # multiplexor_RY_m_recurs(qprog, qbits, x_r, m-1, j, -1.)\n",
    "        # qprog.apply(CNOT, qbits[j-m], qbits[j])\n",
    "        # if sign == 1.:\n",
    "        #   multiplexor_RY_m_recurs(qprog, qbits, x_l, m-1, j, 1.)\n",
    "        \n",
    "    else: \n",
    "        # If there is only one control just apply the Ry gates\n",
    "        ThetaPositive = (thetas[0]+sig*thetas[1])/2.0\n",
    "        ThetaNegative = (thetas[0]-sig*thetas[1])/2.0\n",
    "        qprog.apply(RY(ThetaPositive), qbits[j])\n",
    "        qprog.apply(CNOT, qbits[j-1], qbits[j])\n",
    "        qprog.apply(RY(ThetaNegative), qbits[j])\n",
    "        \n",
    "            \n",
    "def multiplexor_RY_m(qprog, qbits, thetas, m, j):\n",
    "    \"\"\"\n",
    "    Create a multiplexor that applies an RY gate on a qubit controlled by the former m qubits\n",
    "    It will have its lateral cnot on the right.\n",
    "\n",
    "    qprog = Quantum Program in which we want to apply the gates\n",
    "    qbits = Nmber of qubits of the quantum program\n",
    "    thetas (np.ndarray) = numpy array containing the set of angles that we want to apply\n",
    "    m      (int) = number of remaining controls\n",
    "    j      (int) = index of the target qubits\n",
    "    \"\"\"\n",
    "    multiplexor_RY_m_recurs(qprog, qbits, thetas, m, j)\n",
    "    qprog.apply(CNOT, qbits[j-m], qbits[j])\n",
    "    \n",
    "def LoadProbability_Gate(ProbabilityArray, CentersArray):\n",
    "    \"\"\"\n",
    "    Given a discretized probability array the function creates a AbstracGate that allows the load\n",
    "    of the probability in a Quantum State. The number of qbits of the gate will be log2(len(ProbabilityArray))\n",
    "    Inputs:\n",
    "    * ProbabilityArray: np.array. Discretized arrray with the probability to load\n",
    "    Outuput:\n",
    "    * P_gate: Abstract Gate. Gate for loading Input probability in a quantum state\n",
    "    \"\"\"\n",
    "    \n",
    "    \n",
    "    #Number of Input qbits for the QWuantum Gate\n",
    "    nqbits_ = np.log2(len(ProbabilityArray))\n",
    "    #Probability array must have a dimension of 2^n.\n",
    "    Condition = (nqbits_%2 ==0) or (nqbits_%2 ==1)\n",
    "    assert Condition, 'Length of the ProbabilityArray must be of dimension 2^n with n a int. In this case is: {}.'.format(nqbits_)\n",
    "    \n",
    "    nqbits = int(nqbits_)\n",
    "    nbins = len(ProbabilityArray)\n",
    "    \n",
    "    P = AbstractGate(\"P\", [int])\n",
    "    def P_generator(nqbits):\n",
    "        rout = QRoutine()\n",
    "        reg = rout.new_wires(nqbits)\n",
    "        print(reg)\n",
    "        # Now go iteratively trough each qubit computing the probabilities and adding the corresponding multiplexor\n",
    "        for m in range(nqbits):\n",
    "            n_parts = 2**(m+1) #Compute the number of subzones which the current state is codifying\n",
    "            edges = np.array([a+(b-a)*(i)/n_parts for i in range(n_parts+1)]) #Compute the edges of that subzones\n",
    "        \n",
    "            # Compute the probabilities of each subzone by suming the probabilities of the original histogram.\n",
    "            # There is no need to compute integrals since the limiting accuracy is given by the original discretization.\n",
    "            # Moreover, this approach allows to handle non analytical probability distributions, measured directly from experiments\n",
    "            p_zones = np.array([np.sum(ProbabilityArray[np.logical_and(CentersArray>edges[i],CentersArray<edges[i+1])]) for i in range(n_parts)])\n",
    "            # Compute the probability of standing on the left part of each zone \n",
    "            p_left = p_zones[[2*j for j in range(n_parts//2)]]\n",
    "            # Compute the probability of standing on each zone (left zone + right zone)\n",
    "            p_tot = p_left + p_zones[[2*j+1 for j in range(n_parts//2)]]\n",
    "            \n",
    "            # Compute the rotation angles\n",
    "            thetas = 2.0*np.arccos(np.sqrt(p_left/p_tot))\n",
    "\n",
    "            if m == 0:\n",
    "                # In the first iteration it is only needed a RY gate\n",
    "                rout.apply(RY(thetas[0]), reg[0])\n",
    "            else:\n",
    "                # In the following iterations we have to apply multiplexors controlled by m qubits\n",
    "                # We call a function to construct the multiplexor, whose action is a block diagonal matrix of Ry gates with angles theta\n",
    "                multiplexor_RY_m(rout, reg, thetas, m, m)\n",
    "        return rout\n",
    "    P.set_circuit_generator(P_generator)\n",
    "    P_gate = P(nqbits)\n",
    "    return P_gate\n",
    "\n"
   ]
  },
  {
   "cell_type": "code",
   "execution_count": null,
   "id": "834f08c7",
   "metadata": {},
   "outputs": [],
   "source": []
  },
  {
   "cell_type": "code",
   "execution_count": null,
   "id": "a98e1ed2",
   "metadata": {},
   "outputs": [],
   "source": []
  },
  {
   "cell_type": "code",
   "execution_count": null,
   "id": "71b90486",
   "metadata": {},
   "outputs": [],
   "source": []
  },
  {
   "cell_type": "code",
   "execution_count": null,
   "id": "d57c703e",
   "metadata": {},
   "outputs": [],
   "source": []
  },
  {
   "cell_type": "code",
   "execution_count": null,
   "id": "5dc077b0",
   "metadata": {},
   "outputs": [],
   "source": []
  },
  {
   "cell_type": "code",
   "execution_count": 13,
   "id": "04fc9714",
   "metadata": {},
   "outputs": [],
   "source": [
    "from qat.lang.AQASM import Program\n",
    "qprog = Program()\n",
    "qbits = qprog.qalloc(nqbits)\n",
    "P_gate = LoadProbability_Gate(p_X, X)\n",
    "qprog.apply(P_gate, qbits)"
   ]
  },
  {
   "cell_type": "code",
   "execution_count": 14,
   "id": "92c128e2",
   "metadata": {},
   "outputs": [
    {
     "name": "stdout",
     "output_type": "stream",
     "text": [
      "[<qat.lang.AQASM.bits.Qbit object at 0x14ecc519bd60>, <qat.lang.AQASM.bits.Qbit object at 0x14ecbfc7e370>, <qat.lang.AQASM.bits.Qbit object at 0x14ecbfbcc2b0>, <qat.lang.AQASM.bits.Qbit object at 0x14ecbfbcc940>, <qat.lang.AQASM.bits.Qbit object at 0x14ecbfbccd60>, <qat.lang.AQASM.bits.Qbit object at 0x14ecbfbccb50>, <qat.lang.AQASM.bits.Qbit object at 0x14ecbfbccee0>, <qat.lang.AQASM.bits.Qbit object at 0x14ecbfbccc70>]\n"
     ]
    },
    {
     "data": {
      "image/png": "[encoded data removed]",
      "text/plain": [
       "<IPython.core.display.Image object>"
      ]
     },
     "execution_count": 14,
     "metadata": {},
     "output_type": "execute_result"
    }
   ],
   "source": [
    "circuit = qprog.to_circ()\n",
    "%qatdisplay circuit --depth 0"
   ]
  },
  {
   "cell_type": "code",
   "execution_count": 15,
   "id": "dcb038c8",
   "metadata": {},
   "outputs": [
    {
     "name": "stdout",
     "output_type": "stream",
     "text": [
      "Submitted a new batch: Job236\n"
     ]
    }
   ],
   "source": [
    "Pm, _ = GetResults(circuit, lineal_qpu, True)"
   ]
  },
  {
   "cell_type": "code",
   "execution_count": 16,
   "id": "b381f656",
   "metadata": {},
   "outputs": [
    {
     "data": {
      "text/plain": [
       "True"
      ]
     },
     "execution_count": 16,
     "metadata": {},
     "output_type": "execute_result"
    }
   ],
   "source": [
    "np.isclose(Pm['Probability'], p_X).all()"
   ]
  },
  {
   "cell_type": "code",
   "execution_count": null,
   "id": "89bbbc38",
   "metadata": {},
   "outputs": [],
   "source": []
  },
  {
   "cell_type": "code",
   "execution_count": null,
   "id": "074b459c",
   "metadata": {},
   "outputs": [],
   "source": [
    "Path2 = '/home/gferro/Code/PhaseAmplification/'\n",
    "#Path2 = '/home/cesga/gferro/QLM_Backup/Code/PhaseAmplification/'\n",
    "if os.path.exists(Path2):\n",
    "    sys.path.append(Path2)\n",
    "else: \n",
    "    raise FileNotFoundError('File does not exist')\n",
    "from dataloading_module import LeftConditionalProbability\n",
    "from dataloading_module import CreatePG"
   ]
  },
  {
   "cell_type": "code",
   "execution_count": null,
   "id": "fa668fc7",
   "metadata": {},
   "outputs": [],
   "source": [
    "from qat.lang.AQASM import Program\n",
    "qprogZ = Program()\n",
    "qbitsZ= qprogZ.qalloc(nqbits)\n",
    "Z_P_gate = LoadProbability_Gate(p_X, X)\n",
    "qprogZ.apply(Z_P_gate, qbitsZ)"
   ]
  },
  {
   "cell_type": "code",
   "execution_count": null,
   "id": "368ec494",
   "metadata": {},
   "outputs": [],
   "source": [
    "circuitZ = qprogZ.to_circ()\n",
    "%qatdisplay circuitZ --depth 0"
   ]
  },
  {
   "cell_type": "code",
   "execution_count": null,
   "id": "b219734e",
   "metadata": {},
   "outputs": [],
   "source": [
    "PmZ, _ = GetResults(circuitZ, lineal_qpu, True)"
   ]
  },
  {
   "cell_type": "code",
   "execution_count": null,
   "id": "5af780d8",
   "metadata": {},
   "outputs": [],
   "source": [
    "np.isclose(PmZ['Probability'], p_X).all()"
   ]
  },
  {
   "cell_type": "code",
   "execution_count": null,
   "id": "12cf0f9e",
   "metadata": {},
   "outputs": [],
   "source": [
    "np.isclose(Pm['Probability'], PmZ['Probability']).all()"
   ]
  },
  {
   "cell_type": "code",
   "execution_count": null,
   "id": "8c6a1666",
   "metadata": {},
   "outputs": [],
   "source": []
  },
  {
   "cell_type": "code",
   "execution_count": null,
   "id": "22ff6055",
   "metadata": {},
   "outputs": [],
   "source": []
  },
  {
   "cell_type": "code",
   "execution_count": null,
   "id": "e0532ff5",
   "metadata": {},
   "outputs": [],
   "source": []
  },
  {
   "cell_type": "code",
   "execution_count": null,
   "id": "81173d92",
   "metadata": {},
   "outputs": [],
   "source": [
    "def load_function(centers, f, nqbits):\n",
    "    \"\"\"\n",
    "    Load the values of the function f on the states in which the value of the auxiliary qubit is 1 once the probabilities are already loaded.\n",
    "    \n",
    "    PARAMETERS:\n",
    "    centers (np.ndarray) : center of each considered bin\n",
    "    f       (function)   : function that we want to load. Its image must be contained in [0, 1]\n",
    "    nqbits  (int)        : number of qubits used WITHOUT counting the auxiliary qubit\n",
    "    \n",
    "    RETURNS:\n",
    "    R_gate (ParamGate) : gate that loads the function into the amplitudes\n",
    "    y      (np.ndarray)  : array containing the value of the function in each bin\n",
    "    \"\"\"\n",
    "    y = f(centers)\n",
    "    assert np.all(y<=1.), 'The image of the function must be less than 1. Rescaling is required'\n",
    "    assert np.all(y>=0.), 'The image of the function must be greater than 0. Rescaling is required'\n",
    "    assert isinstance(y, np.ndarray), 'the output of the function p must be a numpy array'\n",
    "    thetas = np.arcsin(np.sqrt(y))\n",
    "\n",
    "    R = AbstractGate(\"R\", [int] + [float for theta in thetas])\n",
    "    def R_generator(nqbits, *thetas):\n",
    "        rout = QRoutine()\n",
    "        reg = rout.new_wires(nqbits+1)\n",
    "        multiplexor_RY_m(rout, reg, thetas, nqbits, nqbits)\n",
    "        return rout\n",
    "    R.set_circuit_generator(R_generator)\n",
    "    R_gate = R(nqbits, *thetas)\n",
    "    return R_gate, y\n"
   ]
  },
  {
   "cell_type": "code",
   "execution_count": null,
   "id": "3305e764",
   "metadata": {},
   "outputs": [],
   "source": []
  },
  {
   "cell_type": "code",
   "execution_count": null,
   "id": "f0db3d51",
   "metadata": {},
   "outputs": [],
   "source": []
  },
  {
   "cell_type": "code",
   "execution_count": null,
   "id": "4ff077c5",
   "metadata": {},
   "outputs": [],
   "source": []
  },
  {
   "cell_type": "code",
   "execution_count": null,
   "id": "ef3d8eeb",
   "metadata": {},
   "outputs": [],
   "source": []
  },
  {
   "cell_type": "code",
   "execution_count": null,
   "id": "3a408773",
   "metadata": {},
   "outputs": [],
   "source": []
  },
  {
   "cell_type": "code",
   "execution_count": null,
   "id": "aba55536",
   "metadata": {},
   "outputs": [],
   "source": []
  },
  {
   "cell_type": "code",
   "execution_count": null,
   "id": "c23d50a5",
   "metadata": {},
   "outputs": [],
   "source": []
  },
  {
   "cell_type": "markdown",
   "id": "f699b677",
   "metadata": {},
   "source": [
    "############################# REVISAR A PARTIR DE AQUI"
   ]
  },
  {
   "cell_type": "code",
   "execution_count": null,
   "id": "fbe1ce7a",
   "metadata": {},
   "outputs": [],
   "source": [
    "#Configuración del algoritmo\n",
    "nqbits = 5\n",
    "nbins = 2**nqbits\n",
    "a = 0\n",
    "b = 1\n",
    "#Creamos la probabilidad discretizada que queremos cargar\n",
    "centers, probs = get_histogram(p, a, b, nbins)\n",
    "qprog = Program()\n",
    "qbits = qprog.qalloc(nqbits)\n",
    "LThetas = []\n",
    "for i in range(0, nqbits):\n",
    "    ConditionalProbability = LeftConditionalProbability(i, probs)\n",
    "    Thetas = np.arccos(np.sqrt(ConditionalProbability))\n",
    "    LThetas.append(Thetas)"
   ]
  },
  {
   "cell_type": "code",
   "execution_count": null,
   "id": "8b17ef4c",
   "metadata": {},
   "outputs": [],
   "source": [
    "LThetas"
   ]
  },
  {
   "cell_type": "code",
   "execution_count": null,
   "id": "4711f076",
   "metadata": {},
   "outputs": [],
   "source": [
    "def CRBS(nqbits,thetas, m, j):\n",
    "    def generator(nqbits):\n",
    "        rout = QRoutine()\n",
    "        reg = rout.new_wires(nqbits)\n",
    "        multiplexor_RY_m_recurs(rout, reg, thetas, m, j)\n",
    "        rout.apply(CNOT, reg[j-m], reg[j])\n",
    "        return rout\n",
    "    \n",
    "    cR = AbstractGate(\"cR\", [int])\n",
    "    cR.set_circuit_generator(generator)\n",
    "    return cR(nqbits)"
   ]
  },
  {
   "cell_type": "code",
   "execution_count": null,
   "id": "7ad0c4f9",
   "metadata": {},
   "outputs": [],
   "source": [
    "A = CRBS(3, LThetas[2], 2 ,2)"
   ]
  },
  {
   "cell_type": "code",
   "execution_count": null,
   "id": "3a8e748b",
   "metadata": {},
   "outputs": [],
   "source": [
    "A"
   ]
  },
  {
   "cell_type": "code",
   "execution_count": null,
   "id": "b950deb0",
   "metadata": {},
   "outputs": [],
   "source": [
    "LThetas[1]"
   ]
  },
  {
   "cell_type": "code",
   "execution_count": null,
   "id": "cc72676d",
   "metadata": {},
   "outputs": [],
   "source": [
    "#Create the circuit from the program\n",
    "circuit = qprog.to_circ()\n",
    "\n",
    "#Display the circuit\n",
    "#%qatdisplay circuit\n",
    "%qatdisplay circuit --depth 1"
   ]
  },
  {
   "cell_type": "code",
   "execution_count": null,
   "id": "8d4dc45b",
   "metadata": {},
   "outputs": [],
   "source": [
    "qprog = Program()\n",
    "qbits = qprog.qalloc(nqbits)\n",
    "A = CRBS(5, LThetas[4], 4 ,4)\n",
    "qprog.apply(A, qbits)"
   ]
  },
  {
   "cell_type": "code",
   "execution_count": null,
   "id": "035a97ac",
   "metadata": {},
   "outputs": [],
   "source": []
  },
  {
   "cell_type": "code",
   "execution_count": null,
   "id": "d9f06ac7",
   "metadata": {},
   "outputs": [],
   "source": []
  },
  {
   "cell_type": "code",
   "execution_count": null,
   "id": "8d2baf0f",
   "metadata": {},
   "outputs": [],
   "source": []
  },
  {
   "cell_type": "code",
   "execution_count": null,
   "id": "5effa9b2",
   "metadata": {},
   "outputs": [],
   "source": []
  },
  {
   "cell_type": "code",
   "execution_count": null,
   "id": "11905b78",
   "metadata": {},
   "outputs": [],
   "source": []
  },
  {
   "cell_type": "code",
   "execution_count": null,
   "id": "7d43a7c4",
   "metadata": {},
   "outputs": [],
   "source": []
  },
  {
   "cell_type": "markdown",
   "id": "3008c343",
   "metadata": {},
   "source": [
    "### 2.1 Rotaciones controladas por un estado"
   ]
  },
  {
   "cell_type": "code",
   "execution_count": null,
   "id": "1c421440",
   "metadata": {},
   "outputs": [],
   "source": [
    "Path2 = '/home/gferro/Code/PhaseAmplification/'\n",
    "#Path2 = '/home/cesga/gferro/QLM_Backup/Code/PhaseAmplification/'\n",
    "if os.path.exists(Path2):\n",
    "    sys.path.append(Path2)\n",
    "else: \n",
    "    raise FileNotFoundError('File does not exist')\n",
    "    \n",
    "from dataloading_module import LeftConditionalProbability"
   ]
  },
  {
   "cell_type": "markdown",
   "id": "5813058a",
   "metadata": {},
   "source": [
    "El siguiente código genera dado un array de probabilidades las diferentes $\\theta$ que necesitamos cargar las probabilidades en un estado cuántico"
   ]
  },
  {
   "cell_type": "markdown",
   "id": "a3f39bf0",
   "metadata": {},
   "source": [
    "#### Genera $\\theta$"
   ]
  },
  {
   "cell_type": "code",
   "execution_count": null,
   "id": "4820a8ee",
   "metadata": {},
   "outputs": [],
   "source": [
    "#Configuración del algoritmo\n",
    "LThetas = []\n",
    "LCond = []\n",
    "for i in range(0, nqbits):\n",
    "    ConditionalProbability = LeftConditionalProbability(i, p_X)\n",
    "    LCond.append(ConditionalProbability)\n",
    "    Thetas = 2.0*np.arccos(np.sqrt(ConditionalProbability))\n",
    "    LThetas.append(Thetas)"
   ]
  },
  {
   "cell_type": "code",
   "execution_count": null,
   "id": "bb4440e1",
   "metadata": {},
   "outputs": [],
   "source": [
    "LThetas"
   ]
  },
  {
   "cell_type": "markdown",
   "id": "ba4c1376",
   "metadata": {},
   "source": [
    "#### Rotaciones Controladas con Multiplexores"
   ]
  },
  {
   "cell_type": "code",
   "execution_count": null,
   "id": "bdd33a23",
   "metadata": {},
   "outputs": [],
   "source": [
    "def multiplexor_RY_m_recurs(qprog, qbits, thetas, m, j, sig = 1.):\n",
    "    \"\"\" \n",
    "    Auxiliary function to create the recursive part of a multiplexor that applies an RY gate\n",
    "    \n",
    "    qprog = Quantum Program in which we want to apply the gates\n",
    "    qbits = Nmber of qubits of the quantum program\n",
    "    thetas (np.ndarray) = numpy array containing the set of angles that we want to apply\n",
    "    m   (int) = number of remaining controls\n",
    "    j   (int) = index of the target qubits\n",
    "    sig (float) = accounts for wether our multiplexor is being decomposed with its lateral CNOT at the right or at the left, even if that CNOT is not present because it cancelled out (its values can only be +1. and -1.)\n",
    "    \"\"\"\n",
    "    assert isinstance(m, int), 'm must be an integer'\n",
    "    assert isinstance(j, int), 'j must be an integer'\n",
    "    assert sig == 1. or sig == -1., 'sig can only be -1. or 1.'\n",
    "    if m > 1:\n",
    "        # If there is more that one control, the multiplexor shall be decomposed.\n",
    "        # It can be checked that the right way to decompose it taking into account the simplifications is as\n",
    "        x_l = 0.5*np.array([thetas[i]+sig*thetas[i+len(thetas)//2] for i in range (len(thetas)//2)]) #left angles\n",
    "        x_r = 0.5*np.array([thetas[i]-sig*thetas[i+len(thetas)//2] for i in range (len(thetas)//2)]) #right angles\n",
    "        \n",
    "        multiplexor_RY_m_recurs(qprog, qbits, x_l, m-1, j, 1.)\n",
    "        qprog.apply(CNOT, qbits[j-m], qbits[j])\n",
    "        multiplexor_RY_m_recurs(qprog, qbits, x_r, m-1, j, -1.)\n",
    "        \n",
    "        # Just for clarification, if we hadn't already simplify the CNOTs, the code should have been\n",
    "        # if sign == -1.:\n",
    "        #   multiplexor_RY_m_recurs(qprog, qbits, x_l, m-1, j, -1.)\n",
    "        # qprog.apply(CNOT, qbits[j-m], qbits[j])\n",
    "        # multiplexor_RY_m_recurs(qprog, qbits, x_r, m-1, j, -1.)\n",
    "        # qprog.apply(CNOT, qbits[j-m], qbits[j])\n",
    "        # if sign == 1.:\n",
    "        #   multiplexor_RY_m_recurs(qprog, qbits, x_l, m-1, j, 1.)\n",
    "        \n",
    "    else: \n",
    "        # If there is only one control just apply the Ry gates\n",
    "        ThetaPositive = (thetas[0]+sig*thetas[1])/2.0\n",
    "        ThetaNegative = (thetas[0]-sig*thetas[1])/2.0\n",
    "        qprog.apply(RY(ThetaPositive), qbits[j])\n",
    "        qprog.apply(CNOT, qbits[j-1], qbits[j])\n",
    "        qprog.apply(RY(ThetaNegative), qbits[j])\n",
    "        \n",
    "            \n",
    "def multiplexor_RY_m(qprog, qbits, thetas, m, j):\n",
    "    \"\"\"\n",
    "    Create a multiplexor that applies an RY gate on a qubit controlled by the former m qubits\n",
    "    It will have its lateral cnot on the right.\n",
    "\n",
    "    qprog = Quantum Program in which we want to apply the gates\n",
    "    qbits = Nmber of qubits of the quantum program\n",
    "    thetas (np.ndarray) = numpy array containing the set of angles that we want to apply\n",
    "    m      (int) = number of remaining controls\n",
    "    j      (int) = index of the target qubits\n",
    "    \"\"\"\n",
    "    multiplexor_RY_m_recurs(qprog, qbits, thetas, m, j)\n",
    "    qprog.apply(CNOT, qbits[j-m], qbits[j])\n",
    "\n",
    "def StateControlledRY(thetas):\n",
    "    cSRY = AbstractGate(\"cSRY\", [float for theta in thetas])\n",
    "    def CRBS_(*thetas):\n",
    "        rout = QRoutine()\n",
    "        nqbits_ = int(np.log2(len(thetas)))\n",
    "        #The number of controlled qbits is given by the Theta dimension\n",
    "        #We need to appy the rotation on an additional qbit\n",
    "        reg = rout.new_wires(nqbits_+1)\n",
    "        multiplexor_RY_m(rout, reg, thetas, nqbits_, nqbits_)\n",
    "        return rout\n",
    "    cSRY.set_circuit_generator(CRBS_)\n",
    "    return cSRY(*thetas)\n",
    "    "
   ]
  },
  {
   "cell_type": "code",
   "execution_count": null,
   "id": "5063ae8a",
   "metadata": {},
   "outputs": [],
   "source": [
    "j=1\n",
    "qprog = Program()\n",
    "print(LThetas[j])\n",
    "nqbits = int(np.log2(len(LThetas[j])))+1\n",
    "print(nqbits)\n",
    "qbits = qprog.qalloc(nqbits)\n",
    "csRY = StateControlledRY(LThetas[j])\n",
    "qprog.apply(csRY, qbits)"
   ]
  },
  {
   "cell_type": "code",
   "execution_count": null,
   "id": "260ada9a",
   "metadata": {},
   "outputs": [],
   "source": [
    "circuit = qprog.to_circ()\n",
    "%qatdisplay circuit --depth 1"
   ]
  },
  {
   "cell_type": "code",
   "execution_count": null,
   "id": "0402468a",
   "metadata": {},
   "outputs": [],
   "source": [
    "P, _ = GetResults(circuit, lineal_qpu, False)"
   ]
  },
  {
   "cell_type": "code",
   "execution_count": null,
   "id": "315b06a5",
   "metadata": {
    "scrolled": true
   },
   "outputs": [],
   "source": [
    "LThetas[j]"
   ]
  },
  {
   "cell_type": "code",
   "execution_count": null,
   "id": "82aa0ddc",
   "metadata": {},
   "outputs": [],
   "source": [
    "qprog = Program()\n",
    "qbits = qprog.qalloc(nqbits)\n",
    "j=3\n",
    "csRY = StateControlledRY(LThetas[j])\n",
    "\n",
    "qprog.apply(csRY, qbits[:j+1])"
   ]
  },
  {
   "cell_type": "code",
   "execution_count": null,
   "id": "a4b2e0b7",
   "metadata": {},
   "outputs": [],
   "source": [
    "circuit = qprog.to_circ()\n",
    "%qatdisplay circuit --depth 1"
   ]
  },
  {
   "cell_type": "code",
   "execution_count": null,
   "id": "0831003c",
   "metadata": {},
   "outputs": [],
   "source": []
  },
  {
   "cell_type": "code",
   "execution_count": null,
   "id": "91c470e3",
   "metadata": {},
   "outputs": [],
   "source": []
  },
  {
   "cell_type": "code",
   "execution_count": null,
   "id": "c9b8af19",
   "metadata": {},
   "outputs": [],
   "source": []
  },
  {
   "cell_type": "markdown",
   "id": "b7bcd7e3",
   "metadata": {},
   "source": [
    "#### Rotaciones Controladas Raw"
   ]
  },
  {
   "cell_type": "code",
   "execution_count": null,
   "id": "8f32f98c",
   "metadata": {},
   "outputs": [],
   "source": [
    "from dataloading_module import CRBS_gate, ZStateControlledRY"
   ]
  },
  {
   "cell_type": "code",
   "execution_count": null,
   "id": "3259d0dc",
   "metadata": {},
   "outputs": [],
   "source": [
    "qprogZ = Program()\n",
    "qbitsZ = qprogZ.qalloc(nqbits)\n",
    "controlledR_gate = ZStateControlledRY(LThetas[j])\n",
    "qprogZ.apply(controlledR_gate, qbitsZ)"
   ]
  },
  {
   "cell_type": "code",
   "execution_count": null,
   "id": "d01c7592",
   "metadata": {},
   "outputs": [],
   "source": [
    "circuitZ = qprogZ.to_circ()\n",
    "%qatdisplay circuitZ --depth 2"
   ]
  },
  {
   "cell_type": "code",
   "execution_count": null,
   "id": "25da54ce",
   "metadata": {},
   "outputs": [],
   "source": [
    "PZ, _ = GetResults(circuitZ, lineal_qpu, False)"
   ]
  },
  {
   "cell_type": "code",
   "execution_count": null,
   "id": "e5210e4a",
   "metadata": {},
   "outputs": [],
   "source": [
    "np.isclose(PZ['Probability'], P['Probability']).all()"
   ]
  },
  {
   "cell_type": "code",
   "execution_count": null,
   "id": "f3511dcc",
   "metadata": {},
   "outputs": [],
   "source": [
    "#Rotacion controlada de varios thetas \n",
    "def ZStateControlledRY(thetas):\n",
    "    ZcSRY = AbstractGate(\"ZcSRY\", [float for theta in thetas])\n",
    "    def ScRs_(*thetas):\n",
    "        from qat.lang.AQASM import QRoutine\n",
    "        qrout = QRoutine()\n",
    "        #Numero de qbits para controlar las Thetas\n",
    "        NumberOfQbits = int(np.log2(len(thetas)))\n",
    "        #Controlling qbits\n",
    "        qcontrol = qrout.new_wires(NumberOfQbits)\n",
    "        #Additional qbit where Rotation should be applied\n",
    "        qtarget = qrout.new_wires(1)\n",
    "        for j, theta in enumerate(thetas):\n",
    "            qrout.apply(CRBS_gate(NumberOfQbits, j, theta), qcontrol+qtarget)\n",
    "        return qrout\n",
    "    ZcSRY.set_circuit_generator(ScRs_)\n",
    "    return ZcSRY(*thetas)"
   ]
  },
  {
   "cell_type": "code",
   "execution_count": null,
   "id": "0ae5780b",
   "metadata": {},
   "outputs": [],
   "source": [
    "qprogZ = Program()\n",
    "qbitsZ = qprogZ.qalloc(nqbits)\n",
    "controlledR_gate = ZStateControlledRY(LThetas[j])\n",
    "qprogZ.apply(controlledR_gate, qbitsZ)"
   ]
  },
  {
   "cell_type": "code",
   "execution_count": null,
   "id": "66ab7d76",
   "metadata": {},
   "outputs": [],
   "source": [
    "circuitZ = qprogZ.to_circ()\n",
    "%qatdisplay circuitZ --depth 2"
   ]
  },
  {
   "cell_type": "code",
   "execution_count": null,
   "id": "99f008c2",
   "metadata": {},
   "outputs": [],
   "source": [
    "PZ, _ = GetResults(circuitZ, lineal_qpu, False)"
   ]
  },
  {
   "cell_type": "code",
   "execution_count": null,
   "id": "039dcacd",
   "metadata": {},
   "outputs": [],
   "source": [
    "np.isclose(PZ['Probability'], P['Probability']).all()"
   ]
  },
  {
   "cell_type": "markdown",
   "id": "e49a1a52",
   "metadata": {},
   "source": [
    "## 2.2 Carga de Probabilidad"
   ]
  },
  {
   "cell_type": "markdown",
   "id": "62cdc8cb",
   "metadata": {},
   "source": [
    "Ahora procedemos a utilizar la puerta generada para crear la carga de probabilidad"
   ]
  },
  {
   "cell_type": "code",
   "execution_count": null,
   "id": "63afcb31",
   "metadata": {},
   "outputs": [],
   "source": [
    "def multiplexor_RY_m_recurs(qprog, qbits, thetas, m, j, sig = 1.):\n",
    "    \"\"\" \n",
    "    Auxiliary function to create the recursive part of a multiplexor that applies an RY gate\n",
    "    \n",
    "    qprog = Quantum Program in which we want to apply the gates\n",
    "    qbits = Nmber of qubits of the quantum program\n",
    "    thetas (np.ndarray) = numpy array containing the set of angles that we want to apply\n",
    "    m   (int) = number of remaining controls\n",
    "    j   (int) = index of the target qubits\n",
    "    sig (float) = accounts for wether our multiplexor is being decomposed with its lateral CNOT at the right or at the left, even if that CNOT is not present because it cancelled out (its values can only be +1. and -1.)\n",
    "    \"\"\"\n",
    "    assert isinstance(m, int), 'm must be an integer'\n",
    "    assert isinstance(j, int), 'j must be an integer'\n",
    "    assert sig == 1. or sig == -1., 'sig can only be -1. or 1.'\n",
    "    if m > 1:\n",
    "        # If there is more that one control, the multiplexor shall be decomposed.\n",
    "        # It can be checked that the right way to decompose it taking into account the simplifications is as\n",
    "        x_l = 0.5*np.array([thetas[i]+sig*thetas[i+len(thetas)//2] for i in range (len(thetas)//2)]) #left angles\n",
    "        x_r = 0.5*np.array([thetas[i]-sig*thetas[i+len(thetas)//2] for i in range (len(thetas)//2)]) #right angles\n",
    "        \n",
    "        multiplexor_RY_m_recurs(qprog, qbits, x_l, m-1, j, 1.)\n",
    "        qprog.apply(CNOT, qbits[j-m], qbits[j])\n",
    "        multiplexor_RY_m_recurs(qprog, qbits, x_r, m-1, j, -1.)\n",
    "        \n",
    "        # Just for clarification, if we hadn't already simplify the CNOTs, the code should have been\n",
    "        # if sign == -1.:\n",
    "        #   multiplexor_RY_m_recurs(qprog, qbits, x_l, m-1, j, -1.)\n",
    "        # qprog.apply(CNOT, qbits[j-m], qbits[j])\n",
    "        # multiplexor_RY_m_recurs(qprog, qbits, x_r, m-1, j, -1.)\n",
    "        # qprog.apply(CNOT, qbits[j-m], qbits[j])\n",
    "        # if sign == 1.:\n",
    "        #   multiplexor_RY_m_recurs(qprog, qbits, x_l, m-1, j, 1.)\n",
    "        \n",
    "    else: \n",
    "        # If there is only one control just apply the Ry gates\n",
    "        ThetaPositive = (thetas[0]+sig*thetas[1])/2.0\n",
    "        ThetaNegative = (thetas[0]-sig*thetas[1])/2.0\n",
    "        qprog.apply(RY(ThetaPositive), qbits[j])\n",
    "        qprog.apply(CNOT, qbits[j-1], qbits[j])\n",
    "        qprog.apply(RY(ThetaNegative), qbits[j])\n",
    "        \n",
    "            \n",
    "def multiplexor_RY_m(qprog, qbits, thetas, m, j):\n",
    "    \"\"\"\n",
    "    Create a multiplexor that applies an RY gate on a qubit controlled by the former m qubits\n",
    "    It will have its lateral cnot on the right.\n",
    "\n",
    "    qprog = Quantum Program in which we want to apply the gates\n",
    "    qbits = Nmber of qubits of the quantum program\n",
    "    thetas (np.ndarray) = numpy array containing the set of angles that we want to apply\n",
    "    m      (int) = number of remaining controls\n",
    "    j      (int) = index of the target qubits\n",
    "    \"\"\"\n",
    "    multiplexor_RY_m_recurs(qprog, qbits, thetas, m, j)\n",
    "    qprog.apply(CNOT, qbits[j-m], qbits[j])\n",
    "\n",
    "def StateControlledRY(thetas):\n",
    "    cSRY = AbstractGate(\"cSRY\", [float for theta in thetas])\n",
    "    def CRBS_(*thetas):\n",
    "        rout = QRoutine()\n",
    "        nqbits_ = int(np.log2(len(thetas)))\n",
    "        #The number of controlled qbits is given by the Theta dimension\n",
    "        #We need to appy the rotation on an additional qbit\n",
    "        reg = rout.new_wires(nqbits_+1)\n",
    "        multiplexor_RY_m(rout, reg, thetas, nqbits_, nqbits_)\n",
    "        return rout\n",
    "    cSRY.set_circuit_generator(CRBS_)\n",
    "    return cSRY(*thetas)\n",
    "    "
   ]
  },
  {
   "cell_type": "code",
   "execution_count": null,
   "id": "ba0e3133",
   "metadata": {},
   "outputs": [],
   "source": [
    "CentersArray = X\n",
    "ProbabilityArray = p_X\n",
    "\n",
    "rout = Program()\n",
    "reg = rout.qalloc(nqbits)\n",
    "LThetas = []\n",
    "gates = []\n",
    "for m in range(4):\n",
    "    n_parts = 2**(m+1) #Compute the number of subzones which the current state is codifying\n",
    "    edges = np.array([a+(b-a)*(i)/n_parts for i in range(n_parts+1)]) #Compute the edges of that subzones\n",
    "    p_zones = np.array([np.sum(ProbabilityArray[np.logical_and(CentersArray>edges[i],CentersArray<edges[i+1])]) for i in range(n_parts)])\n",
    "    p_left = p_zones[[2*j for j in range(n_parts//2)]]\n",
    "    p_tot = p_left + p_zones[[2*j+1 for j in range(n_parts//2)]]\n",
    "    thetas = 2.0*np.arccos(np.sqrt(p_left/p_tot))\n",
    "    LThetas.append(thetas)\n",
    "    if m == 0:\n",
    "        # In the first iteration it is only needed a RY gate\n",
    "        rout.apply(RY(thetas[0]), reg[0])    \n",
    "        gates.append(None)\n",
    "    else:\n",
    "        #multiplexor_RY_m(rout, reg, thetas, m, m)\n",
    "        csRY = StateControlledRY(thetas)\n",
    "        #rout.apply(csRY, reg[:m+2])\n",
    "        gates.append(csRY)\n",
    "    "
   ]
  },
  {
   "cell_type": "code",
   "execution_count": null,
   "id": "e2c9c9de",
   "metadata": {},
   "outputs": [],
   "source": [
    "len(reg)"
   ]
  },
  {
   "cell_type": "code",
   "execution_count": null,
   "id": "1e3abbb5",
   "metadata": {},
   "outputs": [],
   "source": [
    "rout.apply(gates[1], reg[:2])"
   ]
  },
  {
   "cell_type": "code",
   "execution_count": null,
   "id": "31510e67",
   "metadata": {},
   "outputs": [],
   "source": [
    "rout = Program()\n",
    "m=3\n",
    "reg = rout.qalloc(nqbits)\n",
    "rout.apply(gates[m], reg[:m+2]) "
   ]
  },
  {
   "cell_type": "code",
   "execution_count": null,
   "id": "eac9a973",
   "metadata": {},
   "outputs": [],
   "source": [
    "circuit = rout.to_circ()\n",
    "%qatdisplay circuit --depth 2"
   ]
  },
  {
   "cell_type": "code",
   "execution_count": null,
   "id": "a47db510",
   "metadata": {},
   "outputs": [],
   "source": [
    "rout."
   ]
  },
  {
   "cell_type": "code",
   "execution_count": null,
   "id": "599ee668",
   "metadata": {},
   "outputs": [],
   "source": []
  },
  {
   "cell_type": "code",
   "execution_count": null,
   "id": "0984db47",
   "metadata": {},
   "outputs": [],
   "source": [
    "        print('Len Thetas: {}'.format(len(thetas)))\n",
    "        csRY = StateControlledRY(thetas)\n",
    "        qbits4thetas = int(np.log2(len(thetas)))+1\n",
    "        print('qbits4thetas: {}'.format(qbits4thetas))\n",
    "        print(reg[:qbits4thetas])\n",
    "        rout.apply(csRY, reg[:qbits4thetas])"
   ]
  },
  {
   "cell_type": "code",
   "execution_count": null,
   "id": "ee4ee4ef",
   "metadata": {},
   "outputs": [],
   "source": [
    "def LoadProbability_Gate(ProbabilityArray, CentersArray):\n",
    "    \"\"\"\n",
    "    Given a discretized probability array the function creates a AbstracGate that allows the load\n",
    "    of the probability in a Quantum State. The number of qbits of the gate will be log2(len(ProbabilityArray))\n",
    "    Inputs:\n",
    "    * ProbabilityArray: np.array. Discretized arrray with the probability to load\n",
    "    Outuput:\n",
    "    * P_gate: Abstract Gate. Gate for loading Input probability in a quantum state\n",
    "    \"\"\"\n",
    "    \n",
    "    \n",
    "    #Number of Input qbits for the QWuantum Gate\n",
    "    nqbits_ = np.log2(len(ProbabilityArray))\n",
    "    #Probability array must have a dimension of 2^n.\n",
    "    Condition = (nqbits_%2 ==0) or (nqbits_%2 ==1)\n",
    "    assert Condition, 'Length of the ProbabilityArray must be of dimension 2^n with n a int. In this case is: {}.'.format(nqbits_)\n",
    "    \n",
    "    nqbits = int(nqbits_)\n",
    "    nbins = len(ProbabilityArray)\n",
    "    \n",
    "    P = AbstractGate(\"P\", [int])\n",
    "    def P_generator(nqbits):\n",
    "        rout = QRoutine()\n",
    "        reg = rout.new_wires(nqbits)\n",
    "        print(reg)\n",
    "        # Now go iteratively trough each qubit computing the probabilities and adding the corresponding multiplexor\n",
    "        for m in range(nqbits):\n",
    "            n_parts = 2**(m+1) #Compute the number of subzones which the current state is codifying\n",
    "            edges = np.array([a+(b-a)*(i)/n_parts for i in range(n_parts+1)]) #Compute the edges of that subzones\n",
    "        \n",
    "            # Compute the probabilities of each subzone by suming the probabilities of the original histogram.\n",
    "            # There is no need to compute integrals since the limiting accuracy is given by the original discretization.\n",
    "            # Moreover, this approach allows to handle non analytical probability distributions, measured directly from experiments\n",
    "            p_zones = np.array([np.sum(ProbabilityArray[np.logical_and(CentersArray>edges[i],CentersArray<edges[i+1])]) for i in range(n_parts)])\n",
    "            # Compute the probability of standing on the left part of each zone \n",
    "            p_left = p_zones[[2*j for j in range(n_parts//2)]]\n",
    "            # Compute the probability of standing on each zone (left zone + right zone)\n",
    "            p_tot = p_left + p_zones[[2*j+1 for j in range(n_parts//2)]]\n",
    "            \n",
    "            # Compute the rotation angles\n",
    "            thetas = 2.0*np.arccos(np.sqrt(p_left/p_tot))\n",
    "\n",
    "            if m == 0:\n",
    "                # In the first iteration it is only needed a RY gate\n",
    "                rout.apply(RY(thetas[0]), reg[0])\n",
    "            else:\n",
    "                # In the following iterations we have to apply multiplexors controlled by m qubits\n",
    "                # We call a function to construct the multiplexor, whose action is a block diagonal matrix of Ry gates with angles theta\n",
    "                csRY = StateControlledRY(thetas)\n",
    "                qbits4thetas = int(np.log2(len(thetas)))\n",
    "                print('qbits4thetas: {}'.format(qbits4thetas))\n",
    "                print('len reg: {}'.format(len(reg)))\n",
    "                #multiplexor_RY_m(rout, reg, thetas, m, m)\n",
    "                rout.apply(csRY, reg[:qbits4thetas])\n",
    "        return rout\n",
    "    P.set_circuit_generator(P_generator)\n",
    "    P_gate = P(nqbits)\n",
    "    return P_gate\n"
   ]
  },
  {
   "cell_type": "code",
   "execution_count": null,
   "id": "dce2abd8",
   "metadata": {},
   "outputs": [],
   "source": [
    "circuit = rout.to_circ()\n",
    "%qatdisplay circuit --depth 2"
   ]
  },
  {
   "cell_type": "code",
   "execution_count": null,
   "id": "c74f679a",
   "metadata": {},
   "outputs": [],
   "source": []
  },
  {
   "cell_type": "code",
   "execution_count": null,
   "id": "b7d0567c",
   "metadata": {},
   "outputs": [],
   "source": [
    "a=0.0\n",
    "b=1.0\n",
    "nqbits = 5\n",
    "nbins = 2**nqbits\n",
    "\n",
    "X, p_X = get_histogram(p, a, b, nbins)\n",
    "f_X = f(X)"
   ]
  },
  {
   "cell_type": "code",
   "execution_count": null,
   "id": "19ac0602",
   "metadata": {},
   "outputs": [],
   "source": [
    "p_X"
   ]
  },
  {
   "cell_type": "code",
   "execution_count": null,
   "id": "bee2cd73",
   "metadata": {},
   "outputs": [],
   "source": [
    "P, _ = GetResults(circuit, lineal_qpu, False)"
   ]
  },
  {
   "cell_type": "code",
   "execution_count": null,
   "id": "321dddf5",
   "metadata": {},
   "outputs": [],
   "source": [
    "np.isclose(P['Probability'], p_X).all()"
   ]
  },
  {
   "cell_type": "code",
   "execution_count": null,
   "id": "a0dd33dd",
   "metadata": {
    "scrolled": true
   },
   "outputs": [],
   "source": [
    "from dataloading_module import CreatePG"
   ]
  },
  {
   "cell_type": "code",
   "execution_count": null,
   "id": "a7381d56",
   "metadata": {},
   "outputs": [],
   "source": [
    "from qat.lang.AQASM import Program\n",
    "qprogZ = Program()\n",
    "qbitsZ = qprogZ.qalloc(nqbits)\n",
    "Z_P_gate = CreatePG(p_X)\n",
    "qprogZ.apply(Z_P_gate, qbitsZ)"
   ]
  },
  {
   "cell_type": "code",
   "execution_count": null,
   "id": "1c2a3141",
   "metadata": {},
   "outputs": [],
   "source": [
    "circuitZ = qprogZ.to_circ()\n",
    "%qatdisplay circuitZ --depth 3"
   ]
  },
  {
   "cell_type": "code",
   "execution_count": null,
   "id": "5526a14e",
   "metadata": {},
   "outputs": [],
   "source": [
    "PZ, _ = GetResults(circuitZ, lineal_qpu, False)"
   ]
  },
  {
   "cell_type": "code",
   "execution_count": null,
   "id": "899c5178",
   "metadata": {},
   "outputs": [],
   "source": [
    "np.isclose(PZ['Probability'], p_X).all()"
   ]
  },
  {
   "cell_type": "code",
   "execution_count": null,
   "id": "1dcebb6a",
   "metadata": {},
   "outputs": [],
   "source": [
    "np.isclose(PZ['Probability'], P['Probability']).all()"
   ]
  },
  {
   "cell_type": "code",
   "execution_count": null,
   "id": "9a092c86",
   "metadata": {},
   "outputs": [],
   "source": []
  },
  {
   "cell_type": "code",
   "execution_count": null,
   "id": "602df57f",
   "metadata": {},
   "outputs": [],
   "source": []
  },
  {
   "cell_type": "code",
   "execution_count": null,
   "id": "109ac4b8",
   "metadata": {},
   "outputs": [],
   "source": []
  },
  {
   "cell_type": "code",
   "execution_count": null,
   "id": "40887773",
   "metadata": {},
   "outputs": [],
   "source": []
  },
  {
   "cell_type": "code",
   "execution_count": null,
   "id": "7e18074c",
   "metadata": {},
   "outputs": [],
   "source": []
  }
 ],
 "metadata": {
  "kernelspec": {
   "display_name": "Python 3 (ipykernel)",
   "language": "python",
   "name": "python3"
  },
  "language_info": {
   "codemirror_mode": {
    "name": "ipython",
    "version": 3
   },
   "file_extension": ".py",
   "mimetype": "text/x-python",
   "name": "python",
   "nbconvert_exporter": "python",
   "pygments_lexer": "ipython3",
   "version": "3.9.2"
  }
 },
 "nbformat": 4,
 "nbformat_minor": 5
}
