{
 "cells": [
  {
   "cell_type": "code",
   "execution_count": 1,
   "id": "0e7e29ee",
   "metadata": {},
   "outputs": [
    {
     "data": {
      "text/html": [
       "<style>.container { width:100% !important; }</style>"
      ],
      "text/plain": [
       "<IPython.core.display.HTML object>"
      ]
     },
     "metadata": {},
     "output_type": "display_data"
    }
   ],
   "source": [
    "from IPython.core.display import display, HTML\n",
    "display(HTML(\"<style>.container { width:100% !important; }</style>\"))"
   ]
  },
  {
   "cell_type": "code",
   "execution_count": 2,
   "id": "c7a0085d",
   "metadata": {},
   "outputs": [],
   "source": [
    "import numpy as np\n",
    "import pandas as pd\n",
    "import matplotlib.pyplot as plt\n",
    "import sys, os"
   ]
  },
  {
   "cell_type": "code",
   "execution_count": 3,
   "id": "e8818829",
   "metadata": {},
   "outputs": [],
   "source": [
    "sys.path.append('/home/gferro/PhaseAmplification/')"
   ]
  },
  {
   "cell_type": "code",
   "execution_count": 4,
   "id": "ee7034b1",
   "metadata": {},
   "outputs": [],
   "source": [
    "from qat.core.console import display\n",
    "from qat.qpus import LinAlg"
   ]
  },
  {
   "cell_type": "code",
   "execution_count": 5,
   "id": "e0534b80",
   "metadata": {},
   "outputs": [],
   "source": [
    "from dataloading_module import  CreateLoadFunctionGate, CreatePG\n",
    "from kk import get_histogram"
   ]
  },
  {
   "cell_type": "code",
   "execution_count": 6,
   "id": "4e4b8598",
   "metadata": {},
   "outputs": [],
   "source": [
    "#Probability function\n",
    "def p(x):\n",
    "    return x*x\n",
    "\n",
    "def f(x):\n",
    "    return np.sin(x)\n",
    "    #return np.cos(x)"
   ]
  },
  {
   "cell_type": "markdown",
   "id": "4a71519a",
   "metadata": {},
   "source": [
    "# Algoritmo de Amplificación de Amplitud"
   ]
  },
  {
   "cell_type": "markdown",
   "id": "5be2ca20",
   "metadata": {},
   "source": [
    "Tenemos todos los bloques necesarios para implementar la primera parte del algoritmo de amplificación de amplitud:\n",
    "\n",
    "1. Carga de Proabilidades (Puerta P)\n",
    "2. Carga de Función a integrar (Puerta R)\n",
    "3. Operador $\\hat{U}_{|\\Psi_0\\rangle}$\n",
    "4. Operador $\\hat{D}_{0}$\n",
    "5. Operador Difusor: $\\hat{U}_{|\\Psi_2\\rangle} = \\hat{R_{n+1}}\\hat{P_{n}}\\hat{D}_{0} \\hat{P_{n}}^{\\dagger} \\hat{R_{n+1}}^{\\dagger}$\n",
    "\n",
    "Solo me queda implementar el operador de amplificación de Amplitud $\\hat{Q}=\\hat{U}_{|\\Psi_2\\rangle}\\hat{U}_{|\\Psi_0\\rangle}$\n"
   ]
  },
  {
   "cell_type": "code",
   "execution_count": 7,
   "id": "af6f8bed",
   "metadata": {},
   "outputs": [],
   "source": [
    "#Puertas implementadas y probadas en el Notebook QPA04_PuertasBase\n",
    "from qat.lang.AQASM import AbstractGate, QRoutine, X, Z\n",
    "def Reflexion_generator(N):\n",
    "    \"\"\"\n",
    "    Implementa una reflexion en torno al estado |\\Phi_0>: I-2|\\Phi_0><Phi_0|\n",
    "    \"\"\"\n",
    "    qrout = QRoutine()\n",
    "    qbits = qrout.new_wires(N)\n",
    "    qrout.apply(X, qbits[-1])\n",
    "    qrout.apply(Z, qbits[-1])\n",
    "    qrout.apply(X, qbits[-1])\n",
    "    \n",
    "    return qrout#-Zeroes\n",
    "UPhi_0 = AbstractGate(\"UPhi_0\", [int])\n",
    "UPhi_0.set_circuit_generator(Reflexion_generator)\n",
    "\n",
    "def Reflexion_generator0(N):\n",
    "    \"\"\"\n",
    "    Implementa una reflexion en torno al estado 0: I-2|0><0|\n",
    "    \"\"\"\n",
    "    qrout = QRoutine()\n",
    "    qbits = qrout.new_wires(N)\n",
    "    for i in range(N):\n",
    "        qrout.apply(X, qbits[i])\n",
    "    #Controlled Z gate by n-1 first qbits\n",
    "    cZ = 'Z'+ '.ctrl()'*(len(qbits)-1)\n",
    "    qrout.apply(eval(cZ), qbits[:-1], qbits[-1])\n",
    "    for i in range(N):\n",
    "        qrout.apply(X, qbits[i])\n",
    "    \n",
    "    return qrout#-Zeroes\n",
    "D_0 = AbstractGate(\"D_0\", [int])\n",
    "D_0.set_circuit_generator(Reflexion_generator0)\n",
    "\n",
    "def LoadDifusorGate(N, ProbabilityArray, FunctionArray):\n",
    "    from dataloading_module import  CreateLoadFunctionGate, CreatePG\n",
    "    P_gate = CreatePG(ProbabilityArray)\n",
    "    R_gate = CreateLoadFunctionGate(FunctionArray)\n",
    "    def Difusor(nqbits):\n",
    "        qrout = QRoutine()\n",
    "        qbits = qrout.new_wires(nqbits)\n",
    "        qrout.apply(R_gate.dag(), qbits)\n",
    "        qrout.apply(P_gate.dag(), qbits[:-1])\n",
    "        qrout.apply(D_0(nqbits), qbits)\n",
    "        qrout.apply(P_gate, qbits[:-1])\n",
    "        qrout.apply(R_gate, qbits)\n",
    "        return qrout\n",
    "    UPhi_2 = AbstractGate(\"UPhi_2\", [int])\n",
    "    UPhi_2.set_circuit_generator(Difusor)\n",
    "    return UPhi_2(N)\n",
    "\n"
   ]
  },
  {
   "cell_type": "markdown",
   "id": "8a74a74c",
   "metadata": {},
   "source": [
    "### Operador Amplificacion: $\\hat{Q}$"
   ]
  },
  {
   "cell_type": "markdown",
   "id": "dc680017",
   "metadata": {},
   "source": [
    "Una vez tenemos el los dos operadores $\\hat{U}_{|\\Psi_0\\rangle}$ y $\\hat{U}_{|\\Psi_2\\rangle}$. Podemos montar el Operador de Amplificación: $\\hat{Q} = \\hat{U}_{|\\Psi_2\\rangle} \\hat{U}_{|\\Psi_0\\rangle}$"
   ]
  },
  {
   "cell_type": "code",
   "execution_count": 8,
   "id": "93ecf329",
   "metadata": {},
   "outputs": [],
   "source": [
    "def LoadGroverAmplification(N, ProbabilityArray, FunctionArray):\n",
    "    difusor = LoadDifusorGate(N, ProbabilityArray, FunctionArray)\n",
    "    def Grover(N):\n",
    "        qrout = QRoutine()\n",
    "        qbits = qrout.new_wires(N)   \n",
    "        qrout.apply(UPhi_0(N), qbits)\n",
    "        qrout.apply(difusor, qbits)\n",
    "        return qrout\n",
    "    Q = AbstractGate(\"Q\", [int])\n",
    "    Q.set_circuit_generator(Grover)    \n",
    "    return Q(N)"
   ]
  },
  {
   "cell_type": "markdown",
   "id": "b998af60",
   "metadata": {},
   "source": [
    "## Todo Junto"
   ]
  },
  {
   "cell_type": "code",
   "execution_count": 9,
   "id": "ff691654",
   "metadata": {},
   "outputs": [],
   "source": [
    "def DoCircuit(nqbits = 4, K=5, Reflexion = True):\n",
    "    from qat.lang.AQASM import Program\n",
    "    nbins = 2**nqbits\n",
    "    a = 0\n",
    "    b = 1\n",
    "    \n",
    "    #Discretization for the function domain\n",
    "    centers, probs = get_histogram(p, a, b, nbins)\n",
    "    #Create Probability loading gate\n",
    "    P_gate = CreatePG(probs)    \n",
    "\n",
    "    #Discretizated function to load \n",
    "    DiscretizedFunction = f(centers) \n",
    "    \n",
    "    print('La integral es: {}'.format(sum(probs*DiscretizedFunction)))\n",
    "    #Create Function loading gate    \n",
    "    R_gate = CreateLoadFunctionGate(DiscretizedFunction)    \n",
    "    \n",
    "    #Load Amplification Gates\n",
    "    Q = LoadGroverAmplification(nqbits+1, probs, DiscretizedFunction)\n",
    "    difusor = LoadDifusorGate(nqbits+1, probs, DiscretizedFunction)\n",
    "    \n",
    "    #Quantum Program\n",
    "    qprog = Program()\n",
    "    qbits = qprog.qalloc(nqbits+1)\n",
    "    qprog.apply(P_gate, qbits[:-1])\n",
    "    qprog.apply(R_gate, qbits)    \n",
    "    #qprog.apply(UPhi_0(nqbits+1), qbits) \n",
    "    if Reflexion:\n",
    "        for i in range(K):\n",
    "            qprog.apply(Q, qbits) \n",
    "    #Create the circuit from the program\n",
    "    circuit = qprog.to_circ()\n",
    "    linalgqpu = LinAlg()\n",
    "    \"\"\"   \n",
    "    job = circuit.to_job()\n",
    "    #Import and create the linear algebra simulator\n",
    "    linalgqpu = LinAlg()\n",
    "    #Submit the job to the simulator LinAlg and get the results\n",
    "    result = linalgqpu.submit(job)    \n",
    "    \"\"\"\n",
    "\n",
    "    result = linalgqpu.submit(\n",
    "        circuit.to_job(qubits = [len(qbits)-1])\n",
    "    )\n",
    "     \n",
    "\n",
    "    QP = []\n",
    "    States = []\n",
    "    QA = []\n",
    "    #Print the results\n",
    "    for sample in result:\n",
    "        #print(\"State %s probability %s amplitude %s\" % (sample.state, sample.probability, sample.amplitude))\n",
    "        QP.append(sample.probability)\n",
    "        States.append(str(sample.state))\n",
    "        QA.append(sample.amplitude)\n",
    "    QP = pd.Series(QP, name='Probability')  \n",
    "    States = pd.Series(States, name='States')  \n",
    "    QA = pd.Series(QA, name='Amplitude') \n",
    "    pdf = pd.concat([States, QP, QA], axis=1)\n",
    "    return pdf, circuit"
   ]
  },
  {
   "cell_type": "markdown",
   "id": "f8093cfd",
   "metadata": {},
   "source": [
    "### ¿Cómo funciona esto?"
   ]
  },
  {
   "attachments": {
    "imagen.png": {
     "image/png": "[encoded data removed]"
    }
   },
   "cell_type": "markdown",
   "id": "3847567e",
   "metadata": {},
   "source": [
    "Si ejecutamos la función *DoCircuit* sin ejecutar la amplificación obtendremos simplemente el estado cuántico $|\\Psi_{2} \\rangle$ en el que se han codificado las distribuciones de probabilidades y la función:\n",
    "\n",
    "![imagen.png](attachment:imagen.png)\n",
    "\n",
    "De tal modo que lo que tenemos al final del circuito será:\n",
    "\n",
    "$$|\\Psi_{2}\\rangle_{n+1}=\\sqrt{a}|\\Psi_{1}\\rangle+\\sqrt{1-a}|\\Psi_{0}\\rangle$$\n",
    "\n",
    "$$a=\\sum_{x=0}^{2^{n}-1}p(x)f(x)$$\n",
    "\n",
    "$$|\\Psi_{1}\\rangle = \\frac{1}{\\sqrt{a}}\\sum_{x=0}^{2^{n}-1}|x\\rangle_{n}\\otimes\\sqrt{p(x)f(x)}|1\\rangle$$\n",
    "\n",
    "$$|\\Psi_{0}\\rangle = \\frac{1}{\\sqrt{1-a}}\\sum_{x=0}^{2^{n}-1}|x\\rangle_{n}\\otimes\\sqrt{p(x)(1-f(x))}|0\\rangle$$\n",
    "\n",
    "Esto implica que la integral buscada $a=\\sum_{x=0}^{2^{n}-1}p(x)f(x)$ será el cuadrado de la amplitud que acompaña al estado $|\\Psi_{1}\\rangle$.\n",
    "\n",
    "En la función *DoCircuit* hemos dejado todo implementado para que las salidas sean los dos estados $|\\Psi_{1}\\rangle$ y $|\\Psi_{0}\\rangle$"
   ]
  },
  {
   "cell_type": "code",
   "execution_count": 13,
   "id": "8d732f8f",
   "metadata": {},
   "outputs": [
    {
     "name": "stdout",
     "output_type": "stream",
     "text": [
      "La integral es: 0.6693004071633366\n"
     ]
    }
   ],
   "source": [
    "#Solo cargamos datos\n",
    "nQBITS = 4\n",
    "pdfNotReflexion, circuitNR = DoCircuit(nQBITS, K=0,Reflexion=False)"
   ]
  },
  {
   "cell_type": "code",
   "execution_count": 14,
   "id": "52265ba7",
   "metadata": {},
   "outputs": [
    {
     "data": {
      "image/png": "[encoded data removed]",
      "text/plain": [
       "<IPython.core.display.Image object>"
      ]
     },
     "execution_count": 14,
     "metadata": {},
     "output_type": "execute_result"
    }
   ],
   "source": [
    "%qatdisplay circuitNR --depth 0"
   ]
  },
  {
   "cell_type": "code",
   "execution_count": 15,
   "id": "cdeba7ad",
   "metadata": {
    "scrolled": true
   },
   "outputs": [
    {
     "data": {
      "text/html": [
       "<div>\n",
       "<style scoped>\n",
       "    .dataframe tbody tr th:only-of-type {\n",
       "        vertical-align: middle;\n",
       "    }\n",
       "\n",
       "    .dataframe tbody tr th {\n",
       "        vertical-align: top;\n",
       "    }\n",
       "\n",
       "    .dataframe thead th {\n",
       "        text-align: right;\n",
       "    }\n",
       "</style>\n",
       "<table border=\"1\" class=\"dataframe\">\n",
       "  <thead>\n",
       "    <tr style=\"text-align: right;\">\n",
       "      <th></th>\n",
       "      <th>States</th>\n",
       "      <th>Probability</th>\n",
       "      <th>Amplitude</th>\n",
       "    </tr>\n",
       "  </thead>\n",
       "  <tbody>\n",
       "    <tr>\n",
       "      <th>0</th>\n",
       "      <td>|0&gt;</td>\n",
       "      <td>0.3307</td>\n",
       "      <td>None</td>\n",
       "    </tr>\n",
       "    <tr>\n",
       "      <th>1</th>\n",
       "      <td>|1&gt;</td>\n",
       "      <td>0.6693</td>\n",
       "      <td>None</td>\n",
       "    </tr>\n",
       "  </tbody>\n",
       "</table>\n",
       "</div>"
      ],
      "text/plain": [
       "  States  Probability Amplitude\n",
       "0    |0>       0.3307      None\n",
       "1    |1>       0.6693      None"
      ]
     },
     "execution_count": 15,
     "metadata": {},
     "output_type": "execute_result"
    }
   ],
   "source": [
    "pdfNotReflexion"
   ]
  },
  {
   "cell_type": "markdown",
   "id": "821576ea",
   "metadata": {},
   "source": [
    "El resultado de la carga será (para 4 qbits):\n",
    "\n",
    "\n",
    "<table border=\"1\" class=\"dataframe\">  <thead>    <tr style=\"text-align: right;\">      <th></th>      <th>States</th>      <th>Probability</th>      <th>Amplitude</th>    </tr>  </thead>  <tbody>    <tr>      <th>0</th>      <td>|0&gt;</td>      <td>0.3307</td>      <td>None</td>    </tr>    <tr>      <th>1</th>      <td>|1&gt;</td>      <td>0.6693</td>      <td>None</td>    </tr>  </tbody></table>\n",
    "\n",
    "Donde vemos que la probabilidad de obtener $\\Psi_{1}$ es 0.6693 que es justo el valor deseado de la integral.\n",
    "\n",
    "En un ordenador cuántico de verdad tendríamos que preparar todo como se ha explicitado y hace muchas medidas recoger las veces que sale $\\Psi_{0}$ y las que sale $\\Psi_{1}$ y obtendríamos las integral deseada\n"
   ]
  },
  {
   "cell_type": "code",
   "execution_count": 16,
   "id": "1c524e98",
   "metadata": {},
   "outputs": [
    {
     "name": "stdout",
     "output_type": "stream",
     "text": [
      "Theta0: 0.9581129008449892\n"
     ]
    }
   ],
   "source": [
    "Prob_0 = pdfNotReflexion['Probability'][1]\n",
    "Theta0 = np.arcsin(np.sqrt(Prob_0))\n",
    "print('Theta0: {}'.format(Theta0))"
   ]
  },
  {
   "cell_type": "code",
   "execution_count": 17,
   "id": "ee861978",
   "metadata": {},
   "outputs": [
    {
     "name": "stdout",
     "output_type": "stream",
     "text": [
      "3*Theta0: 2.874338702534968\n",
      "sin(3*Theta0): 0.26408387228011587\n",
      "sin^2(3*Theta0): 0.06974029159846055\n"
     ]
    }
   ],
   "source": [
    "#una aplicación de Q sería rotar 2theta todo el sistema: rotación final de 3theta\n",
    "print('3*Theta0: {}'.format(3*Theta0))\n",
    "print('sin(3*Theta0): {}'.format(np.sin(3*Theta0)))\n",
    "print('sin^2(3*Theta0): {}'.format(np.sin(3*Theta0)**2))"
   ]
  },
  {
   "cell_type": "markdown",
   "id": "556de49e",
   "metadata": {},
   "source": [
    "Realizar una aplicacion del algoritmo de amplificación es equivalente a hacer una rotación en torno al eje Y de $2\\theta$ sobre el estado $|\\Psi_2\\rangle$ por lo que el angulo final es de $3\\theta$:\n",
    "\n",
    "$$\\hat{Q}|\\Psi_2\\rangle = cos(3\\theta)|\\Psi_0\\rangle + \\sin(3\\theta)|\\Psi_1\\rangle$$\n",
    "\n",
    "Para comprobar que los hemos hecho bien probemos los siguientes números:\n",
    "\n",
    "Cuando no aplicamos el operador $\\hat{Q}$ el estado $|\\Psi_2\\rangle$ está definido por un una ángulo \n",
    "$$\\theta_0 = 0.958112900844989$$ \n",
    "Si ahora a ese ángulo le hacemos \n",
    "$$3\\theta_0= 2.874338702534967$$. \n",
    "$$\\sin(3\\theta_0) = 0.2640838722801167$$\n",
    "\n",
    "Cuando hacemos $\\hat{Q}|\\Psi_2\\rangle$ se puede comprobar que la probabilidad de obtener el estado $|\\Psi_1\\rangle$ es de $\\sin^{2}(3\\theta_0)$. Así pues tras hacer $\\hat{Q}|\\Psi_2\\rangle$ se debería verificar que:\n",
    "\n",
    "$$P_{|\\Psi_1\\rangle}(\\hat{Q}|\\Psi_2\\rangle) = \\sin^{2}(3\\theta_0) = 0.069740291598461$$\n",
    "\n",
    "Veamos si esto es lo que sale:"
   ]
  },
  {
   "cell_type": "code",
   "execution_count": 18,
   "id": "846511c0",
   "metadata": {
    "scrolled": true
   },
   "outputs": [
    {
     "name": "stdout",
     "output_type": "stream",
     "text": [
      "La integral es: 0.6693004071633366\n"
     ]
    },
    {
     "data": {
      "image/png": "[encoded data removed]",
      "text/plain": [
       "<IPython.core.display.Image object>"
      ]
     },
     "execution_count": 18,
     "metadata": {},
     "output_type": "execute_result"
    },
    {
     "name": "stdout",
     "output_type": "stream",
     "text": [
      "Probabilidad de medir \\Psi_1 despues de hacer Q\\Psi_2: 0.06974029159846043\n"
     ]
    }
   ],
   "source": [
    "K=1\n",
    "pdfReflexion, circuitR = DoCircuit(nQBITS, K=K)\n",
    "%qatdisplay circuitR --depth 0\n",
    "Prob = pdfReflexion['Probability'][1]\n",
    "print('Probabilidad de medir \\Psi_1 despues de hacer Q\\Psi_2: {}'.format(Prob))"
   ]
  },
  {
   "cell_type": "code",
   "execution_count": 19,
   "id": "3b306037",
   "metadata": {},
   "outputs": [
    {
     "name": "stdout",
     "output_type": "stream",
     "text": [
      "(2*k+1)*Theta0 (k=2): 4.790564504224946\n",
      "sin((2*k+1)*Theta0) (k=2): -0.9969458496426231\n",
      "sin^2((2*k+1)*Theta0:) (k=2): 0.9939010271196517\n"
     ]
    }
   ],
   "source": [
    "#Para cualquier K\n",
    "\n",
    "K = 2\n",
    "theta = (2*K+1)*Theta0\n",
    "print('(2*k+1)*Theta0 (k={}): {}'.format(K, theta))\n",
    "print('sin((2*k+1)*Theta0) (k={}): {}'.format(K,np.sin(theta)))\n",
    "print('sin^2((2*k+1)*Theta0:) (k={}): {}'.format(K, np.sin(theta)**2))"
   ]
  },
  {
   "cell_type": "code",
   "execution_count": 20,
   "id": "9e5763ab",
   "metadata": {},
   "outputs": [
    {
     "name": "stdout",
     "output_type": "stream",
     "text": [
      "2\n",
      "La integral es: 0.6693004071633366\n"
     ]
    },
    {
     "data": {
      "image/png": "[encoded data removed]",
      "text/plain": [
       "<IPython.core.display.Image object>"
      ]
     },
     "execution_count": 20,
     "metadata": {},
     "output_type": "execute_result"
    },
    {
     "data": {
      "text/html": [
       "<div>\n",
       "<style scoped>\n",
       "    .dataframe tbody tr th:only-of-type {\n",
       "        vertical-align: middle;\n",
       "    }\n",
       "\n",
       "    .dataframe tbody tr th {\n",
       "        vertical-align: top;\n",
       "    }\n",
       "\n",
       "    .dataframe thead th {\n",
       "        text-align: right;\n",
       "    }\n",
       "</style>\n",
       "<table border=\"1\" class=\"dataframe\">\n",
       "  <thead>\n",
       "    <tr style=\"text-align: right;\">\n",
       "      <th></th>\n",
       "      <th>States</th>\n",
       "      <th>Probability</th>\n",
       "      <th>Amplitude</th>\n",
       "    </tr>\n",
       "  </thead>\n",
       "  <tbody>\n",
       "    <tr>\n",
       "      <th>0</th>\n",
       "      <td>|0&gt;</td>\n",
       "      <td>0.006099</td>\n",
       "      <td>None</td>\n",
       "    </tr>\n",
       "    <tr>\n",
       "      <th>1</th>\n",
       "      <td>|1&gt;</td>\n",
       "      <td>0.993901</td>\n",
       "      <td>None</td>\n",
       "    </tr>\n",
       "  </tbody>\n",
       "</table>\n",
       "</div>"
      ],
      "text/plain": [
       "  States  Probability Amplitude\n",
       "0    |0>     0.006099      None\n",
       "1    |1>     0.993901      None"
      ]
     },
     "execution_count": 20,
     "metadata": {},
     "output_type": "execute_result"
    }
   ],
   "source": [
    "print(K)\n",
    "pdfReflexion, circuitR = DoCircuit(nQBITS, K = K)\n",
    "%qatdisplay circuitR --depth 0\n",
    "pdfReflexion"
   ]
  },
  {
   "cell_type": "markdown",
   "id": "329a820c",
   "metadata": {},
   "source": [
    "La implementación del Operador de Amplificación de Amplitud $\\hat{Q}$ parece que está bien implementada"
   ]
  },
  {
   "cell_type": "code",
   "execution_count": 19,
   "id": "7bdfff26",
   "metadata": {},
   "outputs": [
    {
     "name": "stdout",
     "output_type": "stream",
     "text": [
      "Theta: 0.2672539510548252\n"
     ]
    }
   ],
   "source": [
    "Prob = pdfReflexion['Probability'][1]\n",
    "Theta = np.arcsin(np.sqrt(Prob))\n",
    "print('Theta: {}'.format(Theta))"
   ]
  },
  {
   "cell_type": "code",
   "execution_count": null,
   "id": "b3871955",
   "metadata": {},
   "outputs": [],
   "source": []
  },
  {
   "cell_type": "code",
   "execution_count": null,
   "id": "0608c870",
   "metadata": {},
   "outputs": [],
   "source": []
  },
  {
   "cell_type": "code",
   "execution_count": 33,
   "id": "a0fb8c91",
   "metadata": {},
   "outputs": [
    {
     "data": {
      "text/plain": [
       "0.9969458360412565"
      ]
     },
     "execution_count": 33,
     "metadata": {},
     "output_type": "execute_result"
    }
   ],
   "source": [
    "np.sin(np.arcsin(np.sqrt(0.993901)))"
   ]
  },
  {
   "cell_type": "code",
   "execution_count": 32,
   "id": "b039e9d3",
   "metadata": {},
   "outputs": [
    {
     "data": {
      "text/plain": [
       "-0.9969458496426231"
      ]
     },
     "execution_count": 32,
     "metadata": {},
     "output_type": "execute_result"
    }
   ],
   "source": [
    "np.sin(5*Theta0)"
   ]
  },
  {
   "cell_type": "code",
   "execution_count": null,
   "id": "3b886e71",
   "metadata": {},
   "outputs": [],
   "source": []
  },
  {
   "cell_type": "code",
   "execution_count": null,
   "id": "6899cea3",
   "metadata": {},
   "outputs": [],
   "source": []
  },
  {
   "cell_type": "code",
   "execution_count": null,
   "id": "7c7f7df8",
   "metadata": {},
   "outputs": [],
   "source": [
    "sum(pdfNotReflexion[pdfNotReflexion['States'].str.extract(r'(\\d)>')[0]=='1'][''])"
   ]
  },
  {
   "cell_type": "code",
   "execution_count": null,
   "id": "b4ed1361",
   "metadata": {
    "scrolled": true
   },
   "outputs": [],
   "source": [
    "sum(pdfReflexion[pdfReflexion['States'].str.extract(r'(\\d)>')[0]=='1']['Amplitude'])"
   ]
  },
  {
   "cell_type": "code",
   "execution_count": null,
   "id": "77ce179e",
   "metadata": {},
   "outputs": [],
   "source": [
    "pdfReflexion[pdfReflexion['States'].str.extract(r'(\\d)>')[0]=='1']"
   ]
  },
  {
   "cell_type": "code",
   "execution_count": null,
   "id": "2bb493c1",
   "metadata": {},
   "outputs": [],
   "source": [
    "pdfNotReflexion[pdfNotReflexion['States'].str.extract(r'(\\d)>')[0]=='1']"
   ]
  }
 ],
 "metadata": {
  "kernelspec": {
   "display_name": "Python 3 (ipykernel)",
   "language": "python",
   "name": "python3"
  },
  "language_info": {
   "codemirror_mode": {
    "name": "ipython",
    "version": 3
   },
   "file_extension": ".py",
   "mimetype": "text/x-python",
   "name": "python",
   "nbconvert_exporter": "python",
   "pygments_lexer": "ipython3",
   "version": "3.9.2"
  }
 },
 "nbformat": 4,
 "nbformat_minor": 5
}
