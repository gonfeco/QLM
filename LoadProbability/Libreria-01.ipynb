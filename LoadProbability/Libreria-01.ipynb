{
 "cells": [
  {
   "cell_type": "code",
   "execution_count": null,
   "id": "63c7de0f",
   "metadata": {},
   "outputs": [],
   "source": [
    "from IPython.core.display import display, HTML\n",
    "display(HTML(\"<style>.container { width:100% !important; }</style>\"))"
   ]
  },
  {
   "cell_type": "code",
   "execution_count": null,
   "id": "b49b232d",
   "metadata": {},
   "outputs": [],
   "source": [
    "import numpy as np\n",
    "import pandas as pd\n",
    "import matplotlib.pyplot as plt\n",
    "import sys, os"
   ]
  },
  {
   "cell_type": "code",
   "execution_count": null,
   "id": "7575e8a5",
   "metadata": {},
   "outputs": [],
   "source": [
    "%load_ext qat.core.magic"
   ]
  },
  {
   "cell_type": "code",
   "execution_count": null,
   "id": "533bec0c",
   "metadata": {},
   "outputs": [],
   "source": []
  },
  {
   "cell_type": "code",
   "execution_count": null,
   "id": "0d1c5886",
   "metadata": {},
   "outputs": [],
   "source": [
    "#Conexion a la QPU\n",
    "from qat.qlmaas import QLMaaSConnection\n",
    "connection = QLMaaSConnection(hostname=\"qlm\")#, port=...)\n",
    "LinAlg = connection.get_qpu(\"qat.qpus:LinAlg\")\n",
    "lineal_qpu = LinAlg()"
   ]
  },
  {
   "cell_type": "code",
   "execution_count": null,
   "id": "c7cc42ed",
   "metadata": {},
   "outputs": [],
   "source": [
    "from qat.qpus import PyLinalg\n",
    "lineal_qpu = PyLinalg()"
   ]
  },
  {
   "cell_type": "markdown",
   "id": "73816a49",
   "metadata": {},
   "source": [
    "# Librería Integral MonteCarlo Cuántica"
   ]
  },
  {
   "cell_type": "code",
   "execution_count": null,
   "id": "724c3780",
   "metadata": {},
   "outputs": [],
   "source": [
    "def GetResults(circuit, linalgqpu, Qass=True):\n",
    "    #Create a Job from the circuit\n",
    "    job = circuit.to_job()\n",
    "    #Import and create the linear algebra simulator\n",
    "    \"\"\"\n",
    "    try:\n",
    "        from qat.qpus import LinAlg\n",
    "        linalgqpu = LinAlg()\n",
    "    except ImportError:\n",
    "        from qat.qpus import PyLinalg\n",
    "        linalgqpu = PyLinalg()\n",
    "    \"\"\"\n",
    "\n",
    "    #Submit the job to the simulator LinAlg and get the results\n",
    "    result = linalgqpu.submit(job)\n",
    "    QP = []\n",
    "    States = []\n",
    "    QA = []\n",
    "    #Print the results\n",
    "    if Qass:\n",
    "        result = result.join()\n",
    "        \n",
    "    for sample in result:\n",
    "        #print(\"State %s probability %s amplitude %s\" % (sample.state, sample.probability, sample.amplitude))\n",
    "        QP.append(sample.probability)\n",
    "        States.append(str(sample.state))\n",
    "        QA.append(sample.amplitude)\n",
    "    QP = pd.Series(QP, name='Probability')\n",
    "    States = pd.Series(States, name='States')  \n",
    "    QA = pd.Series(QA, name='Amplitude') \n",
    "    pdf = pd.concat([States, QP, QA], axis=1)\n",
    "    return pdf, circuit    \n"
   ]
  },
  {
   "cell_type": "markdown",
   "id": "00f289ef",
   "metadata": {},
   "source": [
    "## 1. Genera Arrays de Probabilidad"
   ]
  },
  {
   "cell_type": "markdown",
   "id": "5fd5188f",
   "metadata": {},
   "source": [
    "Dada una densidad de probabilidad $p(x)$ sobre un interval $[a,b]$ quiero poder discretizarla en $2^{n}$ bins con $n$ el número de qbits sobre los que quiero cargar la probabilidad. La idea es que tanto la función como la probabilidad se den en un array numpy. \n",
    "\n",
    "La función *get_histogram* nos permitiría generar el array numpy de una distribución de probabilidad que se le pase en forma de función python. Generaría los centros de los bins y las probabilidades de los centros."
   ]
  },
  {
   "cell_type": "code",
   "execution_count": null,
   "id": "9cd3c7cf",
   "metadata": {},
   "outputs": [],
   "source": [
    "from qat.lang.AQASM import QRoutine, AbstractGate, X, RY, CNOT, Program, H"
   ]
  },
  {
   "cell_type": "code",
   "execution_count": null,
   "id": "fdf0d4ca",
   "metadata": {},
   "outputs": [],
   "source": [
    "def get_histogram(p, a, b, nbin):\n",
    "    \"\"\"\n",
    "    Given a function p, convert it into a histogram. The function must be positive, the normalization is automatic.\n",
    "    Note that instead of having an analytical expression, p could just create an arbitrary vector of the right dimensions and positive amplitudes\n",
    "    so that this procedure could be used to initialize any quantum state with real amplitudes\n",
    "    \n",
    "    a    (float)    = lower limit of the interval\n",
    "    b    (float)    = upper limit of the interval\n",
    "    p    (function) = function that we want to convert to a probability mass function. It does not have to be normalized but must be positive in the interval\n",
    "    nbin (int)      = number of bins in the interval\n",
    "    \"\"\"\n",
    "    #Should be a function\n",
    "    assert callable(p)\n",
    "    \n",
    "    nqbits_ = np.log2(nbin)\n",
    "    \n",
    "    assert (nqbits_%2 ==0) or (nqbits_%2 ==1),  'nbin must be 2^n with n a int. In this case is: {}.'.format(nqbits_)\n",
    "    \n",
    "    step = (b-a)/nbin\n",
    "    #center calculation\n",
    "    centers = np.array([a+step*(i+1/2) for i in range(nbin)])\n",
    "    \n",
    "    prob_n = p(centers)\n",
    "    assert np.all(prob_n>=0.), 'Probabilities must be positive, so p must be a positive function'\n",
    "    probs = prob_n/np.sum(prob_n)\n",
    "    assert np.isclose(np.sum(probs), 1.), 'Probability is not getting normalized properly'\n",
    "    return centers, probs"
   ]
  },
  {
   "cell_type": "code",
   "execution_count": null,
   "id": "e9e10f24",
   "metadata": {},
   "outputs": [],
   "source": [
    "#Función de probabilidad de prueba\n",
    "def p(x):\n",
    "    return x*x\n",
    "def f(x):\n",
    "    return np.sin(x)"
   ]
  },
  {
   "cell_type": "code",
   "execution_count": null,
   "id": "c02ebf2d",
   "metadata": {},
   "outputs": [],
   "source": [
    "a=0.0\n",
    "b=1.0\n",
    "nqbits = 6\n",
    "nbins = 2**nqbits\n",
    "\n",
    "X, p_X = get_histogram(p, a, b, nbins)\n",
    "f_X = f(X)"
   ]
  },
  {
   "cell_type": "code",
   "execution_count": null,
   "id": "d0e6eac9",
   "metadata": {},
   "outputs": [],
   "source": [
    "%matplotlib inline\n",
    "plt.plot(X, p_X, 'o')\n",
    "plt.plot(X, f_X, 'o')\n",
    "plt.legend(['Probability', 'Function'])\n",
    "plt.show()"
   ]
  },
  {
   "cell_type": "markdown",
   "id": "973f1d7e",
   "metadata": {},
   "source": [
    "## 2. Carga Probabilidad"
   ]
  },
  {
   "cell_type": "markdown",
   "id": "8e6117cc",
   "metadata": {},
   "source": [
    "Con la distribuición de probabilidad carga en forma de dos arrays (uno el de centros y otro el de las probabilidades de los centros) voy a intentar generar una función que carge dichas probabilidades en un estado cuántico. Para ello genero la función **LoadProbability_Gate** que lo que hace será descargar el proceso de carga en una puerta cuántica. \n",
    "\n",
    "Para poder generar dicha puerta necesito generar rotaciones sobre un qbit controladas por $m$ qbits. Para ello utilizo multiplexores cuánticos. La implementación que tengo de dichos multiplexores es una suerte de función recursiva pero me gustaría generar una puerta que pueda utilizar para generar dichas rotaciones controladas...\n"
   ]
  },
  {
   "cell_type": "code",
   "execution_count": null,
   "id": "e38e58db",
   "metadata": {},
   "outputs": [],
   "source": [
    "def multiplexor_RY_m_recurs(qprog, qbits, thetas, m, j, sig = 1.):\n",
    "    \"\"\" \n",
    "    Auxiliary function to create the recursive part of a multiplexor that applies an RY gate\n",
    "    \n",
    "    qprog = Quantum Program in which we want to apply the gates\n",
    "    qbits = Nmber of qubits of the quantum program\n",
    "    thetas (np.ndarray) = numpy array containing the set of angles that we want to apply\n",
    "    m   (int) = number of remaining controls\n",
    "    j   (int) = index of the target qubits\n",
    "    sig (float) = accounts for wether our multiplexor is being decomposed with its lateral CNOT at the right or at the left, even if that CNOT is not present because it cancelled out (its values can only be +1. and -1.)\n",
    "    \"\"\"\n",
    "    assert isinstance(m, int), 'm must be an integer'\n",
    "    assert isinstance(j, int), 'j must be an integer'\n",
    "    assert sig == 1. or sig == -1., 'sig can only be -1. or 1.'\n",
    "    if m > 1:\n",
    "        # If there is more that one control, the multiplexor shall be decomposed.\n",
    "        # It can be checked that the right way to decompose it taking into account the simplifications is as\n",
    "        x_l = 0.5*np.array([thetas[i]+sig*thetas[i+len(thetas)//2] for i in range (len(thetas)//2)]) #left angles\n",
    "        x_r = 0.5*np.array([thetas[i]-sig*thetas[i+len(thetas)//2] for i in range (len(thetas)//2)]) #right angles\n",
    "        \n",
    "        multiplexor_RY_m_recurs(qprog, qbits, x_l, m-1, j, 1.)\n",
    "        qprog.apply(CNOT, qbits[j-m], qbits[j])\n",
    "        multiplexor_RY_m_recurs(qprog, qbits, x_r, m-1, j, -1.)\n",
    "        \n",
    "        # Just for clarification, if we hadn't already simplify the CNOTs, the code should have been\n",
    "        # if sign == -1.:\n",
    "        #   multiplexor_RY_m_recurs(qprog, qbits, x_l, m-1, j, -1.)\n",
    "        # qprog.apply(CNOT, qbits[j-m], qbits[j])\n",
    "        # multiplexor_RY_m_recurs(qprog, qbits, x_r, m-1, j, -1.)\n",
    "        # qprog.apply(CNOT, qbits[j-m], qbits[j])\n",
    "        # if sign == 1.:\n",
    "        #   multiplexor_RY_m_recurs(qprog, qbits, x_l, m-1, j, 1.)\n",
    "        \n",
    "    else: \n",
    "        # If there is only one control just apply the Ry gates\n",
    "        ThetaPositive = (thetas[0]+sig*thetas[1])/2.0\n",
    "        ThetaNegative = (thetas[0]-sig*thetas[1])/2.0\n",
    "        qprog.apply(RY(ThetaPositive), qbits[j])\n",
    "        qprog.apply(CNOT, qbits[j-1], qbits[j])\n",
    "        qprog.apply(RY(ThetaNegative), qbits[j])\n",
    "        \n",
    "            \n",
    "def multiplexor_RY_m(qprog, qbits, thetas, m, j):\n",
    "    \"\"\"\n",
    "    Create a multiplexor that applies an RY gate on a qubit controlled by the former m qubits\n",
    "    It will have its lateral cnot on the right.\n",
    "\n",
    "    qprog = Quantum Program in which we want to apply the gates\n",
    "    qbits = Nmber of qubits of the quantum program\n",
    "    thetas (np.ndarray) = numpy array containing the set of angles that we want to apply\n",
    "    m      (int) = number of remaining controls\n",
    "    j      (int) = index of the target qubits\n",
    "    \"\"\"\n",
    "    multiplexor_RY_m_recurs(qprog, qbits, thetas, m, j)\n",
    "    qprog.apply(CNOT, qbits[j-m], qbits[j])\n",
    "    \n",
    "def LoadProbability_Gate(ProbabilityArray, CentersArray):\n",
    "    \"\"\"\n",
    "    Given a discretized probability array the function creates a AbstracGate that allows the load\n",
    "    of the probability in a Quantum State. The number of qbits of the gate will be log2(len(ProbabilityArray))\n",
    "    Inputs:\n",
    "    * ProbabilityArray: np.array. Discretized arrray with the probability to load\n",
    "    Outuput:\n",
    "    * P_gate: Abstract Gate. Gate for loading Input probability in a quantum state\n",
    "    \"\"\"\n",
    "    \n",
    "    \n",
    "    #Number of Input qbits for the QWuantum Gate\n",
    "    nqbits_ = np.log2(len(ProbabilityArray))\n",
    "    #Probability array must have a dimension of 2^n.\n",
    "    Condition = (nqbits_%2 ==0) or (nqbits_%2 ==1)\n",
    "    assert Condition, 'Length of the ProbabilityArray must be of dimension 2^n with n a int. In this case is: {}.'.format(nqbits_)\n",
    "    \n",
    "    nqbits = int(nqbits_)\n",
    "    nbins = len(ProbabilityArray)\n",
    "    \n",
    "    P = AbstractGate(\"P\", [int])\n",
    "    def P_generator(nqbits):\n",
    "        rout = QRoutine()\n",
    "        reg = rout.new_wires(nqbits)\n",
    "        print(reg)\n",
    "        # Now go iteratively trough each qubit computing the probabilities and adding the corresponding multiplexor\n",
    "        for m in range(nqbits):\n",
    "            n_parts = 2**(m+1) #Compute the number of subzones which the current state is codifying\n",
    "            edges = np.array([a+(b-a)*(i)/n_parts for i in range(n_parts+1)]) #Compute the edges of that subzones\n",
    "        \n",
    "            # Compute the probabilities of each subzone by suming the probabilities of the original histogram.\n",
    "            # There is no need to compute integrals since the limiting accuracy is given by the original discretization.\n",
    "            # Moreover, this approach allows to handle non analytical probability distributions, measured directly from experiments\n",
    "            p_zones = np.array([np.sum(ProbabilityArray[np.logical_and(CentersArray>edges[i],CentersArray<edges[i+1])]) for i in range(n_parts)])\n",
    "            # Compute the probability of standing on the left part of each zone \n",
    "            p_left = p_zones[[2*j for j in range(n_parts//2)]]\n",
    "            # Compute the probability of standing on each zone (left zone + right zone)\n",
    "            p_tot = p_left + p_zones[[2*j+1 for j in range(n_parts//2)]]\n",
    "            \n",
    "            # Compute the rotation angles\n",
    "            thetas = 2.0*np.arccos(np.sqrt(p_left/p_tot))\n",
    "\n",
    "            if m == 0:\n",
    "                # In the first iteration it is only needed a RY gate\n",
    "                rout.apply(RY(thetas[0]), reg[0])\n",
    "            else:\n",
    "                # In the following iterations we have to apply multiplexors controlled by m qubits\n",
    "                # We call a function to construct the multiplexor, whose action is a block diagonal matrix of Ry gates with angles theta\n",
    "                multiplexor_RY_m(rout, reg, thetas, m, m)\n",
    "        return rout\n",
    "    P.set_circuit_generator(P_generator)\n",
    "    P_gate = P(nqbits)\n",
    "    return P_gate\n",
    "\n"
   ]
  },
  {
   "cell_type": "code",
   "execution_count": null,
   "id": "04fc9714",
   "metadata": {},
   "outputs": [],
   "source": [
    "from qat.lang.AQASM import Program\n",
    "qprog = Program()\n",
    "qbits = qprog.qalloc(nqbits)\n",
    "P_gate = LoadProbability_Gate(p_X, X)\n",
    "qprog.apply(P_gate, qbits)"
   ]
  },
  {
   "cell_type": "code",
   "execution_count": null,
   "id": "92c128e2",
   "metadata": {},
   "outputs": [],
   "source": [
    "circuit = qprog.to_circ()\n",
    "%qatdisplay circuit --depth 0"
   ]
  },
  {
   "cell_type": "code",
   "execution_count": null,
   "id": "dcb038c8",
   "metadata": {},
   "outputs": [],
   "source": [
    "Pm, _ = GetResults(circuit, lineal_qpu, True)"
   ]
  },
  {
   "cell_type": "code",
   "execution_count": null,
   "id": "b381f656",
   "metadata": {},
   "outputs": [],
   "source": [
    "np.isclose(Pm['Probability'], p_X).all()"
   ]
  },
  {
   "cell_type": "markdown",
   "id": "ffd48ab0",
   "metadata": {},
   "source": [
    "## Rutinas Raw"
   ]
  },
  {
   "cell_type": "code",
   "execution_count": null,
   "id": "074b459c",
   "metadata": {},
   "outputs": [],
   "source": [
    "Path2 = '/home/gferro/Code/PhaseAmplification/'\n",
    "#Path2 = '/home/cesga/gferro/QLM_Backup/Code/PhaseAmplification/'\n",
    "if os.path.exists(Path2):\n",
    "    sys.path.append(Path2)\n",
    "else: \n",
    "    raise FileNotFoundError('File does not exist')\n",
    "from dataloading_module import LeftConditionalProbability\n",
    "from dataloading_module import CreatePG"
   ]
  },
  {
   "cell_type": "code",
   "execution_count": null,
   "id": "fa668fc7",
   "metadata": {},
   "outputs": [],
   "source": [
    "from qat.lang.AQASM import Program\n",
    "qprogZ = Program()\n",
    "qbitsZ= qprogZ.qalloc(nqbits)\n",
    "Z_P_gate = LoadProbability_Gate(p_X, X)\n",
    "qprogZ.apply(Z_P_gate, qbitsZ)"
   ]
  },
  {
   "cell_type": "code",
   "execution_count": null,
   "id": "368ec494",
   "metadata": {},
   "outputs": [],
   "source": [
    "circuitZ = qprogZ.to_circ()\n",
    "%qatdisplay circuitZ --depth 0"
   ]
  },
  {
   "cell_type": "code",
   "execution_count": null,
   "id": "b219734e",
   "metadata": {},
   "outputs": [],
   "source": [
    "PmZ, _ = GetResults(circuitZ, lineal_qpu, True)"
   ]
  },
  {
   "cell_type": "code",
   "execution_count": null,
   "id": "5af780d8",
   "metadata": {},
   "outputs": [],
   "source": [
    "np.isclose(PmZ['Probability'], p_X).all()"
   ]
  },
  {
   "cell_type": "code",
   "execution_count": null,
   "id": "12cf0f9e",
   "metadata": {},
   "outputs": [],
   "source": [
    "np.isclose(Pm['Probability'], PmZ['Probability']).all()"
   ]
  },
  {
   "cell_type": "markdown",
   "id": "5ec169cb",
   "metadata": {},
   "source": [
    "## 3. Carga Funcion"
   ]
  },
  {
   "cell_type": "code",
   "execution_count": null,
   "id": "81173d92",
   "metadata": {},
   "outputs": [],
   "source": [
    "def load_function(y, nqbits):\n",
    "    \"\"\"\n",
    "    Load the values of the function f on the states in which the value of the auxiliary qubit is 1 once the probabilities are already loaded.\n",
    "    \n",
    "    PARAMETERS:\n",
    "    f       (np.ndarray)   : discretized function\n",
    "    nqbits  (int)        : number of qubits used WITHOUT counting the auxiliary qubit\n",
    "    \n",
    "    RETURNS:\n",
    "    R_gate (ParamGate) : gate that loads the function into the amplitudes\n",
    "    y      (np.ndarray)  : array containing the value of the function in each bin\n",
    "    \"\"\"\n",
    "    assert np.all(y<=1.), 'The image of the function must be less than 1. Rescaling is required'\n",
    "    assert np.all(y>=0.), 'The image of the function must be greater than 0. Rescaling is required'\n",
    "    assert isinstance(y, np.ndarray), 'the output of the function p must be a numpy array'\n",
    "    thetas = 2.0*np.arcsin(np.sqrt(y))\n",
    "\n",
    "    R = AbstractGate(\"R\", [int])# + [float for theta in thetas])\n",
    "    def R_generator(nqbits):#, *thetas):\n",
    "        rout = QRoutine()\n",
    "        reg = rout.new_wires(nqbits+1)\n",
    "        multiplexor_RY_m(rout, reg, thetas, nqbits, nqbits)\n",
    "        return rout\n",
    "    R.set_circuit_generator(R_generator)\n",
    "    R_gate = R(nqbits)\n",
    "    return R_gate"
   ]
  },
  {
   "cell_type": "code",
   "execution_count": null,
   "id": "1303d930",
   "metadata": {},
   "outputs": [],
   "source": [
    "from qat.lang.AQASM import Program\n",
    "qprog = Program()\n",
    "qbits = qprog.qalloc(nqbits+1)\n",
    "P_gate = LoadProbability_Gate(p_X, X)\n",
    "qprog.apply(P_gate, qbits[:-1])\n",
    "R_gate = load_function(f_X, nqbits)\n",
    "qprog.apply(R_gate, qbits)"
   ]
  },
  {
   "cell_type": "code",
   "execution_count": null,
   "id": "bb66cfbf",
   "metadata": {},
   "outputs": [],
   "source": [
    "circuit = qprog.to_circ()\n",
    "%qatdisplay circuit --depth 1"
   ]
  },
  {
   "cell_type": "code",
   "execution_count": null,
   "id": "e9adf796",
   "metadata": {},
   "outputs": [],
   "source": [
    "job = circuit.to_job(qubits = [nqbits])\n",
    "result = lineal_qpu.submit(job)\n",
    "result = result.join()\n",
    "QP = []\n",
    "States = []\n",
    "#Print the results\n",
    "for sample in result:\n",
    "    print(\"State %s probability %s\" % (sample.state, sample.probability))\n",
    "    QP.append(sample.probability)\n",
    "    States.append(str(sample.state))\n",
    "print('Quantum Measurement: {}'.format(QP[1]))  \n",
    "print('Integral: {}'.format(sum(p_X*f_X)))    "
   ]
  },
  {
   "cell_type": "markdown",
   "id": "5ae731e6",
   "metadata": {},
   "source": [
    "### RAW"
   ]
  },
  {
   "cell_type": "code",
   "execution_count": null,
   "id": "592813f2",
   "metadata": {},
   "outputs": [],
   "source": [
    "Path2 = '/home/gferro/Code/PhaseAmplification/'\n",
    "#Path2 = '/home/cesga/gferro/QLM_Backup/Code/PhaseAmplification/'\n",
    "if os.path.exists(Path2):\n",
    "    sys.path.append(Path2)\n",
    "else: \n",
    "    raise FileNotFoundError('File does not exist')\n",
    "from dataloading_module import CreatePG,CreateLoadFunctionGate"
   ]
  },
  {
   "cell_type": "code",
   "execution_count": null,
   "id": "bb7e96a0",
   "metadata": {},
   "outputs": [],
   "source": [
    "from qat.lang.AQASM import Program\n",
    "qprogZ = Program()\n",
    "qbitsZ= qprogZ.qalloc(nqbits+1)\n",
    "Z_P_gate = LoadProbability_Gate(p_X, X)\n",
    "qprogZ.apply(Z_P_gate, qbitsZ[:-1])\n",
    "Z_R_gate = CreateLoadFunctionGate(f_X)\n",
    "qprogZ.apply(Z_R_gate, qbitsZ)"
   ]
  },
  {
   "cell_type": "code",
   "execution_count": null,
   "id": "e7d1f81f",
   "metadata": {},
   "outputs": [],
   "source": [
    "circuitZ = qprogZ.to_circ()\n",
    "%qatdisplay circuitZ --depth 0"
   ]
  },
  {
   "cell_type": "code",
   "execution_count": null,
   "id": "37177354",
   "metadata": {},
   "outputs": [],
   "source": [
    "from qat.qpus import LinAlg"
   ]
  },
  {
   "cell_type": "code",
   "execution_count": null,
   "id": "f17a82a3",
   "metadata": {},
   "outputs": [],
   "source": [
    "job = circuitZ.to_job(qubits = [nqbits])"
   ]
  },
  {
   "cell_type": "code",
   "execution_count": null,
   "id": "dab2aca8",
   "metadata": {},
   "outputs": [],
   "source": [
    "result = LinAlg().submit(job)"
   ]
  },
  {
   "cell_type": "code",
   "execution_count": null,
   "id": "c6c028c2",
   "metadata": {},
   "outputs": [],
   "source": [
    "\n",
    "#result = result.join()\n",
    "QP = []\n",
    "States = []\n",
    "#Print the results\n",
    "for sample in result:\n",
    "    print(\"State %s probability %s\" % (sample.state, sample.probability))\n",
    "    QP.append(sample.probability)\n",
    "    States.append(str(sample.state))\n",
    "print('Quantum Measurement: {}'.format(QP[1]))  \n",
    "print('Integral: {}'.format(sum(p_X*f_X)))    "
   ]
  },
  {
   "cell_type": "code",
   "execution_count": null,
   "id": "31454d60",
   "metadata": {},
   "outputs": [],
   "source": [
    "PmZ, _ = GetResults(circuitZ, lineal_qpu, Tarue)"
   ]
  },
  {
   "cell_type": "code",
   "execution_count": null,
   "id": "12258bf8",
   "metadata": {},
   "outputs": [],
   "source": [
    "np.isclose(PmZ['Probability'], p_X).all()"
   ]
  },
  {
   "cell_type": "code",
   "execution_count": null,
   "id": "2159d71f",
   "metadata": {},
   "outputs": [],
   "source": [
    "np.isclose(Pm['Probability'], PmZ['Probability']).all()"
   ]
  },
  {
   "cell_type": "code",
   "execution_count": null,
   "id": "9861835c",
   "metadata": {},
   "outputs": [],
   "source": []
  },
  {
   "cell_type": "code",
   "execution_count": null,
   "id": "97f56f7f",
   "metadata": {},
   "outputs": [],
   "source": []
  },
  {
   "cell_type": "code",
   "execution_count": null,
   "id": "34c2f7f0",
   "metadata": {},
   "outputs": [],
   "source": []
  },
  {
   "cell_type": "code",
   "execution_count": null,
   "id": "1382ddfe",
   "metadata": {},
   "outputs": [],
   "source": []
  },
  {
   "cell_type": "code",
   "execution_count": null,
   "id": "05990cc8",
   "metadata": {},
   "outputs": [],
   "source": [
    "sum(f_X)"
   ]
  },
  {
   "cell_type": "code",
   "execution_count": null,
   "id": "0b960297",
   "metadata": {},
   "outputs": [],
   "source": []
  },
  {
   "cell_type": "code",
   "execution_count": null,
   "id": "ef9f7708",
   "metadata": {},
   "outputs": [],
   "source": []
  },
  {
   "cell_type": "code",
   "execution_count": null,
   "id": "f77c7a48",
   "metadata": {},
   "outputs": [],
   "source": []
  },
  {
   "cell_type": "code",
   "execution_count": null,
   "id": "19c1c86c",
   "metadata": {},
   "outputs": [],
   "source": [
    "sum(f_X*p_X)"
   ]
  },
  {
   "cell_type": "code",
   "execution_count": null,
   "id": "d76675c0",
   "metadata": {},
   "outputs": [],
   "source": [
    "Pm, _ = GetResults(circuit, lineal_qpu, True)"
   ]
  },
  {
   "cell_type": "code",
   "execution_count": null,
   "id": "f9f28f31",
   "metadata": {},
   "outputs": [],
   "source": [
    "    #Submit the job to the simulator LinAlg and get the results\n",
    "    result = linalgqpu.submit(job)\n",
    "    QP = []\n",
    "    States = []\n",
    "    QA = []\n",
    "    #Print the results\n",
    "    if Qass:\n",
    "        result = result.join()\n",
    "        \n",
    "    for sample in result:\n",
    "        #print(\"State %s probability %s amplitude %s\" % (sample.state, sample.probability, sample.amplitude))\n",
    "        QP.append(sample.probability)\n",
    "        States.append(str(sample.state))\n",
    "        QA.append(sample.amplitude)\n",
    "    QP = pd.Series(QP, name='Probability')\n",
    "    States = pd.Series(States, name='States')  \n",
    "    QA = pd.Series(QA, name='Amplitude') \n",
    "    pdf = pd.concat([States, QP, QA], axis=1)\n",
    "    return pdf, circuit    \n"
   ]
  },
  {
   "cell_type": "code",
   "execution_count": null,
   "id": "cc0abfda",
   "metadata": {},
   "outputs": [],
   "source": [
    "np.isclose(Pm['Probability'], f_X*p_X)"
   ]
  },
  {
   "cell_type": "code",
   "execution_count": null,
   "id": "3bbcb4db",
   "metadata": {},
   "outputs": [],
   "source": [
    "Pm['Probability']"
   ]
  },
  {
   "cell_type": "code",
   "execution_count": null,
   "id": "1e827b35",
   "metadata": {},
   "outputs": [],
   "source": [
    "len(f_X*p_X)"
   ]
  },
  {
   "cell_type": "code",
   "execution_count": null,
   "id": "64db8118",
   "metadata": {},
   "outputs": [],
   "source": [
    "len(p_X)"
   ]
  },
  {
   "cell_type": "code",
   "execution_count": null,
   "id": "3305e764",
   "metadata": {},
   "outputs": [],
   "source": [
    "from qat.lang.AQASM import Program\n",
    "qprogZ = Program()\n",
    "qbitsZ= qprogZ.qalloc(nqbits)\n",
    "Z_P_gate = LoadProbability_Gate(p_X, X)\n",
    "qprogZ.apply(Z_P_gate, qbitsZ)"
   ]
  },
  {
   "cell_type": "code",
   "execution_count": null,
   "id": "f0db3d51",
   "metadata": {},
   "outputs": [],
   "source": []
  },
  {
   "cell_type": "code",
   "execution_count": null,
   "id": "4ff077c5",
   "metadata": {},
   "outputs": [],
   "source": []
  },
  {
   "cell_type": "code",
   "execution_count": null,
   "id": "ef3d8eeb",
   "metadata": {},
   "outputs": [],
   "source": []
  },
  {
   "cell_type": "code",
   "execution_count": null,
   "id": "3a408773",
   "metadata": {},
   "outputs": [],
   "source": []
  },
  {
   "cell_type": "code",
   "execution_count": null,
   "id": "aba55536",
   "metadata": {},
   "outputs": [],
   "source": []
  },
  {
   "cell_type": "code",
   "execution_count": null,
   "id": "c23d50a5",
   "metadata": {},
   "outputs": [],
   "source": []
  },
  {
   "cell_type": "markdown",
   "id": "f699b677",
   "metadata": {},
   "source": [
    "############################# REVISAR A PARTIR DE AQUI"
   ]
  }
 ],
 "metadata": {
  "kernelspec": {
   "display_name": "Python 3 (ipykernel)",
   "language": "python",
   "name": "python3"
  },
  "language_info": {
   "codemirror_mode": {
    "name": "ipython",
    "version": 3
   },
   "file_extension": ".py",
   "mimetype": "text/x-python",
   "name": "python",
   "nbconvert_exporter": "python",
   "pygments_lexer": "ipython3",
   "version": "3.9.2"
  }
 },
 "nbformat": 4,
 "nbformat_minor": 5
}
