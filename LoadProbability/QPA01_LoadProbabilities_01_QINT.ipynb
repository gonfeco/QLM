{
 "cells": [
  {
   "cell_type": "code",
   "execution_count": null,
   "id": "096c38a2",
   "metadata": {},
   "outputs": [],
   "source": [
    "from IPython.core.display import display, HTML\n",
    "display(HTML(\"<style>.container { width:100% !important; }</style>\"))"
   ]
  },
  {
   "cell_type": "markdown",
   "id": "fc0a3ac8",
   "metadata": {},
   "source": [
    "# ALGORITMO DE CARGA DE PROBABILIDAD"
   ]
  },
  {
   "cell_type": "code",
   "execution_count": null,
   "id": "48543dd7",
   "metadata": {},
   "outputs": [],
   "source": [
    "%load_ext qat.core.magic"
   ]
  },
  {
   "cell_type": "code",
   "execution_count": null,
   "id": "46a0477c",
   "metadata": {},
   "outputs": [],
   "source": [
    "import numpy as np\n",
    "import matplotlib.pyplot as plt\n",
    "import sys, os"
   ]
  },
  {
   "cell_type": "code",
   "execution_count": null,
   "id": "929bcb97",
   "metadata": {},
   "outputs": [],
   "source": [
    "!pwd"
   ]
  },
  {
   "cell_type": "code",
   "execution_count": null,
   "id": "625c5a00",
   "metadata": {},
   "outputs": [],
   "source": [
    "sys.path.append('/home/gferro/qlm_notebooks/notebooks_1.5.1/PhaseAmplification/')\n",
    "sys.path.append('/home/cesga/gferro/NEASQC/PhaseAmplification/')"
   ]
  },
  {
   "cell_type": "code",
   "execution_count": null,
   "id": "15f6cc7e",
   "metadata": {},
   "outputs": [],
   "source": [
    "#QPU connection\n",
    "try:\n",
    "    from qat.qlmaas import QLMaaSConnection\n",
    "    connection = QLMaaSConnection()\n",
    "    LinAlg = connection.get_qpu(\"qat.qpus:LinAlg\")\n",
    "    lineal_qpu = LinAlg()\n",
    "    print('QLM Used')\n",
    "except (ImportError, OSError) as e:\n",
    "    from qat.qpus import PyLinalg\n",
    "    lineal_qpu = PyLinalg()\n",
    "    print('PyLinalg Used')"
   ]
  },
  {
   "cell_type": "code",
   "execution_count": null,
   "id": "068e3d32",
   "metadata": {},
   "outputs": [],
   "source": [
    "from AuxiliarFunctions import  get_histogram, PostProcessResults, TestBins, LeftConditionalProbability, RunJob\n",
    "def p(x):\n",
    "    return x*x\n",
    "def f(x):\n",
    "    return np.sin(x)"
   ]
  },
  {
   "cell_type": "markdown",
   "id": "69cb2da9",
   "metadata": {},
   "source": [
    "## Rutina de Rotación Controlada\n",
    "\n",
    "A mi entender la pieza clave del circuito es la que permite aplicar una rotación controlada sobre un qbit target utilizando un estado de control de n qbits. Básicamente lo que necesito es dado uno de los posibles ángulos de rotación:\n",
    "\n",
    "$$\\theta^{m}_{i} = \\arccos{\\sqrt{f^{m}(i)}} \\,\\, donde \\,i=0,1,...2^{m-1}-1$$\n",
    "\n",
    "necesito poder aplicar una rotación sobre el qbit target cuando los n qbits anteriores estén en el estado $|i\\rangle$ del siguiente modo:\n",
    "\n",
    "$$|i\\rangle\\hat{R}_{y}(2\\theta^{m}_{i})|0\\rangle_{target}$$\n",
    "\n",
    "La siguiente rutina hace eso: recibe un número de qbits en el que se debe codificar el estado de control y un ángulo de rotación. La función prepara **nqbits** para que cuando el estado de esos qbits sea el de *control* entonces se aplique la rotación deseada. \n",
    "\n",
    "Para ello el *estado de control* tiene que ser un entero y la función lo descompone en un número binario de **nqbits** dígitos. Con un bucle sobre estos dígitos se crea un circuito que generará **nqbits** igual a 1 cuando en esos qbits entre el *estado de control*. \n",
    "\n",
    "Con esta configuración podemos crear una rotación alrededor del eje Y del ángulo deseado, controlada por los **nqbits**, sobre un qbit target adicional. \n",
    "\n",
    "Finalmente debemos deshacer la preparación del *estado de control*."
   ]
  },
  {
   "cell_type": "code",
   "execution_count": null,
   "id": "ab55cb0b",
   "metadata": {},
   "outputs": [],
   "source": [
    "def CRBS_generatorINT(nqbits, ControlState, theta):\n",
    "    \"\"\" \n",
    "    This functions condify a input ControlState using N qbits and\n",
    "    apply a controlled Rotation of an input angle theta by the ControlState\n",
    "    on one aditional qbit.\n",
    "    Inputs:\n",
    "    * nqbits: int. Number of qbits needed for codify the ControlState. \n",
    "    * ControlState: int. State for controlling the of the controlled Rotation.\n",
    "    * theta: float. Rotation angle    \n",
    "    \"\"\"\n",
    "    from qat.lang.AQASM import QRoutine, RY\n",
    "    qrout = QRoutine()\n",
    "    from qat.lang.AQASM.qint import QInt\n",
    "    qcontrol = qrout.new_wires(nqbits, QInt)#, reverse_bit_order=True)\n",
    "    qtarget = qrout.new_wires(1)\n",
    "    #c_i_RY = RY(theta).ctrl()\n",
    "    expresion = (qcontrol==ControlState)\n",
    "    with qrout.compute():\n",
    "        qbit4cr=expresion.evaluate()\n",
    "    qrout.apply(RY(theta).ctrl(), qbit4cr, qtarget)\n",
    "    qrout.uncompute()\n",
    "    qrout.free_ancillae(qbit4cr)\n",
    "    return qrout\n",
    "\n",
    "from qat.lang.AQASM import AbstractGate\n",
    "#Using generator function an abstract gate is created\n",
    "CRBS_gateINT = AbstractGate(\n",
    "    \"CRBS\", \n",
    "    [int, int, float], \n",
    "    circuit_generator = CRBS_generatorINT,\n",
    "    arity = lambda x, y, z: x+1\n",
    ")"
   ]
  },
  {
   "cell_type": "code",
   "execution_count": null,
   "id": "353ca47b",
   "metadata": {},
   "outputs": [],
   "source": [
    "def LoadP_GateINT(ProbabilityArray):\n",
    "    \"\"\"\n",
    "    Creates a customized AbstractGate for loading a discretized Probability\n",
    "    Inputs:\n",
    "        * ProbabilityArray: numpy array. Numpy array with the discretized probability to load. The number of qbits will be log2(len(ProbabilityArray)). \n",
    "    Output:\n",
    "        * AbstractGate: AbstractGate customized \n",
    "    \"\"\"\n",
    "    def P_generator():\n",
    "        \"\"\"\n",
    "        Function generator for the AbstractGate that allows the loading of a discretized Probability in a Quantum State.\n",
    "        Output:\n",
    "            * qrout: Quantum Routine\n",
    "        \"\"\"\n",
    "    \n",
    "        #ProbabilityArray = Dictionary['array']\n",
    "        n_qbits = TestBins(ProbabilityArray, 'Probability')\n",
    "        from qat.lang.AQASM import QRoutine, RY\n",
    "        qrout = QRoutine()\n",
    "        qbits = qrout.new_wires(n_qbits)\n",
    "        nbins = len(ProbabilityArray)\n",
    "    \n",
    "        for i in range(0, n_qbits):\n",
    "            ConditionalProbability = LeftConditionalProbability(i, ProbabilityArray)\n",
    "            Thetas = 2.0*(np.arccos(np.sqrt(ConditionalProbability)))\n",
    "    \n",
    "            if i == 0:\n",
    "                #The first qbit is a typical y Rotation\n",
    "                qrout.apply(RY(Thetas[0]), qbits[0])\n",
    "            else:\n",
    "                #The different rotations should be applied  over the i+1 qbit.\n",
    "                #Each rotation is controlled by all the posible states formed with i qbits\n",
    "                for j, theta in enumerate(Thetas):\n",
    "                    #Next lines do the following operation: |j> x Ry(2*\\theta_{j})|0>\n",
    "                    gate = CRBS_gateINT(i, j, theta)\n",
    "                    qrout.apply(gate, qbits[:i+1])\n",
    "        return qrout\n",
    "    P_Gate = AbstractGate(\n",
    "        \"P_Gate\",\n",
    "        [],\n",
    "        circuit_generator = P_generator,\n",
    "        arity = TestBins(ProbabilityArray, 'Probability')\n",
    "    )\n",
    "    return P_Gate()\n"
   ]
  },
  {
   "cell_type": "markdown",
   "id": "d8f87152",
   "metadata": {},
   "source": [
    "## Rutina  a puerta"
   ]
  },
  {
   "cell_type": "code",
   "execution_count": null,
   "id": "02f15571",
   "metadata": {},
   "outputs": [],
   "source": [
    "#number of Qbits for the circuit\n",
    "n_qbits = 4\n",
    "#The number of bins \n",
    "m_bins = 2**n_qbits\n",
    "LowerLimit = 0.0\n",
    "UpperLimit = 1.0 \n",
    "\n",
    "X, p_X = get_histogram(p, LowerLimit, UpperLimit, m_bins)\n",
    "f_X = f(X)"
   ]
  },
  {
   "cell_type": "code",
   "execution_count": null,
   "id": "96f945ca",
   "metadata": {},
   "outputs": [],
   "source": [
    "from dataloading_module import LoadP_Gate"
   ]
  },
  {
   "cell_type": "code",
   "execution_count": null,
   "id": "7a8c26e0",
   "metadata": {},
   "outputs": [],
   "source": [
    "P_GateZ = LoadP_Gate(p_X)\n",
    "P_GateINT = LoadP_GateINT(p_X)"
   ]
  },
  {
   "cell_type": "code",
   "execution_count": null,
   "id": "20ae0407",
   "metadata": {},
   "outputs": [],
   "source": [
    "def Do(P_gate):\n",
    "    from qat.lang.AQASM import Program\n",
    "    qprog = Program()\n",
    "    qbits = qprog.qalloc(P_gate.arity)\n",
    "    qprog.apply(P_gate, qbits)\n",
    "    circuit = qprog.to_circ()\n",
    "    return circuit\n",
    "def RunDo(circuit):\n",
    "    job = circuit.to_job()\n",
    "    result = lineal_qpu.submit(job)\n",
    "    results = PostProcessResults(RunJob(result))\n",
    "    return results    \n",
    "def Optimize(circuit):\n",
    "    from qat.pbo import GraphCircuit\n",
    "    graph = GraphCircuit()\n",
    "    graph.load_circuit(circuit)\n",
    "    # Define two patterns\n",
    "    left_pattern = [(\"X\", [0]), (\"X\", [0])]\n",
    "    right_pattern = []\n",
    "    while graph.replace_pattern(left_pattern, right_pattern):\n",
    "        continue\n",
    "    optimized_circ = graph.to_circ() \n",
    "    return optimized_circ"
   ]
  },
  {
   "cell_type": "code",
   "execution_count": null,
   "id": "48360347",
   "metadata": {},
   "outputs": [],
   "source": [
    "\n",
    "    \n",
    "    "
   ]
  },
  {
   "cell_type": "code",
   "execution_count": null,
   "id": "92b58e3f",
   "metadata": {},
   "outputs": [],
   "source": [
    "Z_Circuit = Do(P_GateZ)\n",
    "print(Z_Circuit.statistics())\n",
    "Z_CircuitOptimized = Optimize(Z_Circuit)\n",
    "#Z_R =  RunDo(Z_Circuit)\n",
    "print(Z_CircuitOptimized.statistics())"
   ]
  },
  {
   "cell_type": "code",
   "execution_count": null,
   "id": "b7860595",
   "metadata": {},
   "outputs": [],
   "source": [
    "INT_Circuit = Do(P_GateINT)\n",
    "print(INT_Circuit.statistics())\n",
    "INT_CircuitOptimized = Optimize(INT_Circuit)\n",
    "print(INT_CircuitOptimized.statistics())"
   ]
  },
  {
   "cell_type": "code",
   "execution_count": null,
   "id": "6f57e354",
   "metadata": {},
   "outputs": [],
   "source": [
    "%qatdisplay INT_Circuit --depth 2"
   ]
  },
  {
   "cell_type": "code",
   "execution_count": null,
   "id": "7d4cfffc",
   "metadata": {},
   "outputs": [],
   "source": [
    "%qatdisplay INT_CircuitOptimized --depth 2"
   ]
  },
  {
   "cell_type": "code",
   "execution_count": null,
   "id": "afc45a19",
   "metadata": {},
   "outputs": [],
   "source": [
    "%qatdisplay Z_Circuit --depth 2"
   ]
  },
  {
   "cell_type": "code",
   "execution_count": null,
   "id": "f78caf0c",
   "metadata": {},
   "outputs": [],
   "source": []
  },
  {
   "cell_type": "code",
   "execution_count": null,
   "id": "2d6d42db",
   "metadata": {},
   "outputs": [],
   "source": []
  },
  {
   "cell_type": "code",
   "execution_count": null,
   "id": "386cf896",
   "metadata": {},
   "outputs": [],
   "source": [
    "#Z_R = RunDo(Z_Circuit)\n",
    "INT_R = RunDo(INT_Circuit)"
   ]
  },
  {
   "cell_type": "code",
   "execution_count": null,
   "id": "ad027814",
   "metadata": {},
   "outputs": [],
   "source": [
    "Z_R_O = RunDo(Z_CircuitOptimized)"
   ]
  },
  {
   "cell_type": "code",
   "execution_count": null,
   "id": "bba6f393",
   "metadata": {},
   "outputs": [],
   "source": [
    "INT_R_O = RunDo(INT_CircuitOptimized)"
   ]
  },
  {
   "cell_type": "code",
   "execution_count": null,
   "id": "ed783b9c",
   "metadata": {},
   "outputs": [],
   "source": []
  },
  {
   "cell_type": "code",
   "execution_count": null,
   "id": "52c6c322",
   "metadata": {},
   "outputs": [],
   "source": []
  },
  {
   "cell_type": "code",
   "execution_count": null,
   "id": "1a3b5976",
   "metadata": {},
   "outputs": [],
   "source": []
  },
  {
   "cell_type": "code",
   "execution_count": null,
   "id": "c8034d72",
   "metadata": {},
   "outputs": [],
   "source": []
  },
  {
   "cell_type": "code",
   "execution_count": null,
   "id": "5a7f2640",
   "metadata": {},
   "outputs": [],
   "source": []
  },
  {
   "cell_type": "code",
   "execution_count": null,
   "id": "8c1c523b",
   "metadata": {},
   "outputs": [],
   "source": []
  },
  {
   "cell_type": "code",
   "execution_count": null,
   "id": "60310d67",
   "metadata": {},
   "outputs": [],
   "source": []
  },
  {
   "cell_type": "code",
   "execution_count": null,
   "id": "febe0c38",
   "metadata": {},
   "outputs": [],
   "source": [
    "from qat.pbo import GraphCircuit\n",
    "graph = GraphCircuit()\n",
    "graph.load_circuit(circ)\n",
    "optimized_circ.statistics()"
   ]
  },
  {
   "cell_type": "code",
   "execution_count": null,
   "id": "c9b6e5e3",
   "metadata": {},
   "outputs": [],
   "source": [
    "from qat.lang.AQASM import AbstractGate"
   ]
  },
  {
   "cell_type": "code",
   "execution_count": null,
   "id": "45cbd8f1",
   "metadata": {},
   "outputs": [],
   "source": [
    "P_Gate = LoadP_Gate(p_X)"
   ]
  },
  {
   "cell_type": "code",
   "execution_count": null,
   "id": "04fe15a4",
   "metadata": {},
   "outputs": [],
   "source": [
    "%qatdisplay P_Gate --depth 2"
   ]
  },
  {
   "cell_type": "code",
   "execution_count": null,
   "id": "82206d09",
   "metadata": {},
   "outputs": [],
   "source": []
  },
  {
   "cell_type": "code",
   "execution_count": null,
   "id": "c2420e59",
   "metadata": {},
   "outputs": [],
   "source": [
    "from qat.lang.AQASM import X, RY, Program\n",
    "\n",
    "qprog = Program()\n",
    "qbits = qprog.qalloc(P_Gate.arity)\n",
    "qprog.apply(P_Gate, qbits)\n",
    "#Create the circuit from the program\n",
    "circuit = qprog.to_circ()\n",
    "\n",
    "#Display the circuit\n",
    "#%qatdisplay circuit\n",
    "%qatdisplay circuit --depth 2\n",
    "job = circuit.to_job()\n",
    "result = lineal_qpu.submit(job)\n",
    "PGATEINT_results = PostProcessResults(RunJob(result))"
   ]
  },
  {
   "cell_type": "code",
   "execution_count": null,
   "id": "b9280daa",
   "metadata": {},
   "outputs": [],
   "source": [
    "np.isclose(PGATEINT_results['Probability'], p_X).all()"
   ]
  },
  {
   "cell_type": "code",
   "execution_count": null,
   "id": "453356b4",
   "metadata": {},
   "outputs": [],
   "source": [
    "circuit.statistics()"
   ]
  },
  {
   "cell_type": "code",
   "execution_count": null,
   "id": "f64f3624",
   "metadata": {},
   "outputs": [],
   "source": [
    "from qat.pbo import GraphCircuit"
   ]
  },
  {
   "cell_type": "code",
   "execution_count": null,
   "id": "297749a9",
   "metadata": {},
   "outputs": [],
   "source": [
    "Qb = [i for i, j in enumerate(qbits)]"
   ]
  },
  {
   "cell_type": "code",
   "execution_count": null,
   "id": "cd8917f1",
   "metadata": {},
   "outputs": [],
   "source": [
    "# Define two patterns\n",
    "left_pattern = [(\"X\", [0]), (\"X\", [0])]\n",
    "right_pattern = []"
   ]
  },
  {
   "cell_type": "code",
   "execution_count": null,
   "id": "e44e8cb6",
   "metadata": {},
   "outputs": [],
   "source": [
    "graph = GraphCircuit()\n",
    "graph.load_circuit(circuit)\n",
    "while graph.replace_pattern(left_pattern, right_pattern):\n",
    "    continue"
   ]
  },
  {
   "cell_type": "code",
   "execution_count": null,
   "id": "9eadd24c",
   "metadata": {},
   "outputs": [],
   "source": [
    "# Get the optimized circuit\n",
    "optimized_circ = graph.to_circ()"
   ]
  },
  {
   "cell_type": "code",
   "execution_count": null,
   "id": "31ad334e",
   "metadata": {},
   "outputs": [],
   "source": [
    "%qatdisplay optimized_circ"
   ]
  },
  {
   "cell_type": "code",
   "execution_count": null,
   "id": "6ae6b6b2",
   "metadata": {},
   "outputs": [],
   "source": [
    "optimized_circ.statistics()"
   ]
  },
  {
   "cell_type": "code",
   "execution_count": null,
   "id": "373d8bd1",
   "metadata": {},
   "outputs": [],
   "source": [
    "\n",
    "job_Optimized = optimized_circ.to_job()\n",
    "resultOp = lineal_qpu.submit(job_Optimized)\n",
    "PGATEINT_results_Opt = PostProcessResults(RunJob(resultOp))"
   ]
  },
  {
   "cell_type": "code",
   "execution_count": null,
   "id": "dfd95a0f",
   "metadata": {},
   "outputs": [],
   "source": [
    "np.isclose(PGATEINT_results_Opt['Probability'], p_X).all()"
   ]
  },
  {
   "cell_type": "code",
   "execution_count": null,
   "id": "4b83c1c3",
   "metadata": {},
   "outputs": [],
   "source": []
  },
  {
   "cell_type": "code",
   "execution_count": null,
   "id": "1c66e9a6",
   "metadata": {},
   "outputs": [],
   "source": []
  },
  {
   "cell_type": "code",
   "execution_count": null,
   "id": "07d08fdd",
   "metadata": {},
   "outputs": [],
   "source": []
  },
  {
   "cell_type": "code",
   "execution_count": null,
   "id": "82261110",
   "metadata": {},
   "outputs": [],
   "source": [
    "from qat.pbo import GraphCircuit\n",
    "from qat.lang.AQASM import Program, H, X\n",
    "\n",
    "#\n",
    "# Write circuit\n",
    "#\n",
    "\n",
    "# Define initial circuit (X - H - H circuit)\n",
    "prog = Program()\n",
    "qubit = prog.qalloc(1)\n",
    "prog.apply(X, qubit)\n",
    "prog.apply(H, qubit)\n",
    "prog.apply(H, qubit)\n",
    "circ = prog.to_circ()\n",
    "\n",
    "#\n",
    "# Optimize circuit\n",
    "#\n",
    "\n",
    "# Create a graph object and load circuit\n",
    "graph = GraphCircuit()\n",
    "graph.load_circuit(circ)\n",
    "\n",
    "# Define two patterns\n",
    "left_pattern = [(\"H\", [0]), (\"H\", [0])]\n",
    "right_pattern = []\n",
    "\n",
    "# Replace left_pattern by right_pattern, i.e. the old one by the new one\n",
    "graph.replace_pattern(left_pattern, right_pattern)"
   ]
  },
  {
   "cell_type": "code",
   "execution_count": null,
   "id": "4ba1ac6f",
   "metadata": {},
   "outputs": [],
   "source": []
  },
  {
   "cell_type": "code",
   "execution_count": null,
   "id": "39dae4f6",
   "metadata": {},
   "outputs": [],
   "source": [
    "%qatdisplay circ"
   ]
  },
  {
   "cell_type": "code",
   "execution_count": null,
   "id": "bbd0aba4",
   "metadata": {},
   "outputs": [],
   "source": [
    "# Get the optimized circuit\n",
    "optimized_circ = graph.to_circ()"
   ]
  },
  {
   "cell_type": "code",
   "execution_count": null,
   "id": "7a58a759",
   "metadata": {},
   "outputs": [],
   "source": [
    "%qatdisplay optimized_circ"
   ]
  }
 ],
 "metadata": {
  "kernelspec": {
   "display_name": "Python 3 (ipykernel)",
   "language": "python",
   "name": "python3"
  },
  "language_info": {
   "codemirror_mode": {
    "name": "ipython",
    "version": 3
   },
   "file_extension": ".py",
   "mimetype": "text/x-python",
   "name": "python",
   "nbconvert_exporter": "python",
   "pygments_lexer": "ipython3",
   "version": "3.9.2"
  }
 },
 "nbformat": 4,
 "nbformat_minor": 5
}
