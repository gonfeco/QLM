{
 "cells": [
  {
   "cell_type": "code",
   "execution_count": null,
   "id": "a943b2ec",
   "metadata": {},
   "outputs": [],
   "source": [
    "from IPython.core.display import display, HTML\n",
    "display(HTML(\"<style>.container { width:100% !important; }</style>\"))"
   ]
  },
  {
   "cell_type": "code",
   "execution_count": null,
   "id": "56c42b50",
   "metadata": {},
   "outputs": [],
   "source": [
    "import numpy as np\n",
    "import pandas as pd\n",
    "import matplotlib.pyplot as plt\n",
    "import sys, os"
   ]
  },
  {
   "cell_type": "code",
   "execution_count": null,
   "id": "67d69543",
   "metadata": {},
   "outputs": [],
   "source": [
    "%load_ext qat.core.magic"
   ]
  },
  {
   "cell_type": "code",
   "execution_count": null,
   "id": "f7849ebf",
   "metadata": {},
   "outputs": [],
   "source": [
    "#QPU connection\n",
    "QLMASS = True\n",
    "if QLMASS:\n",
    "    try:\n",
    "        from qat.qlmaas import QLMaaSConnection\n",
    "        connection = QLMaaSConnection()\n",
    "        LinAlg = connection.get_qpu(\"qat.qpus:LinAlg\")\n",
    "        lineal_qpu = LinAlg()\n",
    "    except (ImportError, OSError) as e:\n",
    "        print('Problem: usin PyLinalg')\n",
    "        from qat.qpus import PyLinalg\n",
    "        lineal_qpu = PyLinalg()\n",
    "else:\n",
    "    print('User Forces: PyLinalg')\n",
    "    from qat.qpus import PyLinalg\n",
    "    lineal_qpu = PyLinalg() "
   ]
  },
  {
   "cell_type": "code",
   "execution_count": null,
   "id": "eda33bc3",
   "metadata": {},
   "outputs": [],
   "source": [
    "sys.path.append('/home/cesga/gferro/NEASQC/PhaseAmplification/')"
   ]
  },
  {
   "cell_type": "code",
   "execution_count": null,
   "id": "6da236d2",
   "metadata": {},
   "outputs": [],
   "source": [
    "from QuantumMultiplexors_Module_examples import expectation_loading_data\n",
    "from PhaseAmplification_Module import load_q_gate"
   ]
  },
  {
   "cell_type": "code",
   "execution_count": null,
   "id": "a706896e",
   "metadata": {},
   "outputs": [],
   "source": [
    "from AuxiliarFunctions import  get_histogram, postprocess_results, test_bins, run_job\n",
    "def p(x):\n",
    "    return x*x\n",
    "def f(x):\n",
    "    return np.sin(x)"
   ]
  },
  {
   "cell_type": "code",
   "execution_count": null,
   "id": "b7895ac7",
   "metadata": {},
   "outputs": [],
   "source": [
    "from qat.lang.AQASM import H, S, T, PH\n",
    "def IQFT_old(q_prog, q_gate, q_aux, c_bits, l):\n",
    "    \"\"\"\n",
    "    Implements a iterative step of the Iterative Phase Estimation (IPE) algorithm.\n",
    "    \n",
    "    Parameters\n",
    "    ----------\n",
    "    \n",
    "    q_prog : QLM program\n",
    "        QLM Program where the unitary operator will be applied\n",
    "    q_gate : QLM AbstractGate\n",
    "        QLM implementation of the unitary operator. We want estimate the autovalue \\theta of this operator\n",
    "    q_aux : QLM qbit\n",
    "        auxiliar qbit for IPE. This qbit will be the control for application of the unitary operator to the principal\n",
    "        qbits of the program. Aditionally will be the target qbit for the classical bit controlled rotation. This qbit\n",
    "        will be reset at the end of the step. \n",
    "    c_bits : list\n",
    "        list with the classical bits allocated for phase estimation\n",
    "    l : int\n",
    "        iteration step of the IPE algorithm\n",
    "    \n",
    "    \"\"\"\n",
    "    \n",
    "    #Getting the principal qbits\n",
    "    q_bits = q_prog.registers[0]\n",
    "    \n",
    "    #First apply a Haddamard Gate to auxiliar qbit\n",
    "    q_prog.apply(H, q_aux)\n",
    "    #number of bits for codify phase\n",
    "    m = len(c_bits)\n",
    "\n",
    "    #Number of controlled application of the unitary operator by auxiliar qbit over the principal qbits\n",
    "    unitary_applications = int(2**(m-l-1))\n",
    "    print('unitary_applications: {}'.format(unitary_applications))\n",
    "    for i in range(unitary_applications):\n",
    "        q_prog.apply(q_gate.ctrl(), q_aux, q_bits)\n",
    "        \n",
    "    print('m: {}. l: {}'.format(m,l))\n",
    "    \n",
    "    for j in range(m-l+1, m+1, 1):\n",
    "        theta = 2**(m-l-j+1)\n",
    "        print('j: {}. theta: {}'.format(j-1, theta))\n",
    "        q_prog.cc_apply(c_bits[j-1], PH(-(np.pi/2.0)*theta), q_aux)        \n",
    "        \n",
    "    q_prog.apply(H, q_aux)\n",
    "    print(m-l-1)\n",
    "    q_prog.measure(q_aux, c_bits[m-l-1])\n",
    "    q_prog.reset(q_aux)        \n",
    "\n",
    "    \n",
    "from qat.comm.datamodel.ttypes import OpType"
   ]
  },
  {
   "cell_type": "code",
   "execution_count": null,
   "id": "165a11da",
   "metadata": {},
   "outputs": [],
   "source": [
    "from qat.lang.AQASM import H, S, T, PH\n",
    "def IQFT(q_prog, q_gate, q_aux, c_bits, l):\n",
    "    \"\"\"\n",
    "    Implements a iterative step of the Iterative Phase Estimation (IPE) algorithm.\n",
    "    \n",
    "    Parameters\n",
    "    ----------\n",
    "    \n",
    "    q_prog : QLM program\n",
    "        QLM Program where the unitary operator will be applied\n",
    "    q_gate : QLM AbstractGate\n",
    "        QLM implementation of the unitary operator. We want estimate the autovalue \\theta of this operator\n",
    "    q_aux : QLM qbit\n",
    "        auxiliar qbit for IPE. This qbit will be the control for application of the unitary operator to the principal\n",
    "        qbits of the program. Aditionally will be the target qbit for the classical bit controlled rotation. This qbit\n",
    "        will be reset at the end of the step. \n",
    "    c_bits : list\n",
    "        list with the classical bits allocated for phase estimation\n",
    "    l : int\n",
    "        iteration step of the IPE algorithm\n",
    "    \n",
    "    \"\"\"\n",
    "    \n",
    "    q_prog.reset(q_aux)\n",
    "    #Getting the principal qbits\n",
    "    q_bits = q_prog.registers[0]\n",
    "    \n",
    "    #First apply a Haddamard Gate to auxiliar qbit\n",
    "    q_prog.apply(H, q_aux)\n",
    "    #number of bits for codify phase\n",
    "    m = len(c_bits)\n",
    "\n",
    "    #Number of controlled application of the unitary operator by auxiliar qbit over the principal qbits\n",
    "    unitary_applications = int(2**(m-l-1))\n",
    "    print('unitary_applications: {}'.format(unitary_applications))\n",
    "    for i in range(unitary_applications):\n",
    "        q_prog.apply(q_gate.ctrl(), q_aux, q_bits)\n",
    "        \n",
    "    print('m: {}. l: {}'.format(m,l))\n",
    "    \n",
    "    for j in range(m-l+1, m+1, 1):\n",
    "        theta = 2**(m-l-j+1)\n",
    "        print('j: {}. theta: {}'.format(j-1, theta))\n",
    "        if c_bits[j-1] == True:\n",
    "            q_prog.apply(PH((np.pi/2.0)*theta), q_aux)\n",
    "        #q_prog.cc_apply(c_bits[j-1], PH(-(np.pi/2.0)*theta), q_aux)        \n",
    "        \n",
    "    q_prog.apply(H, q_aux)\n",
    "    #print(m-l-1)\n",
    "    #q_prog.measure(q_aux, c_bits[m-l-1])\n",
    "    \n",
    "         \n",
    "\n",
    "    \n",
    "from qat.comm.datamodel.ttypes import OpType"
   ]
  },
  {
   "cell_type": "code",
   "execution_count": null,
   "id": "382a92ed",
   "metadata": {},
   "outputs": [],
   "source": [
    "#number of Qbits for the circuit\n",
    "n_qbits = 8\n",
    "#The number of bins \n",
    "m_bins = 2**n_qbits\n",
    "LowerLimit = 0.0\n",
    "UpperLimit = 1.0 \n",
    "\n",
    "X, p_X = get_histogram(p, LowerLimit, UpperLimit, m_bins)\n",
    "f_X = f(X)"
   ]
  },
  {
   "cell_type": "code",
   "execution_count": null,
   "id": "3ef6d3c9",
   "metadata": {},
   "outputs": [],
   "source": [
    "Qprog, P_Gate, R_gate = expectation_loading_data(p_X, f_X)\n",
    "Q_Gate = load_q_gate(P_Gate, R_gate)"
   ]
  },
  {
   "cell_type": "code",
   "execution_count": null,
   "id": "039617cc",
   "metadata": {
    "scrolled": true
   },
   "outputs": [],
   "source": [
    "circuit = Qprog.to_circ(submatrices_only=True) \n",
    "%qatdisplay circuit"
   ]
  },
  {
   "cell_type": "code",
   "execution_count": null,
   "id": "2aeb4778",
   "metadata": {},
   "outputs": [],
   "source": [
    "NumberOfClassicalBits = 6\n",
    "qAux = Qprog.qalloc(1)\n",
    "#cbits = Qprog.calloc(NumberOfClassicalBits)\n",
    "cbits = [False for i in range(NumberOfClassicalBits)]"
   ]
  },
  {
   "cell_type": "code",
   "execution_count": null,
   "id": "e4da162e",
   "metadata": {},
   "outputs": [],
   "source": [
    "ListOfThetas = []\n",
    "for rep in range(10):\n",
    "    Qprog, P_Gate, R_gate = expectation_loading_data(p_X, f_X)\n",
    "    Q_Gate = load_q_gate(P_Gate, R_gate)\n",
    "    NumberOfClassicalBits = 6\n",
    "    qAux = Qprog.qalloc(1)\n",
    "    #cbits = Qprog.calloc(NumberOfClassicalBits)\n",
    "    cbits = [False for i in range(NumberOfClassicalBits)]\n",
    "\n",
    "    ListOfPdfs = []\n",
    "    for l in range(len(cbits)):\n",
    "        IQFT(Qprog, Q_Gate, qAux, cbits, l)\n",
    "        circuit = Qprog.to_circ(submatrices_only=True)\n",
    "        #%qatdisplay circuit\n",
    "        #meas_gates = [i for i, o in enumerate(circuit.ops) if o.type==OpType.MEASURE]\n",
    "        job = circuit.to_job(qubits=qAux, nbshots=1)\n",
    "        result = run_job(lineal_qpu.submit(job))\n",
    "        pdf_r = postprocess_results(result)\n",
    "        cbit_measured = bool(pdf_r.iloc[pdf_r['Probability'].idxmax()]['States'].int)\n",
    "        cbits[NumberOfClassicalBits-l-1] = cbit_measured\n",
    "\n",
    "    cbits.reverse()\n",
    "    listToStr = ''.join([str(int(elem)) for elem in cbits])\n",
    "    print('listToStr: {}'.format(listToStr))\n",
    "    print('M= {}'.format(int(listToStr,2)))\n",
    "    theta  = int(listToStr,2)*np.pi/(2**len(cbits))\n",
    "    print('theta: {}'.format(theta))\n",
    "\n",
    "    ListOfThetas.append(theta)"
   ]
  },
  {
   "cell_type": "markdown",
   "id": "47e61cfb",
   "metadata": {},
   "source": [
    "# OTRA"
   ]
  },
  {
   "cell_type": "code",
   "execution_count": null,
   "id": "2e053fa7",
   "metadata": {},
   "outputs": [],
   "source": [
    "#number of Qbits for the circuit\n",
    "n_qbits = 8\n",
    "#The number of bins \n",
    "m_bins = 2**n_qbits\n",
    "LowerLimit = 0.0\n",
    "UpperLimit = 1.0 \n",
    "\n",
    "X, p_X = get_histogram(p, LowerLimit, UpperLimit, m_bins)\n",
    "f_X = f(X)"
   ]
  },
  {
   "cell_type": "code",
   "execution_count": null,
   "id": "7138fd85",
   "metadata": {},
   "outputs": [],
   "source": [
    "Qprog, P_Gate, R_gate = expectation_loading_data(p_X, f_X)\n",
    "Q_Gate = load_q_gate(P_Gate, R_gate)"
   ]
  },
  {
   "cell_type": "code",
   "execution_count": null,
   "id": "bee82ea0",
   "metadata": {},
   "outputs": [],
   "source": [
    "from qat.lang.AQASM import H, S, T, PH\n",
    "from qat.comm.datamodel.ttypes import OpType\n",
    "def IQFT_step(q_prog, q_gate, q_aux, c_bits, l):\n",
    "    \"\"\"\n",
    "    Implements a iterative step of the Iterative Phase Estimation (IPE) algorithm.\n",
    "    \n",
    "    Parameters\n",
    "    ----------\n",
    "    \n",
    "    q_prog : QLM program\n",
    "        QLM Program where the unitary operator will be applied\n",
    "    q_gate : QLM AbstractGate\n",
    "        QLM implementation of the unitary operator. We want estimate the autovalue \\theta of this operator\n",
    "    q_aux : QLM qbit\n",
    "        auxiliar qbit for IPE. This qbit will be the control for application of the unitary operator to the principal\n",
    "        qbits of the program. Aditionally will be the target qbit for the classical bit controlled rotation. This qbit\n",
    "        will be reset at the end of the step. \n",
    "    c_bits : list\n",
    "        list with the classical bits allocated for phase estimation\n",
    "    l : int\n",
    "        iteration step of the IPE algorithm\n",
    "    \n",
    "    \"\"\"\n",
    "    \n",
    "    q_prog.reset(q_aux)\n",
    "    #Getting the principal qbits\n",
    "    q_bits = q_prog.registers[0]\n",
    "    \n",
    "    #First apply a Haddamard Gate to auxiliar qbit\n",
    "    q_prog.apply(H, q_aux)\n",
    "    #number of bits for codify phase\n",
    "    m = len(c_bits)\n",
    "\n",
    "    #Number of controlled application of the unitary operator by auxiliar qbit over the principal qbits\n",
    "    unitary_applications = int(2**(m-l-1))\n",
    "    print('unitary_applications: {}'.format(unitary_applications))\n",
    "    for i in range(unitary_applications):\n",
    "        q_prog.apply(q_gate.ctrl(), q_aux, q_bits)\n",
    "        \n",
    "    print('m: {}. l: {}'.format(m,l))\n",
    "    \n",
    "    for j in range(m-l+1, m+1, 1):\n",
    "        theta = 2**(m-l-j+1)\n",
    "        print('j: {}. theta: {}'.format(j-1, theta))\n",
    "        if c_bits[j-1] == True:\n",
    "            q_prog.apply(PH((np.pi/2.0)*theta), q_aux)\n",
    "        #q_prog.cc_apply(c_bits[j-1], PH(-(np.pi/2.0)*theta), q_aux)        \n",
    "        \n",
    "    q_prog.apply(H, q_aux)\n",
    "    #print(m-l-1)\n",
    "    #q_prog.measure(q_aux, c_bits[m-l-1])\n",
    "    \n",
    "    #Create Circuit\n",
    "    circuit = q_prog.to_circ(submatrices_only=True)\n",
    "    #create job\n",
    "    job = circuit.to_job(qubits=qAux, nbshots=1)\n",
    "    #Submit job\n",
    "    result = run_job(lineal_qpu.submit(job))\n",
    "    #postproccess result\n",
    "    pdf_r = postprocess_results(result)\n",
    "    #Get classical bit measurement\n",
    "    cbit_measured = bool(pdf_r.iloc[pdf_r['Probability'].idxmax()]['States'].int)\n",
    "    #stored measured bit\n",
    "    c_bits[m-l-1] = cbit_measured\n",
    "    \n",
    "         \n",
    "\n",
    "    \n"
   ]
  },
  {
   "cell_type": "code",
   "execution_count": null,
   "id": "1db6d56e",
   "metadata": {},
   "outputs": [],
   "source": [
    "circuit = Qprog.to_circ(submatrices_only=True) \n",
    "%qatdisplay circuit"
   ]
  },
  {
   "cell_type": "code",
   "execution_count": null,
   "id": "907a4e06",
   "metadata": {},
   "outputs": [],
   "source": [
    "NumberOfClassicalBits = 6\n",
    "qAux = Qprog.qalloc(1)\n",
    "#cbits = Qprog.calloc(NumberOfClassicalBits)\n",
    "cbits = [False for i in range(NumberOfClassicalBits)]\n",
    "for l in range(len(cbits)):\n",
    "    IQFT_step(Qprog, Q_Gate, qAux, cbits, l)\n",
    "cbits.reverse()\n",
    "listToStr = ''.join([str(int(elem)) for elem in cbits])\n",
    "print('listToStr: {}'.format(listToStr))\n",
    "print('M= {}'.format(int(listToStr,2)))\n",
    "theta  = int(listToStr,2)*np.pi/(2**len(cbits))\n",
    "print('theta: {}'.format(theta))    "
   ]
  },
  {
   "cell_type": "code",
   "execution_count": null,
   "id": "2f3d812f",
   "metadata": {},
   "outputs": [],
   "source": [
    "cbits"
   ]
  },
  {
   "cell_type": "code",
   "execution_count": null,
   "id": "0593bece",
   "metadata": {},
   "outputs": [],
   "source": [
    "ListOfThetas"
   ]
  },
  {
   "cell_type": "code",
   "execution_count": null,
   "id": "b90ae24b",
   "metadata": {},
   "outputs": [],
   "source": [
    "[np.sin(theta)**2 for theta in ListOfThetas]"
   ]
  },
  {
   "cell_type": "code",
   "execution_count": null,
   "id": "33a97f85",
   "metadata": {},
   "outputs": [],
   "source": []
  },
  {
   "cell_type": "code",
   "execution_count": null,
   "id": "72dbc7bc",
   "metadata": {},
   "outputs": [],
   "source": [
    "cbits.reverse()"
   ]
  },
  {
   "cell_type": "code",
   "execution_count": null,
   "id": "4f89a2d7",
   "metadata": {},
   "outputs": [],
   "source": []
  },
  {
   "cell_type": "code",
   "execution_count": null,
   "id": "19bbe409",
   "metadata": {},
   "outputs": [],
   "source": [
    "listToStr = ''.join([str(int(elem)) for elem in cbits])\n",
    "print('listToStr: {}'.format(listToStr))\n",
    "print('M= {}'.format(int(listToStr,2)))\n",
    "theta  = int(listToStr,2)*np.pi/(2**len(cbits))\n",
    "print('theta: {}'.format(theta))\n",
    "print(np.sin(theta)**2)"
   ]
  },
  {
   "cell_type": "code",
   "execution_count": null,
   "id": "ce5349c0",
   "metadata": {},
   "outputs": [],
   "source": [
    "sum(f_X*p_X)"
   ]
  },
  {
   "cell_type": "code",
   "execution_count": null,
   "id": "d33c79da",
   "metadata": {},
   "outputs": [],
   "source": [
    "ListOfPdfs.reverse()"
   ]
  },
  {
   "cell_type": "code",
   "execution_count": null,
   "id": "43972a36",
   "metadata": {},
   "outputs": [],
   "source": [
    "ListOfPdfs"
   ]
  },
  {
   "cell_type": "code",
   "execution_count": null,
   "id": "b7020c64",
   "metadata": {},
   "outputs": [],
   "source": [
    "cbits.reverse()"
   ]
  },
  {
   "cell_type": "code",
   "execution_count": null,
   "id": "00527f43",
   "metadata": {},
   "outputs": [],
   "source": [
    "cbits"
   ]
  },
  {
   "cell_type": "code",
   "execution_count": null,
   "id": "0ae52e87",
   "metadata": {},
   "outputs": [],
   "source": [
    "listToStr = ''.join([str(int(elem)) for elem in cbits])"
   ]
  },
  {
   "cell_type": "code",
   "execution_count": null,
   "id": "e4fbe0c9",
   "metadata": {},
   "outputs": [],
   "source": [
    "listToStr"
   ]
  },
  {
   "cell_type": "code",
   "execution_count": null,
   "id": "c61a6904",
   "metadata": {},
   "outputs": [],
   "source": [
    "int(listToStr,2)"
   ]
  },
  {
   "cell_type": "code",
   "execution_count": null,
   "id": "28a58469",
   "metadata": {},
   "outputs": [],
   "source": [
    "theta  = int(listToStr,2)*np.pi/(2**len(cbits))"
   ]
  },
  {
   "cell_type": "code",
   "execution_count": null,
   "id": "d3d6c8e1",
   "metadata": {},
   "outputs": [],
   "source": [
    "theta"
   ]
  },
  {
   "cell_type": "code",
   "execution_count": null,
   "id": "25112352",
   "metadata": {},
   "outputs": [],
   "source": [
    "np.sin(theta)**2"
   ]
  },
  {
   "cell_type": "code",
   "execution_count": null,
   "id": "ccd0ec72",
   "metadata": {},
   "outputs": [],
   "source": [
    "sum(f_X*p_X)"
   ]
  },
  {
   "cell_type": "code",
   "execution_count": null,
   "id": "23035e2f",
   "metadata": {},
   "outputs": [],
   "source": [
    "np.arcsin(sum(f_X*p_X)**0.5)"
   ]
  },
  {
   "cell_type": "code",
   "execution_count": null,
   "id": "152b7741",
   "metadata": {
    "scrolled": true
   },
   "outputs": [],
   "source": [
    "[i for i in cbits]"
   ]
  },
  {
   "cell_type": "code",
   "execution_count": null,
   "id": "bedb6653",
   "metadata": {},
   "outputs": [],
   "source": [
    "int_list = list(range(2**len(self.cbit_solution)))"
   ]
  },
  {
   "cell_type": "code",
   "execution_count": null,
   "id": "a5f8202e",
   "metadata": {},
   "outputs": [],
   "source": [
    "bits_list = [format(i, \"b\").zfill(len(cbits)) for i in range(2**len(cbits))]"
   ]
  },
  {
   "cell_type": "code",
   "execution_count": null,
   "id": "e88de77e",
   "metadata": {},
   "outputs": [],
   "source": [
    "bits_list"
   ]
  },
  {
   "cell_type": "code",
   "execution_count": null,
   "id": "26e7460b",
   "metadata": {},
   "outputs": [],
   "source": [
    "for l in range(len(cbits)):\n",
    "    print('l: {}'.format(l))\n",
    "    IQFT(Qprog, Q_Gate, qAux, cbits, l)\n",
    "    circuit = Qprog.to_circ(submatrices_only=True)\n",
    "    meas_gates = [i for i, o in enumerate(circuit.ops) if o.type==OpType.MEASURE]\n",
    "    job = circuit.to_job(qubits=qAux)\n",
    "    result_ = result[0]\n",
    "    cbit = [r.cbits[0] for r in result_.intermediate_measurements if r.gate_pos == meas_gates[0]][0]\n",
    "    print(cbit)"
   ]
  },
  {
   "cell_type": "code",
   "execution_count": null,
   "id": "9d5d4806",
   "metadata": {},
   "outputs": [],
   "source": []
  },
  {
   "cell_type": "code",
   "execution_count": null,
   "id": "388bd0c0",
   "metadata": {},
   "outputs": [],
   "source": [
    "meas_gates"
   ]
  },
  {
   "cell_type": "code",
   "execution_count": null,
   "id": "4959a85e",
   "metadata": {},
   "outputs": [],
   "source": [
    "circuit = Qprog.to_circ(submatrices_only=True) \n",
    "%qatdisplay circuit --file kk.svg --svg"
   ]
  },
  {
   "cell_type": "code",
   "execution_count": null,
   "id": "cd577c2f",
   "metadata": {},
   "outputs": [],
   "source": [
    "job = circuit.to_job(qubits=qAux)\n",
    "result = lineal_qpu.submit(job).join()\n",
    "\n",
    "\n",
    "meas_gates = [i for i, o in enumerate(circuit.ops) if o.type==OpType.MEASURE]"
   ]
  },
  {
   "cell_type": "code",
   "execution_count": null,
   "id": "c65c717a",
   "metadata": {},
   "outputs": [],
   "source": [
    "if len(result) ==1 :\n",
    "    r = result[0]\n",
    "    step_im = r.intermediate_measurements\n",
    "    cbits_ = [[im.cbits[0], im.probability] for im in step_im if im.gate_pos in meas_gates]\n",
    "    cbits_.reverse()"
   ]
  },
  {
   "cell_type": "code",
   "execution_count": null,
   "id": "85ff069c",
   "metadata": {},
   "outputs": [],
   "source": [
    "def get_probability(bit, clasical_bits):\n",
    "    \"\"\"\n",
    "    Calculates the probability of a string of bits bassed \n",
    "    on probabilities for each individual bit\n",
    "    \n",
    "    Parameters\n",
    "    ----------\n",
    "    \n",
    "    bit : str\n",
    "        strign of bits that represent an integer number\n",
    "    clasical_bits : list\n",
    "        it contains for each position a bolean value and the probability for it\n",
    "        len(clasical_bits) == len(bit)\n",
    "        classica_bits[i][0] : bolean value\n",
    "        classica_bits[i][1] : probability of correspondient bolean value\n",
    "    \n",
    "    Returns\n",
    "    ----------\n",
    "    \n",
    "    total_probability : float\n",
    "        Probability of getting input bit having the \n",
    "        probability configuration of clasical_bits\n",
    "        \n",
    "    \"\"\"\n",
    "    p_ = []\n",
    "    for i, b_ in enumerate(bit):\n",
    "        #print(i, b_)\n",
    "        \n",
    "        if clasical_bits[i][0] == bool(int(b_)):\n",
    "            #print('cierto')\n",
    "            p_.append(clasical_bits[i][1])\n",
    "        else:\n",
    "            #print('false')\n",
    "            p_.append(1.0-clasical_bits[i][1])\n",
    "        #print(p)\n",
    "    total_probability = np.prod(p_)\n",
    "    return total_probability\n",
    "        "
   ]
  },
  {
   "cell_type": "code",
   "execution_count": null,
   "id": "4102d9aa",
   "metadata": {
    "scrolled": true
   },
   "outputs": [],
   "source": [
    "#posible integers that can be represented by len(cbits_)\n",
    "int_list = [i for i in range(2**len(cbits_))]\n",
    "#string bolean representation of each posible integer\n",
    "bits_list = [format(i, \"b\").zfill(len(cbits_)) for i in range(2**len(cbits_))]\n",
    "#probabilit of each integer based on probabilities of cbits_\n",
    "prob_list = []\n",
    "for b in bits_list:\n",
    "    prob_list.append(get_probability(b, cbits_))\n",
    "\n",
    "meas_cbits = pd.DataFrame({\n",
    "    'Int' : int_list,\n",
    "    'Bol' : bits_list,\n",
    "    'Probability': prob_list\n",
    "})\n",
    "#posible thetas based the posible integers\n",
    "meas_cbits['theta'] = meas_cbits['Int']*np.pi/(2**len(cbits_))\n",
    "#Desired Integral\n",
    "meas_cbits['Integral'] = np.sin(meas_cbits['theta'])**2"
   ]
  },
  {
   "cell_type": "code",
   "execution_count": null,
   "id": "4f979638",
   "metadata": {},
   "outputs": [],
   "source": []
  },
  {
   "cell_type": "code",
   "execution_count": null,
   "id": "c6cf117f",
   "metadata": {},
   "outputs": [],
   "source": [
    "%matplotlib inline\n",
    "plt.plot(meas_cbits['theta'], meas_cbits['Probability'])\n",
    "plt.xlabel('theta')\n",
    "plt.ylabel('Probability')"
   ]
  },
  {
   "cell_type": "code",
   "execution_count": null,
   "id": "f6c5a950",
   "metadata": {},
   "outputs": [],
   "source": [
    "meas_cbits.sort_values('Probability', ascending=False).iloc[:10]"
   ]
  },
  {
   "cell_type": "code",
   "execution_count": null,
   "id": "c5d86791",
   "metadata": {},
   "outputs": [],
   "source": [
    "meas_cbits.sort_values('Probability', ascending=False).iloc[:10]"
   ]
  },
  {
   "cell_type": "code",
   "execution_count": null,
   "id": "93c4d1da",
   "metadata": {},
   "outputs": [],
   "source": [
    "np.arcsin(sum(p_X*f_X)**0.5)"
   ]
  },
  {
   "cell_type": "code",
   "execution_count": null,
   "id": "8e709b2b",
   "metadata": {},
   "outputs": [],
   "source": [
    "np.pi-2.184389"
   ]
  },
  {
   "cell_type": "code",
   "execution_count": null,
   "id": "5771d5a7",
   "metadata": {},
   "outputs": [],
   "source": [
    "np.pi"
   ]
  },
  {
   "cell_type": "code",
   "execution_count": null,
   "id": "6eecad2f",
   "metadata": {},
   "outputs": [],
   "source": []
  },
  {
   "cell_type": "markdown",
   "id": "844c30dd",
   "metadata": {},
   "source": [
    "## Comparo Qiskit"
   ]
  },
  {
   "cell_type": "code",
   "execution_count": null,
   "id": "abbe153c",
   "metadata": {},
   "outputs": [],
   "source": [
    "from qat.lang.AQASM import Program, H, X, PH\n",
    "nq = 2\n",
    "nc = 3\n",
    "q_prog = Program()\n",
    "q_bits = q_prog.qalloc(nq)\n",
    "cbits = q_prog.calloc(nc)\n",
    "for i in range(nq):\n",
    "    q_prog.apply(X, q_bits[i])\n",
    "qAux = q_prog.qalloc(1)\n",
    "q_gate = PH(np.pi/4.0).ctrl()\n",
    "for l in range(len(cbits)):\n",
    "    print('l: {}'.format(l))\n",
    "    IQFT(q_prog, q_gate, qAux, cbits, l)\n",
    "circuit = q_prog.to_circ(submatrices_only=True) \n",
    "%qatdisplay circuit    "
   ]
  }
 ],
 "metadata": {
  "kernelspec": {
   "display_name": "Python 3 (ipykernel)",
   "language": "python",
   "name": "python3"
  },
  "language_info": {
   "codemirror_mode": {
    "name": "ipython",
    "version": 3
   },
   "file_extension": ".py",
   "mimetype": "text/x-python",
   "name": "python",
   "nbconvert_exporter": "python",
   "pygments_lexer": "ipython3",
   "version": "3.9.9"
  }
 },
 "nbformat": 4,
 "nbformat_minor": 5
}
