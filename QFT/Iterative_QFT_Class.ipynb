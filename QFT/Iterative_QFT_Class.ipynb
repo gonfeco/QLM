{
 "cells": [
  {
   "cell_type": "code",
   "execution_count": null,
   "id": "a943b2ec",
   "metadata": {},
   "outputs": [],
   "source": [
    "from IPython.core.display import display, HTML\n",
    "display(HTML(\"<style>.container { width:100% !important; }</style>\"))"
   ]
  },
  {
   "cell_type": "code",
   "execution_count": null,
   "id": "56c42b50",
   "metadata": {},
   "outputs": [],
   "source": [
    "import numpy as np\n",
    "import pandas as pd\n",
    "import matplotlib.pyplot as plt\n",
    "import sys, os"
   ]
  },
  {
   "cell_type": "code",
   "execution_count": null,
   "id": "67d69543",
   "metadata": {
    "scrolled": true
   },
   "outputs": [],
   "source": [
    "%load_ext qat.core.magic"
   ]
  },
  {
   "cell_type": "code",
   "execution_count": null,
   "id": "6df7fcd2",
   "metadata": {},
   "outputs": [],
   "source": [
    "%matplotlib inline"
   ]
  },
  {
   "cell_type": "code",
   "execution_count": null,
   "id": "f7849ebf",
   "metadata": {},
   "outputs": [],
   "source": [
    "#QPU connection\n",
    "QLMASS = True\n",
    "if QLMASS:\n",
    "    try:\n",
    "        from qat.qlmaas import QLMaaSConnection\n",
    "        connection = QLMaaSConnection()\n",
    "        LinAlg = connection.get_qpu(\"qat.qpus:LinAlg\")\n",
    "        lineal_qpu = LinAlg()\n",
    "    except (ImportError, OSError) as e:\n",
    "        print('Problem: usin PyLinalg')\n",
    "        from qat.qpus import PyLinalg\n",
    "        lineal_qpu = PyLinalg()\n",
    "else:\n",
    "    print('User Forces: PyLinalg')\n",
    "    from qat.qpus import PyLinalg\n",
    "    lineal_qpu = PyLinalg() "
   ]
  },
  {
   "cell_type": "code",
   "execution_count": null,
   "id": "eda33bc3",
   "metadata": {},
   "outputs": [],
   "source": [
    "sys.path.append('/home/cesga/gferro/NEASQC/PhaseAmplification/')"
   ]
  },
  {
   "cell_type": "code",
   "execution_count": null,
   "id": "6da236d2",
   "metadata": {},
   "outputs": [],
   "source": [
    "from QuantumMultiplexors_Module_examples import expectation_loading_data\n",
    "from PhaseAmplification_Module import load_q_gate"
   ]
  },
  {
   "cell_type": "code",
   "execution_count": null,
   "id": "a706896e",
   "metadata": {},
   "outputs": [],
   "source": [
    "from AuxiliarFunctions import  get_histogram, postprocess_results, test_bins, run_job\n",
    "def p(x):\n",
    "    return x*x\n",
    "def f(x):\n",
    "    return np.sin(x)"
   ]
  },
  {
   "cell_type": "code",
   "execution_count": null,
   "id": "e0edbb7a",
   "metadata": {},
   "outputs": [],
   "source": [
    "#number of Qbits for the circuit\n",
    "n_qbits = 6\n",
    "#The number of bins \n",
    "m_bins = 2**n_qbits\n",
    "LowerLimit = 0.0\n",
    "UpperLimit = 1.0 \n",
    "\n",
    "X, p_X = get_histogram(p, LowerLimit, UpperLimit, m_bins)\n",
    "f_X = f(X)\n",
    "Qprog, P_Gate, R_gate = expectation_loading_data(p_X, f_X)\n",
    "Q_Gate = load_q_gate(P_Gate, R_gate)"
   ]
  },
  {
   "cell_type": "code",
   "execution_count": null,
   "id": "95543548",
   "metadata": {},
   "outputs": [],
   "source": [
    "from iterative_quantum_ae import IterativeQuantumAE"
   ]
  },
  {
   "cell_type": "code",
   "execution_count": null,
   "id": "d4c0cd4c",
   "metadata": {},
   "outputs": [],
   "source": [
    "def getstaff(InputPDF):\n",
    "    pdf = InputPDF.copy(deep=True)\n",
    "    #Con esto obtenemos el theta del operador unitario\n",
    "    pdf['Theta_Unitary'] = 2*np.pi*pdf['Phi']\n",
    "    #Esto es el ángulo que rota el operador Q en el problema del valor esperador de la función (2*theta)\n",
    "    #IQAE.results['Theta_Q'] = np.pi*IQAE.results['Phi']\n",
    "    pdf['Theta'] = np.pi*pdf['Phi']\n",
    "    #Solo angulos entre [0, pi/2]\n",
    "    #IQAE.results['Theta'].where(IQAE.results['Theta']< 0.5*np.pi, np.pi-IQAE.results['Theta'], inplace=True)\n",
    "    pdf['E_p(f)'] = np.sin(pdf['Theta'])**2\n",
    "    pdf['theta_90'] = pdf['Theta']\n",
    "    pdf['theta_90'].where(pdf['theta_90']< 0.5*np.pi, np.pi-pdf['theta_90'], inplace=True)    \n",
    "    return pdf"
   ]
  },
  {
   "cell_type": "markdown",
   "id": "5fc69d38",
   "metadata": {},
   "source": [
    "## 1. Clase Paso a Paso"
   ]
  },
  {
   "cell_type": "code",
   "execution_count": null,
   "id": "ae61813f",
   "metadata": {},
   "outputs": [],
   "source": [
    "iqae_dict = {\n",
    "    'qpu' : lineal_qpu,\n",
    "    'cbits_number' : 6,\n",
    "    #'easy': True,\n",
    "    'easy': False    \n",
    "}"
   ]
  },
  {
   "cell_type": "code",
   "execution_count": null,
   "id": "b3bbf6dd",
   "metadata": {},
   "outputs": [],
   "source": [
    "#Instancio la clase\n",
    "IQAE = IterativeQuantumAE(Qprog, Q_Gate, **iqae_dict)\n",
    "#Inicializo el programa cuantico\n",
    "IQAE.init_iqae()"
   ]
  },
  {
   "cell_type": "code",
   "execution_count": null,
   "id": "19f2f1e6",
   "metadata": {},
   "outputs": [],
   "source": [
    "#puedo pintar el circuito:\n",
    "circuit = IQAE.q_prog.to_circ(submatrices_only=True)\n",
    "%qatdisplay circuit"
   ]
  },
  {
   "cell_type": "code",
   "execution_count": null,
   "id": "ed0934c2",
   "metadata": {},
   "outputs": [],
   "source": [
    "#Ejecuto un IQAE completo\n",
    "print('Ejecuto IQAE completo para {} bits clasicos'.format(IQAE.cbits_number))\n",
    "IQAE.apply_iqae()"
   ]
  },
  {
   "cell_type": "code",
   "execution_count": null,
   "id": "7b874ffe",
   "metadata": {},
   "outputs": [],
   "source": [
    "#La clase tiene un método que crea el circuito:\n",
    "IQAE.get_circuit()\n",
    "circuit = IQAE.circuit\n",
    "%qatdisplay circuit"
   ]
  },
  {
   "cell_type": "code",
   "execution_count": null,
   "id": "9d86a671",
   "metadata": {},
   "outputs": [],
   "source": [
    "#A continuacion generamos el job\n",
    "IQAE.get_job()\n",
    "#Ejecutamos el job\n",
    "IQAE.get_job_result()"
   ]
  },
  {
   "cell_type": "code",
   "execution_count": null,
   "id": "98de86ac",
   "metadata": {},
   "outputs": [],
   "source": [
    "#En la propiedad job_result almacenamos la salida del result\n",
    "IQAE.job_result"
   ]
  },
  {
   "cell_type": "code",
   "execution_count": null,
   "id": "d23e0334",
   "metadata": {},
   "outputs": [],
   "source": [
    "#Para procesar la salida se utiliza el metodo que genera la propiedad results como un DataFrame\n",
    "IQAE.get_classicalbits()\n",
    "#\n",
    "IQAE.results"
   ]
  },
  {
   "cell_type": "code",
   "execution_count": null,
   "id": "321cb67e",
   "metadata": {},
   "outputs": [],
   "source": [
    "#La siguiente funcion nos permite generar las salidas para QAA\n",
    "pdf = getstaff(IQAE.results)"
   ]
  },
  {
   "cell_type": "code",
   "execution_count": null,
   "id": "79549f10",
   "metadata": {},
   "outputs": [],
   "source": [
    "pdf"
   ]
  },
  {
   "cell_type": "code",
   "execution_count": null,
   "id": "7d27342e",
   "metadata": {},
   "outputs": [],
   "source": [
    "sum(f_X*p_X)"
   ]
  },
  {
   "cell_type": "markdown",
   "id": "fc0ee7cb",
   "metadata": {},
   "source": [
    "## 2. Todo de una vez"
   ]
  },
  {
   "cell_type": "code",
   "execution_count": null,
   "id": "8d26833a",
   "metadata": {},
   "outputs": [],
   "source": [
    "iqae_dict = {\n",
    "    'qpu' : lineal_qpu,\n",
    "    'cbits_number' : 6,\n",
    "    'easy': True\n",
    "}"
   ]
  },
  {
   "cell_type": "code",
   "execution_count": null,
   "id": "6d3c8205",
   "metadata": {},
   "outputs": [],
   "source": [
    "#Instancio la clase\n",
    "IQAE = IterativeQuantumAE(Qprog, Q_Gate, **iqae_dict)\n",
    "#Ejecuto todo el algoritmo\n",
    "IQAE.iqae()"
   ]
  },
  {
   "cell_type": "code",
   "execution_count": null,
   "id": "a8d345fd",
   "metadata": {},
   "outputs": [],
   "source": [
    "circuit = IQAE.circuit\n",
    "%qatdisplay circuit"
   ]
  },
  {
   "cell_type": "code",
   "execution_count": null,
   "id": "a113de64",
   "metadata": {},
   "outputs": [],
   "source": [
    "pdf = getstaff(IQAE.results)"
   ]
  },
  {
   "cell_type": "code",
   "execution_count": null,
   "id": "073a023a",
   "metadata": {},
   "outputs": [],
   "source": [
    "pdf"
   ]
  },
  {
   "cell_type": "code",
   "execution_count": null,
   "id": "a3df599b",
   "metadata": {},
   "outputs": [],
   "source": [
    "sum(f_X*p_X)"
   ]
  },
  {
   "cell_type": "markdown",
   "id": "32c17587",
   "metadata": {},
   "source": [
    "## 3. Misma iteracion n veces"
   ]
  },
  {
   "cell_type": "markdown",
   "id": "613f2682",
   "metadata": {},
   "source": [
    "Podemos hacerlo de dos formas: \n",
    "\n",
    "1. Iterar n veces sobre la misma clase\n",
    "2. Proporcionar un nbshots a la entrada con el número de iteraciones que queremos"
   ]
  },
  {
   "cell_type": "markdown",
   "id": "f35bda23",
   "metadata": {},
   "source": [
    "### 3.1 Iteramos sobre la clase"
   ]
  },
  {
   "cell_type": "code",
   "execution_count": null,
   "id": "4bbc9df9",
   "metadata": {
    "scrolled": true
   },
   "outputs": [],
   "source": [
    "%%time\n",
    "zalo_dict = {\n",
    "    'qpu' : lineal_qpu,\n",
    "    'cbits_number' : 6,\n",
    "    'easy': False    \n",
    "}\n",
    "ListaZalo = []\n",
    "for i in range(5):\n",
    "    IQAE = IterativeQuantumAE(Qprog, Q_Gate, **zalo_dict)\n",
    "    IQAE.iqae()\n",
    "    pdf = getstaff(IQAE.results)\n",
    "    ListaZalo.append(pdf)\n",
    "pdf_Zalo = pd.concat(ListaZalo)  \n",
    "pdf_Zalo.reset_index(drop=True, inplace=True)"
   ]
  },
  {
   "cell_type": "code",
   "execution_count": null,
   "id": "9ce8ace2",
   "metadata": {},
   "outputs": [],
   "source": [
    "%%time\n",
    "easy_dict = {\n",
    "    'qpu' : lineal_qpu,\n",
    "    'cbits_number' : 6,\n",
    "    'tipo': True\n",
    "}\n",
    "ListaEasy = []\n",
    "for i in range(5):\n",
    "    IQAE = IterativeQuantumAE(Qprog, Q_Gate, **easy_dict)\n",
    "    IQAE.iqae()\n",
    "    pdf = getstaff(IQAE.results)\n",
    "    ListaEasy.append(pdf)\n",
    "pdf_Easy = pd.concat(ListaEasy)   \n",
    "pdf_Easy.reset_index(drop=True, inplace=True)"
   ]
  },
  {
   "cell_type": "code",
   "execution_count": null,
   "id": "0ab296b8",
   "metadata": {},
   "outputs": [],
   "source": [
    "plt.plot(pdf_Zalo['Theta'], pdf_Zalo['Probability'], 'o')\n",
    "plt.plot(pdf_Easy['Theta'], pdf_Easy['Probability'], 'o')"
   ]
  },
  {
   "cell_type": "code",
   "execution_count": null,
   "id": "29b5e719",
   "metadata": {},
   "outputs": [],
   "source": [
    "plt.plot(pdf_Zalo['E_p(f)'], pdf_Zalo['Probability'], 'o')\n",
    "plt.plot(pdf_Easy['E_p(f)'], pdf_Easy['Probability'], 'o')"
   ]
  },
  {
   "cell_type": "code",
   "execution_count": null,
   "id": "a3bc4f9f",
   "metadata": {},
   "outputs": [],
   "source": [
    "#Comprobando theta y -theta\n",
    "eas = pdf_Easy['Theta'].where(pdf_Easy['Theta']<0.5*np.pi, np.pi-pdf_Easy['Theta'])\n",
    "zal = pdf_Zalo['Theta'].where(pdf_Zalo['Theta']<0.5*np.pi, np.pi-pdf_Zalo['Theta'])\n",
    "plt.plot(eas, pdf_Easy['Probability'], 'o')\n",
    "plt.plot(zal, pdf_Zalo['Probability'], 'o')"
   ]
  },
  {
   "cell_type": "markdown",
   "id": "1ecfe6b7",
   "metadata": {},
   "source": [
    "Voy a grabarlos datos para que quede constancia de que esto funciona como tiene que funcionar:"
   ]
  },
  {
   "cell_type": "markdown",
   "id": "a2b89d0b",
   "metadata": {},
   "source": [
    "pdf_Zalo.to_csv('iterative_iqae_zalo_100medidas.csv')#, index=False)\n",
    "pdf_Easy.to_csv('iterative_iqae_easy_100medidas.csv')#, index=False)"
   ]
  },
  {
   "cell_type": "markdown",
   "id": "43103415",
   "metadata": {},
   "source": [
    "### 3.2 Iteramos utilizando nbshots"
   ]
  },
  {
   "cell_type": "code",
   "execution_count": null,
   "id": "d73497a2",
   "metadata": {},
   "outputs": [],
   "source": [
    "%%time\n",
    "zalo_dict = {\n",
    "    'qpu' : lineal_qpu,\n",
    "    'cbits_number' : 6,\n",
    "    'easy': False,\n",
    "    'shots': 100\n",
    "}\n",
    "IQAE = IterativeQuantumAE(Qprog, Q_Gate, **zalo_dict)\n",
    "IQAE.iqae()\n",
    "pdf_Zalo = getstaff(IQAE.results)"
   ]
  },
  {
   "cell_type": "code",
   "execution_count": null,
   "id": "9f610e63",
   "metadata": {},
   "outputs": [],
   "source": [
    "%%time\n",
    "easy_dict = {\n",
    "    'qpu' : lineal_qpu,\n",
    "    'cbits_number' : 6,\n",
    "    'easy': True,\n",
    "    'shots': 100\n",
    "}\n",
    "IQAE = IterativeQuantumAE(Qprog, Q_Gate, **easy_dict)\n",
    "IQAE.iqae()\n",
    "pdf_Easy = getstaff(IQAE.results)"
   ]
  },
  {
   "cell_type": "code",
   "execution_count": null,
   "id": "5524af6b",
   "metadata": {
    "scrolled": true
   },
   "outputs": [],
   "source": [
    "pdf_Zalo.sort_values('Theta', inplace=True)\n",
    "pdf_Easy.sort_values('Theta', inplace=True)"
   ]
  },
  {
   "cell_type": "code",
   "execution_count": null,
   "id": "878e685e",
   "metadata": {},
   "outputs": [],
   "source": [
    "plt.plot(pdf_Zalo['Theta'], pdf_Zalo['Probability'], 'o-')\n",
    "plt.plot(pdf_Easy['Theta'], pdf_Easy['Probability'], 'o-', alpha=0.7)\n",
    "plt.legend(['Normal', 'Easy'])"
   ]
  },
  {
   "cell_type": "code",
   "execution_count": null,
   "id": "8118a337",
   "metadata": {},
   "outputs": [],
   "source": [
    "plt.plot(pdf_Zalo['theta_90'], pdf_Zalo['Probability'], 'o-')\n",
    "plt.plot(pdf_Easy['theta_90'], pdf_Easy['Probability'], 'o-', alpha=0.7)\n",
    "plt.legend(['Normal', 'Easy'])"
   ]
  },
  {
   "cell_type": "code",
   "execution_count": null,
   "id": "72dae996",
   "metadata": {},
   "outputs": [],
   "source": [
    "plt.plot(pdf_Zalo['E_p(f)'], pdf_Zalo['Probability'], 'o-')\n",
    "plt.plot(pdf_Easy['E_p(f)'], pdf_Easy['Probability'], 'o-', alpha=0.7)\n",
    "plt.legend(['Normal', 'Easy'])"
   ]
  },
  {
   "cell_type": "markdown",
   "id": "f13e930a",
   "metadata": {},
   "source": [
    "## 4. Diferentes Bits Clasicos"
   ]
  },
  {
   "cell_type": "code",
   "execution_count": null,
   "id": "db39b0cd",
   "metadata": {},
   "outputs": [],
   "source": [
    "iqae_dict = {\n",
    "    'qpu' : lineal_qpu,\n",
    "    #'cbits_number' : 6\n",
    "}"
   ]
  },
  {
   "cell_type": "code",
   "execution_count": null,
   "id": "686b0f26",
   "metadata": {},
   "outputs": [],
   "source": [
    "Lista = []\n",
    "Lista_Estadisticas = []\n",
    "for i in range(1, 11):\n",
    "    iqae_dict.update({'cbits_number' : i})\n",
    "    #print(iqae_dict['cbits_number'])\n",
    "    IQAE = IterativeQuantumAE(Qprog, Q_Gate, **iqae_dict)\n",
    "    IQAE.iqae()\n",
    "    getstaff(IQAE.results)\n",
    "    Lista.append(getstaff(IQAE.results))"
   ]
  },
  {
   "cell_type": "code",
   "execution_count": null,
   "id": "99177ce8",
   "metadata": {},
   "outputs": [],
   "source": [
    "pdf = pd.concat(Lista)"
   ]
  },
  {
   "cell_type": "code",
   "execution_count": null,
   "id": "d6739ea6",
   "metadata": {},
   "outputs": [],
   "source": [
    "pdf.reset_index(drop=True, inplace=True)"
   ]
  },
  {
   "cell_type": "code",
   "execution_count": null,
   "id": "0928d4e6",
   "metadata": {},
   "outputs": [],
   "source": [
    "plt.plot(pdf['theta_90'], 'o-')"
   ]
  },
  {
   "cell_type": "code",
   "execution_count": null,
   "id": "275c3298",
   "metadata": {},
   "outputs": [],
   "source": [
    "plt.plot(pdf['E_p(f)'], 'o-')"
   ]
  },
  {
   "cell_type": "markdown",
   "id": "844c30dd",
   "metadata": {},
   "source": [
    "## Comparo Qiskit"
   ]
  },
  {
   "cell_type": "code",
   "execution_count": null,
   "id": "abbe153c",
   "metadata": {},
   "outputs": [],
   "source": [
    "from qat.lang.AQASM import Program, H, X, PH\n",
    "nq = 2\n",
    "nc = 3\n",
    "q_prog = Program()\n",
    "q_bits = q_prog.qalloc(nq)\n",
    "cbits = q_prog.calloc(nc)\n",
    "for i in range(nq):\n",
    "    q_prog.apply(X, q_bits[i])\n",
    "qAux = q_prog.qalloc(1)\n",
    "q_gate = PH(np.pi/4.0).ctrl()\n"
   ]
  },
  {
   "cell_type": "code",
   "execution_count": null,
   "id": "ac605f38",
   "metadata": {},
   "outputs": [],
   "source": [
    "circuit = q_prog.to_circ(submatrices_only=True) \n",
    "\n",
    "%qatdisplay q_gate "
   ]
  },
  {
   "cell_type": "code",
   "execution_count": null,
   "id": "4e456fa6",
   "metadata": {},
   "outputs": [],
   "source": [
    "from iterative_quantum_ae import IterativeQuantumAE"
   ]
  },
  {
   "cell_type": "code",
   "execution_count": null,
   "id": "5e81313b",
   "metadata": {},
   "outputs": [],
   "source": [
    "iqae_dict = {\n",
    "    'qpu' : lineal_qpu,\n",
    "    'cbits_number' : 6,\n",
    "    'shots': 1000\n",
    "}"
   ]
  },
  {
   "cell_type": "code",
   "execution_count": null,
   "id": "a27b1733",
   "metadata": {},
   "outputs": [],
   "source": [
    "IQAE = IterativeQuantumAE(q_prog, q_gate, **iqae_dict)\n",
    "IQAE.iqae()"
   ]
  },
  {
   "cell_type": "code",
   "execution_count": null,
   "id": "66083be4",
   "metadata": {},
   "outputs": [],
   "source": [
    "cirecuir =IQAE.circuit\n",
    "%qatdisplay circuit    "
   ]
  },
  {
   "cell_type": "code",
   "execution_count": null,
   "id": "d99672a5",
   "metadata": {},
   "outputs": [],
   "source": [
    "plt.plot(IQAE.results['Phi'], IQAE.results['Probability'])"
   ]
  },
  {
   "cell_type": "code",
   "execution_count": null,
   "id": "b9cb0988",
   "metadata": {},
   "outputs": [],
   "source": [
    "IQAE.results['Phi'].describe()"
   ]
  },
  {
   "cell_type": "code",
   "execution_count": null,
   "id": "8015c8e5",
   "metadata": {},
   "outputs": [],
   "source": [
    "a = IQAE.results"
   ]
  },
  {
   "cell_type": "code",
   "execution_count": null,
   "id": "f71bd0df",
   "metadata": {},
   "outputs": [],
   "source": [
    "a.mean()"
   ]
  },
  {
   "cell_type": "code",
   "execution_count": null,
   "id": "4fdd4257",
   "metadata": {},
   "outputs": [],
   "source": []
  }
 ],
 "metadata": {
  "kernelspec": {
   "display_name": "Python 3 (ipykernel)",
   "language": "python",
   "name": "python3"
  },
  "language_info": {
   "codemirror_mode": {
    "name": "ipython",
    "version": 3
   },
   "file_extension": ".py",
   "mimetype": "text/x-python",
   "name": "python",
   "nbconvert_exporter": "python",
   "pygments_lexer": "ipython3",
   "version": "3.9.9"
  }
 },
 "nbformat": 4,
 "nbformat_minor": 5
}
