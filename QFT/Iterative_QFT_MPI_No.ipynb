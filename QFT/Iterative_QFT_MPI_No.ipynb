{
 "cells": [
  {
   "cell_type": "code",
   "execution_count": 1,
   "id": "a943b2ec",
   "metadata": {},
   "outputs": [
    {
     "data": {
      "text/html": [
       "<style>.container { width:100% !important; }</style>"
      ],
      "text/plain": [
       "<IPython.core.display.HTML object>"
      ]
     },
     "metadata": {},
     "output_type": "display_data"
    }
   ],
   "source": [
    "from IPython.core.display import display, HTML\n",
    "display(HTML(\"<style>.container { width:100% !important; }</style>\"))"
   ]
  },
  {
   "cell_type": "code",
   "execution_count": 2,
   "id": "56c42b50",
   "metadata": {},
   "outputs": [],
   "source": [
    "import numpy as np\n",
    "import pandas as pd\n",
    "import matplotlib.pyplot as plt\n",
    "import sys, os\n",
    "import copy"
   ]
  },
  {
   "cell_type": "code",
   "execution_count": 3,
   "id": "67d69543",
   "metadata": {
    "scrolled": true
   },
   "outputs": [
    {
     "name": "stdout",
     "output_type": "stream",
     "text": [
      "The qat.core.magic extension is already loaded. To reload it, use:\n",
      "  %reload_ext qat.core.magic\n"
     ]
    }
   ],
   "source": [
    "%load_ext qat.core.magic\n",
    "%matplotlib inline"
   ]
  },
  {
   "cell_type": "code",
   "execution_count": 4,
   "id": "f7849ebf",
   "metadata": {},
   "outputs": [
    {
     "name": "stdout",
     "output_type": "stream",
     "text": [
      "User Forces: PyLinalg\n"
     ]
    }
   ],
   "source": [
    "#QPU connection\n",
    "QLMASS = False\n",
    "if QLMASS:\n",
    "    try:\n",
    "        from qat.qlmaas import QLMaaSConnection\n",
    "        connection = QLMaaSConnection()\n",
    "        LinAlg = connection.get_qpu(\"qat.qpus:LinAlg\")\n",
    "        lineal_qpu = LinAlg()\n",
    "    except (ImportError, OSError) as e:\n",
    "        print('Problem: usin PyLinalg')\n",
    "        from qat.qpus import PyLinalg\n",
    "        lineal_qpu = PyLinalg()\n",
    "else:\n",
    "    print('User Forces: PyLinalg')\n",
    "    from qat.qpus import PyLinalg\n",
    "    lineal_qpu = PyLinalg() "
   ]
  },
  {
   "cell_type": "code",
   "execution_count": 5,
   "id": "9719dcaf",
   "metadata": {},
   "outputs": [],
   "source": [
    "sys.path.append('/home/cesga/gferro/NEASQC/PhaseAmplification/')"
   ]
  },
  {
   "cell_type": "code",
   "execution_count": 7,
   "id": "88c574c3",
   "metadata": {},
   "outputs": [],
   "source": [
    "from QuantumMultiplexors_Module import expectation_loading_data\n",
    "from PhaseAmplification_Module import load_q_gate\n",
    "from AuxiliarFunctions import  get_histogram, postprocess_results, test_bins, run_job\n",
    "def p(x):\n",
    "    return x*x\n",
    "def f(x):\n",
    "    return np.sin(x)"
   ]
  },
  {
   "cell_type": "code",
   "execution_count": 8,
   "id": "c4d9bb9a",
   "metadata": {},
   "outputs": [],
   "source": [
    "def Launch(n_qbits = 6):\n",
    "    #The number of bins \n",
    "    m_bins = 2**n_qbits\n",
    "    LowerLimit = 0.0\n",
    "    UpperLimit = 1.0 \n",
    "    #Discretizing Data\n",
    "    X, p_X = get_histogram(p, LowerLimit, UpperLimit, m_bins)\n",
    "    f_X = f(X)\n",
    "    #Create Qunatum Program and Quantum Gates\n",
    "    Qprog, P_Gate, R_gate = expectation_loading_data(p_X, f_X)\n",
    "    Q_Gate = load_q_gate(P_Gate, R_gate)\n",
    "    return Qprog, Q_Gate\n",
    "    \n",
    "def get_staff(InputPdf):\n",
    "    pdf = InputPdf.copy(deep=True)\n",
    "    #Get Unitary theta\n",
    "    pdf['UnitaryTheta'] = 2*np.pi*pdf['Phi']\n",
    "    pdf['QAA_Theta'] = np.pi*pdf['Phi']\n",
    "    pdf['Theta'] = np.pi*pdf['Phi']\n",
    "    pdf['Theta'].where(pdf['Theta']< 0.5*np.pi, np.pi-pdf['Theta'], inplace=True)\n",
    "    \n",
    "    pdf['E_p(f)'] = np.sin(pdf['Theta'])**2\n",
    "    return pdf"
   ]
  },
  {
   "cell_type": "code",
   "execution_count": 9,
   "id": "f5c32cea",
   "metadata": {},
   "outputs": [
    {
     "ename": "TypeError",
     "evalue": "cannot unpack non-iterable ParamGate object",
     "output_type": "error",
     "traceback": [
      "\u001b[0;31m---------------------------------------------------------------------------\u001b[0m",
      "\u001b[0;31mTypeError\u001b[0m                                 Traceback (most recent call last)",
      "\u001b[0;32m/scratch/7985304/ipykernel_128532/442013643.py\u001b[0m in \u001b[0;36m<module>\u001b[0;34m\u001b[0m\n\u001b[1;32m      1\u001b[0m \u001b[0mn_qbits\u001b[0m \u001b[0;34m=\u001b[0m \u001b[0;36m6\u001b[0m\u001b[0;34m\u001b[0m\u001b[0;34m\u001b[0m\u001b[0m\n\u001b[1;32m      2\u001b[0m \u001b[0mn_cbits\u001b[0m \u001b[0;34m=\u001b[0m \u001b[0;36m6\u001b[0m\u001b[0;34m\u001b[0m\u001b[0;34m\u001b[0m\u001b[0m\n\u001b[0;32m----> 3\u001b[0;31m \u001b[0mq_prog\u001b[0m\u001b[0;34m,\u001b[0m \u001b[0mq_gate\u001b[0m \u001b[0;34m=\u001b[0m \u001b[0mLaunch\u001b[0m\u001b[0;34m(\u001b[0m\u001b[0mn_qbits\u001b[0m\u001b[0;34m)\u001b[0m\u001b[0;34m\u001b[0m\u001b[0;34m\u001b[0m\u001b[0m\n\u001b[0m",
      "\u001b[0;32m/scratch/7985304/ipykernel_128532/151232842.py\u001b[0m in \u001b[0;36mLaunch\u001b[0;34m(n_qbits)\u001b[0m\n\u001b[1;32m      8\u001b[0m     \u001b[0mf_X\u001b[0m \u001b[0;34m=\u001b[0m \u001b[0mf\u001b[0m\u001b[0;34m(\u001b[0m\u001b[0mX\u001b[0m\u001b[0;34m)\u001b[0m\u001b[0;34m\u001b[0m\u001b[0;34m\u001b[0m\u001b[0m\n\u001b[1;32m      9\u001b[0m     \u001b[0;31m#Create Qunatum Program and Quantum Gates\u001b[0m\u001b[0;34m\u001b[0m\u001b[0;34m\u001b[0m\u001b[0m\n\u001b[0;32m---> 10\u001b[0;31m     \u001b[0mQprog\u001b[0m\u001b[0;34m,\u001b[0m \u001b[0mP_Gate\u001b[0m\u001b[0;34m,\u001b[0m \u001b[0mR_gate\u001b[0m \u001b[0;34m=\u001b[0m \u001b[0mexpectation_loading_data\u001b[0m\u001b[0;34m(\u001b[0m\u001b[0mp_X\u001b[0m\u001b[0;34m,\u001b[0m \u001b[0mf_X\u001b[0m\u001b[0;34m)\u001b[0m\u001b[0;34m\u001b[0m\u001b[0;34m\u001b[0m\u001b[0m\n\u001b[0m\u001b[1;32m     11\u001b[0m     \u001b[0mQ_Gate\u001b[0m \u001b[0;34m=\u001b[0m \u001b[0mload_q_gate\u001b[0m\u001b[0;34m(\u001b[0m\u001b[0mP_Gate\u001b[0m\u001b[0;34m,\u001b[0m \u001b[0mR_gate\u001b[0m\u001b[0;34m)\u001b[0m\u001b[0;34m\u001b[0m\u001b[0;34m\u001b[0m\u001b[0m\n\u001b[1;32m     12\u001b[0m     \u001b[0;32mreturn\u001b[0m \u001b[0mQprog\u001b[0m\u001b[0;34m,\u001b[0m \u001b[0mQ_Gate\u001b[0m\u001b[0;34m\u001b[0m\u001b[0;34m\u001b[0m\u001b[0m\n",
      "\u001b[0;31mTypeError\u001b[0m: cannot unpack non-iterable ParamGate object"
     ]
    }
   ],
   "source": [
    "n_qbits = 6\n",
    "n_cbits = 6\n",
    "q_prog, q_gate = Launch(n_qbits)"
   ]
  },
  {
   "cell_type": "code",
   "execution_count": null,
   "id": "3f2ea809",
   "metadata": {},
   "outputs": [],
   "source": [
    "c = q_prog.to_circ()\n",
    "%qatdisplay c\n",
    "%qatdisplay q_gate"
   ]
  },
  {
   "cell_type": "code",
   "execution_count": null,
   "id": "45454a63",
   "metadata": {},
   "outputs": [],
   "source": [
    "circuit = q_prog.to_circ(submatrices_only=True)"
   ]
  },
  {
   "cell_type": "code",
   "execution_count": null,
   "id": "d33cb65c",
   "metadata": {},
   "outputs": [],
   "source": [
    "job = circuit.to_job()"
   ]
  },
  {
   "cell_type": "code",
   "execution_count": null,
   "id": "5bd0bdd2",
   "metadata": {},
   "outputs": [],
   "source": [
    "result = run_job(lineal_qpu.submit(job))"
   ]
  },
  {
   "cell_type": "code",
   "execution_count": null,
   "id": "90195117",
   "metadata": {},
   "outputs": [],
   "source": [
    "initial_state = postprocess_results(result)"
   ]
  },
  {
   "cell_type": "code",
   "execution_count": null,
   "id": "3e6c892f",
   "metadata": {},
   "outputs": [],
   "source": [
    "initial_state"
   ]
  },
  {
   "cell_type": "code",
   "execution_count": null,
   "id": "e2368fea",
   "metadata": {},
   "outputs": [],
   "source": [
    "from NoMPI_IQAE import step_iqae_easy"
   ]
  },
  {
   "cell_type": "code",
   "execution_count": null,
   "id": "e3bba625",
   "metadata": {},
   "outputs": [],
   "source": [
    "class_bits = [0 for i in range(n_cbits)]\n",
    "l=0\n",
    "step_job, step_circuit = step_iqae_easy(q_prog, q_gate, class_bits, l)"
   ]
  },
  {
   "cell_type": "code",
   "execution_count": null,
   "id": "1d75ef89",
   "metadata": {},
   "outputs": [],
   "source": [
    "%qatdisplay step_circuit"
   ]
  },
  {
   "cell_type": "code",
   "execution_count": null,
   "id": "0dcf3102",
   "metadata": {},
   "outputs": [],
   "source": [
    "job = step_circuit.to_job()"
   ]
  },
  {
   "cell_type": "code",
   "execution_count": null,
   "id": "741298da",
   "metadata": {},
   "outputs": [],
   "source": [
    "result = run_job(lineal_qpu.submit(job))"
   ]
  },
  {
   "cell_type": "code",
   "execution_count": null,
   "id": "472577c2",
   "metadata": {},
   "outputs": [],
   "source": [
    "first_state = postprocess_results(result)"
   ]
  },
  {
   "cell_type": "code",
   "execution_count": null,
   "id": "f4397cee",
   "metadata": {},
   "outputs": [],
   "source": [
    "first_state"
   ]
  },
  {
   "cell_type": "code",
   "execution_count": null,
   "id": "90e6f541",
   "metadata": {},
   "outputs": [],
   "source": [
    "result[0]"
   ]
  },
  {
   "cell_type": "code",
   "execution_count": null,
   "id": "f4e2ae5c",
   "metadata": {},
   "outputs": [],
   "source": []
  },
  {
   "cell_type": "code",
   "execution_count": null,
   "id": "1096b263",
   "metadata": {},
   "outputs": [],
   "source": [
    "step_job, step_circuit = step_iqae_easy(q_prog, q_gate, class_bits, l=0)\n",
    "result = run_job(lineal_qpu.submit(step_job))"
   ]
  },
  {
   "cell_type": "code",
   "execution_count": null,
   "id": "77166bdf",
   "metadata": {},
   "outputs": [],
   "source": [
    "class_bits[0] = result[0].state.int"
   ]
  },
  {
   "cell_type": "code",
   "execution_count": null,
   "id": "4c5af1ef",
   "metadata": {},
   "outputs": [],
   "source": [
    "step_job, step_circuit = step_iqae_easy(q_prog, q_gate, class_bits, l=1)\n",
    "result = run_job(lineal_qpu.submit(step_job))"
   ]
  },
  {
   "cell_type": "code",
   "execution_count": null,
   "id": "c7e18d7a",
   "metadata": {},
   "outputs": [],
   "source": []
  },
  {
   "cell_type": "code",
   "execution_count": null,
   "id": "c9f6bfe5",
   "metadata": {},
   "outputs": [],
   "source": [
    "%qatdisplay step_circuit"
   ]
  },
  {
   "cell_type": "code",
   "execution_count": null,
   "id": "448207e5",
   "metadata": {},
   "outputs": [],
   "source": [
    "class_bits = [0 for i in range(n_cbits)]\n",
    "#c_bits = q_prog.calloc(n_cbits)\n",
    "list_of_circuits = []\n",
    "for l in range(n_cbits):\n",
    "    step_job, step_circuit = step_iqae_easy(q_prog, q_gate, class_bits, l)\n",
    "    list_of_circuits.append(step_circuit)\n",
    "    result = run_job(lineal_qpu.submit(step_job))\n",
    "    meas_cb = result[0].state.int\n",
    "    class_bits[l] = meas_cb"
   ]
  },
  {
   "cell_type": "code",
   "execution_count": null,
   "id": "8de9b0cd",
   "metadata": {},
   "outputs": [],
   "source": [
    "%qatdisplay circuit"
   ]
  },
  {
   "cell_type": "code",
   "execution_count": null,
   "id": "19db7f27",
   "metadata": {},
   "outputs": [],
   "source": [
    "from NoMPI_IQAE import Do"
   ]
  },
  {
   "cell_type": "markdown",
   "id": "fd1f9c7f",
   "metadata": {},
   "source": [
    "## 1. Una Iteración"
   ]
  },
  {
   "cell_type": "code",
   "execution_count": null,
   "id": "5ee284bc",
   "metadata": {},
   "outputs": [],
   "source": [
    "n_qbits = 6\n",
    "n_cbits = 6\n",
    "Qprog, Q_Gate = Launch(n_qbits)\n",
    "pdf, _, ListOfCircuits = Do(Qprog, Q_Gate, n_cbits)\n",
    "pdf = get_staff(pdf)"
   ]
  },
  {
   "cell_type": "code",
   "execution_count": null,
   "id": "4093fd90",
   "metadata": {},
   "outputs": [],
   "source": [
    "pdf"
   ]
  },
  {
   "cell_type": "code",
   "execution_count": null,
   "id": "502f5689",
   "metadata": {},
   "outputs": [],
   "source": [
    "c = ListOfCircuits[0]\n",
    "%qatdisplay c"
   ]
  },
  {
   "cell_type": "markdown",
   "id": "9ef4d819",
   "metadata": {},
   "source": [
    "## 2. Varias  Iteraciones"
   ]
  },
  {
   "cell_type": "code",
   "execution_count": null,
   "id": "973b900d",
   "metadata": {
    "scrolled": true
   },
   "outputs": [],
   "source": [
    "n_qbits = 6\n",
    "n_cbits = 6\n",
    "\n",
    "\n",
    "list_of_pdfs = []\n",
    "lc = []\n",
    "for i in range(50):\n",
    "    print(i)\n",
    "    Qprog, Q_Gate = Launch(n_qbits)\n",
    "    pdf, _, sc = Do(Qprog, Q_Gate, n_cbits)\n",
    "    list_of_pdfs.append(get_staff(pdf))\n",
    "    lc.append(sc)\n",
    "pdf = pd.concat(list_of_pdfs)\n",
    "pdf.reset_index(drop=True, inplace=True)"
   ]
  },
  {
   "cell_type": "code",
   "execution_count": null,
   "id": "21b59de9",
   "metadata": {},
   "outputs": [],
   "source": [
    "c = lc[-1][5]\n",
    "%qatdisplay c"
   ]
  },
  {
   "cell_type": "code",
   "execution_count": null,
   "id": "d71608ef",
   "metadata": {},
   "outputs": [],
   "source": [
    "plt.hist(pdf['E_p(f)'], bins = 50)"
   ]
  },
  {
   "cell_type": "code",
   "execution_count": null,
   "id": "f4565f3f",
   "metadata": {},
   "outputs": [],
   "source": [
    "plt.hist(pdf['Theta'], bins = 50)"
   ]
  },
  {
   "cell_type": "code",
   "execution_count": null,
   "id": "16fa18e9",
   "metadata": {},
   "outputs": [],
   "source": []
  },
  {
   "cell_type": "markdown",
   "id": "6ee3bda6",
   "metadata": {},
   "source": [
    "## Qiskit"
   ]
  },
  {
   "cell_type": "code",
   "execution_count": null,
   "id": "25f7422c",
   "metadata": {},
   "outputs": [],
   "source": [
    "from qat.lang.AQASM import Program, H, X, PH\n",
    "nq = 2\n",
    "nc = 6\n",
    "q_prog = Program()\n",
    "q_bits = q_prog.qalloc(nq)\n",
    "for i in range(nq):\n",
    "    q_prog.apply(X, q_bits[i])\n",
    "q_gate = PH(np.pi/4.0).ctrl()"
   ]
  },
  {
   "cell_type": "code",
   "execution_count": null,
   "id": "65324784",
   "metadata": {},
   "outputs": [],
   "source": [
    "c = q_prog.to_circ()\n",
    "%qatdisplay c"
   ]
  },
  {
   "cell_type": "code",
   "execution_count": null,
   "id": "5bb5ab14",
   "metadata": {
    "scrolled": true
   },
   "outputs": [],
   "source": [
    "pdf, _, ListOfCircuits = Do(q_prog, q_gate, nc)"
   ]
  },
  {
   "cell_type": "code",
   "execution_count": null,
   "id": "5be360b7",
   "metadata": {},
   "outputs": [],
   "source": [
    "pdf"
   ]
  },
  {
   "cell_type": "code",
   "execution_count": null,
   "id": "7b2e2994",
   "metadata": {},
   "outputs": [],
   "source": [
    "c = ListOfCircuits[0]\n",
    "%qatdisplay c"
   ]
  },
  {
   "cell_type": "code",
   "execution_count": null,
   "id": "6fb95408",
   "metadata": {},
   "outputs": [],
   "source": [
    "list_of_pdfs = []\n",
    "for i in range(50):\n",
    "    print(i)\n",
    "    pdf, _, ListOfCircuits = Do(q_prog, q_gate, nc)\n",
    "    list_of_pdfs.append(pdf)\n",
    "pdf = pd.concat(list_of_pdfs)\n",
    "pdf.reset_index(drop=True, inplace=True)       "
   ]
  },
  {
   "cell_type": "code",
   "execution_count": null,
   "id": "2c7630b9",
   "metadata": {},
   "outputs": [],
   "source": [
    "ci = ListOfCircuits[0]\n",
    "\n",
    "%qatdisplay ci"
   ]
  },
  {
   "cell_type": "code",
   "execution_count": null,
   "id": "781f83a7",
   "metadata": {},
   "outputs": [],
   "source": [
    "pdf['Phi'].describe()"
   ]
  },
  {
   "cell_type": "code",
   "execution_count": null,
   "id": "b758dc91",
   "metadata": {},
   "outputs": [],
   "source": []
  }
 ],
 "metadata": {
  "kernelspec": {
   "display_name": "Python 3 (ipykernel)",
   "language": "python",
   "name": "python3"
  },
  "language_info": {
   "codemirror_mode": {
    "name": "ipython",
    "version": 3
   },
   "file_extension": ".py",
   "mimetype": "text/x-python",
   "name": "python",
   "nbconvert_exporter": "python",
   "pygments_lexer": "ipython3",
   "version": "3.9.9"
  }
 },
 "nbformat": 4,
 "nbformat_minor": 5
}
