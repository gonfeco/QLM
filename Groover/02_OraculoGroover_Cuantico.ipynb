{
 "cells": [
  {
   "cell_type": "code",
   "execution_count": 1,
   "metadata": {},
   "outputs": [
    {
     "data": {
      "text/html": [
       "<style>.container { width:100% !important; }</style>"
      ],
      "text/plain": [
       "<IPython.core.display.HTML object>"
      ]
     },
     "metadata": {},
     "output_type": "display_data"
    }
   ],
   "source": [
    "from IPython.core.display import display, HTML\n",
    "display(HTML(\"<style>.container { width:100% !important; }</style>\"))"
   ]
  },
  {
   "cell_type": "code",
   "execution_count": 2,
   "metadata": {},
   "outputs": [],
   "source": [
    "import matplotlib.pyplot as plt\n",
    "import numpy as np"
   ]
  },
  {
   "cell_type": "code",
   "execution_count": 3,
   "metadata": {},
   "outputs": [],
   "source": [
    "from qat.core.console import display"
   ]
  },
  {
   "cell_type": "markdown",
   "metadata": {},
   "source": [
    "# 1. QLM"
   ]
  },
  {
   "cell_type": "code",
   "execution_count": 4,
   "metadata": {},
   "outputs": [],
   "source": [
    "from qat.lang.AQASM import Program"
   ]
  },
  {
   "cell_type": "markdown",
   "metadata": {},
   "source": [
    "### 1.1 Haddamard n tensorial"
   ]
  },
  {
   "cell_type": "markdown",
   "metadata": {},
   "source": [
    "Lo primero es crear una superposición de estados utilizando una puerta **Haddamard** en cada uno de los qbits de entrada. La vamos a implementar como una función que crea una rutina **QLM**. Esta función recibirá el número de qbits"
   ]
  },
  {
   "cell_type": "code",
   "execution_count": 5,
   "metadata": {},
   "outputs": [],
   "source": [
    "def TensorialHaddamard(n):\n",
    "    \"\"\"\n",
    "    Rutina que implementa una Puerta Hadamard n tensorial\n",
    "    \"\"\"\n",
    "    from qat.lang.AQASM import QRoutine, H\n",
    "    tensorialHadamard = QRoutine()\n",
    "    for i in range(n):\n",
    "        tensorialHadamard.apply(H,i)\n",
    "    return tensorialHadamard"
   ]
  },
  {
   "cell_type": "code",
   "execution_count": null,
   "metadata": {},
   "outputs": [],
   "source": [
    "#Inicializamos el program\n",
    "NumberOfQbits = 2\n",
    "#Definimos el circuito\n",
    "Circuit = Program()\n",
    "#Reservamos los qbits que queremos\n",
    "qbits = Circuit.qalloc(NumberOfQbits)\n",
    "#Aplicamos el Operado Hadamard n tensorial\n",
    "Circuit.apply(TensorialHaddamard(NumberOfQbits),qbits)\n",
    "Groover = Circuit.to_circ()\n",
    "%qatdisplay Groover"
   ]
  },
  {
   "cell_type": "code",
   "execution_count": null,
   "metadata": {},
   "outputs": [],
   "source": [
    "Job4Groover = Groover.to_job()"
   ]
  },
  {
   "cell_type": "markdown",
   "metadata": {},
   "source": [
    "Una puerta Haddamard n-tensorial sobre n estados $|0\\rangle$ genera una superposición de los vectores base en n dimensiones:\n",
    "\n",
    "$$H^{\\otimes n}|0\\rangle_{n} = \\frac{1}{2^{n/2}}\\sum_{x}|x\\rangle$$\n",
    "\n",
    "De tal modo que todos los vectores de la base son equiprobables"
   ]
  },
  {
   "cell_type": "code",
   "execution_count": null,
   "metadata": {},
   "outputs": [],
   "source": [
    "from qat.qpus import LinAlg\n",
    "linalgqpu = LinAlg()\n",
    "result = linalgqpu.submit(Job4Groover)\n",
    "for sample in result:\n",
    "    print(\"State %s amplitude %s\" % (sample.state, sample.amplitude))"
   ]
  },
  {
   "cell_type": "markdown",
   "metadata": {},
   "source": [
    "### 1.2 Oráculo"
   ]
  },
  {
   "cell_type": "markdown",
   "metadata": {},
   "source": [
    "En general para un oráculo cualquiera siempre se verifica que:\n",
    " \n",
    " $$O_{f(x)}|x \\rangle \\otimes |q_{t}\\rangle = |x\\rangle \\otimes |q_{t} \\oplus f(x)\\rangle$$ \n",
    " \n",
    " Para el caso de un oráculo de Groover es demostrable que para un estado $|x\\rangle$:\n",
    " \n",
    "  $$O_{f(x)}|x \\rangle \\otimes |-\\rangle = (-1)^{f(x)}|x\\rangle \\otimes |-\\rangle$$ \n",
    " \n",
    " Con $f(x)$ verificando que:\n",
    " \n",
    " $$f(x) = \\Big\\{\n",
    " \\begin{array}{ll}\n",
    "     1\n",
    "     & x = w \\\\\n",
    "     0 & x \\neq w \\\\\n",
    " \\end{array}\n",
    "$$\n",
    "\n",
    "Cabe destacar que el oráculo tambien se puede poner como:\n",
    "\n",
    "$$U_f = I -2|\\omega \\rangle \\langle \\omega|$$"
   ]
  },
  {
   "cell_type": "code",
   "execution_count": 6,
   "metadata": {},
   "outputs": [],
   "source": [
    "#Se implementa la Lotería que devuelve el número en decimal y binario\n",
    "\n",
    "def ToBinnary(Number, NumberOfBits):\n",
    "    \"\"\"\n",
    "    Recibe un numero en decimal y lo convierte a bits\n",
    "    \"\"\"\n",
    "    if Number > 2**NumberOfBits-1:\n",
    "        print('No puedo')\n",
    "        return None\n",
    "    stringFormat = '0{}b'.format(NumberOfBits)\n",
    "    bNumber = format(Number, stringFormat)\n",
    "    return bNumber\n",
    "\n",
    "\n",
    "def Loteria(n):\n",
    "    #Max number of elememnts I can generate\n",
    "    N_max = 2**n\n",
    "    print('N_max: {}'.format(N_max))\n",
    "    #Generate winner number\n",
    "    Winner = np.random.randint(N_max)\n",
    "    print('Winner: {}'.format(Winner))\n",
    "    return Winner#, ToBinnary(Winner, n)"
   ]
  },
  {
   "cell_type": "code",
   "execution_count": 7,
   "metadata": {},
   "outputs": [
    {
     "name": "stdout",
     "output_type": "stream",
     "text": [
      "N_max: 16\n",
      "Winner: 5\n"
     ]
    }
   ],
   "source": [
    "NumberOfBits = 4\n",
    "\n",
    "Winner = Loteria(NumberOfBits)"
   ]
  },
  {
   "cell_type": "markdown",
   "metadata": {},
   "source": [
    "Voy a implementar el oráculo como una matriz identidad donde el número que se marque será un menos 1 en vez de un 1. Además lo voy a convertir en una puerta cuántica utilizando la clase **AbstractGate**"
   ]
  },
  {
   "cell_type": "code",
   "execution_count": 8,
   "metadata": {},
   "outputs": [],
   "source": [
    "#Creo Oraculo \n",
    "def Oracle_Generator(n, winner):\n",
    "    Identity = np.identity(2**n)\n",
    "    Identity[winner, winner] =-1\n",
    "    return Identity\n",
    "\n",
    "from qat.lang.AQASM import AbstractGate\n",
    "\n",
    "#Debemos darle la Arity sino no funciona \n",
    "#La arity debe ser el numero de wires que come la puerta lógica\n",
    "#En nuestro caso des el primer argumento\n",
    "\n",
    "Oracle = AbstractGate(\n",
    "    \"OracleGroover\", \n",
    "    [int, int], \n",
    "    matrix_generator=Oracle_Generator,\n",
    "    arity = lambda x,y: x\n",
    ")"
   ]
  },
  {
   "cell_type": "markdown",
   "metadata": {},
   "source": [
    "Esto funciona?? Básicamente lo que quiero es que si entra el vector $2^{n}$ que represente el número ganador el producto de la matriz que genera el oráculo por dicho vector me de menos 1 y 1 en cualquier otro caso"
   ]
  },
  {
   "cell_type": "code",
   "execution_count": 9,
   "metadata": {},
   "outputs": [],
   "source": [
    "#Martriz Oráculo\n",
    "OracleMatrix = Oracle_Generator(NumberOfBits, Winner)"
   ]
  },
  {
   "cell_type": "code",
   "execution_count": 10,
   "metadata": {},
   "outputs": [
    {
     "data": {
      "text/plain": [
       "array([[ 1.,  0.,  0.,  0.,  0.,  0.,  0.,  0.,  0.,  0.,  0.,  0.,  0.,\n",
       "         0.,  0.,  0.],\n",
       "       [ 0.,  1.,  0.,  0.,  0.,  0.,  0.,  0.,  0.,  0.,  0.,  0.,  0.,\n",
       "         0.,  0.,  0.],\n",
       "       [ 0.,  0.,  1.,  0.,  0.,  0.,  0.,  0.,  0.,  0.,  0.,  0.,  0.,\n",
       "         0.,  0.,  0.],\n",
       "       [ 0.,  0.,  0.,  1.,  0.,  0.,  0.,  0.,  0.,  0.,  0.,  0.,  0.,\n",
       "         0.,  0.,  0.],\n",
       "       [ 0.,  0.,  0.,  0.,  1.,  0.,  0.,  0.,  0.,  0.,  0.,  0.,  0.,\n",
       "         0.,  0.,  0.],\n",
       "       [ 0.,  0.,  0.,  0.,  0., -1.,  0.,  0.,  0.,  0.,  0.,  0.,  0.,\n",
       "         0.,  0.,  0.],\n",
       "       [ 0.,  0.,  0.,  0.,  0.,  0.,  1.,  0.,  0.,  0.,  0.,  0.,  0.,\n",
       "         0.,  0.,  0.],\n",
       "       [ 0.,  0.,  0.,  0.,  0.,  0.,  0.,  1.,  0.,  0.,  0.,  0.,  0.,\n",
       "         0.,  0.,  0.],\n",
       "       [ 0.,  0.,  0.,  0.,  0.,  0.,  0.,  0.,  1.,  0.,  0.,  0.,  0.,\n",
       "         0.,  0.,  0.],\n",
       "       [ 0.,  0.,  0.,  0.,  0.,  0.,  0.,  0.,  0.,  1.,  0.,  0.,  0.,\n",
       "         0.,  0.,  0.],\n",
       "       [ 0.,  0.,  0.,  0.,  0.,  0.,  0.,  0.,  0.,  0.,  1.,  0.,  0.,\n",
       "         0.,  0.,  0.],\n",
       "       [ 0.,  0.,  0.,  0.,  0.,  0.,  0.,  0.,  0.,  0.,  0.,  1.,  0.,\n",
       "         0.,  0.,  0.],\n",
       "       [ 0.,  0.,  0.,  0.,  0.,  0.,  0.,  0.,  0.,  0.,  0.,  0.,  1.,\n",
       "         0.,  0.,  0.],\n",
       "       [ 0.,  0.,  0.,  0.,  0.,  0.,  0.,  0.,  0.,  0.,  0.,  0.,  0.,\n",
       "         1.,  0.,  0.],\n",
       "       [ 0.,  0.,  0.,  0.,  0.,  0.,  0.,  0.,  0.,  0.,  0.,  0.,  0.,\n",
       "         0.,  1.,  0.],\n",
       "       [ 0.,  0.,  0.,  0.,  0.,  0.,  0.,  0.,  0.,  0.,  0.,  0.,  0.,\n",
       "         0.,  0.,  1.]])"
      ]
     },
     "execution_count": 10,
     "metadata": {},
     "output_type": "execute_result"
    }
   ],
   "source": [
    "OracleMatrix"
   ]
  },
  {
   "cell_type": "code",
   "execution_count": 11,
   "metadata": {
    "scrolled": true
   },
   "outputs": [
    {
     "name": "stdout",
     "output_type": "stream",
     "text": [
      "5 [[0. 0. 0. 0. 0. 1. 0. 0. 0. 0. 0. 0. 0. 0. 0. 0.]] -1.0\n",
      "Winner: 5\n"
     ]
    }
   ],
   "source": [
    "#Esta celda comprueba que lo implemnenté bien!!!\n",
    "numeroVector = 1\n",
    "for i in range(2**NumberOfBits):\n",
    "    BasisVector = np.eye(1, 2**NumberOfBits, i)\n",
    "    \n",
    "    Producto = np.dot(OracleMatrix,BasisVector.T)\n",
    "    \n",
    "    if np.sum(Producto) == -1:\n",
    "        print(i, BasisVector, np.sum(Producto))\n",
    "        print('Winner: {}'.format(Winner))\n",
    "        "
   ]
  },
  {
   "cell_type": "markdown",
   "metadata": {},
   "source": [
    "Montamos un circuito con el oráculo"
   ]
  },
  {
   "cell_type": "code",
   "execution_count": 12,
   "metadata": {},
   "outputs": [
    {
     "name": "stdout",
     "output_type": "stream",
     "text": [
      "N_max: 64\n",
      "Winner: 55\n",
      "110111\n"
     ]
    },
    {
     "data": {
      "image/png": "[encoded data removed]",
      "text/plain": [
       "<IPython.core.display.Image object>"
      ]
     },
     "execution_count": 12,
     "metadata": {},
     "output_type": "execute_result"
    },
    {
     "name": "stdout",
     "output_type": "stream",
     "text": [
      "State |110111> amplitude (-0.12499999999999994+0j)\n",
      "Numero con Amplitud Negativa: 55\n"
     ]
    }
   ],
   "source": [
    "#Inicializamos el program\n",
    "NumberOfQbits = 6\n",
    "#Montamos la Loteria\n",
    "Winner = Loteria(NumberOfQbits)\n",
    "print(ToBinnary(Winner, NumberOfQbits))\n",
    "#Definimos el circuito\n",
    "Circuit = Program()\n",
    "#Reservamos los qbits que queremos\n",
    "qbits = Circuit.qalloc(NumberOfQbits)\n",
    "#Aplicamos el Operado Hadamard n tensorial\n",
    "Circuit.apply(TensorialHaddamard(NumberOfQbits),qbits)\n",
    "Circuit.apply(Oracle(NumberOfQbits, Winner),qbits)\n",
    "\n",
    "Groover = Circuit.to_circ()\n",
    "%qatdisplay Groover\n",
    "\n",
    "#Fijate que el elejido tiene la amplitud cambiada de signo!!\n",
    "from qat.qpus import LinAlg\n",
    "linalgqpu = LinAlg()\n",
    "Job4Groover = Groover.to_job()\n",
    "result = linalgqpu.submit(Job4Groover)\n",
    "#Me saca Amplitudes Negativas\n",
    "for sample in result:\n",
    "    if sample.amplitude.real < 0:\n",
    "        print(\"State %s amplitude %s\" % (sample.state, sample.amplitude))\n",
    "        Ganador=str(sample.state).replace('|','').replace('>', '')\n",
    "        print('Numero con Amplitud Negativa: {}'.format(int(Ganador,2)))"
   ]
  },
  {
   "cell_type": "markdown",
   "metadata": {},
   "source": [
    "### 1.3 Operador Difusión\n",
    "        "
   ]
  },
  {
   "cell_type": "markdown",
   "metadata": {},
   "source": [
    "Me toca ahora montar el Operador difusión. Es te operador tiene la forma:\n",
    "\n",
    "$$D_f = H^{\\otimes n}U_{f0}H^{\\otimes n}$$ \n",
    "\n",
    "Donde:\n",
    "\n",
    "$$U_{f0} = 2|0\\rangle \\langle 0| -I$$\n",
    "\n",
    "Si nos acordamos el oráculo se ponía como:\n",
    "\n",
    "$$U_f = I -2|\\omega \\rangle \\langle \\omega|$$\n",
    "\n",
    "Para montar $U_{f0}$ puedo utilizar todo lo que tengo del oráculo!!!"
   ]
  },
  {
   "cell_type": "code",
   "execution_count": 27,
   "metadata": {},
   "outputs": [],
   "source": [
    "def D0_Generator(n):\n",
    "    Identity = -np.identity(2**n)\n",
    "    Identity[0, 0] =1\n",
    "    return Identity\n",
    "\n",
    "D0 = AbstractGate(\n",
    "    \"Uf0\", \n",
    "    [int], \n",
    "    matrix_generator=D0_Generator,\n",
    "    arity = lambda x: x\n",
    ")\n",
    "\n",
    "\n",
    "def Difusor(n):\n",
    "    \"\"\"\n",
    "    Rutina que implementa el Difusor en n dimensiones\n",
    "    \"\"\"        \n",
    "    from qat.lang.AQASM import QRoutine\n",
    "    Difusor = QRoutine()\n",
    "    wires = Difusor.new_wires(n)\n",
    "    #Aplicamos n Hadamard\n",
    "    Difusor.apply(TensorialHaddamard(n),wires)\n",
    "    Difusor.apply(D0(n),wires)\n",
    "    Difusor.apply(TensorialHaddamard(n),wires)\n",
    "    return Difusor\n"
   ]
  },
  {
   "cell_type": "code",
   "execution_count": 31,
   "metadata": {},
   "outputs": [
    {
     "data": {
      "image/png": "[encoded data removed]",
      "text/plain": [
       "<IPython.core.display.Image object>"
      ]
     },
     "execution_count": 31,
     "metadata": {},
     "output_type": "execute_result"
    }
   ],
   "source": [
    "#Testeo Difusor\n",
    "#Inicializamos el program\n",
    "NumberOfQbits = 2\n",
    "#Definimos el circuito\n",
    "Circuit = Program()\n",
    "#Reservamos los qbits que queremos\n",
    "qbits = Circuit.qalloc(NumberOfQbits)\n",
    "#Generamos mezcla equiprobable de estados\n",
    "Circuit.apply(TensorialHaddamard(NumberOfQbits),qbits)\n",
    "#Aplicamos el Operado Hadamard n tensorial\n",
    "Circuit.apply(Difusor(NumberOfQbits),qbits)\n",
    "Groover = Circuit.to_circ()\n",
    "%qatdisplay Groover"
   ]
  },
  {
   "cell_type": "code",
   "execution_count": 34,
   "metadata": {},
   "outputs": [],
   "source": [
    "#Monto el algoritmo Grover un oráculo seguido de un Difusor\n",
    "def Grover(n, Winner):\n",
    "    from qat.lang.AQASM import QRoutine\n",
    "    Grover = QRoutine()\n",
    "    wires = Grover.new_wires(n)\n",
    "    Grover.apply(Oracle(n, Winner),qbits)\n",
    "    Grover.apply(Difusor(n),qbits)\n",
    "    return Grover"
   ]
  },
  {
   "cell_type": "code",
   "execution_count": 73,
   "metadata": {
    "scrolled": true
   },
   "outputs": [
    {
     "name": "stdout",
     "output_type": "stream",
     "text": [
      "N_max: 64\n",
      "Winner: 61\n",
      "111101\n"
     ]
    },
    {
     "data": {
      "image/png": "[encoded data removed]",
      "text/plain": [
       "<IPython.core.display.Image object>"
      ]
     },
     "execution_count": 73,
     "metadata": {},
     "output_type": "execute_result"
    },
    {
     "name": "stdout",
     "output_type": "stream",
     "text": [
      "Estado con la mayor Probabilidad: 111101 -> 61\n"
     ]
    }
   ],
   "source": [
    "#Inicializamos el program\n",
    "NumberOfQbits = 6\n",
    "#Montamos la Loteria\n",
    "Winner = Loteria(NumberOfQbits)\n",
    "print(ToBinnary(Winner, NumberOfQbits))\n",
    "#Definimos el circuito\n",
    "Circuit = Program()\n",
    "#Reservamos los qbits que queremos\n",
    "qbits = Circuit.qalloc(NumberOfQbits)\n",
    "#Aplicamos el Operado Hadamard n tensorial\n",
    "Circuit.apply(TensorialHaddamard(NumberOfQbits),qbits)\n",
    "Circuit.apply(Grover(NumberOfQbits, Winner),qbits)\n",
    "\n",
    "Groover = Circuit.to_circ()\n",
    "%qatdisplay Groover\n",
    "\n",
    "#Fijate que el elejido tiene la amplitud cambiada de signo!!\n",
    "from qat.qpus import LinAlg\n",
    "linalgqpu = LinAlg()\n",
    "Job4Groover = Groover.to_job()\n",
    "result = linalgqpu.submit(Job4Groover)\n",
    "#Me saca Amplitudes Negativas\n",
    "States = []\n",
    "Probabilities =[]\n",
    "\n",
    "#Para ver como funciona calculamos todos los estados posibles\n",
    "#Y sus probabilidades asociadas\n",
    "\n",
    "for sample in result:\n",
    "    States.append(sample.state)\n",
    "    #Probabilidad del estado\n",
    "    Probabilities.append(np.absolute(sample.amplitude)**2)\n",
    "\n",
    "#Buscamos el Estado con la mayor probabilidad\n",
    "idMax = Probabilities.index(max(Probabilities))\n",
    "States[idMax]\n",
    "Ganador=str(States[idMax]).replace('|','').replace('>', '')\n",
    "print('Estado con la mayor Probabilidad: {} -> {}'.format(Ganador, int(Ganador,2)))    "
   ]
  },
  {
   "cell_type": "markdown",
   "metadata": {},
   "source": [
    "Así pues una aplicación del algoritmo de Grover hace que el estado ganador adquiera una probabilidad mayor que la de los demás estados."
   ]
  },
  {
   "cell_type": "code",
   "execution_count": 100,
   "metadata": {
    "scrolled": true
   },
   "outputs": [
    {
     "name": "stdout",
     "output_type": "stream",
     "text": [
      "N_max: 16\n",
      "Winner: 9\n",
      "1001\n"
     ]
    },
    {
     "data": {
      "image/png": "[encoded data removed]",
      "text/plain": [
       "<IPython.core.display.Image object>"
      ]
     },
     "execution_count": 100,
     "metadata": {},
     "output_type": "execute_result"
    },
    {
     "name": "stdout",
     "output_type": "stream",
     "text": [
      "Estado con la mayor Probabilidad: 1001 -> 9\n"
     ]
    }
   ],
   "source": [
    "#numero de veces que aplicamos Groover\n",
    "r=4\n",
    "#Inicializamos el program\n",
    "NumberOfQbits = 4\n",
    "#Montamos la Loteria\n",
    "Winner = Loteria(NumberOfQbits)\n",
    "print(ToBinnary(Winner, NumberOfQbits))\n",
    "\n",
    "#Definimos el circuito\n",
    "Circuit = Program()\n",
    "#Reservamos los qbits que queremos\n",
    "qbits = Circuit.qalloc(NumberOfQbits)\n",
    "#Aplicamos el Operado Hadamard n tensorial\n",
    "Circuit.apply(TensorialHaddamard(NumberOfQbits),qbits)\n",
    "\n",
    "for i in range(r):\n",
    "    Circuit.apply(Grover(NumberOfQbits, Winner),qbits)\n",
    "\n",
    "Groover = Circuit.to_circ()\n",
    "%qatdisplay Groover\n",
    "\n",
    "#Fijate que el elejido tiene la amplitud cambiada de signo!!\n",
    "from qat.qpus import LinAlg\n",
    "linalgqpu = LinAlg()\n",
    "Job4Groover = Groover.to_job()\n",
    "result = linalgqpu.submit(Job4Groover)\n",
    "#Me saca Amplitudes Negativas\n",
    "States = []\n",
    "Probabilities =[]\n",
    "#Para ver como funciona calculamos todos los estados posibles\n",
    "#Y sus probabilidades asociadas\n",
    "\n",
    "for sample in result:\n",
    "    States.append(str(sample.state))\n",
    "    #Probabilidad del estado\n",
    "    Probabilities.append(np.absolute(sample.amplitude)**2)\n",
    "\n",
    "#Buscamos el Estado con la mayor probabilidad\n",
    "idMax = Probabilities.index(max(Probabilities))\n",
    "States[idMax]\n",
    "Ganador=str(States[idMax]).replace('|','').replace('>', '')\n",
    "print('Estado con la mayor Probabilidad: {} -> {}'.format(Ganador, int(Ganador,2)))   "
   ]
  },
  {
   "cell_type": "code",
   "execution_count": 101,
   "metadata": {},
   "outputs": [],
   "source": [
    "import matplotlib.pyplot as plt"
   ]
  },
  {
   "cell_type": "code",
   "execution_count": 102,
   "metadata": {},
   "outputs": [
    {
     "data": {
      "text/plain": [
       "'|0000>'"
      ]
     },
     "execution_count": 102,
     "metadata": {},
     "output_type": "execute_result"
    }
   ],
   "source": [
    "str(States[0])"
   ]
  },
  {
   "cell_type": "code",
   "execution_count": 103,
   "metadata": {},
   "outputs": [
    {
     "data": {
      "text/plain": [
       "([<matplotlib.axis.XTick at 0x14c176382fd0>,\n",
       "  <matplotlib.axis.XTick at 0x14c176382d30>,\n",
       "  <matplotlib.axis.XTick at 0x14c16fee6520>,\n",
       "  <matplotlib.axis.XTick at 0x14c176369940>,\n",
       "  <matplotlib.axis.XTick at 0x14c17635cd60>,\n",
       "  <matplotlib.axis.XTick at 0x14c17635c1c0>,\n",
       "  <matplotlib.axis.XTick at 0x14c17639e2e0>,\n",
       "  <matplotlib.axis.XTick at 0x14c17639e4c0>,\n",
       "  <matplotlib.axis.XTick at 0x14c17635cfd0>,\n",
       "  <matplotlib.axis.XTick at 0x14c17635fdf0>,\n",
       "  <matplotlib.axis.XTick at 0x14c17635f550>,\n",
       "  <matplotlib.axis.XTick at 0x14c1763c9670>,\n",
       "  <matplotlib.axis.XTick at 0x14c1763c9190>,\n",
       "  <matplotlib.axis.XTick at 0x14c1763992b0>,\n",
       "  <matplotlib.axis.XTick at 0x14c1763c9e50>,\n",
       "  <matplotlib.axis.XTick at 0x14c17635ff10>],\n",
       " [Text(0, 0, '|0000>'),\n",
       "  Text(1, 0, '|0001>'),\n",
       "  Text(2, 0, '|0010>'),\n",
       "  Text(3, 0, '|0011>'),\n",
       "  Text(4, 0, '|0100>'),\n",
       "  Text(5, 0, '|0101>'),\n",
       "  Text(6, 0, '|0110>'),\n",
       "  Text(7, 0, '|0111>'),\n",
       "  Text(8, 0, '|1000>'),\n",
       "  Text(9, 0, '|1001>'),\n",
       "  Text(10, 0, '|1010>'),\n",
       "  Text(11, 0, '|1011>'),\n",
       "  Text(12, 0, '|1100>'),\n",
       "  Text(13, 0, '|1101>'),\n",
       "  Text(14, 0, '|1110>'),\n",
       "  Text(15, 0, '|1111>')])"
      ]
     },
     "execution_count": 103,
     "metadata": {},
     "output_type": "execute_result"
    },
    {
     "data": {
      "image/png": "[encoded data removed]",
      "text/plain": [
       "<Figure size 432x288 with 1 Axes>"
      ]
     },
     "metadata": {
      "needs_background": "light"
     },
     "output_type": "display_data"
    }
   ],
   "source": [
    "#Pintamos las Probabilidades por estado\n",
    "plt.scatter(x=range(len(States)), y=Probabilities)\n",
    "plt.xticks(range(len(States)), States, rotation='vertical')"
   ]
  },
  {
   "cell_type": "markdown",
   "metadata": {},
   "source": [
    "## 2. Algoritmo Grover Completo"
   ]
  },
  {
   "cell_type": "markdown",
   "metadata": {},
   "source": [
    "Ya tenemos todos los elementos necesarios para montar un algoritmo de Grover que sea cuasi infalible:\n",
    "\n",
    "* 1. La combinación de estados equiprobables: $|\\Psi\\rangle_{n} = \\frac{1}{2^{n/2}}\\sum_{x}|x\\rangle_{n}$\n",
    "* 2. El oráculo (reflexión en torno a un vector perpendicular al estado ganador): $U_f = I -2|\\omega \\rangle \\langle \\omega|$\n",
    "* 3. El operador difusor: $D_{f0} = H^{\\otimes n}U_{f0}H^{\\otimes n}= H^{\\otimes n}(2|0\\rangle \\langle 0| -I)H^{\\otimes n}$.\n",
    "\n",
    "El algoritmo de Grover sabemos que lo que hace es:\n",
    "\n",
    "$$ (D_{f0} U_f )^r |\\Psi\\rangle_{n} $$\n",
    "\n",
    "¿Cuántas veces tenemos que aplicar **r**?\n",
    "\n",
    "Sabemos que:\n",
    "$$ (D_{f0} U_f )^r |\\Psi\\rangle_{n} = cos(\\frac{2r+1}{2}\\theta) |\\omega_{T}\\rangle + sen(\\frac{2r+1}{2}\\theta) |\\omega\\rangle $$\n",
    "\n",
    "Donde:\n",
    "* $|\\omega\\rangle$ es el auto estado ganador\n",
    "* $|\\omega_{T}\\rangle$ es un vector perpendicular al estado ganador\n",
    "\n",
    "En este caso la combinación de estados equiprobables se puede poner como:\n",
    "\n",
    "$$|\\Psi\\rangle_{n} = cos(\\frac{\\theta}{2}) |\\omega_{T}\\rangle + sen(\\frac{\\theta}{2}) |\\omega\\rangle $$\n",
    "\n",
    "La forma de maximiza la probabilidad de obtener el estado $|\\omega\\rangle$  es simplemente aplicar el algoritmo de Grover **r** veces:\n",
    "\n",
    "$$r=\\frac{\\pi}{2\\theta} - \\frac{1}{2}$$\n",
    "\n",
    "donde \n",
    "\n",
    "$$sen(\\frac{\\theta}{2}) = \\sqrt{\\frac{1}{2^{n}}}$$\n",
    "\n",
    "\n",
    "\n"
   ]
  },
  {
   "cell_type": "code",
   "execution_count": 112,
   "metadata": {},
   "outputs": [
    {
     "name": "stdout",
     "output_type": "stream",
     "text": [
      "N_max: 64\n",
      "Winner: 49\n",
      "110001\n",
      "El ángulo que se rota en cada iteracion del algoritmo de Grover será: 0.2506556623361308\n",
      "El número de veces que se debe aplicar el algoritmo de Grover (r) para obtener una solución es:5\n"
     ]
    },
    {
     "data": {
      "image/png": "[encoded data removed]",
      "text/plain": [
       "<IPython.core.display.Image object>"
      ]
     },
     "execution_count": 112,
     "metadata": {},
     "output_type": "execute_result"
    }
   ],
   "source": [
    "\n",
    "#Inicializamos el program\n",
    "NumberOfQbits = 6\n",
    "#Montamos la Loteria\n",
    "Winner = Loteria(NumberOfQbits)\n",
    "print(ToBinnary(Winner, NumberOfQbits))\n",
    "#Aungulo que se rota en cada iteracion de Grover\n",
    "Theta = 2*np.arcsin(np.sqrt(1/(2**NumberOfQbits)))\n",
    "print('El ángulo que se rota en cada iteracion del algoritmo de Grover será: {}'.format(Theta))\n",
    "#Calculamos el numero de veces que tenemos que implementar Grover\n",
    "r = int(np.pi/(2*Theta)-0.5)\n",
    "print('El número de veces que se debe aplicar el algoritmo de Grover (r) para obtener una solución es:{}'.format(r))\n",
    "\n",
    "#Definimos el circuito\n",
    "Circuit = Program()\n",
    "#Reservamos los qbits que queremos\n",
    "qbits = Circuit.qalloc(NumberOfQbits)\n",
    "#Aplicamos el Operado Hadamard n tensorial\n",
    "Circuit.apply(TensorialHaddamard(NumberOfQbits),qbits)\n",
    "#Aplicamos el Algoritmo de Grover r veces\n",
    "for i in range(r):\n",
    "    Circuit.apply(Grover(NumberOfQbits, Winner),qbits)\n",
    "Groover = Circuit.to_circ()\n",
    "%qatdisplay Groover"
   ]
  },
  {
   "cell_type": "code",
   "execution_count": 117,
   "metadata": {},
   "outputs": [
    {
     "name": "stdout",
     "output_type": "stream",
     "text": [
      "Estado con la mayor Probabilidad: 110001 -> 49. Probabilidad: 0.9635154816192\n"
     ]
    }
   ],
   "source": [
    "from qat.qpus import LinAlg\n",
    "linalgqpu = LinAlg()\n",
    "Job4Groover = Groover.to_job()\n",
    "result = linalgqpu.submit(Job4Groover)\n",
    "#Me saca Amplitudes Negativas\n",
    "States = []\n",
    "Probabilities =[]\n",
    "#Para ver como funciona calculamos todos los estados posibles\n",
    "#Y sus probabilidades asociadas\n",
    "\n",
    "for sample in result:\n",
    "    States.append(str(sample.state))\n",
    "    #Probabilidad del estado\n",
    "    Probabilities.append(np.absolute(sample.amplitude)**2)\n",
    "\n",
    "#Buscamos el Estado con la mayor probabilidad\n",
    "idMax = Probabilities.index(max(Probabilities))\n",
    "Ganador=str(States[idMax]).replace('|','').replace('>', '')\n",
    "print('Estado con la mayor Probabilidad: {} -> {}. Probabilidad: {}'.format(\n",
    "    Ganador, int(Ganador,2), Probabilities[idMax]))   "
   ]
  },
  {
   "cell_type": "code",
   "execution_count": 114,
   "metadata": {},
   "outputs": [
    {
     "data": {
      "text/plain": [
       "0.0005791193393775897"
      ]
     },
     "execution_count": 114,
     "metadata": {},
     "output_type": "execute_result"
    }
   ],
   "source": [
    "Probabilities[0]"
   ]
  },
  {
   "cell_type": "code",
   "execution_count": 115,
   "metadata": {},
   "outputs": [
    {
     "data": {
      "text/plain": [
       "0.9635154816192"
      ]
     },
     "execution_count": 115,
     "metadata": {},
     "output_type": "execute_result"
    }
   ],
   "source": [
    "Probabilities[idMax]"
   ]
  }
 ],
 "metadata": {
  "kernelspec": {
   "display_name": "Python 3 (ipykernel)",
   "language": "python",
   "name": "python3"
  },
  "language_info": {
   "codemirror_mode": {
    "name": "ipython",
    "version": 3
   },
   "file_extension": ".py",
   "mimetype": "text/x-python",
   "name": "python",
   "nbconvert_exporter": "python",
   "pygments_lexer": "ipython3",
   "version": "3.9.2"
  }
 },
 "nbformat": 4,
 "nbformat_minor": 4
}
