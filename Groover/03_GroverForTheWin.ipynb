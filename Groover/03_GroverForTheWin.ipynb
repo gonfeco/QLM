{
 "cells": [
  {
   "cell_type": "code",
   "execution_count": null,
   "id": "3ce854f9",
   "metadata": {},
   "outputs": [],
   "source": [
    "from IPython.core.display import display, HTML\n",
    "display(HTML(\"<style>.container { width:100% !important; }</style>\"))"
   ]
  },
  {
   "cell_type": "code",
   "execution_count": null,
   "id": "c1ab7331",
   "metadata": {},
   "outputs": [],
   "source": [
    "import matplotlib.pyplot as plt\n",
    "import numpy as np\n",
    "from qat.lang.AQASM import AbstractGate, Program\n",
    "from qat.core.console import display"
   ]
  },
  {
   "cell_type": "code",
   "execution_count": null,
   "id": "910530ab",
   "metadata": {},
   "outputs": [],
   "source": [
    "def Loteria(n):\n",
    "    #Max number of elememnts I can generate\n",
    "    N_max = 2**n\n",
    "    print('N_max: {}'.format(N_max))\n",
    "    #Generate winner number\n",
    "    Winner = np.random.randint(N_max)\n",
    "    print('Winner: {}'.format(Winner))\n",
    "    return Winner#, ToBinnary(Winner, n)"
   ]
  },
  {
   "cell_type": "code",
   "execution_count": null,
   "id": "505a6b9b",
   "metadata": {},
   "outputs": [],
   "source": [
    "def TensorialHaddamard(n):\n",
    "    \"\"\"\n",
    "    Rutina que implementa una Puerta Hadamard n tensorial\n",
    "    \"\"\"\n",
    "    from qat.lang.AQASM import QRoutine, H\n",
    "    tensorialHadamard = QRoutine()\n",
    "    qbits=tensorialHadamard.new_wires(n)\n",
    "    for i in range(n):\n",
    "        tensorialHadamard.apply(H,qbits[i])\n",
    "    return tensorialHadamard\n",
    "#Creo una puerta utilizando el circuito\n",
    "TensorialHaddamard_Gate = AbstractGate(\n",
    "    \"HaddamardTensorial\", \n",
    "    [int], \n",
    "    circuit_generator=TensorialHaddamard,\n",
    "    arity = lambda x: x\n",
    ")\n",
    "\n",
    "def Reflection(n, state, Positive=True):\n",
    "    \"\"\"\n",
    "    Implementa una matriz de reflexion de dimensión n en torno a un estado dado.\n",
    "    Positive:\n",
    "        * True: I-2|w><w|\n",
    "        * False: 2|w><w|-I\n",
    "    \"\"\"\n",
    "    #Matriz Identidad\n",
    "    Identity = np.identity(2**n)\n",
    "    Identity[state, state] =-1\n",
    "    if Positive:\n",
    "        return Identity\n",
    "    else:\n",
    "        return -Identity\n",
    "#Creo una puerta utilizando el circuito    \n",
    "Reflexion_Gate = AbstractGate(\n",
    "    \"Reflexion\", \n",
    "    [int, int, bool], \n",
    "    matrix_generator=Reflection,\n",
    "    arity = lambda x, y, z: x\n",
    ")\n",
    "\n",
    "def Difusor(n):\n",
    "    \"\"\"\n",
    "    Rutina que implementa el Difusor en n dimensiones\n",
    "    \"\"\"        \n",
    "    from qat.lang.AQASM import QRoutine\n",
    "    Difusor_rout = QRoutine()\n",
    "    wires = Difusor_rout.new_wires(n)\n",
    "    #Aplicamos n Hadamard\n",
    "    Difusor_rout.apply(TensorialHaddamard_Gate(n),wires)\n",
    "    Difusor_rout.apply(Reflexion_Gate(n, 0, False),wires)\n",
    "    Difusor_rout.apply(TensorialHaddamard_Gate(n),wires)\n",
    "    return Difusor_rout\n",
    "#Creo una puerta utilizando el circuito\n",
    "Difusor_Gate = AbstractGate(\n",
    "    \"Difusor\", \n",
    "    [int], \n",
    "    circuit_generator=Difusor,\n",
    "    arity = lambda x: x\n",
    ")\n",
    "\n",
    "def Grover(n, state, r):\n",
    "    \"\"\"\n",
    "    Implementa r iteraciones Grover\n",
    "    n: number of qbits\n",
    "    state: number with the winner state\n",
    "    r: number of applications of Grover operator\n",
    "    \"\"\"\n",
    "    from qat.lang.AQASM import QRoutine\n",
    "    Grover_rout = QRoutine()\n",
    "    wires = Grover_rout.new_wires(n)\n",
    "    for i in range(r):\n",
    "        Grover_rout.apply(Reflexion_Gate(n, state, True),wires)\n",
    "        Grover_rout.apply(Difusor_Gate(n),wires)\n",
    "    return Grover_rout\n",
    "#Creo una puerta utilizando el circuito\n",
    "Grover_Gate = AbstractGate(\n",
    "    \"Grover\", \n",
    "    [int, int, int ], \n",
    "    circuit_generator=Grover,\n",
    "    arity = lambda x, y, z: x\n",
    ")\n",
    "\n",
    "\n",
    "def DoAGrover(n, Winner, r):\n",
    "    \"\"\"\n",
    "    Implementa un algoritmo Grover con r iteraciones\n",
    "    \"\"\"\n",
    "    if r >0:\n",
    "        #Definimos el circuito\n",
    "        Circuit = Program()\n",
    "        #Reservamos los qbits que queremos\n",
    "        qbits = Circuit.qalloc(n)\n",
    "        #Generamos una superposición equiprobable de estados\n",
    "        Circuit.apply(TensorialHaddamard_Gate(n),qbits)\n",
    "        Circuit.apply(Grover_Gate(n, Winner, r),qbits)\n",
    "        return Circuit\n",
    "    else:\n",
    "        raise ValueError('EL numero de iteraciones del algoritmo de Grover debe ser mayor que 0')"
   ]
  },
  {
   "cell_type": "code",
   "execution_count": null,
   "id": "caf33eaa",
   "metadata": {},
   "outputs": [],
   "source": [
    "def OptimalGrover(n):\n",
    "    \"\"\"\n",
    "    En base al numero de qbits calcula el angulo de rotación de una iteración Grover\n",
    "    y el numero optimo de iteraciones Grover para maximizar la probabilidad\n",
    "    \"\"\"\n",
    "    #Rotation angle for Glover Algorithm\n",
    "    Theta = 2*np.arcsin(np.sqrt(1/(2**n)))    \n",
    "    #Number of times for application of Grover Algorithm\n",
    "    r = (np.pi/(2*Theta))-0.5\n",
    "    return int(np.round(r))"
   ]
  },
  {
   "cell_type": "markdown",
   "id": "12665aa1",
   "metadata": {},
   "source": [
    "def Do(n, state, r):\n",
    "    Circuit = Program()\n",
    "    qbits = Circuit.qalloc(n)\n",
    "    Circuit.apply(TensorialHaddamard_Gate(n),qbits)\n",
    "    for i in range(r):\n",
    "        Circuit.apply(Reflexion_Gate(n, state, True),qbits)\n",
    "        Circuit.apply(Difusor_Gate(n),qbits)\n",
    "        \n",
    "    from qat.qpus import LinAlg\n",
    "    linalgqpu = LinAlg()\n",
    "    Job = Circuit.to_circ().to_job(nbshots=1)\n",
    "    result = linalgqpu.submit(Job)\n",
    "    Solucion=str(result[0].state)m\n",
    "    SolucionDecimal = int(Solucion.replace('|','').replace('>', ''),2)\n",
    "    #print('SolucionDecimal: {}'.format(SolucionDecimal))\n",
    "    if SolucionDecimal == state:\n",
    "        return True\n",
    "    else:\n",
    "        return False   "
   ]
  },
  {
   "cell_type": "code",
   "execution_count": null,
   "id": "fda37ccf",
   "metadata": {},
   "outputs": [],
   "source": [
    "def Probabilities4Groover(n, state, r):\n",
    "    \"\"\"\n",
    "    Calcula las probabilidades de r iteraciones  Groover\n",
    "    \"\"\"\n",
    "    Circuit = DoAGrover(n, state, r)\n",
    "    from qat.qpus import PyLinalg\n",
    "    linalgqpu = PyLinalg()\n",
    "    Job = Circuit.to_circ().to_job()\n",
    "    result = linalgqpu.submit(Job)\n",
    "    States = []\n",
    "    Probabilities =[]\n",
    "    DecimalNumbers = []\n",
    "    #Para ver como funciona calculamos todos los estados posibles\n",
    "    #Y sus probabilidades asociadas\n",
    "\n",
    "    for sample in result:\n",
    "        States.append(str(sample.state).replace('|','').replace('>', ''))\n",
    "        #Probabilidad del estado\n",
    "        Probabilities.append(np.absolute(sample.amplitude)**2)\n",
    "        DecimalNumbers.append(int(str(sample.state).replace('|','').replace('>', ''),2))\n",
    "    return Probabilities, States, DecimalNumbers\n",
    "    #Buscamos el Estado con la mayor probabilidad\n",
    "    #idMax = Probabilities.index(max(Probabilities))\n",
    "    #Ganador=str(States[idMax]).replace('|','').replace('>', '')\n",
    "    #print('Estado con la mayor Probabilidad: {} -> {}. Probabilidad: {}'.format(\n",
    "    #    Ganador, int(Ganador,2), Probabilities[idMax]))  \n",
    "    \n",
    "def GroverRoutine(n, state, r):\n",
    "    \"\"\"\n",
    "    Obtiene una medida de r iteraciones Groover \n",
    "    \"\"\"\n",
    "    Circuit = DoAGrover(n, state, r)\n",
    "    #Le pido una medida\n",
    "    from qat.qpus import LinAlg\n",
    "    linalgqpu = LinAlg()\n",
    "    Job4Groover = Circuit.to_circ().to_job(nbshots=1)\n",
    "    result = linalgqpu.submit(Job4Groover)\n",
    "    Solucion=str(result[0].state)\n",
    "    SolucionDecimal = int(Solucion.replace('|','').replace('>', ''),2)\n",
    "    #print('SolucionDecimal: {}'.format(SolucionDecimal))\n",
    "    if SolucionDecimal == state:\n",
    "        return True\n",
    "    else:\n",
    "        return False       "
   ]
  },
  {
   "cell_type": "markdown",
   "id": "9cbfb248",
   "metadata": {},
   "source": [
    "Vamos a comprobar que todo funciona bien. Para ello fijamos un número de Qbits y vamos a hacer un barrido en el número de iteraciones Grover y registramos la probabilidad de obtener el elemento ganador. Podemos generar un gráfico Probabilidad vs iteraciones y comprobamos que el máximo está donde tiene que estar (lo calculamos llamando a la función OptimalGrover)"
   ]
  },
  {
   "cell_type": "code",
   "execution_count": null,
   "id": "3d9ed06b",
   "metadata": {
    "scrolled": false
   },
   "outputs": [],
   "source": [
    "Winner = Loteria(10)"
   ]
  },
  {
   "cell_type": "code",
   "execution_count": null,
   "id": "1cf539f2",
   "metadata": {},
   "outputs": [],
   "source": [
    "OptimalIterations = OptimalGrover(10)"
   ]
  },
  {
   "cell_type": "code",
   "execution_count": null,
   "id": "8c41fa41",
   "metadata": {},
   "outputs": [],
   "source": [
    "prob, state, numbers = Probabilities4Groover(10, Winner, OptimalIterations)"
   ]
  },
  {
   "cell_type": "code",
   "execution_count": null,
   "id": "95dca256",
   "metadata": {},
   "outputs": [],
   "source": [
    "prob[numbers.index(Winner)]"
   ]
  },
  {
   "cell_type": "code",
   "execution_count": null,
   "id": "cbfb799f",
   "metadata": {},
   "outputs": [],
   "source": [
    "state[numbers.index(Winner)]"
   ]
  },
  {
   "cell_type": "code",
   "execution_count": null,
   "id": "19db059f",
   "metadata": {},
   "outputs": [],
   "source": [
    "numbers.index(Winner)"
   ]
  },
  {
   "cell_type": "code",
   "execution_count": null,
   "id": "ad56e33a",
   "metadata": {},
   "outputs": [],
   "source": [
    "NumberOfQbits = 'll'\n",
    "Probs = []\n",
    "Max = []\n",
    "NumberOfQbits = []\n",
    "for nq in range(2, 11):\n",
    "    NumberOfQbits.append(nq)\n",
    "    Winner = Loteria(nq)\n",
    "    OptimalIterations = OptimalGrover(nq)\n",
    "    Max.append(OptimalIterations)\n",
    "    print('Iteraciones óptimas: {}'.format(OptimalIterations))\n",
    "    WinnerProbabilities = []\n",
    "    for i in range(1, 2*OptimalIterations+1):\n",
    "        prob, state, numbers = Probabilities4Groover(nq, Winner, i)\n",
    "        #Obtengo la probabilidad del numero ganador\n",
    "        WinnerProbabilities.append(prob[numbers.index(Winner)])\n",
    "    Probs.append(WinnerProbabilities)\n",
    "    \n",
    "        \n",
    "    \n",
    "Data = pd.DataFrame(Probs, index=NumberOfQbits).T    \n",
    "Data.index=range(1, len(Data)+1)"
   ]
  },
  {
   "cell_type": "code",
   "execution_count": null,
   "id": "0376fdec",
   "metadata": {},
   "outputs": [],
   "source": [
    "import pandas as pd"
   ]
  },
  {
   "cell_type": "code",
   "execution_count": null,
   "id": "d066dba7",
   "metadata": {},
   "outputs": [],
   "source": [
    "Data = pd.DataFrame(Probs, index=NumberOfQbits).T   \n",
    "Data.index=range(1, len(Data)+1)\n"
   ]
  },
  {
   "cell_type": "code",
   "execution_count": null,
   "id": "d84cf777",
   "metadata": {},
   "outputs": [],
   "source": [
    "MaximosTeoricos = pd.Series(Max, index=range(2, len(Max)+2))"
   ]
  },
  {
   "cell_type": "code",
   "execution_count": null,
   "id": "3d91b4fa",
   "metadata": {},
   "outputs": [],
   "source": [
    "for columns in Data.columns:\n",
    "    plt.plot(Data[columns], 'o-')\n",
    "plt.xlabel('Iteraciones')    \n",
    "plt.ylabel('Probabilidad de Ganar')  \n",
    "plt.legend(Data.columns)"
   ]
  },
  {
   "cell_type": "code",
   "execution_count": null,
   "id": "18ffef1f",
   "metadata": {},
   "outputs": [],
   "source": [
    "#Localizacion de los másximos experimentales\n",
    "Data.idxmax(axis=0)"
   ]
  },
  {
   "cell_type": "code",
   "execution_count": null,
   "id": "b6f25548",
   "metadata": {},
   "outputs": [],
   "source": [
    "#Localizacion de los máximos teóricos\n",
    "MaximosTeoricos"
   ]
  },
  {
   "cell_type": "code",
   "execution_count": null,
   "id": "2a69ff58",
   "metadata": {},
   "outputs": [],
   "source": [
    "Data.idxmax(axis=0) == MaximosTeoricos"
   ]
  },
  {
   "cell_type": "markdown",
   "id": "c88d5ff4",
   "metadata": {},
   "source": [
    "Parece que está bien implementado"
   ]
  },
  {
   "cell_type": "markdown",
   "id": "4e4fc6f6",
   "metadata": {},
   "source": [
    "## Rutina Groover"
   ]
  },
  {
   "cell_type": "markdown",
   "id": "591f4ebc",
   "metadata": {},
   "source": [
    "La función **GroverRoutine** lo que hace es a partir de un número de Qbits y del elemento ganador montar un algoritmo Grover que se ejucutará r veces. A continuación hace una sola medida y la compara con la del número ganador y devuelve True o False en función de si acierta o no. \n",
    "Vamos a comparar la rutina cuántica y la clásica"
   ]
  },
  {
   "cell_type": "code",
   "execution_count": null,
   "id": "02b4bb06",
   "metadata": {},
   "outputs": [],
   "source": [
    "def GroverRoutine(n, Winner, r):\n",
    "    Circuit = DoAGrover(n, Winner, r)\n",
    "    #Le pido una medida\n",
    "    from qat.qpus import LinAlg\n",
    "    linalgqpu = LinAlg()\n",
    "    Job4Groover = Circuit.to_circ().to_job(nbshots=1)\n",
    "    result = linalgqpu.submit(Job4Groover)\n",
    "    Solucion=str(result[0].state)\n",
    "    SolucionDecimal = int(Solucion.replace('|','').replace('>', ''),2)\n",
    "    #print('SolucionDecimal: {}'.format(SolucionDecimal))\n",
    "    if SolucionDecimal == Winner:\n",
    "        return True\n",
    "    else:\n",
    "        return False   "
   ]
  },
  {
   "cell_type": "code",
   "execution_count": null,
   "id": "b6526dca",
   "metadata": {},
   "outputs": [],
   "source": [
    "max(Probabilities4Groover(8, Winner, 12)[0])"
   ]
  },
  {
   "cell_type": "code",
   "execution_count": null,
   "id": "5afd9bb8",
   "metadata": {},
   "outputs": [],
   "source": [
    "int(str(GroverRoutine(8, Winner, 6)[0].state).replace('|','').replace('>', ''),2)"
   ]
  },
  {
   "cell_type": "code",
   "execution_count": null,
   "id": "45e60046",
   "metadata": {},
   "outputs": [],
   "source": [
    "def Oraculo(asked, winner):\n",
    "    #print('Your Input is: {}'.format(asked))\n",
    "    if asked == winner:\n",
    "        print('You Win')\n",
    "        return True\n",
    "    else:\n",
    "        #print('You Lose')\n",
    "        return False\n",
    "def GetNumber01(N, winner):\n",
    "    i=0\n",
    "    Continue = True\n",
    "    NumberOfAsks = 0\n",
    "    while Continue:\n",
    "        Condition = Oraculo(i, winner)\n",
    "        NumberOfAsks = NumberOfAsks +1\n",
    "        i=i+1\n",
    "        if Condition:\n",
    "            Continue = False\n",
    "        if NumberOfAsks > 2**N:\n",
    "            print('Algo salio mal')\n",
    "            Continue = False\n",
    "    print('Number Of Questions :{}'.format(NumberOfAsks)) \n",
    "    return NumberOfAsks   "
   ]
  },
  {
   "cell_type": "code",
   "execution_count": null,
   "id": "48a342d4",
   "metadata": {},
   "outputs": [],
   "source": [
    "def LoopGrover(n, Winner):\n",
    "    i=1\n",
    "    Continue = True    \n",
    "    while Continue:\n",
    "        print(i)\n",
    "        Condition = GroverRoutine(n, Winner, i)\n",
    "        print(Condition)\n",
    "        if Condition:\n",
    "            Continue = False\n",
    "        else:\n",
    "            i=i+1\n",
    "        if i > 2**n:\n",
    "            print('Algo salio mal')\n",
    "            Continue = False\n",
    "        \n",
    "    #print('Number Of Questions :{}'.format(i)) \n",
    "    return i           "
   ]
  },
  {
   "cell_type": "code",
   "execution_count": null,
   "id": "adaadd4e",
   "metadata": {},
   "outputs": [],
   "source": [
    "LoopGrover(8, Winner)"
   ]
  },
  {
   "cell_type": "code",
   "execution_count": null,
   "id": "3408fdca",
   "metadata": {},
   "outputs": [],
   "source": [
    "NumberOfQbits = 8\n",
    "C=[]\n",
    "for i in range(100):\n",
    "    Winner = Loteria(NumberOfQbits)\n",
    "    C.append(LoopGrover(NumberOfQbits, Winner))"
   ]
  },
  {
   "cell_type": "code",
   "execution_count": null,
   "id": "59dbeee7",
   "metadata": {},
   "outputs": [],
   "source": [
    "plt.hist(C)"
   ]
  },
  {
   "cell_type": "code",
   "execution_count": null,
   "id": "fb1be14e",
   "metadata": {},
   "outputs": [],
   "source": [
    "np.mean(C)"
   ]
  },
  {
   "cell_type": "code",
   "execution_count": null,
   "id": "1f460bce",
   "metadata": {},
   "outputs": [],
   "source": [
    "OptimalGrover(8)"
   ]
  },
  {
   "cell_type": "code",
   "execution_count": null,
   "id": "6a23433e",
   "metadata": {
    "scrolled": true
   },
   "outputs": [],
   "source": [
    "Clasico = []\n",
    "Cuantico = []\n",
    "NumberOfQbits = 8\n",
    "\n",
    "for i in range(1000):\n",
    "    #Lanzamos el número\n",
    "    Winner = Loteria(NumberOfQbits)\n",
    "    #Ejecutamos el algoritmo clásico\n",
    "    Clasico.append(GetNumber01(NumberOfQbits, Winner))\n",
    "    #Ahora vamos con el Groover\n",
    "    Cuantico.append(LoopGrover(NumberOfQbits, Winner))"
   ]
  },
  {
   "cell_type": "code",
   "execution_count": null,
   "id": "3fa4511b",
   "metadata": {},
   "outputs": [],
   "source": [
    "plt.hist(Clasico, bins=10)\n",
    "plt.hist(Cuantico, bins=10)\n",
    "plt.xlabel('Intentos')\n",
    "plt.ylabel('Número Aciertos')\n",
    "plt.legend(['Clasico', 'Cuantico'])"
   ]
  },
  {
   "cell_type": "code",
   "execution_count": null,
   "id": "f2022179",
   "metadata": {},
   "outputs": [],
   "source": [
    "pdClassic = pd.Series(Clasico).value_counts().sort_index()\n",
    "pdCuantico = pd.Series(Cuantico).value_counts().sort_index()"
   ]
  },
  {
   "cell_type": "code",
   "execution_count": null,
   "id": "c50128a5",
   "metadata": {},
   "outputs": [],
   "source": [
    "plt.plot(pdCuantico, '-o')\n",
    "#plt.plot(pdClassic, '-o')"
   ]
  },
  {
   "cell_type": "markdown",
   "id": "ee176a7a",
   "metadata": {},
   "source": [
    "Para 8 qbits deberíamos haber encontrado que la mayor probabilidad es con 12 iteraciones pero 12 iteraciones da lugar a una probabilidad muy muy alta de acertar: 0.9999470421032387. La cosa es que con solo 6 iteraciones la probabilidad de acierto es de 0.5276176773084149 y con 7 mayor de 0.65 por lo que en una sola tirada no es necesario iterar tanto para obtener el resultado correcto la mayor parte de las veces!!!"
   ]
  },
  {
   "cell_type": "code",
   "execution_count": null,
   "id": "6af786fe",
   "metadata": {},
   "outputs": [],
   "source": [
    "max(Probabilities4Groover(8, Winner, 7)[0])"
   ]
  },
  {
   "cell_type": "code",
   "execution_count": null,
   "id": "105ff7b2",
   "metadata": {},
   "outputs": [],
   "source": [
    "Probabilities4Groover(NumberOfQbits, Winner, 7)"
   ]
  },
  {
   "cell_type": "code",
   "execution_count": null,
   "id": "692fdce4",
   "metadata": {},
   "outputs": [],
   "source": [
    "print('Numero de llamdas promedio Clásico: {}'.format(np.mean(Clasico)))\n",
    "print('Numero de llamdas promedio Cuantico: {}'.format(np.mean(Cuantico)))"
   ]
  },
  {
   "cell_type": "code",
   "execution_count": null,
   "id": "73090822",
   "metadata": {},
   "outputs": [],
   "source": [
    "plt.scatter(pdClassic.index, pdClassic)\n",
    "plt.scatter(pdCuantico.index, pdCuantico)"
   ]
  },
  {
   "cell_type": "code",
   "execution_count": null,
   "id": "5467271b",
   "metadata": {},
   "outputs": [],
   "source": [
    "129**.5"
   ]
  }
 ],
 "metadata": {
  "kernelspec": {
   "display_name": "Python 3 (ipykernel)",
   "language": "python",
   "name": "python3"
  },
  "language_info": {
   "codemirror_mode": {
    "name": "ipython",
    "version": 3
   },
   "file_extension": ".py",
   "mimetype": "text/x-python",
   "name": "python",
   "nbconvert_exporter": "python",
   "pygments_lexer": "ipython3",
   "version": "3.9.9"
  }
 },
 "nbformat": 4,
 "nbformat_minor": 5
}
