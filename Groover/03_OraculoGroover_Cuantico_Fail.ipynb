{
 "cells": [
  {
   "cell_type": "code",
   "execution_count": null,
   "metadata": {},
   "outputs": [],
   "source": [
    "from IPython.core.display import display, HTML\n",
    "display(HTML(\"<style>.container { width:100% !important; }</style>\"))"
   ]
  },
  {
   "cell_type": "code",
   "execution_count": null,
   "metadata": {},
   "outputs": [],
   "source": [
    "import matplotlib.pyplot as plt\n",
    "import numpy as np"
   ]
  },
  {
   "cell_type": "code",
   "execution_count": null,
   "metadata": {},
   "outputs": [],
   "source": [
    "from qat.core.console import display"
   ]
  },
  {
   "cell_type": "markdown",
   "metadata": {},
   "source": [
    "# 1. QLM"
   ]
  },
  {
   "cell_type": "code",
   "execution_count": null,
   "metadata": {},
   "outputs": [],
   "source": [
    "from qat.lang.AQASM import Program"
   ]
  },
  {
   "cell_type": "code",
   "execution_count": null,
   "metadata": {},
   "outputs": [],
   "source": [
    "def TensorialHadamard(qlmProgram, NumberOfQbits):\n",
    "    from qat.lang.AQASM import H\n",
    "    #Reservamos los qbits de entrada\n",
    "    qbits = qlmProgram.qalloc(NumberOfQbits)\n",
    "    for i in range(NumberOfQbits):\n",
    "        qlmProgram.apply(H, qbits[i]) \n",
    "    return qlmProgram"
   ]
  },
  {
   "cell_type": "code",
   "execution_count": null,
   "metadata": {},
   "outputs": [],
   "source": [
    "#Inicializamos el program\n",
    "GrooverCircuit = Program()\n",
    "GrooverCircuit = TensorialHadamard(GrooverCircuit, 2)\n",
    "Groover = GrooverCircuit.to_circ()\n",
    "%qatdisplay Groover"
   ]
  },
  {
   "cell_type": "code",
   "execution_count": null,
   "metadata": {},
   "outputs": [],
   "source": [
    "Job4Groover = Groover.to_job()"
   ]
  },
  {
   "cell_type": "code",
   "execution_count": null,
   "metadata": {},
   "outputs": [],
   "source": [
    "from qat.qpus import LinAlg\n",
    "linalgqpu = LinAlg()"
   ]
  },
  {
   "cell_type": "code",
   "execution_count": null,
   "metadata": {},
   "outputs": [],
   "source": [
    "result = linalgqpu.submit(Job4Groover)"
   ]
  },
  {
   "cell_type": "code",
   "execution_count": null,
   "metadata": {},
   "outputs": [],
   "source": [
    "for sample in result:\n",
    "    print(\"State %s amplitude %s\" % (sample.state, sample.amplitude))"
   ]
  },
  {
   "cell_type": "code",
   "execution_count": null,
   "metadata": {},
   "outputs": [],
   "source": [
    "#Aqui le decimos que mida\n",
    "Job4Groover_02 = Groover.to_job(nbshots=10, aggregate_data=False)"
   ]
  },
  {
   "cell_type": "code",
   "execution_count": null,
   "metadata": {},
   "outputs": [],
   "source": [
    "result = linalgqpu.submit(Job4Groover_02)"
   ]
  },
  {
   "cell_type": "code",
   "execution_count": null,
   "metadata": {},
   "outputs": [],
   "source": [
    "# And use it to draw 10 samples\n",
    "for sample in result:\n",
    "    print(\"We measured the state {} (its probability is {} and its amplitude {})\".format(\n",
    "        sample.state, sample.probability, sample.amplitude))\n",
    "    "
   ]
  },
  {
   "cell_type": "markdown",
   "metadata": {},
   "source": [
    "### Oráculo"
   ]
  },
  {
   "cell_type": "markdown",
   "metadata": {},
   "source": [
    "Voy a montar mi Hadamard Tensorial como una rutina"
   ]
  },
  {
   "cell_type": "code",
   "execution_count": null,
   "metadata": {},
   "outputs": [],
   "source": [
    "def TensorialHaddamard(n):\n",
    "    \"\"\"\n",
    "    Rutina que implementa una Puerta Hadamard n tensorial\n",
    "    \"\"\"\n",
    "    from qat.lang.AQASM import QRoutine, H\n",
    "    tensorialHadamard = QRoutine()\n",
    "    for i in range(n):\n",
    "        tensorialHadamard.apply(H,i)\n",
    "    return tensorialHadamard"
   ]
  },
  {
   "cell_type": "code",
   "execution_count": null,
   "metadata": {},
   "outputs": [],
   "source": [
    "#Inicializamos el program\n",
    "NumberOfQbits = 2\n",
    "#Definimos el circuito\n",
    "Circuit = Program()\n",
    "#Reservamos los qbits que queremos\n",
    "qbits = Circuit.qalloc(NumberOfQbits)\n",
    "#Aplicamos el Operado Hadamard n tensorial\n",
    "Circuit.apply(TensorialHaddamard(NumberOfQbits),qbits)\n",
    "Groover = Circuit.to_circ()\n",
    "%qatdisplay Groover"
   ]
  },
  {
   "cell_type": "code",
   "execution_count": null,
   "metadata": {},
   "outputs": [],
   "source": [
    "#Se implementa la Lotería que devuelve el número en decimal y binario\n",
    "def Loteria(n):\n",
    "    #Max number of elememnts I can generate\n",
    "    N_max = 2**n\n",
    "    print('N_max: {}'.format(N_max))\n",
    "    #Generate winner number\n",
    "    Winner = np.random.randint(N_max)\n",
    "    print('Winner: {}'.format(Winner))\n",
    "    stringFormat = '0{}b'.format(n)\n",
    "    print(stringFormat)\n",
    "    bWinner = format(Winner, stringFormat)\n",
    "    return Winner, bWinner"
   ]
  },
  {
   "cell_type": "code",
   "execution_count": null,
   "metadata": {},
   "outputs": [],
   "source": [
    "def Oracle(NumberOfQbits):\n",
    "    from qat.lang.AQASM import QRoutine, X\n",
    "    Winner = Loteria(NumberOfQbits)\n",
    "    bWiner = Winner[1]\n",
    "    Oracle = QRoutine()\n",
    "    print(bWiner)\n",
    "    #Loop over the winner binnary number in reverse order\n",
    "    print('kk')\n",
    "    for b, i in enumerate(list(bWiner[::-1])):\n",
    "        #print((b,i))\n",
    "        #if b == '0':\n",
    "        Oracle.apply(X, i)\n",
    "    return Oracle"
   ]
  },
  {
   "cell_type": "code",
   "execution_count": null,
   "metadata": {
    "scrolled": false
   },
   "outputs": [],
   "source": [
    "from qat.lang.AQASM import X, H, Program, CCNOT\n",
    "#Inicializamos el program\n",
    "NumberOfQbits = 4\n",
    "#Definimos el circuito\n",
    "Circuit = Program()\n",
    "#Reservamos los qbits que queremos\n",
    "qbits = Circuit.qalloc(NumberOfQbits)\n",
    "qbitControl = Circuit.qalloc(1)\n",
    "\n",
    "#Aplicamos el Operado Hadamard n tensorial\n",
    "Circuit.apply(TensorialHaddamard(NumberOfQbits),qbits)\n",
    "#Estado |-> en el qbit de Control\n",
    "Circuit.apply(X, qbitControl)\n",
    "Circuit.apply(H, qbitControl)\n",
    "\n",
    "#Generamos el mnumero aleatorio\n",
    "Winner = Loteria(NumberOfQbits)\n",
    "\n",
    "for i, b in enumerate(Winner[1][::-1]):\n",
    "    if b == '0':\n",
    "        Circuit.apply(X, qbits[i])\n",
    "Circuit.apply(CCNOT, qbits, qbitControl)\n",
    "        \n",
    "Groover = Circuit.to_circ()\n",
    "%qatdisplay Groover\n",
    "\n"
   ]
  },
  {
   "cell_type": "code",
   "execution_count": null,
   "metadata": {},
   "outputs": [],
   "source": [
    "from qat.lang.AQASM import X, H, Program, CCNOT"
   ]
  },
  {
   "cell_type": "code",
   "execution_count": null,
   "metadata": {},
   "outputs": [],
   "source": [
    "NumberOfQbits = 2\n",
    "\n",
    "from qat.lang.AQASM import QRoutine\n",
    "\n",
    "rutina = QRoutine()\n",
    "qbits = rutina.new_wires(NumberOfQbits)\n",
    "\n",
    "\n",
    "\n",
    "#Para saber que hacer\n",
    "control = NumberOfQbits % 2\n",
    "\n",
    "if control == 0:\n",
    "    NumberOfAncillaQbits =  NumberOfQbits//2\n",
    "    qbits_ancilla = rutina.new_wires(NumberOfAncillaQbits)\n",
    "    for i in range(NumberOfAncillaQbits):\n",
    "        rutina.apply(CCNOT, qbits[2*i], qbits[2*i+1], qbits_ancilla[i])\n",
    "    \n",
    "else:\n",
    "    NumberOfAncillaQbits =  NumberOfQbits//2\n",
    "    qbits_ancilla = rutina.new_wires(NumberOfAncillaQbits+1)\n",
    "    for i in range(NumberOfAncillaQbits):\n",
    "        rutina.apply(CCNOT, qbits[2*i], qbits[2*i+1], qbits_ancilla[i])\n",
    "    i=i+1\n",
    "    rutina.apply(CNOT, qbits[2*i], qbits_ancilla[i])\n",
    "\n",
    "    \n",
    "\n",
    "rutina.set_ancillae(qbits_ancilla)"
   ]
  },
  {
   "cell_type": "code",
   "execution_count": null,
   "metadata": {},
   "outputs": [],
   "source": [
    "def DoMidRoutine(NumberOfQbits):\n",
    "    from qat.lang.AQASM import QRoutine\n",
    "    rutina = QRoutine()\n",
    "    qbits = rutina.new_wires(NumberOfQbits)\n",
    "    \n",
    "    Condition = True\n",
    "    ListOfQbits = []\n",
    "    while Condition:\n",
    "    \n",
    "        control = NumberOfQbits % 2\n",
    "        if control == 0:\n",
    "            NumberOfAncillaQbits =  NumberOfQbits//2\n",
    "            qbits_ancilla = rutina.new_wires(NumberOfAncillaQbits)\n",
    "            for i in range(NumberOfAncillaQbits):\n",
    "                rutina.apply(CCNOT, qbits[2*i], qbits[2*i+1], qbits_ancilla[i])\n",
    "            \n",
    "        else:\n",
    "            NumberOfAncillaQbits =  NumberOfQbits//2\n",
    "            qbits_ancilla = rutina.new_wires(NumberOfAncillaQbits+1)\n",
    "            for i in range(NumberOfAncillaQbits):\n",
    "                rutina.apply(CCNOT, qbits[2*i], qbits[2*i+1], qbits_ancilla[i])\n",
    "            i=i+1\n",
    "            rutina.apply(CNOT, qbits[2*i], qbits_ancilla[i])    \n",
    "            NumberOfAncillaQbits = NumberOfAncillaQbits+1\n",
    "        rutina.set_ancillae(qbits_ancilla)  \n",
    "        ListOfQbits.append(qbits)\n",
    "        qbits=qbits_ancilla\n",
    "        #bits=rutina.new_wires(NumberOfAncillaQbits)\n",
    "        rutina.set_ancillae(qbits)\n",
    "        NumberOfQbits = NumberOfQbits //2 \n",
    "        if NumberOfQbits == 1:\n",
    "            Condition = False\n",
    "    return rutina"
   ]
  },
  {
   "cell_type": "code",
   "execution_count": null,
   "metadata": {},
   "outputs": [],
   "source": [
    "NumberOfQbits = 7\n",
    "Circuit = Program()\n",
    "qb = Circuit.qalloc(NumberOfQbits)\n",
    "\n",
    "Circuit.apply(DoMidRoutine(NumberOfQbits), qb)\n",
    "\n",
    "Groover = Circuit.to_circ()\n",
    "%qatdisplay Groover"
   ]
  },
  {
   "cell_type": "code",
   "execution_count": null,
   "metadata": {},
   "outputs": [],
   "source": [
    "DoMidRoutine(NumberOfQbits).arity"
   ]
  },
  {
   "cell_type": "code",
   "execution_count": null,
   "metadata": {},
   "outputs": [],
   "source": [
    "2//2"
   ]
  },
  {
   "cell_type": "code",
   "execution_count": null,
   "metadata": {},
   "outputs": [],
   "source": [
    "Circuit.arcilla?"
   ]
  },
  {
   "cell_type": "code",
   "execution_count": null,
   "metadata": {},
   "outputs": [],
   "source": [
    "int(NumberOfQbits/2)"
   ]
  },
  {
   "cell_type": "code",
   "execution_count": null,
   "metadata": {},
   "outputs": [],
   "source": []
  },
  {
   "cell_type": "code",
   "execution_count": null,
   "metadata": {},
   "outputs": [],
   "source": []
  },
  {
   "cell_type": "code",
   "execution_count": null,
   "metadata": {},
   "outputs": [],
   "source": []
  },
  {
   "cell_type": "code",
   "execution_count": null,
   "metadata": {},
   "outputs": [],
   "source": [
    "CCNOT.arity"
   ]
  },
  {
   "cell_type": "code",
   "execution_count": null,
   "metadata": {},
   "outputs": [],
   "source": [
    "CCNOT?"
   ]
  },
  {
   "cell_type": "code",
   "execution_count": null,
   "metadata": {},
   "outputs": [],
   "source": [
    "from qat.qpus import LinAlg\n",
    "linalgqpu = LinAlg()\n",
    "Job4Groover = Groover.to_job()"
   ]
  },
  {
   "cell_type": "code",
   "execution_count": null,
   "metadata": {},
   "outputs": [],
   "source": [
    "result = linalgqpu.submit(Job4Groover)"
   ]
  },
  {
   "cell_type": "code",
   "execution_count": null,
   "metadata": {},
   "outputs": [],
   "source": [
    "# And use it to draw 10 samples\n",
    "for sample in result:\n",
    "    print(\"We measured the state {} (its probability is {} and its amplitude {})\".format(\n",
    "        sample.state, sample.probability, sample.amplitude))"
   ]
  },
  {
   "cell_type": "code",
   "execution_count": null,
   "metadata": {},
   "outputs": [],
   "source": [
    "from qat.lang.AQASM import X\n",
    "for i, b in enumerate(Winner[1][::-1]):\n",
    "    if b == '0':\n",
    "        Circuit.apply(X, qbits[i])\n"
   ]
  },
  {
   "cell_type": "code",
   "execution_count": null,
   "metadata": {},
   "outputs": [],
   "source": [
    "[i for i in Winner[1][::-1]]"
   ]
  },
  {
   "cell_type": "code",
   "execution_count": null,
   "metadata": {},
   "outputs": [],
   "source": [
    "list(Winner[1][::-1])"
   ]
  },
  {
   "cell_type": "code",
   "execution_count": null,
   "metadata": {},
   "outputs": [],
   "source": [
    "[i for i in Winner[1][::-1]]"
   ]
  },
  {
   "cell_type": "code",
   "execution_count": null,
   "metadata": {},
   "outputs": [],
   "source": [
    "#Inicializamos el program\n",
    "GrooverCircuit = Program()\n",
    "n=2\n",
    "GrooverCircuit = TensorialHadamard(GrooverCircuit, n)\n",
    "\n",
    "Winner = Loteria(n)\n",
    "\n",
    "Oracule(bWiner, qlmProgram, qbits)\n",
    "\n",
    "\n",
    "Groover = GrooverCircuit.to_circ()\n",
    "%qatdisplay Groover"
   ]
  },
  {
   "cell_type": "code",
   "execution_count": null,
   "metadata": {},
   "outputs": [],
   "source": []
  },
  {
   "cell_type": "code",
   "execution_count": null,
   "metadata": {},
   "outputs": [],
   "source": []
  },
  {
   "cell_type": "code",
   "execution_count": null,
   "metadata": {},
   "outputs": [],
   "source": []
  }
 ],
 "metadata": {
  "kernelspec": {
   "display_name": "Python 3",
   "language": "python",
   "name": "python3"
  },
  "language_info": {
   "codemirror_mode": {
    "name": "ipython",
    "version": 3
   },
   "file_extension": ".py",
   "mimetype": "text/x-python",
   "name": "python",
   "nbconvert_exporter": "python",
   "pygments_lexer": "ipython3",
   "version": "3.6.8"
  }
 },
 "nbformat": 4,
 "nbformat_minor": 4
}
